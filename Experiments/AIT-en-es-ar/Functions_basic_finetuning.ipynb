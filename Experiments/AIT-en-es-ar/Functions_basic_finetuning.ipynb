{
 "cells": [
  {
   "cell_type": "code",
   "execution_count": 1,
   "id": "4fb14783",
   "metadata": {},
   "outputs": [
    {
     "name": "stderr",
     "output_type": "stream",
     "text": [
      "/home/njfernandez/.local/lib/python3.8/site-packages/tqdm/auto.py:22: TqdmWarning: IProgress not found. Please update jupyter and ipywidgets. See https://ipywidgets.readthedocs.io/en/stable/user_install.html\n",
      "  from .autonotebook import tqdm as notebook_tqdm\n"
     ]
    }
   ],
   "source": [
    "from datasets import Dataset, load_dataset, DatasetDict, ClassLabel, concatenate_datasets\n",
    "import numpy as np\n",
    "import torch\n",
    "import pandas as pd\n",
    "\n",
    "#Seeding for deterministic results i.e. showing same output \n",
    "RANDOM_SEED = 64\n",
    "np.random.seed(RANDOM_SEED)\n",
    "torch.manual_seed(RANDOM_SEED)\n",
    "if torch.cuda.is_available():\n",
    "   torch.cuda.manual_seed(RANDOM_SEED)\n",
    "   torch.cuda.manual_seed_all(RANDOM_SEED) \n",
    "   torch.backends.cudnn.deterministic = True  \n",
    "   torch.backends.cudnn.benchmark = False"
   ]
  },
  {
   "cell_type": "code",
   "execution_count": 2,
   "id": "c5016f3e",
   "metadata": {},
   "outputs": [
    {
     "data": {
      "text/html": [
       "<div>\n",
       "<style scoped>\n",
       "    .dataframe tbody tr th:only-of-type {\n",
       "        vertical-align: middle;\n",
       "    }\n",
       "\n",
       "    .dataframe tbody tr th {\n",
       "        vertical-align: top;\n",
       "    }\n",
       "\n",
       "    .dataframe thead th {\n",
       "        text-align: right;\n",
       "    }\n",
       "</style>\n",
       "<table border=\"1\" class=\"dataframe\">\n",
       "  <thead>\n",
       "    <tr style=\"text-align: right;\">\n",
       "      <th></th>\n",
       "      <th>text</th>\n",
       "      <th>functions</th>\n",
       "    </tr>\n",
       "  </thead>\n",
       "  <tbody>\n",
       "    <tr>\n",
       "      <th>85</th>\n",
       "      <td>I'm not really very keen on it</td>\n",
       "      <td>DISLIKE</td>\n",
       "    </tr>\n",
       "    <tr>\n",
       "      <th>86</th>\n",
       "      <td>I'm not really very keen</td>\n",
       "      <td>DISLIKE</td>\n",
       "    </tr>\n",
       "    <tr>\n",
       "      <th>87</th>\n",
       "      <td>I'm not really keen on it</td>\n",
       "      <td>DISLIKE</td>\n",
       "    </tr>\n",
       "    <tr>\n",
       "      <th>88</th>\n",
       "      <td>I'm not really keen</td>\n",
       "      <td>DISLIKE</td>\n",
       "    </tr>\n",
       "    <tr>\n",
       "      <th>89</th>\n",
       "      <td>I'm not very keen on it</td>\n",
       "      <td>DISLIKE</td>\n",
       "    </tr>\n",
       "    <tr>\n",
       "      <th>...</th>\n",
       "      <td>...</td>\n",
       "      <td>...</td>\n",
       "    </tr>\n",
       "    <tr>\n",
       "      <th>897</th>\n",
       "      <td>you could do it</td>\n",
       "      <td>OTHER</td>\n",
       "    </tr>\n",
       "    <tr>\n",
       "      <th>898</th>\n",
       "      <td>you look nice</td>\n",
       "      <td>OTHER</td>\n",
       "    </tr>\n",
       "    <tr>\n",
       "      <th>899</th>\n",
       "      <td>you look smart</td>\n",
       "      <td>OTHER</td>\n",
       "    </tr>\n",
       "    <tr>\n",
       "      <th>900</th>\n",
       "      <td>you're right</td>\n",
       "      <td>OTHER</td>\n",
       "    </tr>\n",
       "    <tr>\n",
       "      <th>901</th>\n",
       "      <td>you're welcome</td>\n",
       "      <td>OTHER</td>\n",
       "    </tr>\n",
       "  </tbody>\n",
       "</table>\n",
       "<p>410 rows × 2 columns</p>\n",
       "</div>"
      ],
      "text/plain": [
       "                               text functions\n",
       "85   I'm not really very keen on it   DISLIKE\n",
       "86         I'm not really very keen   DISLIKE\n",
       "87        I'm not really keen on it   DISLIKE\n",
       "88              I'm not really keen   DISLIKE\n",
       "89          I'm not very keen on it   DISLIKE\n",
       "..                              ...       ...\n",
       "897                 you could do it     OTHER\n",
       "898                   you look nice     OTHER\n",
       "899                  you look smart     OTHER\n",
       "900                    you're right     OTHER\n",
       "901                  you're welcome     OTHER\n",
       "\n",
       "[410 rows x 2 columns]"
      ]
     },
     "execution_count": 2,
     "metadata": {},
     "output_type": "execute_result"
    }
   ],
   "source": [
    "comfunctions_basic = 'comfunct_basic.txt'\n",
    "df = pd.read_csv(comfunctions_basic, delimiter=\";\")\n",
    "df = df[df['function'].isin(['ANGRY', 'WORRIED', 'PESSIMISTIC', 'DISLIKE', 'OTHER'])].rename(columns={\"function\": \"functions\"})\n",
    "df"
   ]
  },
  {
   "cell_type": "code",
   "execution_count": 3,
   "id": "1a5c02f9",
   "metadata": {},
   "outputs": [
    {
     "data": {
      "text/plain": [
       "array(['ANGRY', 'DISLIKE', 'OTHER', 'PESSIMISTIC', 'WORRIED'],\n",
       "      dtype=object)"
      ]
     },
     "execution_count": 3,
     "metadata": {},
     "output_type": "execute_result"
    }
   ],
   "source": [
    "unique_labels = df[\"functions\"].unique().tolist()\n",
    "function_labels = ClassLabel(names=unique_labels)\n",
    "\n",
    "from sklearn.preprocessing import MultiLabelBinarizer\n",
    "mlb = MultiLabelBinarizer()\n",
    "mlb.fit([function_labels.names])\n",
    "labels_classes = mlb.classes_\n",
    "labels_classes"
   ]
  },
  {
   "cell_type": "code",
   "execution_count": 4,
   "id": "72d72be8",
   "metadata": {
    "scrolled": true
   },
   "outputs": [
    {
     "name": "stderr",
     "output_type": "stream",
     "text": [
      "Using custom data configuration default-051610f9ffe8f8d2\n",
      "Found cached dataset csv (/home/njfernandez/.cache/huggingface/datasets/csv/default-051610f9ffe8f8d2/0.0.0/6b34fb8fcf56f7c8ba51dc895bfa2bfbe43546f190a60fcf74bb5e8afdcc2317)\n",
      "100%|██████████| 3/3 [00:00<00:00, 806.18it/s]\n",
      "Using custom data configuration default-94907eb33ba58000\n",
      "Found cached dataset csv (/home/njfernandez/.cache/huggingface/datasets/csv/default-94907eb33ba58000/0.0.0/6b34fb8fcf56f7c8ba51dc895bfa2bfbe43546f190a60fcf74bb5e8afdcc2317)\n",
      "100%|██████████| 3/3 [00:00<00:00, 669.34it/s]\n",
      "Using custom data configuration default-869e6abb15784ff2\n",
      "Found cached dataset csv (/home/njfernandez/.cache/huggingface/datasets/csv/default-869e6abb15784ff2/0.0.0/6b34fb8fcf56f7c8ba51dc895bfa2bfbe43546f190a60fcf74bb5e8afdcc2317)\n",
      "100%|██████████| 3/3 [00:00<00:00, 676.57it/s]\n",
      "Loading cached shuffled indices for dataset at /home/njfernandez/.cache/huggingface/datasets/csv/default-051610f9ffe8f8d2/0.0.0/6b34fb8fcf56f7c8ba51dc895bfa2bfbe43546f190a60fcf74bb5e8afdcc2317/cache-61b64f8f2d33fef0.arrow\n",
      "Loading cached shuffled indices for dataset at /home/njfernandez/.cache/huggingface/datasets/csv/default-051610f9ffe8f8d2/0.0.0/6b34fb8fcf56f7c8ba51dc895bfa2bfbe43546f190a60fcf74bb5e8afdcc2317/cache-22704bf1ca817405.arrow\n"
     ]
    }
   ],
   "source": [
    "function_mapping = {'OTHER': ['anticipation', 'joy', 'love', 'optimism', 'surprise', 'trust'],\n",
    "           'NOT_INTERESTED': [''], \n",
    "           'DISLIKE':['disgust'], \n",
    "           'NOT_CORRECT': [''], \n",
    "           'PESSIMISTIC':['sadness', 'pessimism'], \n",
    "           'WORRIED':['fear'], \n",
    "           'ANGRY': ['anger'], \n",
    "           'DISAPPOINTED': [''], \n",
    "           'BORED': [''], \n",
    "           'NOT_APPROVE':[''], \n",
    "           'NOT_IMPORTANT': [''], \n",
    "           'DISAGREE': [''], \n",
    "           'WARN': [''], \n",
    "           'COMPLAIN': [''], \n",
    "           'THREATEN': [''], \n",
    "           'UNWILLING': [''], \n",
    "           'DISTRUST' : [''],\n",
    "           'REFUSE': [''] }\n",
    "\n",
    "ait_es_dataset = load_dataset(\"csv\", sep = '\\t', data_files ={'train': r'2018-E-c-Es-train.txt',\n",
    "                                                        'test': r'2018-E-c-Es-test-gold.txt',\n",
    "                                                       'valid': r'2018-E-c-Es-dev.txt'})\n",
    "ait_en_dataset = load_dataset(\"csv\", sep = '\\t', data_files ={'train': r'2018-E-c-En-train.txt',\n",
    "                                                        'test': r'2018-E-c-En-test-gold.txt',\n",
    "                                                       'valid': r'2018-E-c-En-dev.txt'})\n",
    "ait_ar_dataset = load_dataset(\"csv\", sep = '\\t', data_files ={'train': r'2018-E-c-Ar-train.txt',\n",
    "                                                        'test': r'2018-E-c-Ar-test-gold.txt',\n",
    "                                                       'valid': r'2018-E-c-Ar-dev.txt'})\n",
    "train_dataset = concatenate_datasets([ait_es_dataset['train'], ait_en_dataset['train'], ait_ar_dataset['train']])\n",
    "valid_dataset = concatenate_datasets([ait_es_dataset['valid'], ait_en_dataset['valid'], ait_ar_dataset['valid']])\n",
    "test_dataset = concatenate_datasets([ait_es_dataset['test'], ait_en_dataset['test'], ait_ar_dataset['test']])\n",
    "\n",
    "ait_dataset = DatasetDict({'valid': valid_dataset.shuffle(seed=42), 'test': test_dataset.shuffle(seed=42)})"
   ]
  },
  {
   "cell_type": "code",
   "execution_count": 5,
   "id": "fe70f991",
   "metadata": {},
   "outputs": [
    {
     "data": {
      "text/plain": [
       "{'ID': '2018-Ar-03597',\n",
       " 'Tweet': 'انا رايحة اعمل عملية تانى فى عنيا\\\\nادعولى\\\\nوقلبى وربى غضبانين عليك يا اللى تفرط فى ارضك',\n",
       " 'anger': 1,\n",
       " 'anticipation': 0,\n",
       " 'disgust': 0,\n",
       " 'fear': 0,\n",
       " 'joy': 0,\n",
       " 'love': 0,\n",
       " 'optimism': 0,\n",
       " 'pessimism': 0,\n",
       " 'sadness': 1,\n",
       " 'surprise': 0,\n",
       " 'trust': 0}"
      ]
     },
     "execution_count": 5,
     "metadata": {},
     "output_type": "execute_result"
    }
   ],
   "source": [
    "ait_dataset['test'][20]"
   ]
  },
  {
   "cell_type": "code",
   "execution_count": 6,
   "id": "5d5999de",
   "metadata": {},
   "outputs": [],
   "source": [
    "new_dataset = DatasetDict()\n",
    "for split in ait_dataset:\n",
    "    new_split = []\n",
    "    for record in ait_dataset[split]:\n",
    "        new_record = {'text': record['Tweet']}\n",
    "        for function in function_mapping:\n",
    "            labels = function_mapping[function]\n",
    "            if '' in labels:\n",
    "                continue\n",
    "            else:\n",
    "                score = sum([record[label] for label in labels])\n",
    "                new_record[function] = int(score > 0)\n",
    "        new_split.append(new_record)\n",
    "    ait_dataset[split] =  Dataset.from_pandas(pd.DataFrame(data=new_split))"
   ]
  },
  {
   "cell_type": "code",
   "execution_count": 7,
   "id": "1a817835",
   "metadata": {},
   "outputs": [
    {
     "data": {
      "text/plain": [
       "{'text': 'انا رايحة اعمل عملية تانى فى عنيا\\\\nادعولى\\\\nوقلبى وربى غضبانين عليك يا اللى تفرط فى ارضك',\n",
       " 'OTHER': 0,\n",
       " 'DISLIKE': 0,\n",
       " 'PESSIMISTIC': 1,\n",
       " 'WORRIED': 0,\n",
       " 'ANGRY': 1}"
      ]
     },
     "execution_count": 7,
     "metadata": {},
     "output_type": "execute_result"
    }
   ],
   "source": [
    "ait_dataset['test'][20]"
   ]
  },
  {
   "cell_type": "code",
   "execution_count": 8,
   "id": "1320904f",
   "metadata": {},
   "outputs": [
    {
     "data": {
      "text/plain": [
       "DatasetDict({\n",
       "    valid: Dataset({\n",
       "        features: ['text', 'OTHER', 'DISLIKE', 'PESSIMISTIC', 'WORRIED', 'ANGRY'],\n",
       "        num_rows: 2150\n",
       "    })\n",
       "    test: Dataset({\n",
       "        features: ['text', 'OTHER', 'DISLIKE', 'PESSIMISTIC', 'WORRIED', 'ANGRY'],\n",
       "        num_rows: 7631\n",
       "    })\n",
       "})"
      ]
     },
     "execution_count": 8,
     "metadata": {},
     "output_type": "execute_result"
    }
   ],
   "source": [
    "ait_dataset"
   ]
  },
  {
   "cell_type": "code",
   "execution_count": 9,
   "id": "d8492272",
   "metadata": {},
   "outputs": [
    {
     "name": "stderr",
     "output_type": "stream",
     "text": [
      "100%|██████████| 2150/2150 [00:00<00:00, 13158.76ex/s]\n",
      "100%|██████████| 7631/7631 [00:00<00:00, 13524.23ex/s]\n"
     ]
    },
    {
     "data": {
      "text/plain": [
       "{'text': 'انا رايحة اعمل عملية تانى فى عنيا\\\\nادعولى\\\\nوقلبى وربى غضبانين عليك يا اللى تفرط فى ارضك',\n",
       " 'OTHER': 0,\n",
       " 'DISLIKE': 0,\n",
       " 'PESSIMISTIC': 1,\n",
       " 'WORRIED': 0,\n",
       " 'ANGRY': 1,\n",
       " 'functions': ['PESSIMISTIC', 'ANGRY']}"
      ]
     },
     "execution_count": 9,
     "metadata": {},
     "output_type": "execute_result"
    }
   ],
   "source": [
    "cols = ait_dataset['test'].column_names\n",
    "ait_dataset = ait_dataset.map(lambda x : {\"functions\": [c for c in cols if x[c] == 1]})\n",
    "ait_dataset['test'][20]"
   ]
  },
  {
   "cell_type": "code",
   "execution_count": 10,
   "id": "77eeec1b",
   "metadata": {},
   "outputs": [
    {
     "name": "stderr",
     "output_type": "stream",
     "text": [
      "100%|██████████| 3/3 [00:00<00:00, 248.10ba/s]\n",
      "100%|██████████| 8/8 [00:00<00:00, 245.70ba/s]\n"
     ]
    }
   ],
   "source": [
    "# Convert labels to one hot enconding vectors\n",
    "def one_hot_encoding(batch):\n",
    "    label_ids = mlb.transform(batch['functions'])\n",
    "    return {\"label_ids\":label_ids}\n",
    "ait_dataset = ait_dataset.map(one_hot_encoding, batched=True)"
   ]
  },
  {
   "cell_type": "code",
   "execution_count": 11,
   "id": "1991dbf1",
   "metadata": {},
   "outputs": [
    {
     "data": {
      "text/plain": [
       "{'text': 'انا رايحة اعمل عملية تانى فى عنيا\\\\nادعولى\\\\nوقلبى وربى غضبانين عليك يا اللى تفرط فى ارضك',\n",
       " 'OTHER': 0,\n",
       " 'DISLIKE': 0,\n",
       " 'PESSIMISTIC': 1,\n",
       " 'WORRIED': 0,\n",
       " 'ANGRY': 1,\n",
       " 'functions': ['PESSIMISTIC', 'ANGRY'],\n",
       " 'label_ids': [1, 0, 0, 1, 0]}"
      ]
     },
     "execution_count": 11,
     "metadata": {},
     "output_type": "execute_result"
    }
   ],
   "source": [
    "ait_dataset['test'][20]"
   ]
  },
  {
   "cell_type": "code",
   "execution_count": 12,
   "id": "94c15c9d",
   "metadata": {},
   "outputs": [
    {
     "name": "stderr",
     "output_type": "stream",
     "text": [
      "  0%|          | 0/3 [00:00<?, ?ba/s]Asking to truncate to max_length but no maximum length is provided and the model has no predefined maximum length. Default to no truncation.\n",
      "100%|██████████| 3/3 [00:00<00:00, 28.94ba/s]\n",
      "100%|██████████| 8/8 [00:00<00:00, 24.75ba/s]\n"
     ]
    },
    {
     "name": "stdout",
     "output_type": "stream",
     "text": [
      "DatasetDict({\n",
      "    valid: Dataset({\n",
      "        features: ['text', 'OTHER', 'DISLIKE', 'PESSIMISTIC', 'WORRIED', 'ANGRY', 'functions', 'label_ids', 'input_ids', 'attention_mask'],\n",
      "        num_rows: 2150\n",
      "    })\n",
      "    test: Dataset({\n",
      "        features: ['text', 'OTHER', 'DISLIKE', 'PESSIMISTIC', 'WORRIED', 'ANGRY', 'functions', 'label_ids', 'input_ids', 'attention_mask'],\n",
      "        num_rows: 7631\n",
      "    })\n",
      "})\n"
     ]
    },
    {
     "name": "stderr",
     "output_type": "stream",
     "text": [
      "100%|██████████| 2150/2150 [00:01<00:00, 2090.52ex/s]\n",
      "100%|██████████| 7631/7631 [00:03<00:00, 2024.95ex/s]\n"
     ]
    }
   ],
   "source": [
    "from transformers import AutoTokenizer, AutoModelForSequenceClassification, pipeline, Trainer, TrainingArguments\n",
    "finetuned_model = 'functions_basic_finetuning_single_label/checkpoint-65'\n",
    "device = torch.device(\"cuda\" if torch.cuda.is_available() else \"cpu\")\n",
    "model = (AutoModelForSequenceClassification\n",
    "         .from_pretrained(finetuned_model,problem_type=\"multi_label_classification\", num_labels = len(labels_classes))).to(device)\n",
    "tokenizer=AutoTokenizer.from_pretrained(finetuned_model)\n",
    "\n",
    "def tokenize(batch):\n",
    "    return tokenizer(batch[\"text\"], truncation=True, padding=True)\n",
    "\n",
    "ds_enc = ait_dataset.map(tokenize, batched=True)\n",
    "print(ds_enc)\n",
    "ds_enc.set_format(\"torch\", columns=[\"input_ids\", \"attention_mask\", \"label_ids\"])\n",
    "ds_enc = (ds_enc\n",
    "          .map(lambda x : {\"float_labels\": x[\"label_ids\"].to(torch.float)}, remove_columns=[\"label_ids\"])\n",
    "          .rename_column(\"float_labels\", \"label_ids\"))"
   ]
  },
  {
   "cell_type": "code",
   "execution_count": 13,
   "id": "f5e77a87",
   "metadata": {},
   "outputs": [],
   "source": [
    "from sklearn.metrics import f1_score, roc_auc_score, accuracy_score\n",
    "from transformers import EvalPrediction\n",
    "    \n",
    "# source: https://jesusleal.io/2021/04/21/Longformer-multlabel-classification/\n",
    "def multi_label_metrics(predictions, labels, threshold=0.5):   \n",
    "    sigmoid = torch.nn.Sigmoid()\n",
    "    probs = sigmoid(torch.Tensor(predictions)) \n",
    "    y_pred = np.zeros(probs.shape)\n",
    "    y_pred[np.where(probs >= threshold)] = 1   \n",
    "    y_true = labels\n",
    "    f1_macro_average = f1_score(y_true=y_true, y_pred=y_pred, average='macro')\n",
    "    roc_auc = roc_auc_score(y_true, y_pred, average = 'macro')\n",
    "    accuracy = accuracy_score(y_true, y_pred)\n",
    "    # return as dictionary\n",
    "    metrics = {'f1': f1_macro_average,\n",
    "               'roc_auc': roc_auc,\n",
    "               'accuracy': accuracy}\n",
    "    return metrics\n",
    "\n",
    "def compute_metrics(p: EvalPrediction):\n",
    "    preds = p.predictions[0] if isinstance(p.predictions, \n",
    "            tuple) else p.predictions\n",
    "    result = multi_label_metrics(\n",
    "        predictions=preds, \n",
    "        labels=p.label_ids)\n",
    "    return result"
   ]
  },
  {
   "cell_type": "code",
   "execution_count": 14,
   "id": "977a0d7e",
   "metadata": {},
   "outputs": [],
   "source": [
    "args = TrainingArguments(\".\", num_train_epochs=1)\n",
    "\n",
    "trainer = Trainer(model=model, args=args, \n",
    "                  compute_metrics=compute_metrics,                  \n",
    "                  eval_dataset=ds_enc,\n",
    "                  tokenizer=tokenizer)"
   ]
  },
  {
   "cell_type": "code",
   "execution_count": 15,
   "id": "35341334",
   "metadata": {},
   "outputs": [
    {
     "name": "stderr",
     "output_type": "stream",
     "text": [
      "The following columns in the test set don't have a corresponding argument in `XLMRobertaForSequenceClassification.forward` and have been ignored: OTHER, text, PESSIMISTIC, functions, WORRIED, DISLIKE, ANGRY. If OTHER, text, PESSIMISTIC, functions, WORRIED, DISLIKE, ANGRY are not expected by `XLMRobertaForSequenceClassification.forward`,  you can safely ignore this message.\n",
      "***** Running Prediction *****\n",
      "  Num examples = 2150\n",
      "  Batch size = 16\n",
      "You're using a XLMRobertaTokenizerFast tokenizer. Please note that with a fast tokenizer, using the `__call__` method is faster than using a method to encode the text followed by a call to the `pad` method to get a padded encoding.\n",
      "/home/njfernandez/.local/lib/python3.8/site-packages/torch/nn/parallel/_functions.py:68: UserWarning: Was asked to gather along dimension 0, but all input tensors were scalars; will instead unsqueeze and return a vector.\n",
      "  warnings.warn('Was asked to gather along dimension 0, but all '\n"
     ]
    },
    {
     "data": {
      "text/html": [],
      "text/plain": [
       "<IPython.core.display.HTML object>"
      ]
     },
     "metadata": {},
     "output_type": "display_data"
    },
    {
     "name": "stdout",
     "output_type": "stream",
     "text": [
      "{'test_loss': 0.6292778253555298, 'test_f1': 0.32810937832150455, 'test_roc_auc': 0.5676667414336457, 'test_accuracy': 0.25813953488372093, 'test_runtime': 18.2283, 'test_samples_per_second': 117.949, 'test_steps_per_second': 7.406}\n"
     ]
    }
   ],
   "source": [
    "preds_output = trainer.predict(ds_enc['valid'])\n",
    "print(preds_output.metrics)"
   ]
  },
  {
   "cell_type": "code",
   "execution_count": 16,
   "id": "7036f198",
   "metadata": {},
   "outputs": [],
   "source": [
    "from sklearn.metrics import classification_report\n",
    "import matplotlib.pyplot as plt\n",
    "\n",
    "macros, micros, macroprecision, macrorecall = [], [], [], []\n",
    "y_true = np.array(ds_enc['valid'][\"label_ids\"])\n",
    "thresholds = np.linspace(0.1, 1, 100)\n",
    "for threshold in thresholds:\n",
    "    sigmoid = torch.nn.Sigmoid()\n",
    "    probs = sigmoid(torch.Tensor(preds_output.predictions))\n",
    "    y_pred = np.zeros(probs.shape)\n",
    "    y_pred[np.where(probs >= threshold)] = 1    \n",
    "    report = classification_report(y_true, y_pred, target_names=labels_classes, zero_division=0, output_dict=True)\n",
    "    micros.append(report[\"micro avg\"][\"f1-score\"])\n",
    "    macros.append(report[\"macro avg\"][\"f1-score\"])\n",
    "    macroprecision.append(report['macro avg']['precision'])\n",
    "    macrorecall.append(report['macro avg']['recall'])"
   ]
  },
  {
   "cell_type": "code",
   "execution_count": 17,
   "id": "37fffee5",
   "metadata": {},
   "outputs": [
    {
     "data": {
      "image/png": "[encoded data removed]",
      "text/plain": [
       "<Figure size 432x288 with 1 Axes>"
      ]
     },
     "metadata": {
      "needs_background": "light"
     },
     "output_type": "display_data"
    }
   ],
   "source": [
    "plt.plot(thresholds, micros, label=\"Micro F1\")\n",
    "plt.plot(thresholds, macros, label=\"Macro F1\")\n",
    "plt.xlabel(\"Threshold\")\n",
    "plt.ylabel(\"F1-score\")\n",
    "plt.legend(loc=\"best\")\n",
    "plt.show()"
   ]
  },
  {
   "cell_type": "code",
   "execution_count": 18,
   "id": "2849c666",
   "metadata": {},
   "outputs": [
    {
     "data": {
      "image/png": "[encoded data removed]",
      "text/plain": [
       "<Figure size 432x288 with 1 Axes>"
      ]
     },
     "metadata": {
      "needs_background": "light"
     },
     "output_type": "display_data"
    }
   ],
   "source": [
    "plt.plot(thresholds, macroprecision, label=\"Macro P\")\n",
    "plt.plot(thresholds, macrorecall, label=\"Macro R\")\n",
    "plt.xlabel(\"Threshold\")\n",
    "plt.ylabel(\"Score\")\n",
    "plt.legend(loc=\"best\")\n",
    "plt.show()"
   ]
  },
  {
   "cell_type": "code",
   "execution_count": 19,
   "id": "96ce7ce5",
   "metadata": {},
   "outputs": [
    {
     "name": "stdout",
     "output_type": "stream",
     "text": [
      "Best threshold (micro): 0.4545454545454546 with F1-score 0.49.\n",
      "Best threshold (macro): 0.2545454545454545 with F1-score 0.47.\n",
      "Best threshold (macro-Precision): 0.7545454545454545 with macroP-score 0.50.\n",
      "Best threshold (macro-Recall): 0.1 with macroR-score 1.00.\n"
     ]
    }
   ],
   "source": [
    "best_t, best_micro = thresholds[np.argmax(micros)], np.max(micros)\n",
    "print(f'Best threshold (micro): {best_t} with F1-score {best_micro:.2f}.')\n",
    "best_t, best_macro = thresholds[np.argmax(macros)], np.max(macros)\n",
    "print(f'Best threshold (macro): {best_t} with F1-score {best_macro:.2f}.')\n",
    "best_t, best_macro_P = thresholds[np.argmax(macroprecision)], np.max(macroprecision)\n",
    "print(f'Best threshold (macro-Precision): {best_t} with macroP-score {best_macro_P:.2f}.')\n",
    "best_t, best_macro_R = thresholds[np.argmax(macrorecall)], np.max(macrorecall)\n",
    "print(f'Best threshold (macro-Recall): {best_t} with macroR-score {best_macro_R:.2f}.')"
   ]
  },
  {
   "cell_type": "code",
   "execution_count": 20,
   "id": "269d9bad",
   "metadata": {},
   "outputs": [
    {
     "name": "stderr",
     "output_type": "stream",
     "text": [
      "The following columns in the test set don't have a corresponding argument in `XLMRobertaForSequenceClassification.forward` and have been ignored: OTHER, text, PESSIMISTIC, functions, WORRIED, DISLIKE, ANGRY. If OTHER, text, PESSIMISTIC, functions, WORRIED, DISLIKE, ANGRY are not expected by `XLMRobertaForSequenceClassification.forward`,  you can safely ignore this message.\n",
      "***** Running Prediction *****\n",
      "  Num examples = 7631\n",
      "  Batch size = 16\n",
      "/home/njfernandez/.local/lib/python3.8/site-packages/torch/nn/parallel/_functions.py:68: UserWarning: Was asked to gather along dimension 0, but all input tensors were scalars; will instead unsqueeze and return a vector.\n",
      "  warnings.warn('Was asked to gather along dimension 0, but all '\n"
     ]
    },
    {
     "data": {
      "text/html": [],
      "text/plain": [
       "<IPython.core.display.HTML object>"
      ]
     },
     "metadata": {},
     "output_type": "display_data"
    },
    {
     "name": "stdout",
     "output_type": "stream",
     "text": [
      "{'test_loss': 0.6300235986709595, 'test_f1': 0.32704607017765275, 'test_roc_auc': 0.5645417431893696, 'test_accuracy': 0.23221071943388807, 'test_runtime': 55.759, 'test_samples_per_second': 136.857, 'test_steps_per_second': 8.555}\n"
     ]
    }
   ],
   "source": [
    "#output = trainer.evaluate()\n",
    "preds_output = trainer.predict(ds_enc['test'])\n",
    "print(preds_output.metrics)"
   ]
  },
  {
   "cell_type": "code",
   "execution_count": 27,
   "id": "8194f1a9",
   "metadata": {},
   "outputs": [
    {
     "name": "stdout",
     "output_type": "stream",
     "text": [
      "{'ANGRY': {'precision': 0.36621999705492564, 'recall': 0.9459870673259795, 'f1-score': 0.5280254777070064, 'support': 2629}, 'DISLIKE': {'precision': 0.22242562929061785, 'recall': 0.528835690968444, 'f1-score': 0.3131443298969072, 'support': 1838}, 'OTHER': {'precision': 0.5661865049279757, 'recall': 0.9486788617886179, 'f1-score': 0.7091444307283259, 'support': 3936}, 'PESSIMISTIC': {'precision': 0.4258064516129032, 'recall': 0.22073578595317725, 'f1-score': 0.29074889867841414, 'support': 2691}, 'WORRIED': {'precision': 0.20777027027027026, 'recall': 0.7987012987012987, 'f1-score': 0.3297587131367292, 'support': 1078}, 'micro avg': {'precision': 0.37123846318952564, 'recall': 0.710483075911929, 'f1-score': 0.4876645896185186, 'support': 12172}, 'macro avg': {'precision': 0.35768177063133855, 'recall': 0.6885877409475034, 'f1-score': 0.43416437002947655, 'support': 12172}, 'weighted avg': {'precision': 0.4083094212070113, 'recall': 0.710483075911929, 'f1-score': 0.48412881348126297, 'support': 12172}, 'samples avg': {'precision': 0.4099178788275892, 'recall': 0.7285960774035732, 'f1-score': 0.48911592855374797, 'support': 12172}}\n"
     ]
    }
   ],
   "source": [
    "sigmoid = torch.nn.Sigmoid()\n",
    "probs = sigmoid(torch.Tensor(preds_output.predictions))\n",
    "y_pred = np.zeros(probs.shape)\n",
    "y_pred[np.where(probs >= 0.4)]= 1\n",
    "y_true = np.array(ds_enc['test'][\"label_ids\"])\n",
    "\n",
    "from sklearn.metrics import classification_report\n",
    "\n",
    "report = classification_report(\n",
    "  y_true,\n",
    "  y_pred,\n",
    "  target_names=labels_classes,\n",
    "  zero_division=0,\n",
    "  output_dict=True\n",
    ")\n",
    "print(report)\n",
    "\n",
    "df = pd.DataFrame(report).transpose()\n",
    "with open(r'classification_report_functions_basic_ait_finetuning_threshold=0.5.csv', 'w') as csv_file:\n",
    "    df.to_csv(path_or_buf=csv_file)"
   ]
  },
  {
   "cell_type": "code",
   "execution_count": null,
   "id": "66941a64",
   "metadata": {},
   "outputs": [
    {
     "name": "stderr",
     "output_type": "stream",
     "text": [
      "100%|██████████| 269/269 [00:05<00:00, 52.09ba/s]\n",
      " 78%|███████▊  | 746/954 [00:15<00:03, 54.17ba/s]"
     ]
    }
   ],
   "source": [
    "import torch.nn as nn\n",
    "def loss_fn(outputs, labels):\n",
    "    if labels is None:\n",
    "        return None\n",
    "    loss_values = []\n",
    "    for f, b in zip(outputs, labels):\n",
    "        loss_value = nn.BCEWithLogitsLoss()(f, b.float())\n",
    "        loss_values.append(loss_value)\n",
    "    torch_loss = torch.tensor(loss_values)\n",
    "    return torch_loss\n",
    "\n",
    "def forward_pass_with_label(batch): \n",
    "    inputs = {k:v.to(device) for k,v in batch.items() \n",
    "              if k in tokenizer.model_input_names}      \n",
    "    with torch.no_grad():\n",
    "        output = model(**inputs)\n",
    "        logits = output.logits        \n",
    "        sigmoid = torch.nn.Sigmoid()\n",
    "        probs = sigmoid(logits.squeeze().cpu())       \n",
    "        predictions = np.zeros(probs.shape)\n",
    "        predictions[np.where(probs >= 0.5)] = 1       \n",
    "        loss = loss_fn(logits, batch[\"label_ids\"].to(device))\n",
    "    return {\"loss\": loss.cpu().numpy(), \n",
    "            \"pred_label_ids\": predictions}\n",
    "\n",
    "ds_enc.set_format(\"torch\", \n",
    "                            columns=[\"input_ids\", \"attention_mask\", \"label_ids\"])\n",
    "ds_enc = ds_enc.map(\n",
    "    forward_pass_with_label, batched=True, batch_size = 8)"
   ]
  },
  {
   "cell_type": "code",
   "execution_count": null,
   "id": "76b409bc",
   "metadata": {},
   "outputs": [],
   "source": [
    "def get_predicted_labels(batch):\n",
    "    transformed_into_label_names = mlb.inverse_transform(np.array(batch['pred_label_ids']))  \n",
    "    return  {\"predicted_labels\": list(map(list, transformed_into_label_names))}\n",
    "ds_enc['test'] = ds_enc['test'].map(get_predicted_labels, batched=True)\n",
    "\n",
    "ds_enc.set_format(\"pandas\")\n",
    "cols = [\"text\", \"functions\", \"predicted_labels\", \"loss\"]\n",
    "df_test = ds_enc['test'][:][cols]\n",
    "loss_values = df_test.sort_values(\"loss\", ascending=False).head(50)\n",
    "print(loss_values)"
   ]
  },
  {
   "cell_type": "code",
   "execution_count": null,
   "id": "29bf2588",
   "metadata": {},
   "outputs": [],
   "source": [
    "loss_values.to_csv('loss_values_functions_basic_ait_finetuning_threshold=0.5.tsv',header =True, sep = '\\t',index=False)\n",
    "df_test.to_csv('preds_functions_basic_ait_finetuning_threshold=0.5.tsv',header =True, sep = '\\t',index=False)"
   ]
  },
  {
   "cell_type": "code",
   "execution_count": null,
   "id": "1284a045",
   "metadata": {},
   "outputs": [],
   "source": []
  }
 ],
 "metadata": {
  "kernelspec": {
   "display_name": "Python 3 (ipykernel)",
   "language": "python",
   "name": "python3"
  },
  "language_info": {
   "codemirror_mode": {
    "name": "ipython",
    "version": 3
   },
   "file_extension": ".py",
   "mimetype": "text/x-python",
   "name": "python",
   "nbconvert_exporter": "python",
   "pygments_lexer": "ipython3",
   "version": "3.8.10"
  }
 },
 "nbformat": 4,
 "nbformat_minor": 5
}

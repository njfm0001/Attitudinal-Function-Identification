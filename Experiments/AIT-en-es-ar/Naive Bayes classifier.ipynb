{
 "cells": [
  {
   "cell_type": "markdown",
   "id": "acf45e0f",
   "metadata": {},
   "source": [
    "# GoEmotions train (baseline) experiment"
   ]
  },
  {
   "cell_type": "code",
   "execution_count": 1,
   "id": "38673a21",
   "metadata": {},
   "outputs": [
    {
     "name": "stderr",
     "output_type": "stream",
     "text": [
      "/home/njfernandez/.local/lib/python3.8/site-packages/tqdm/auto.py:22: TqdmWarning: IProgress not found. Please update jupyter and ipywidgets. See https://ipywidgets.readthedocs.io/en/stable/user_install.html\n",
      "  from .autonotebook import tqdm as notebook_tqdm\n"
     ]
    }
   ],
   "source": [
    "from datasets import Dataset, load_dataset, DatasetDict, ClassLabel, concatenate_datasets\n",
    "import numpy as np\n",
    "import torch\n",
    "import pandas as pd\n",
    "\n",
    "#Seeding for deterministic results i.e. showing same output \n",
    "RANDOM_SEED = 64\n",
    "np.random.seed(RANDOM_SEED)\n",
    "torch.manual_seed(RANDOM_SEED)\n",
    "if torch.cuda.is_available():\n",
    "   torch.cuda.manual_seed(RANDOM_SEED)\n",
    "   torch.cuda.manual_seed_all(RANDOM_SEED) \n",
    "   torch.backends.cudnn.deterministic = True  \n",
    "   torch.backends.cudnn.benchmark = False"
   ]
  },
  {
   "cell_type": "code",
   "execution_count": 2,
   "id": "fabea7e3",
   "metadata": {},
   "outputs": [
    {
     "data": {
      "text/html": [
       "<div>\n",
       "<style scoped>\n",
       "    .dataframe tbody tr th:only-of-type {\n",
       "        vertical-align: middle;\n",
       "    }\n",
       "\n",
       "    .dataframe tbody tr th {\n",
       "        vertical-align: top;\n",
       "    }\n",
       "\n",
       "    .dataframe thead th {\n",
       "        text-align: right;\n",
       "    }\n",
       "</style>\n",
       "<table border=\"1\" class=\"dataframe\">\n",
       "  <thead>\n",
       "    <tr style=\"text-align: right;\">\n",
       "      <th></th>\n",
       "      <th>text</th>\n",
       "      <th>functions</th>\n",
       "    </tr>\n",
       "  </thead>\n",
       "  <tbody>\n",
       "    <tr>\n",
       "      <th>85</th>\n",
       "      <td>I'm not really very keen on it</td>\n",
       "      <td>DISLIKE</td>\n",
       "    </tr>\n",
       "    <tr>\n",
       "      <th>86</th>\n",
       "      <td>I'm not really very keen</td>\n",
       "      <td>DISLIKE</td>\n",
       "    </tr>\n",
       "    <tr>\n",
       "      <th>87</th>\n",
       "      <td>I'm not really keen on it</td>\n",
       "      <td>DISLIKE</td>\n",
       "    </tr>\n",
       "    <tr>\n",
       "      <th>88</th>\n",
       "      <td>I'm not really keen</td>\n",
       "      <td>DISLIKE</td>\n",
       "    </tr>\n",
       "    <tr>\n",
       "      <th>89</th>\n",
       "      <td>I'm not very keen on it</td>\n",
       "      <td>DISLIKE</td>\n",
       "    </tr>\n",
       "    <tr>\n",
       "      <th>...</th>\n",
       "      <td>...</td>\n",
       "      <td>...</td>\n",
       "    </tr>\n",
       "    <tr>\n",
       "      <th>897</th>\n",
       "      <td>you could do it</td>\n",
       "      <td>OTHER</td>\n",
       "    </tr>\n",
       "    <tr>\n",
       "      <th>898</th>\n",
       "      <td>you look nice</td>\n",
       "      <td>OTHER</td>\n",
       "    </tr>\n",
       "    <tr>\n",
       "      <th>899</th>\n",
       "      <td>you look smart</td>\n",
       "      <td>OTHER</td>\n",
       "    </tr>\n",
       "    <tr>\n",
       "      <th>900</th>\n",
       "      <td>you're right</td>\n",
       "      <td>OTHER</td>\n",
       "    </tr>\n",
       "    <tr>\n",
       "      <th>901</th>\n",
       "      <td>you're welcome</td>\n",
       "      <td>OTHER</td>\n",
       "    </tr>\n",
       "  </tbody>\n",
       "</table>\n",
       "<p>410 rows × 2 columns</p>\n",
       "</div>"
      ],
      "text/plain": [
       "                               text functions\n",
       "85   I'm not really very keen on it   DISLIKE\n",
       "86         I'm not really very keen   DISLIKE\n",
       "87        I'm not really keen on it   DISLIKE\n",
       "88              I'm not really keen   DISLIKE\n",
       "89          I'm not very keen on it   DISLIKE\n",
       "..                              ...       ...\n",
       "897                 you could do it     OTHER\n",
       "898                   you look nice     OTHER\n",
       "899                  you look smart     OTHER\n",
       "900                    you're right     OTHER\n",
       "901                  you're welcome     OTHER\n",
       "\n",
       "[410 rows x 2 columns]"
      ]
     },
     "execution_count": 2,
     "metadata": {},
     "output_type": "execute_result"
    }
   ],
   "source": [
    "comfunctions_basic = 'comfunct_basic.txt'\n",
    "df = pd.read_csv(comfunctions_basic, delimiter=\";\")\n",
    "df = df[df['function'].isin(['ANGRY', 'WORRIED', 'PESSIMISTIC', 'DISLIKE', 'OTHER'])].rename(columns={\"function\": \"functions\"})\n",
    "df"
   ]
  },
  {
   "cell_type": "code",
   "execution_count": 3,
   "id": "02daaa86",
   "metadata": {},
   "outputs": [
    {
     "data": {
      "text/plain": [
       "array(['ANGRY', 'DISLIKE', 'OTHER', 'PESSIMISTIC', 'WORRIED'],\n",
       "      dtype=object)"
      ]
     },
     "execution_count": 3,
     "metadata": {},
     "output_type": "execute_result"
    }
   ],
   "source": [
    "unique_labels = df[\"functions\"].unique().tolist()\n",
    "function_labels = ClassLabel(names=unique_labels)\n",
    "\n",
    "from sklearn.preprocessing import MultiLabelBinarizer\n",
    "mlb = MultiLabelBinarizer()\n",
    "mlb.fit([function_labels.names])\n",
    "labels_classes = mlb.classes_\n",
    "labels_classes"
   ]
  },
  {
   "cell_type": "code",
   "execution_count": 4,
   "id": "5e517e37",
   "metadata": {},
   "outputs": [
    {
     "name": "stderr",
     "output_type": "stream",
     "text": [
      "Using custom data configuration default-051610f9ffe8f8d2\n",
      "Found cached dataset csv (/home/njfernandez/.cache/huggingface/datasets/csv/default-051610f9ffe8f8d2/0.0.0/6b34fb8fcf56f7c8ba51dc895bfa2bfbe43546f190a60fcf74bb5e8afdcc2317)\n",
      "100%|██████████| 3/3 [00:00<00:00, 785.65it/s]\n",
      "Using custom data configuration default-94907eb33ba58000\n",
      "Found cached dataset csv (/home/njfernandez/.cache/huggingface/datasets/csv/default-94907eb33ba58000/0.0.0/6b34fb8fcf56f7c8ba51dc895bfa2bfbe43546f190a60fcf74bb5e8afdcc2317)\n",
      "100%|██████████| 3/3 [00:00<00:00, 791.13it/s]\n",
      "Using custom data configuration default-869e6abb15784ff2\n",
      "Found cached dataset csv (/home/njfernandez/.cache/huggingface/datasets/csv/default-869e6abb15784ff2/0.0.0/6b34fb8fcf56f7c8ba51dc895bfa2bfbe43546f190a60fcf74bb5e8afdcc2317)\n",
      "100%|██████████| 3/3 [00:00<00:00, 746.05it/s]\n",
      "Loading cached shuffled indices for dataset at /home/njfernandez/.cache/huggingface/datasets/csv/default-051610f9ffe8f8d2/0.0.0/6b34fb8fcf56f7c8ba51dc895bfa2bfbe43546f190a60fcf74bb5e8afdcc2317/cache-342257832c8283f6.arrow\n",
      "Loading cached shuffled indices for dataset at /home/njfernandez/.cache/huggingface/datasets/csv/default-051610f9ffe8f8d2/0.0.0/6b34fb8fcf56f7c8ba51dc895bfa2bfbe43546f190a60fcf74bb5e8afdcc2317/cache-61b64f8f2d33fef0.arrow\n",
      "Loading cached shuffled indices for dataset at /home/njfernandez/.cache/huggingface/datasets/csv/default-051610f9ffe8f8d2/0.0.0/6b34fb8fcf56f7c8ba51dc895bfa2bfbe43546f190a60fcf74bb5e8afdcc2317/cache-22704bf1ca817405.arrow\n"
     ]
    }
   ],
   "source": [
    "function_mapping = {'OTHER': ['anticipation', 'joy', 'love', 'optimism', 'surprise', 'trust'],\n",
    "           'NOT_INTERESTED': [''], \n",
    "           'DISLIKE':['disgust'], \n",
    "           'NOT_CORRECT': [''], \n",
    "           'PESSIMISTIC':['sadness', 'pessimism'], \n",
    "           'WORRIED':['fear'], \n",
    "           'ANGRY': ['anger'], \n",
    "           'DISAPPOINTED': [''], \n",
    "           'BORED': [''], \n",
    "           'NOT_APPROVE':[''], \n",
    "           'NOT_IMPORTANT': [''], \n",
    "           'DISAGREE': [''], \n",
    "           'WARN': [''], \n",
    "           'COMPLAIN': [''], \n",
    "           'THREATEN': [''], \n",
    "           'UNWILLING': [''], \n",
    "           'DISTRUST' : [''],\n",
    "           'REFUSE': [''] }\n",
    "\n",
    "ait_es_dataset = load_dataset(\"csv\", sep = '\\t', data_files ={'train': r'2018-E-c-Es-train.txt',\n",
    "                                                        'test': r'2018-E-c-Es-test-gold.txt',\n",
    "                                                       'valid': r'2018-E-c-Es-dev.txt'})\n",
    "ait_en_dataset = load_dataset(\"csv\", sep = '\\t', data_files ={'train': r'2018-E-c-En-train.txt',\n",
    "                                                        'test': r'2018-E-c-En-test-gold.txt',\n",
    "                                                       'valid': r'2018-E-c-En-dev.txt'})\n",
    "ait_ar_dataset = load_dataset(\"csv\", sep = '\\t', data_files ={'train': r'2018-E-c-Ar-train.txt',\n",
    "                                                        'test': r'2018-E-c-Ar-test-gold.txt',\n",
    "                                                       'valid': r'2018-E-c-Ar-dev.txt'})\n",
    "train_dataset = concatenate_datasets([ait_es_dataset['train'], ait_en_dataset['train'], ait_ar_dataset['train']])\n",
    "valid_dataset = concatenate_datasets([ait_es_dataset['valid'], ait_en_dataset['valid'], ait_ar_dataset['valid']])\n",
    "test_dataset = concatenate_datasets([ait_es_dataset['test'], ait_en_dataset['test'], ait_ar_dataset['test']])\n",
    "\n",
    "ait_dataset = DatasetDict({'train': train_dataset.shuffle(seed=42),'valid': valid_dataset.shuffle(seed=42), 'test': test_dataset.shuffle(seed=42)})"
   ]
  },
  {
   "cell_type": "code",
   "execution_count": 5,
   "id": "17c32e96",
   "metadata": {},
   "outputs": [],
   "source": [
    "new_dataset = DatasetDict()\n",
    "for split in ait_dataset:\n",
    "    new_split = []\n",
    "    for record in ait_dataset[split]:\n",
    "        new_record = {'text': record['Tweet']}\n",
    "        for function in function_mapping:\n",
    "            labels = function_mapping[function]\n",
    "            if '' in labels:\n",
    "                continue\n",
    "            else:\n",
    "                score = sum([record[label] for label in labels])\n",
    "                new_record[function] = int(score > 0)\n",
    "        new_split.append(new_record)\n",
    "    ait_dataset[split] =  Dataset.from_pandas(pd.DataFrame(data=new_split))"
   ]
  },
  {
   "cell_type": "code",
   "execution_count": 6,
   "id": "dc2fb779",
   "metadata": {},
   "outputs": [
    {
     "name": "stderr",
     "output_type": "stream",
     "text": [
      "100%|██████████| 12675/12675 [00:00<00:00, 13350.51ex/s]\n",
      "100%|██████████| 2150/2150 [00:00<00:00, 10290.27ex/s]\n",
      "100%|██████████| 7631/7631 [00:00<00:00, 13364.87ex/s]\n"
     ]
    },
    {
     "data": {
      "text/plain": [
       "{'text': 'انا رايحة اعمل عملية تانى فى عنيا\\\\nادعولى\\\\nوقلبى وربى غضبانين عليك يا اللى تفرط فى ارضك',\n",
       " 'OTHER': 0,\n",
       " 'DISLIKE': 0,\n",
       " 'PESSIMISTIC': 1,\n",
       " 'WORRIED': 0,\n",
       " 'ANGRY': 1,\n",
       " 'functions': ['PESSIMISTIC', 'ANGRY']}"
      ]
     },
     "execution_count": 6,
     "metadata": {},
     "output_type": "execute_result"
    }
   ],
   "source": [
    "cols = ait_dataset['test'].column_names\n",
    "ait_dataset = ait_dataset.map(lambda x : {\"functions\": [c for c in cols if x[c] == 1]})\n",
    "ait_dataset['test'][20]"
   ]
  },
  {
   "cell_type": "code",
   "execution_count": 7,
   "id": "db2fcf76",
   "metadata": {},
   "outputs": [
    {
     "name": "stderr",
     "output_type": "stream",
     "text": [
      "100%|██████████| 13/13 [00:00<00:00, 225.35ba/s]\n",
      "100%|██████████| 3/3 [00:00<00:00, 274.05ba/s]\n",
      "100%|██████████| 8/8 [00:00<00:00, 244.78ba/s]\n"
     ]
    }
   ],
   "source": [
    "# Convert labels to one hot enconding vectors\n",
    "def one_hot_encoding(batch):\n",
    "    label_ids = mlb.transform(batch['functions'])\n",
    "    return {\"label_ids\":label_ids}\n",
    "ait_dataset = ait_dataset.map(one_hot_encoding, batched=True)"
   ]
  },
  {
   "cell_type": "code",
   "execution_count": 8,
   "id": "f53ec871",
   "metadata": {},
   "outputs": [],
   "source": [
    "from sklearn.naive_bayes import MultinomialNB\n",
    "from sklearn.multioutput import MultiOutputClassifier\n",
    "from sklearn.metrics import classification_report\n",
    "from sklearn.feature_extraction.text import CountVectorizer\n",
    "\n",
    "y_train = np.array(ait_dataset['train']['label_ids'])\n",
    "y_test = np.array(ait_dataset['test']['label_ids'])"
   ]
  },
  {
   "cell_type": "code",
   "execution_count": 9,
   "id": "1367506a",
   "metadata": {},
   "outputs": [],
   "source": [
    "count_vect = CountVectorizer()\n",
    "X_train_counts = count_vect.fit_transform(ait_dataset['train']['text'])\n",
    "X_test_counts = count_vect.transform(ait_dataset['test']['text'])"
   ]
  },
  {
   "cell_type": "code",
   "execution_count": 10,
   "id": "26443e4a",
   "metadata": {},
   "outputs": [],
   "source": [
    "nb = MultinomialNB()\n",
    "multi_nb = MultiOutputClassifier(nb, n_jobs=-1)\n",
    "multi_nb.fit(X_train_counts, y_train)\n",
    "y_pred_test = multi_nb.predict(X_test_counts)"
   ]
  },
  {
   "cell_type": "code",
   "execution_count": 11,
   "id": "e4695441",
   "metadata": {},
   "outputs": [
    {
     "name": "stdout",
     "output_type": "stream",
     "text": [
      "              precision    recall  f1-score   support\n",
      "\n",
      "       ANGRY       0.74      0.48      0.58      2629\n",
      "     DISLIKE       0.54      0.50      0.52      1838\n",
      "       OTHER       0.75      0.73      0.74      3936\n",
      " PESSIMISTIC       0.64      0.42      0.51      2691\n",
      "     WORRIED       0.69      0.22      0.33      1078\n",
      "\n",
      "   micro avg       0.69      0.52      0.60     12172\n",
      "   macro avg       0.67      0.47      0.53     12172\n",
      "weighted avg       0.69      0.52      0.58     12172\n",
      " samples avg       0.62      0.57      0.57     12172\n",
      "\n"
     ]
    }
   ],
   "source": [
    "clf_report = classification_report(y_test, y_pred_test, target_names=labels_classes, zero_division=0)\n",
    "print(clf_report)"
   ]
  },
  {
   "cell_type": "code",
   "execution_count": 12,
   "id": "822003b2",
   "metadata": {},
   "outputs": [],
   "source": [
    "clf_report = classification_report(y_test, y_pred_test, target_names=labels_classes, zero_division=0, output_dict=True)\n",
    "df_results = pd.DataFrame(clf_report).transpose()\n",
    "with open(r'classification_report_baseline_ait_naive_bayes.csv', 'w') as csv_file:\n",
    "    df_results.to_csv(path_or_buf=csv_file)"
   ]
  },
  {
   "cell_type": "code",
   "execution_count": 15,
   "id": "2b78b616",
   "metadata": {},
   "outputs": [
    {
     "data": {
      "text/html": [
       "<div>\n",
       "<style scoped>\n",
       "    .dataframe tbody tr th:only-of-type {\n",
       "        vertical-align: middle;\n",
       "    }\n",
       "\n",
       "    .dataframe tbody tr th {\n",
       "        vertical-align: top;\n",
       "    }\n",
       "\n",
       "    .dataframe thead th {\n",
       "        text-align: right;\n",
       "    }\n",
       "</style>\n",
       "<table border=\"1\" class=\"dataframe\">\n",
       "  <thead>\n",
       "    <tr style=\"text-align: right;\">\n",
       "      <th></th>\n",
       "      <th>text</th>\n",
       "      <th>functions</th>\n",
       "      <th>predicted_labels</th>\n",
       "    </tr>\n",
       "  </thead>\n",
       "  <tbody>\n",
       "    <tr>\n",
       "      <th>0</th>\n",
       "      <td>@kenjigi Jajaja ay soy iop vv :3</td>\n",
       "      <td>[OTHER]</td>\n",
       "      <td>[OTHER]</td>\n",
       "    </tr>\n",
       "    <tr>\n",
       "      <th>1</th>\n",
       "      <td>Me esta doliendo la cabeza 🙁</td>\n",
       "      <td>[PESSIMISTIC, ANGRY]</td>\n",
       "      <td>[]</td>\n",
       "    </tr>\n",
       "    <tr>\n",
       "      <th>2</th>\n",
       "      <td>٢٩ | رمضان 🌙 اللهم أجعل رمضان هذا العام خاتمه ...</td>\n",
       "      <td>[OTHER]</td>\n",
       "      <td>[ANGRY, PESSIMISTIC]</td>\n",
       "    </tr>\n",
       "    <tr>\n",
       "      <th>3</th>\n",
       "      <td>Remember what God says about you is most impor...</td>\n",
       "      <td>[OTHER]</td>\n",
       "      <td>[OTHER]</td>\n",
       "    </tr>\n",
       "    <tr>\n",
       "      <th>4</th>\n",
       "      <td>Usually love @KatiePrice but watching #mycrazy...</td>\n",
       "      <td>[DISLIKE, PESSIMISTIC, ANGRY]</td>\n",
       "      <td>[DISLIKE, OTHER, PESSIMISTIC]</td>\n",
       "    </tr>\n",
       "    <tr>\n",
       "      <th>...</th>\n",
       "      <td>...</td>\n",
       "      <td>...</td>\n",
       "      <td>...</td>\n",
       "    </tr>\n",
       "    <tr>\n",
       "      <th>7626</th>\n",
       "      <td>@AquaticQueenM -He laughs back- 'I may act all...</td>\n",
       "      <td>[OTHER, PESSIMISTIC]</td>\n",
       "      <td>[ANGRY, DISLIKE]</td>\n",
       "    </tr>\n",
       "    <tr>\n",
       "      <th>7627</th>\n",
       "      <td>My arms and legs abs tummy and back and face a...</td>\n",
       "      <td>[PESSIMISTIC, ANGRY]</td>\n",
       "      <td>[DISLIKE, OTHER]</td>\n",
       "    </tr>\n",
       "    <tr>\n",
       "      <th>7628</th>\n",
       "      <td>#muggymike #revenge oh dear</td>\n",
       "      <td>[ANGRY]</td>\n",
       "      <td>[ANGRY, DISLIKE, OTHER]</td>\n",
       "    </tr>\n",
       "    <tr>\n",
       "      <th>7629</th>\n",
       "      <td>@LllDev ماله داعي تشهير شي بيني وبينك😤</td>\n",
       "      <td>[DISLIKE, PESSIMISTIC, ANGRY]</td>\n",
       "      <td>[WORRIED]</td>\n",
       "    </tr>\n",
       "    <tr>\n",
       "      <th>7630</th>\n",
       "      <td>Por un momento pensé que era jueves y llegaba ...</td>\n",
       "      <td>[OTHER, PESSIMISTIC]</td>\n",
       "      <td>[]</td>\n",
       "    </tr>\n",
       "  </tbody>\n",
       "</table>\n",
       "<p>7631 rows × 3 columns</p>\n",
       "</div>"
      ],
      "text/plain": [
       "                                                   text  \\\n",
       "0                     @kenjigi Jajaja ay soy iop vv :3    \n",
       "1                          Me esta doliendo la cabeza 🙁   \n",
       "2     ٢٩ | رمضان 🌙 اللهم أجعل رمضان هذا العام خاتمه ...   \n",
       "3     Remember what God says about you is most impor...   \n",
       "4     Usually love @KatiePrice but watching #mycrazy...   \n",
       "...                                                 ...   \n",
       "7626  @AquaticQueenM -He laughs back- 'I may act all...   \n",
       "7627  My arms and legs abs tummy and back and face a...   \n",
       "7628                        #muggymike #revenge oh dear   \n",
       "7629             @LllDev ماله داعي تشهير شي بيني وبينك😤   \n",
       "7630  Por un momento pensé que era jueves y llegaba ...   \n",
       "\n",
       "                          functions               predicted_labels  \n",
       "0                           [OTHER]                        [OTHER]  \n",
       "1              [PESSIMISTIC, ANGRY]                             []  \n",
       "2                           [OTHER]           [ANGRY, PESSIMISTIC]  \n",
       "3                           [OTHER]                        [OTHER]  \n",
       "4     [DISLIKE, PESSIMISTIC, ANGRY]  [DISLIKE, OTHER, PESSIMISTIC]  \n",
       "...                             ...                            ...  \n",
       "7626           [OTHER, PESSIMISTIC]               [ANGRY, DISLIKE]  \n",
       "7627           [PESSIMISTIC, ANGRY]               [DISLIKE, OTHER]  \n",
       "7628                        [ANGRY]        [ANGRY, DISLIKE, OTHER]  \n",
       "7629  [DISLIKE, PESSIMISTIC, ANGRY]                      [WORRIED]  \n",
       "7630           [OTHER, PESSIMISTIC]                             []  \n",
       "\n",
       "[7631 rows x 3 columns]"
      ]
     },
     "execution_count": 15,
     "metadata": {},
     "output_type": "execute_result"
    }
   ],
   "source": [
    "df_test = ait_dataset['test'].to_pandas()\n",
    "cols = [\"text\", \"functions\"]\n",
    "df_test = df_test[:][cols]\n",
    "df_test['predicted_labels'] =  list(map(list, mlb.inverse_transform(y_pred_test)))\n",
    "df_test"
   ]
  },
  {
   "cell_type": "code",
   "execution_count": 16,
   "id": "0eba8131",
   "metadata": {},
   "outputs": [],
   "source": [
    "df_test.to_csv('preds_baseline_ait_naive_bayes.tsv',header =True, sep = '\\t',index=False)"
   ]
  },
  {
   "cell_type": "markdown",
   "id": "7321c768",
   "metadata": {},
   "source": [
    "# Function basic experiment"
   ]
  },
  {
   "cell_type": "code",
   "execution_count": 17,
   "id": "6b285cd4",
   "metadata": {},
   "outputs": [],
   "source": [
    "df[\"functions\"] = df[\"functions\"].apply(lambda x: [x])"
   ]
  },
  {
   "cell_type": "code",
   "execution_count": 18,
   "id": "4bb28299",
   "metadata": {},
   "outputs": [
    {
     "name": "stderr",
     "output_type": "stream",
     "text": [
      "100%|██████████| 1/1 [00:00<00:00, 291.86ba/s]\n"
     ]
    },
    {
     "data": {
      "text/plain": [
       "DatasetDict({\n",
       "    train: Dataset({\n",
       "        features: ['text', 'functions', 'label_ids'],\n",
       "        num_rows: 410\n",
       "    })\n",
       "    test: Dataset({\n",
       "        features: ['text', 'OTHER', 'DISLIKE', 'PESSIMISTIC', 'WORRIED', 'ANGRY', 'functions', 'label_ids'],\n",
       "        num_rows: 7631\n",
       "    })\n",
       "})"
      ]
     },
     "execution_count": 18,
     "metadata": {},
     "output_type": "execute_result"
    }
   ],
   "source": [
    "dataset = DatasetDict({\n",
    "    \"train\": Dataset.from_pandas(df.reset_index(drop=True)),\n",
    "     \"test\": ait_dataset['test']\n",
    "}\n",
    "    )\n",
    "dataset['train'] = dataset['train'].map(one_hot_encoding, batched=True)\n",
    "dataset"
   ]
  },
  {
   "cell_type": "code",
   "execution_count": 19,
   "id": "051f9bb4",
   "metadata": {},
   "outputs": [],
   "source": [
    "y_train = np.array(dataset['train']['label_ids'])\n",
    "y_test = np.array(dataset['test']['label_ids'])"
   ]
  },
  {
   "cell_type": "code",
   "execution_count": 20,
   "id": "a45545f4",
   "metadata": {},
   "outputs": [],
   "source": [
    "count_vect = CountVectorizer()\n",
    "X_train_counts = count_vect.fit_transform(dataset['train']['text'])\n",
    "X_test_counts = count_vect.transform(dataset['test']['text'])"
   ]
  },
  {
   "cell_type": "code",
   "execution_count": 21,
   "id": "ac768d95",
   "metadata": {},
   "outputs": [],
   "source": [
    "nb = MultinomialNB()\n",
    "multi_nb = MultiOutputClassifier(nb, n_jobs=-1)\n",
    "multi_nb.fit(X_train_counts, y_train)\n",
    "y_pred_test = multi_nb.predict(X_test_counts)"
   ]
  },
  {
   "cell_type": "code",
   "execution_count": 22,
   "id": "375ea9c3",
   "metadata": {},
   "outputs": [
    {
     "name": "stdout",
     "output_type": "stream",
     "text": [
      "              precision    recall  f1-score   support\n",
      "\n",
      "       ANGRY       0.44      0.07      0.11      2629\n",
      "     DISLIKE       0.35      0.03      0.06      1838\n",
      "       OTHER       0.63      0.25      0.36      3936\n",
      " PESSIMISTIC       0.31      0.05      0.08      2691\n",
      "     WORRIED       0.24      0.14      0.17      1078\n",
      "\n",
      "   micro avg       0.47      0.12      0.19     12172\n",
      "   macro avg       0.39      0.11      0.16     12172\n",
      "weighted avg       0.44      0.12      0.18     12172\n",
      " samples avg       0.17      0.14      0.14     12172\n",
      "\n"
     ]
    }
   ],
   "source": [
    "clf_report = classification_report(y_test, y_pred_test, target_names=labels_classes, zero_division=0)\n",
    "print(clf_report)"
   ]
  },
  {
   "cell_type": "code",
   "execution_count": 23,
   "id": "11f4fff6",
   "metadata": {},
   "outputs": [],
   "source": [
    "clf_report = classification_report(y_test, y_pred_test, target_names=labels_classes, zero_division=0, output_dict=True)\n",
    "df_results = pd.DataFrame(clf_report).transpose()\n",
    "with open(r'classification_report_functions_basic_ait_naive_bayes.csv', 'w') as csv_file:\n",
    "    df_results.to_csv(path_or_buf=csv_file)"
   ]
  },
  {
   "cell_type": "code",
   "execution_count": 25,
   "id": "f7bc8f36",
   "metadata": {},
   "outputs": [
    {
     "data": {
      "text/html": [
       "<div>\n",
       "<style scoped>\n",
       "    .dataframe tbody tr th:only-of-type {\n",
       "        vertical-align: middle;\n",
       "    }\n",
       "\n",
       "    .dataframe tbody tr th {\n",
       "        vertical-align: top;\n",
       "    }\n",
       "\n",
       "    .dataframe thead th {\n",
       "        text-align: right;\n",
       "    }\n",
       "</style>\n",
       "<table border=\"1\" class=\"dataframe\">\n",
       "  <thead>\n",
       "    <tr style=\"text-align: right;\">\n",
       "      <th></th>\n",
       "      <th>text</th>\n",
       "      <th>functions</th>\n",
       "      <th>predicted_labels</th>\n",
       "    </tr>\n",
       "  </thead>\n",
       "  <tbody>\n",
       "    <tr>\n",
       "      <th>0</th>\n",
       "      <td>@kenjigi Jajaja ay soy iop vv :3</td>\n",
       "      <td>[OTHER]</td>\n",
       "      <td>[]</td>\n",
       "    </tr>\n",
       "    <tr>\n",
       "      <th>1</th>\n",
       "      <td>Me esta doliendo la cabeza 🙁</td>\n",
       "      <td>[PESSIMISTIC, ANGRY]</td>\n",
       "      <td>[]</td>\n",
       "    </tr>\n",
       "    <tr>\n",
       "      <th>2</th>\n",
       "      <td>٢٩ | رمضان 🌙 اللهم أجعل رمضان هذا العام خاتمه ...</td>\n",
       "      <td>[OTHER]</td>\n",
       "      <td>[]</td>\n",
       "    </tr>\n",
       "    <tr>\n",
       "      <th>3</th>\n",
       "      <td>Remember what God says about you is most impor...</td>\n",
       "      <td>[OTHER]</td>\n",
       "      <td>[OTHER]</td>\n",
       "    </tr>\n",
       "    <tr>\n",
       "      <th>4</th>\n",
       "      <td>Usually love @KatiePrice but watching #mycrazy...</td>\n",
       "      <td>[DISLIKE, PESSIMISTIC, ANGRY]</td>\n",
       "      <td>[ANGRY, OTHER]</td>\n",
       "    </tr>\n",
       "    <tr>\n",
       "      <th>...</th>\n",
       "      <td>...</td>\n",
       "      <td>...</td>\n",
       "      <td>...</td>\n",
       "    </tr>\n",
       "    <tr>\n",
       "      <th>7626</th>\n",
       "      <td>@AquaticQueenM -He laughs back- 'I may act all...</td>\n",
       "      <td>[OTHER, PESSIMISTIC]</td>\n",
       "      <td>[]</td>\n",
       "    </tr>\n",
       "    <tr>\n",
       "      <th>7627</th>\n",
       "      <td>My arms and legs abs tummy and back and face a...</td>\n",
       "      <td>[PESSIMISTIC, ANGRY]</td>\n",
       "      <td>[OTHER]</td>\n",
       "    </tr>\n",
       "    <tr>\n",
       "      <th>7628</th>\n",
       "      <td>#muggymike #revenge oh dear</td>\n",
       "      <td>[ANGRY]</td>\n",
       "      <td>[]</td>\n",
       "    </tr>\n",
       "    <tr>\n",
       "      <th>7629</th>\n",
       "      <td>@LllDev ماله داعي تشهير شي بيني وبينك😤</td>\n",
       "      <td>[DISLIKE, PESSIMISTIC, ANGRY]</td>\n",
       "      <td>[]</td>\n",
       "    </tr>\n",
       "    <tr>\n",
       "      <th>7630</th>\n",
       "      <td>Por un momento pensé que era jueves y llegaba ...</td>\n",
       "      <td>[OTHER, PESSIMISTIC]</td>\n",
       "      <td>[]</td>\n",
       "    </tr>\n",
       "  </tbody>\n",
       "</table>\n",
       "<p>7631 rows × 3 columns</p>\n",
       "</div>"
      ],
      "text/plain": [
       "                                                   text  \\\n",
       "0                     @kenjigi Jajaja ay soy iop vv :3    \n",
       "1                          Me esta doliendo la cabeza 🙁   \n",
       "2     ٢٩ | رمضان 🌙 اللهم أجعل رمضان هذا العام خاتمه ...   \n",
       "3     Remember what God says about you is most impor...   \n",
       "4     Usually love @KatiePrice but watching #mycrazy...   \n",
       "...                                                 ...   \n",
       "7626  @AquaticQueenM -He laughs back- 'I may act all...   \n",
       "7627  My arms and legs abs tummy and back and face a...   \n",
       "7628                        #muggymike #revenge oh dear   \n",
       "7629             @LllDev ماله داعي تشهير شي بيني وبينك😤   \n",
       "7630  Por un momento pensé que era jueves y llegaba ...   \n",
       "\n",
       "                          functions predicted_labels  \n",
       "0                           [OTHER]               []  \n",
       "1              [PESSIMISTIC, ANGRY]               []  \n",
       "2                           [OTHER]               []  \n",
       "3                           [OTHER]          [OTHER]  \n",
       "4     [DISLIKE, PESSIMISTIC, ANGRY]   [ANGRY, OTHER]  \n",
       "...                             ...              ...  \n",
       "7626           [OTHER, PESSIMISTIC]               []  \n",
       "7627           [PESSIMISTIC, ANGRY]          [OTHER]  \n",
       "7628                        [ANGRY]               []  \n",
       "7629  [DISLIKE, PESSIMISTIC, ANGRY]               []  \n",
       "7630           [OTHER, PESSIMISTIC]               []  \n",
       "\n",
       "[7631 rows x 3 columns]"
      ]
     },
     "execution_count": 25,
     "metadata": {},
     "output_type": "execute_result"
    }
   ],
   "source": [
    "df_test = ait_dataset['test'].to_pandas()\n",
    "cols = [\"text\", \"functions\"]\n",
    "df_test = df_test[:][cols]\n",
    "df_test['predicted_labels'] =  list(map(list, mlb.inverse_transform(y_pred_test)))\n",
    "df_test"
   ]
  },
  {
   "cell_type": "code",
   "execution_count": 26,
   "id": "7f6cec52",
   "metadata": {},
   "outputs": [],
   "source": [
    "df_test.to_csv('preds_functions_basic_ait_naive_bayes.tsv',header =True, sep = '\\t',index=False)"
   ]
  },
  {
   "cell_type": "markdown",
   "id": "13be9667",
   "metadata": {},
   "source": [
    "# Function extended experiment"
   ]
  },
  {
   "cell_type": "code",
   "execution_count": 27,
   "id": "36720f76",
   "metadata": {},
   "outputs": [
    {
     "data": {
      "text/html": [
       "<div>\n",
       "<style scoped>\n",
       "    .dataframe tbody tr th:only-of-type {\n",
       "        vertical-align: middle;\n",
       "    }\n",
       "\n",
       "    .dataframe tbody tr th {\n",
       "        vertical-align: top;\n",
       "    }\n",
       "\n",
       "    .dataframe thead th {\n",
       "        text-align: right;\n",
       "    }\n",
       "</style>\n",
       "<table border=\"1\" class=\"dataframe\">\n",
       "  <thead>\n",
       "    <tr style=\"text-align: right;\">\n",
       "      <th></th>\n",
       "      <th>text</th>\n",
       "      <th>functions</th>\n",
       "    </tr>\n",
       "  </thead>\n",
       "  <tbody>\n",
       "    <tr>\n",
       "      <th>0</th>\n",
       "      <td>Hey #friends, just wanted to clarify that the ...</td>\n",
       "      <td>OTHER</td>\n",
       "    </tr>\n",
       "    <tr>\n",
       "      <th>1</th>\n",
       "      <td>Good morning everyone! ☀️ Just wanted to say a...</td>\n",
       "      <td>OTHER</td>\n",
       "    </tr>\n",
       "    <tr>\n",
       "      <th>2</th>\n",
       "      <td>Hey #team, don't forget our meeting at 2pm tod...</td>\n",
       "      <td>OTHER</td>\n",
       "    </tr>\n",
       "    <tr>\n",
       "      <th>3</th>\n",
       "      <td>Sorry for the late reply, I was swamped at wor...</td>\n",
       "      <td>OTHER</td>\n",
       "    </tr>\n",
       "    <tr>\n",
       "      <th>4</th>\n",
       "      <td>Hey, can someone introduce me to @jane_doe? I'...</td>\n",
       "      <td>OTHER</td>\n",
       "    </tr>\n",
       "    <tr>\n",
       "      <th>...</th>\n",
       "      <td>...</td>\n",
       "      <td>...</td>\n",
       "    </tr>\n",
       "    <tr>\n",
       "      <th>2106</th>\n",
       "      <td>i hate this</td>\n",
       "      <td>DISLIKE</td>\n",
       "    </tr>\n",
       "    <tr>\n",
       "      <th>2107</th>\n",
       "      <td>this is the worst</td>\n",
       "      <td>DISLIKE</td>\n",
       "    </tr>\n",
       "    <tr>\n",
       "      <th>2108</th>\n",
       "      <td>Ew, spinach in my salad again. 😒 #NotAVegHead</td>\n",
       "      <td>DISLIKE</td>\n",
       "    </tr>\n",
       "    <tr>\n",
       "      <th>2109</th>\n",
       "      <td>🤢 Don't like this new food trend 🍔 #StickToThe...</td>\n",
       "      <td>DISLIKE</td>\n",
       "    </tr>\n",
       "    <tr>\n",
       "      <th>2110</th>\n",
       "      <td>This new movie looks like rubbish. The trailer...</td>\n",
       "      <td>DISLIKE</td>\n",
       "    </tr>\n",
       "  </tbody>\n",
       "</table>\n",
       "<p>733 rows × 2 columns</p>\n",
       "</div>"
      ],
      "text/plain": [
       "                                                   text functions\n",
       "0     Hey #friends, just wanted to clarify that the ...     OTHER\n",
       "1     Good morning everyone! ☀️ Just wanted to say a...     OTHER\n",
       "2     Hey #team, don't forget our meeting at 2pm tod...     OTHER\n",
       "3     Sorry for the late reply, I was swamped at wor...     OTHER\n",
       "4     Hey, can someone introduce me to @jane_doe? I'...     OTHER\n",
       "...                                                 ...       ...\n",
       "2106                                        i hate this   DISLIKE\n",
       "2107                                  this is the worst   DISLIKE\n",
       "2108      Ew, spinach in my salad again. 😒 #NotAVegHead   DISLIKE\n",
       "2109  🤢 Don't like this new food trend 🍔 #StickToThe...   DISLIKE\n",
       "2110  This new movie looks like rubbish. The trailer...   DISLIKE\n",
       "\n",
       "[733 rows x 2 columns]"
      ]
     },
     "execution_count": 27,
     "metadata": {},
     "output_type": "execute_result"
    }
   ],
   "source": [
    "comfunctions_extended = 'comfunct_extended.txt'\n",
    "df = pd.read_csv(comfunctions_extended, delimiter=\";\")\n",
    "df = df[df['function'].isin(['ANGRY', 'WORRIED', 'PESSIMISTIC', 'DISLIKE', 'OTHER'])].rename(columns={\"function\": \"functions\"})\n",
    "df"
   ]
  },
  {
   "cell_type": "code",
   "execution_count": 28,
   "id": "d0c3271e",
   "metadata": {},
   "outputs": [],
   "source": [
    "df[\"functions\"] = df[\"functions\"].apply(lambda x: [x])"
   ]
  },
  {
   "cell_type": "code",
   "execution_count": 29,
   "id": "869a84d3",
   "metadata": {},
   "outputs": [
    {
     "name": "stderr",
     "output_type": "stream",
     "text": [
      "100%|██████████| 1/1 [00:00<00:00, 203.69ba/s]\n"
     ]
    },
    {
     "data": {
      "text/plain": [
       "DatasetDict({\n",
       "    train: Dataset({\n",
       "        features: ['text', 'functions', 'label_ids'],\n",
       "        num_rows: 733\n",
       "    })\n",
       "    test: Dataset({\n",
       "        features: ['text', 'OTHER', 'DISLIKE', 'PESSIMISTIC', 'WORRIED', 'ANGRY', 'functions', 'label_ids'],\n",
       "        num_rows: 7631\n",
       "    })\n",
       "})"
      ]
     },
     "execution_count": 29,
     "metadata": {},
     "output_type": "execute_result"
    }
   ],
   "source": [
    "dataset = DatasetDict({\n",
    "    \"train\": Dataset.from_pandas(df.reset_index(drop=True)),\n",
    "     \"test\": ait_dataset['test']\n",
    "}\n",
    "    )\n",
    "dataset['train'] = dataset['train'].map(one_hot_encoding, batched=True)\n",
    "dataset"
   ]
  },
  {
   "cell_type": "code",
   "execution_count": 30,
   "id": "b919f43d",
   "metadata": {},
   "outputs": [],
   "source": [
    "y_train = np.array(dataset['train']['label_ids'])\n",
    "y_test = np.array(dataset['test']['label_ids'])"
   ]
  },
  {
   "cell_type": "code",
   "execution_count": 31,
   "id": "6d992c4d",
   "metadata": {},
   "outputs": [],
   "source": [
    "count_vect = CountVectorizer()\n",
    "X_train_counts = count_vect.fit_transform(dataset['train']['text'])\n",
    "X_test_counts = count_vect.transform(dataset['test']['text'])"
   ]
  },
  {
   "cell_type": "code",
   "execution_count": 32,
   "id": "705769a8",
   "metadata": {},
   "outputs": [],
   "source": [
    "nb = MultinomialNB()\n",
    "multi_nb = MultiOutputClassifier(nb, n_jobs=-1)\n",
    "multi_nb.fit(X_train_counts, y_train)\n",
    "y_pred_test = multi_nb.predict(X_test_counts)"
   ]
  },
  {
   "cell_type": "code",
   "execution_count": 33,
   "id": "cb3aa3b9",
   "metadata": {},
   "outputs": [
    {
     "name": "stdout",
     "output_type": "stream",
     "text": [
      "              precision    recall  f1-score   support\n",
      "\n",
      "       ANGRY       0.66      0.05      0.09      2629\n",
      "     DISLIKE       0.43      0.03      0.06      1838\n",
      "       OTHER       0.69      0.28      0.39      3936\n",
      " PESSIMISTIC       0.40      0.02      0.03      2691\n",
      "     WORRIED       0.39      0.06      0.10      1078\n",
      "\n",
      "   micro avg       0.63      0.11      0.19     12172\n",
      "   macro avg       0.51      0.09      0.14     12172\n",
      "weighted avg       0.55      0.11      0.17     12172\n",
      " samples avg       0.17      0.14      0.15     12172\n",
      "\n"
     ]
    }
   ],
   "source": [
    "clf_report = classification_report(y_test, y_pred_test, target_names=labels_classes, zero_division=0)\n",
    "print(clf_report)"
   ]
  },
  {
   "cell_type": "code",
   "execution_count": 34,
   "id": "b3e333a1",
   "metadata": {},
   "outputs": [],
   "source": [
    "clf_report = classification_report(y_test, y_pred_test, target_names=labels_classes, zero_division=0, output_dict=True)\n",
    "df_results = pd.DataFrame(clf_report).transpose()\n",
    "with open(r'classification_report_functions_extended_ait_naive_bayes.csv', 'w') as csv_file:\n",
    "    df_results.to_csv(path_or_buf=csv_file)"
   ]
  },
  {
   "cell_type": "code",
   "execution_count": null,
   "id": "c306ed56",
   "metadata": {},
   "outputs": [],
   "source": [
    "df_test = go_emotions['test'].to_pandas()\n",
    "cols = [\"text\", \"functions\"]\n",
    "df_test = df_test[:][cols]\n",
    "df_test['predicted_labels'] =  list(map(list, mlb.inverse_transform(y_pred_test)))\n",
    "df_test"
   ]
  },
  {
   "cell_type": "code",
   "execution_count": null,
   "id": "fc7edcec",
   "metadata": {},
   "outputs": [],
   "source": [
    "df_test.to_csv('preds_functions_extended_go_emotions_naive_bayes.tsv',header =True, sep = '\\t',index=False)"
   ]
  }
 ],
 "metadata": {
  "kernelspec": {
   "display_name": "Python 3 (ipykernel)",
   "language": "python",
   "name": "python3"
  },
  "language_info": {
   "codemirror_mode": {
    "name": "ipython",
    "version": 3
   },
   "file_extension": ".py",
   "mimetype": "text/x-python",
   "name": "python",
   "nbconvert_exporter": "python",
   "pygments_lexer": "ipython3",
   "version": "3.8.10"
  }
 },
 "nbformat": 4,
 "nbformat_minor": 5
}

{
 "cells": [
  {
   "cell_type": "code",
   "execution_count": 1,
   "id": "4fb14783",
   "metadata": {},
   "outputs": [
    {
     "name": "stderr",
     "output_type": "stream",
     "text": [
      "/home/njfernandez/.local/lib/python3.8/site-packages/tqdm/auto.py:22: TqdmWarning: IProgress not found. Please update jupyter and ipywidgets. See https://ipywidgets.readthedocs.io/en/stable/user_install.html\n",
      "  from .autonotebook import tqdm as notebook_tqdm\n"
     ]
    }
   ],
   "source": [
    "from datasets import Dataset, load_dataset, DatasetDict, ClassLabel, concatenate_datasets\n",
    "import numpy as np\n",
    "import torch\n",
    "import pandas as pd\n",
    "\n",
    "#Seeding for deterministic results i.e. showing same output \n",
    "RANDOM_SEED = 64\n",
    "np.random.seed(RANDOM_SEED)\n",
    "torch.manual_seed(RANDOM_SEED)\n",
    "if torch.cuda.is_available():\n",
    "   torch.cuda.manual_seed(RANDOM_SEED)\n",
    "   torch.cuda.manual_seed_all(RANDOM_SEED) \n",
    "   torch.backends.cudnn.deterministic = True  \n",
    "   torch.backends.cudnn.benchmark = False"
   ]
  },
  {
   "cell_type": "code",
   "execution_count": 2,
   "id": "72d72be8",
   "metadata": {},
   "outputs": [
    {
     "name": "stderr",
     "output_type": "stream",
     "text": [
      "Using custom data configuration default-051610f9ffe8f8d2\n",
      "Found cached dataset csv (/home/njfernandez/.cache/huggingface/datasets/csv/default-051610f9ffe8f8d2/0.0.0/6b34fb8fcf56f7c8ba51dc895bfa2bfbe43546f190a60fcf74bb5e8afdcc2317)\n",
      "100%|██████████| 3/3 [00:00<00:00, 695.38it/s]\n",
      "Using custom data configuration default-94907eb33ba58000\n",
      "Found cached dataset csv (/home/njfernandez/.cache/huggingface/datasets/csv/default-94907eb33ba58000/0.0.0/6b34fb8fcf56f7c8ba51dc895bfa2bfbe43546f190a60fcf74bb5e8afdcc2317)\n",
      "100%|██████████| 3/3 [00:00<00:00, 697.42it/s]\n",
      "Using custom data configuration default-869e6abb15784ff2\n",
      "Found cached dataset csv (/home/njfernandez/.cache/huggingface/datasets/csv/default-869e6abb15784ff2/0.0.0/6b34fb8fcf56f7c8ba51dc895bfa2bfbe43546f190a60fcf74bb5e8afdcc2317)\n",
      "100%|██████████| 3/3 [00:00<00:00, 733.74it/s]\n",
      "Loading cached shuffled indices for dataset at /home/njfernandez/.cache/huggingface/datasets/csv/default-051610f9ffe8f8d2/0.0.0/6b34fb8fcf56f7c8ba51dc895bfa2bfbe43546f190a60fcf74bb5e8afdcc2317/cache-342257832c8283f6.arrow\n",
      "Loading cached shuffled indices for dataset at /home/njfernandez/.cache/huggingface/datasets/csv/default-051610f9ffe8f8d2/0.0.0/6b34fb8fcf56f7c8ba51dc895bfa2bfbe43546f190a60fcf74bb5e8afdcc2317/cache-61b64f8f2d33fef0.arrow\n",
      "Loading cached shuffled indices for dataset at /home/njfernandez/.cache/huggingface/datasets/csv/default-051610f9ffe8f8d2/0.0.0/6b34fb8fcf56f7c8ba51dc895bfa2bfbe43546f190a60fcf74bb5e8afdcc2317/cache-22704bf1ca817405.arrow\n"
     ]
    }
   ],
   "source": [
    "function_mapping = {'OTHER': ['anticipation', 'joy', 'love', 'optimism', 'surprise', 'trust'],\n",
    "           'NOT_INTERESTED': [''], \n",
    "           'DISLIKE':['disgust'], \n",
    "           'NOT_CORRECT': [''], \n",
    "           'PESSIMISTIC':['sadness', 'pessimism'], \n",
    "           'WORRIED':['fear'], \n",
    "           'ANGRY': ['anger'], \n",
    "           'DISAPPOINTED': [''], \n",
    "           'BORED': [''], \n",
    "           'NOT_APPROVE':[''], \n",
    "           'NOT_IMPORTANT': [''], \n",
    "           'DISAGREE': [''], \n",
    "           'WARN': [''], \n",
    "           'COMPLAIN': [''], \n",
    "           'THREATEN': [''], \n",
    "           'UNWILLING': [''], \n",
    "           'DISTRUST' : [''],\n",
    "           'REFUSE': [''] }\n",
    "\n",
    "ait_es_dataset = load_dataset(\"csv\", sep = '\\t', data_files ={'train': r'2018-E-c-Es-train.txt',\n",
    "                                                        'test': r'2018-E-c-Es-test-gold.txt',\n",
    "                                                       'valid': r'2018-E-c-Es-dev.txt'})\n",
    "ait_en_dataset = load_dataset(\"csv\", sep = '\\t', data_files ={'train': r'2018-E-c-En-train.txt',\n",
    "                                                        'test': r'2018-E-c-En-test-gold.txt',\n",
    "                                                       'valid': r'2018-E-c-En-dev.txt'})\n",
    "ait_ar_dataset = load_dataset(\"csv\", sep = '\\t', data_files ={'train': r'2018-E-c-Ar-train.txt',\n",
    "                                                        'test': r'2018-E-c-Ar-test-gold.txt',\n",
    "                                                       'valid': r'2018-E-c-Ar-dev.txt'})\n",
    "train_dataset = concatenate_datasets([ait_es_dataset['train'], ait_en_dataset['train'], ait_ar_dataset['train']])\n",
    "valid_dataset = concatenate_datasets([ait_es_dataset['valid'], ait_en_dataset['valid'], ait_ar_dataset['valid']])\n",
    "test_dataset = concatenate_datasets([ait_es_dataset['test'], ait_en_dataset['test'], ait_ar_dataset['test']])\n",
    "\n",
    "ait_dataset = DatasetDict({'train': train_dataset.shuffle(seed=42), 'valid': valid_dataset.shuffle(seed=42), 'test': test_dataset.shuffle(seed=42)})"
   ]
  },
  {
   "cell_type": "code",
   "execution_count": 3,
   "id": "fe70f991",
   "metadata": {},
   "outputs": [
    {
     "data": {
      "text/plain": [
       "{'ID': '2018-Ar-00161',\n",
       " 'Tweet': '...\\\\nالسكوت عمره ما كان علامة رضا السكوت نفاذ صبر ووجع بس انتو اللي مبتحسوش...💔\\\\n\\\\n....',\n",
       " 'anger': 1,\n",
       " 'anticipation': 0,\n",
       " 'disgust': 1,\n",
       " 'fear': 0,\n",
       " 'joy': 0,\n",
       " 'love': 0,\n",
       " 'optimism': 0,\n",
       " 'pessimism': 0,\n",
       " 'sadness': 1,\n",
       " 'surprise': 0,\n",
       " 'trust': 0}"
      ]
     },
     "execution_count": 3,
     "metadata": {},
     "output_type": "execute_result"
    }
   ],
   "source": [
    "ait_dataset['train'][20]"
   ]
  },
  {
   "cell_type": "code",
   "execution_count": 4,
   "id": "5d5999de",
   "metadata": {},
   "outputs": [],
   "source": [
    "new_dataset = DatasetDict()\n",
    "for split in ait_dataset:\n",
    "    new_split = []\n",
    "    for record in ait_dataset[split]:\n",
    "        new_record = {'Tweet': record['Tweet']}\n",
    "        for function in function_mapping:\n",
    "            labels = function_mapping[function]\n",
    "            if '' in labels:\n",
    "                continue\n",
    "            else:\n",
    "                score = sum([record[label] for label in labels])\n",
    "                new_record[function] = int(score > 0)\n",
    "        new_split.append(new_record)\n",
    "    ait_dataset[split] =  Dataset.from_pandas(pd.DataFrame(data=new_split))"
   ]
  },
  {
   "cell_type": "code",
   "execution_count": 5,
   "id": "1a817835",
   "metadata": {},
   "outputs": [
    {
     "data": {
      "text/plain": [
       "{'Tweet': '...\\\\nالسكوت عمره ما كان علامة رضا السكوت نفاذ صبر ووجع بس انتو اللي مبتحسوش...💔\\\\n\\\\n....',\n",
       " 'OTHER': 0,\n",
       " 'DISLIKE': 1,\n",
       " 'PESSIMISTIC': 1,\n",
       " 'WORRIED': 0,\n",
       " 'ANGRY': 1}"
      ]
     },
     "execution_count": 5,
     "metadata": {},
     "output_type": "execute_result"
    }
   ],
   "source": [
    "ait_dataset['train'][20]"
   ]
  },
  {
   "cell_type": "code",
   "execution_count": 6,
   "id": "1320904f",
   "metadata": {},
   "outputs": [
    {
     "data": {
      "text/plain": [
       "DatasetDict({\n",
       "    train: Dataset({\n",
       "        features: ['Tweet', 'OTHER', 'DISLIKE', 'PESSIMISTIC', 'WORRIED', 'ANGRY'],\n",
       "        num_rows: 12675\n",
       "    })\n",
       "    valid: Dataset({\n",
       "        features: ['Tweet', 'OTHER', 'DISLIKE', 'PESSIMISTIC', 'WORRIED', 'ANGRY'],\n",
       "        num_rows: 2150\n",
       "    })\n",
       "    test: Dataset({\n",
       "        features: ['Tweet', 'OTHER', 'DISLIKE', 'PESSIMISTIC', 'WORRIED', 'ANGRY'],\n",
       "        num_rows: 7631\n",
       "    })\n",
       "})"
      ]
     },
     "execution_count": 6,
     "metadata": {},
     "output_type": "execute_result"
    }
   ],
   "source": [
    "ait_dataset"
   ]
  },
  {
   "cell_type": "code",
   "execution_count": 7,
   "id": "d8492272",
   "metadata": {},
   "outputs": [
    {
     "name": "stderr",
     "output_type": "stream",
     "text": [
      "100%|██████████| 12675/12675 [00:00<00:00, 13112.21ex/s]\n",
      "100%|██████████| 2150/2150 [00:00<00:00, 13352.47ex/s]\n",
      "100%|██████████| 7631/7631 [00:00<00:00, 13781.10ex/s]\n"
     ]
    },
    {
     "data": {
      "text/plain": [
       "{'Tweet': '...\\\\nالسكوت عمره ما كان علامة رضا السكوت نفاذ صبر ووجع بس انتو اللي مبتحسوش...💔\\\\n\\\\n....',\n",
       " 'OTHER': 0,\n",
       " 'DISLIKE': 1,\n",
       " 'PESSIMISTIC': 1,\n",
       " 'WORRIED': 0,\n",
       " 'ANGRY': 1,\n",
       " 'functions': ['DISLIKE', 'PESSIMISTIC', 'ANGRY']}"
      ]
     },
     "execution_count": 7,
     "metadata": {},
     "output_type": "execute_result"
    }
   ],
   "source": [
    "cols = ait_dataset['train'].column_names\n",
    "ait_dataset = ait_dataset.map(lambda x : {\"functions\": [c for c in cols if x[c] == 1]})\n",
    "ait_dataset['train'][20]"
   ]
  },
  {
   "cell_type": "code",
   "execution_count": 8,
   "id": "77eeec1b",
   "metadata": {},
   "outputs": [],
   "source": [
    "for split in ait_dataset.keys():\n",
    "    new_examples = []\n",
    "    for example in ait_dataset[split]:\n",
    "        for label in example['functions']:\n",
    "            new_example = {'text': example['Tweet'], 'function': label}\n",
    "            new_examples.append(new_example)\n",
    "    ait_dataset[split] = Dataset.from_pandas(pd.DataFrame(data=new_examples))"
   ]
  },
  {
   "cell_type": "code",
   "execution_count": 9,
   "id": "1991dbf1",
   "metadata": {},
   "outputs": [
    {
     "data": {
      "text/plain": [
       "DatasetDict({\n",
       "    train: Dataset({\n",
       "        features: ['text', 'function'],\n",
       "        num_rows: 20918\n",
       "    })\n",
       "    valid: Dataset({\n",
       "        features: ['text', 'function'],\n",
       "        num_rows: 3448\n",
       "    })\n",
       "    test: Dataset({\n",
       "        features: ['text', 'function'],\n",
       "        num_rows: 12172\n",
       "    })\n",
       "})"
      ]
     },
     "execution_count": 9,
     "metadata": {},
     "output_type": "execute_result"
    }
   ],
   "source": [
    "ait_dataset"
   ]
  },
  {
   "cell_type": "code",
   "execution_count": 10,
   "id": "c5016f3e",
   "metadata": {},
   "outputs": [
    {
     "data": {
      "text/html": [
       "<div>\n",
       "<style scoped>\n",
       "    .dataframe tbody tr th:only-of-type {\n",
       "        vertical-align: middle;\n",
       "    }\n",
       "\n",
       "    .dataframe tbody tr th {\n",
       "        vertical-align: top;\n",
       "    }\n",
       "\n",
       "    .dataframe thead th {\n",
       "        text-align: right;\n",
       "    }\n",
       "</style>\n",
       "<table border=\"1\" class=\"dataframe\">\n",
       "  <thead>\n",
       "    <tr style=\"text-align: right;\">\n",
       "      <th></th>\n",
       "      <th>text</th>\n",
       "      <th>function</th>\n",
       "    </tr>\n",
       "  </thead>\n",
       "  <tbody>\n",
       "    <tr>\n",
       "      <th>85</th>\n",
       "      <td>I'm not really very keen on it</td>\n",
       "      <td>DISLIKE</td>\n",
       "    </tr>\n",
       "    <tr>\n",
       "      <th>86</th>\n",
       "      <td>I'm not really very keen</td>\n",
       "      <td>DISLIKE</td>\n",
       "    </tr>\n",
       "    <tr>\n",
       "      <th>87</th>\n",
       "      <td>I'm not really keen on it</td>\n",
       "      <td>DISLIKE</td>\n",
       "    </tr>\n",
       "    <tr>\n",
       "      <th>88</th>\n",
       "      <td>I'm not really keen</td>\n",
       "      <td>DISLIKE</td>\n",
       "    </tr>\n",
       "    <tr>\n",
       "      <th>89</th>\n",
       "      <td>I'm not very keen on it</td>\n",
       "      <td>DISLIKE</td>\n",
       "    </tr>\n",
       "    <tr>\n",
       "      <th>...</th>\n",
       "      <td>...</td>\n",
       "      <td>...</td>\n",
       "    </tr>\n",
       "    <tr>\n",
       "      <th>897</th>\n",
       "      <td>you could do it</td>\n",
       "      <td>OTHER</td>\n",
       "    </tr>\n",
       "    <tr>\n",
       "      <th>898</th>\n",
       "      <td>you look nice</td>\n",
       "      <td>OTHER</td>\n",
       "    </tr>\n",
       "    <tr>\n",
       "      <th>899</th>\n",
       "      <td>you look smart</td>\n",
       "      <td>OTHER</td>\n",
       "    </tr>\n",
       "    <tr>\n",
       "      <th>900</th>\n",
       "      <td>you're right</td>\n",
       "      <td>OTHER</td>\n",
       "    </tr>\n",
       "    <tr>\n",
       "      <th>901</th>\n",
       "      <td>you're welcome</td>\n",
       "      <td>OTHER</td>\n",
       "    </tr>\n",
       "  </tbody>\n",
       "</table>\n",
       "<p>410 rows × 2 columns</p>\n",
       "</div>"
      ],
      "text/plain": [
       "                               text function\n",
       "85   I'm not really very keen on it  DISLIKE\n",
       "86         I'm not really very keen  DISLIKE\n",
       "87        I'm not really keen on it  DISLIKE\n",
       "88              I'm not really keen  DISLIKE\n",
       "89          I'm not very keen on it  DISLIKE\n",
       "..                              ...      ...\n",
       "897                 you could do it    OTHER\n",
       "898                   you look nice    OTHER\n",
       "899                  you look smart    OTHER\n",
       "900                    you're right    OTHER\n",
       "901                  you're welcome    OTHER\n",
       "\n",
       "[410 rows x 2 columns]"
      ]
     },
     "execution_count": 10,
     "metadata": {},
     "output_type": "execute_result"
    }
   ],
   "source": [
    "comfunctions_basic = 'comfunct_basic.txt'\n",
    "df = pd.read_csv(comfunctions_basic, delimiter=\";\")\n",
    "df = df[df['function'].isin(['ANGRY', 'WORRIED', 'PESSIMISTIC', 'DISLIKE', 'OTHER'])]\n",
    "df"
   ]
  },
  {
   "cell_type": "code",
   "execution_count": 11,
   "id": "f103d27a",
   "metadata": {},
   "outputs": [],
   "source": [
    "dataset = DatasetDict({\n",
    "    \"train\": Dataset.from_pandas(df.reset_index(drop=True)).shuffle(seed=42),\n",
    "    \"valid\": ait_dataset['valid'],\n",
    "    \"test\": ait_dataset['test']\n",
    "}\n",
    "    )"
   ]
  },
  {
   "cell_type": "code",
   "execution_count": 12,
   "id": "ded0c08a",
   "metadata": {},
   "outputs": [
    {
     "data": {
      "text/plain": [
       "{'text': 'Thank you for the M line construction @MTA . Sincerely, all J train riders Essex to Bway Junction. #nycsubway ',\n",
       " 'function': 'ANGRY'}"
      ]
     },
     "execution_count": 12,
     "metadata": {},
     "output_type": "execute_result"
    }
   ],
   "source": [
    "dataset['test'][37]"
   ]
  },
  {
   "cell_type": "code",
   "execution_count": 13,
   "id": "93c5717c",
   "metadata": {},
   "outputs": [
    {
     "name": "stderr",
     "output_type": "stream",
     "text": [
      "Casting to class labels: 100%|██████████| 1/1 [00:00<00:00, 124.74ba/s]\n",
      "Casting to class labels: 100%|██████████| 4/4 [00:00<00:00, 558.07ba/s]\n",
      "Casting to class labels: 100%|██████████| 13/13 [00:00<00:00, 538.47ba/s]"
     ]
    },
    {
     "name": "stdout",
     "output_type": "stream",
     "text": [
      "['ANGRY', 'DISLIKE', 'OTHER', 'PESSIMISTIC', 'WORRIED']\n"
     ]
    },
    {
     "name": "stderr",
     "output_type": "stream",
     "text": [
      "\n"
     ]
    }
   ],
   "source": [
    "dataset = dataset.class_encode_column(\"function\")\n",
    "labels = dataset['train'].features['function']\n",
    "dataset = dataset.rename_column(\"function\", \"label\")\n",
    "print(labels.names)"
   ]
  },
  {
   "cell_type": "code",
   "execution_count": 14,
   "id": "94c15c9d",
   "metadata": {},
   "outputs": [
    {
     "name": "stderr",
     "output_type": "stream",
     "text": [
      "Some weights of the model checkpoint at cardiffnlp/twitter-xlm-roberta-base were not used when initializing XLMRobertaForSequenceClassification: ['lm_head.bias', 'lm_head.decoder.weight', 'lm_head.layer_norm.bias', 'lm_head.decoder.bias', 'lm_head.layer_norm.weight', 'lm_head.dense.bias', 'lm_head.dense.weight']\n",
      "- This IS expected if you are initializing XLMRobertaForSequenceClassification from the checkpoint of a model trained on another task or with another architecture (e.g. initializing a BertForSequenceClassification model from a BertForPreTraining model).\n",
      "- This IS NOT expected if you are initializing XLMRobertaForSequenceClassification from the checkpoint of a model that you expect to be exactly identical (initializing a BertForSequenceClassification model from a BertForSequenceClassification model).\n",
      "Some weights of XLMRobertaForSequenceClassification were not initialized from the model checkpoint at cardiffnlp/twitter-xlm-roberta-base and are newly initialized: ['classifier.dense.weight', 'classifier.out_proj.weight', 'classifier.out_proj.bias', 'classifier.dense.bias']\n",
      "You should probably TRAIN this model on a down-stream task to be able to use it for predictions and inference.\n",
      "  0%|          | 0/1 [00:00<?, ?ba/s]Asking to truncate to max_length but no maximum length is provided and the model has no predefined maximum length. Default to no truncation.\n",
      "100%|██████████| 1/1 [00:00<00:00, 39.62ba/s]\n",
      "100%|██████████| 1/1 [00:00<00:00,  5.63ba/s]\n",
      "100%|██████████| 1/1 [00:00<00:00,  1.06ba/s]\n"
     ]
    },
    {
     "data": {
      "text/plain": [
       "DatasetDict({\n",
       "    train: Dataset({\n",
       "        features: ['text', 'label', 'input_ids', 'attention_mask'],\n",
       "        num_rows: 410\n",
       "    })\n",
       "    valid: Dataset({\n",
       "        features: ['text', 'label', 'input_ids', 'attention_mask'],\n",
       "        num_rows: 3448\n",
       "    })\n",
       "    test: Dataset({\n",
       "        features: ['text', 'label', 'input_ids', 'attention_mask'],\n",
       "        num_rows: 12172\n",
       "    })\n",
       "})"
      ]
     },
     "execution_count": 14,
     "metadata": {},
     "output_type": "execute_result"
    }
   ],
   "source": [
    "from transformers import AutoTokenizer, AutoModelForSequenceClassification, DataCollatorWithPadding\n",
    "\n",
    "transformer_model = 'cardiffnlp/twitter-xlm-roberta-base'\n",
    "device = torch.device(\"cuda\" if torch.cuda.is_available() else \"cpu\")\n",
    "model = (AutoModelForSequenceClassification\n",
    "         .from_pretrained(transformer_model, num_labels = len(labels.names))).to(device)\n",
    "tokenizer=AutoTokenizer.from_pretrained(transformer_model)\n",
    "\n",
    "def tokenize(batch):\n",
    "    return tokenizer(batch[\"text\"], padding=True, truncation=True)\n",
    "\n",
    "ds_enc = dataset.map(tokenize, batched=True, batch_size=None)\n",
    "data_collator = DataCollatorWithPadding(tokenizer, padding=\"longest\")\n",
    "ds_enc"
   ]
  },
  {
   "cell_type": "code",
   "execution_count": 15,
   "id": "f5e77a87",
   "metadata": {},
   "outputs": [],
   "source": [
    "from sklearn.metrics import precision_recall_fscore_support\n",
    "def compute_metrics(pred):\n",
    "    labels = pred.label_ids\n",
    "    preds = pred.predictions.argmax(-1)\n",
    "    precision, recall, f1, _ = precision_recall_fscore_support(labels, preds, average='macro', zero_division=0)\n",
    "    return {\n",
    "        'precision': precision,\n",
    "        'recall': recall,\n",
    "        'f1': f1\n",
    "    }"
   ]
  },
  {
   "cell_type": "code",
   "execution_count": 16,
   "id": "977a0d7e",
   "metadata": {},
   "outputs": [
    {
     "name": "stderr",
     "output_type": "stream",
     "text": [
      "The following columns in the training set don't have a corresponding argument in `XLMRobertaForSequenceClassification.forward` and have been ignored: text. If text are not expected by `XLMRobertaForSequenceClassification.forward`,  you can safely ignore this message.\n",
      "/home/njfernandez/.local/lib/python3.8/site-packages/transformers/optimization.py:306: FutureWarning: This implementation of AdamW is deprecated and will be removed in a future version. Use the PyTorch implementation torch.optim.AdamW instead, or set `no_deprecation_warning=True` to disable this warning\n",
      "  warnings.warn(\n",
      "***** Running training *****\n",
      "  Num examples = 410\n",
      "  Num Epochs = 5\n",
      "  Instantaneous batch size per device = 16\n",
      "  Total train batch size (w. parallel, distributed & accumulation) = 32\n",
      "  Gradient Accumulation steps = 1\n",
      "  Total optimization steps = 65\n",
      "  Number of trainable parameters = 278047493\n",
      "You're using a XLMRobertaTokenizerFast tokenizer. Please note that with a fast tokenizer, using the `__call__` method is faster than using a method to encode the text followed by a call to the `pad` method to get a padded encoding.\n",
      "/home/njfernandez/.local/lib/python3.8/site-packages/torch/nn/parallel/_functions.py:68: UserWarning: Was asked to gather along dimension 0, but all input tensors were scalars; will instead unsqueeze and return a vector.\n",
      "  warnings.warn('Was asked to gather along dimension 0, but all '\n"
     ]
    },
    {
     "data": {
      "text/html": [
       "\n",
       "    <div>\n",
       "      \n",
       "      <progress value='65' max='65' style='width:300px; height:20px; vertical-align: middle;'></progress>\n",
       "      [65/65 02:19, Epoch 5/5]\n",
       "    </div>\n",
       "    <table border=\"1\" class=\"dataframe\">\n",
       "  <thead>\n",
       " <tr style=\"text-align: left;\">\n",
       "      <th>Epoch</th>\n",
       "      <th>Training Loss</th>\n",
       "      <th>Validation Loss</th>\n",
       "      <th>Precision</th>\n",
       "      <th>Recall</th>\n",
       "      <th>F1</th>\n",
       "    </tr>\n",
       "  </thead>\n",
       "  <tbody>\n",
       "    <tr>\n",
       "      <td>1</td>\n",
       "      <td>No log</td>\n",
       "      <td>1.560552</td>\n",
       "      <td>0.065951</td>\n",
       "      <td>0.200000</td>\n",
       "      <td>0.099193</td>\n",
       "    </tr>\n",
       "    <tr>\n",
       "      <td>2</td>\n",
       "      <td>No log</td>\n",
       "      <td>1.588128</td>\n",
       "      <td>0.121114</td>\n",
       "      <td>0.202544</td>\n",
       "      <td>0.105932</td>\n",
       "    </tr>\n",
       "    <tr>\n",
       "      <td>3</td>\n",
       "      <td>No log</td>\n",
       "      <td>1.559213</td>\n",
       "      <td>0.187786</td>\n",
       "      <td>0.257873</td>\n",
       "      <td>0.200031</td>\n",
       "    </tr>\n",
       "    <tr>\n",
       "      <td>4</td>\n",
       "      <td>No log</td>\n",
       "      <td>1.553783</td>\n",
       "      <td>0.187220</td>\n",
       "      <td>0.262898</td>\n",
       "      <td>0.206373</td>\n",
       "    </tr>\n",
       "    <tr>\n",
       "      <td>5</td>\n",
       "      <td>No log</td>\n",
       "      <td>1.554651</td>\n",
       "      <td>0.185107</td>\n",
       "      <td>0.269109</td>\n",
       "      <td>0.211680</td>\n",
       "    </tr>\n",
       "  </tbody>\n",
       "</table><p>"
      ],
      "text/plain": [
       "<IPython.core.display.HTML object>"
      ]
     },
     "metadata": {},
     "output_type": "display_data"
    },
    {
     "name": "stderr",
     "output_type": "stream",
     "text": [
      "The following columns in the evaluation set don't have a corresponding argument in `XLMRobertaForSequenceClassification.forward` and have been ignored: text. If text are not expected by `XLMRobertaForSequenceClassification.forward`,  you can safely ignore this message.\n",
      "***** Running Evaluation *****\n",
      "  Num examples = 3448\n",
      "  Batch size = 32\n",
      "Saving model checkpoint to functions_basic_finetuning_single_label/checkpoint-13\n",
      "Configuration saved in functions_basic_finetuning_single_label/checkpoint-13/config.json\n",
      "Model weights saved in functions_basic_finetuning_single_label/checkpoint-13/pytorch_model.bin\n",
      "tokenizer config file saved in functions_basic_finetuning_single_label/checkpoint-13/tokenizer_config.json\n",
      "Special tokens file saved in functions_basic_finetuning_single_label/checkpoint-13/special_tokens_map.json\n",
      "/home/njfernandez/.local/lib/python3.8/site-packages/torch/nn/parallel/_functions.py:68: UserWarning: Was asked to gather along dimension 0, but all input tensors were scalars; will instead unsqueeze and return a vector.\n",
      "  warnings.warn('Was asked to gather along dimension 0, but all '\n",
      "The following columns in the evaluation set don't have a corresponding argument in `XLMRobertaForSequenceClassification.forward` and have been ignored: text. If text are not expected by `XLMRobertaForSequenceClassification.forward`,  you can safely ignore this message.\n",
      "***** Running Evaluation *****\n",
      "  Num examples = 3448\n",
      "  Batch size = 32\n",
      "Saving model checkpoint to functions_basic_finetuning_single_label/checkpoint-26\n",
      "Configuration saved in functions_basic_finetuning_single_label/checkpoint-26/config.json\n",
      "Model weights saved in functions_basic_finetuning_single_label/checkpoint-26/pytorch_model.bin\n",
      "tokenizer config file saved in functions_basic_finetuning_single_label/checkpoint-26/tokenizer_config.json\n",
      "Special tokens file saved in functions_basic_finetuning_single_label/checkpoint-26/special_tokens_map.json\n",
      "Deleting older checkpoint [functions_basic_finetuning_single_label/checkpoint-13] due to args.save_total_limit\n",
      "/home/njfernandez/.local/lib/python3.8/site-packages/torch/nn/parallel/_functions.py:68: UserWarning: Was asked to gather along dimension 0, but all input tensors were scalars; will instead unsqueeze and return a vector.\n",
      "  warnings.warn('Was asked to gather along dimension 0, but all '\n",
      "The following columns in the evaluation set don't have a corresponding argument in `XLMRobertaForSequenceClassification.forward` and have been ignored: text. If text are not expected by `XLMRobertaForSequenceClassification.forward`,  you can safely ignore this message.\n",
      "***** Running Evaluation *****\n",
      "  Num examples = 3448\n",
      "  Batch size = 32\n",
      "Saving model checkpoint to functions_basic_finetuning_single_label/checkpoint-39\n",
      "Configuration saved in functions_basic_finetuning_single_label/checkpoint-39/config.json\n",
      "Model weights saved in functions_basic_finetuning_single_label/checkpoint-39/pytorch_model.bin\n",
      "tokenizer config file saved in functions_basic_finetuning_single_label/checkpoint-39/tokenizer_config.json\n",
      "Special tokens file saved in functions_basic_finetuning_single_label/checkpoint-39/special_tokens_map.json\n",
      "Deleting older checkpoint [functions_basic_finetuning_single_label/checkpoint-26] due to args.save_total_limit\n",
      "/home/njfernandez/.local/lib/python3.8/site-packages/torch/nn/parallel/_functions.py:68: UserWarning: Was asked to gather along dimension 0, but all input tensors were scalars; will instead unsqueeze and return a vector.\n",
      "  warnings.warn('Was asked to gather along dimension 0, but all '\n",
      "The following columns in the evaluation set don't have a corresponding argument in `XLMRobertaForSequenceClassification.forward` and have been ignored: text. If text are not expected by `XLMRobertaForSequenceClassification.forward`,  you can safely ignore this message.\n",
      "***** Running Evaluation *****\n",
      "  Num examples = 3448\n",
      "  Batch size = 32\n",
      "Saving model checkpoint to functions_basic_finetuning_single_label/checkpoint-52\n",
      "Configuration saved in functions_basic_finetuning_single_label/checkpoint-52/config.json\n",
      "Model weights saved in functions_basic_finetuning_single_label/checkpoint-52/pytorch_model.bin\n",
      "tokenizer config file saved in functions_basic_finetuning_single_label/checkpoint-52/tokenizer_config.json\n",
      "Special tokens file saved in functions_basic_finetuning_single_label/checkpoint-52/special_tokens_map.json\n",
      "Deleting older checkpoint [functions_basic_finetuning_single_label/checkpoint-39] due to args.save_total_limit\n",
      "/home/njfernandez/.local/lib/python3.8/site-packages/torch/nn/parallel/_functions.py:68: UserWarning: Was asked to gather along dimension 0, but all input tensors were scalars; will instead unsqueeze and return a vector.\n",
      "  warnings.warn('Was asked to gather along dimension 0, but all '\n",
      "The following columns in the evaluation set don't have a corresponding argument in `XLMRobertaForSequenceClassification.forward` and have been ignored: text. If text are not expected by `XLMRobertaForSequenceClassification.forward`,  you can safely ignore this message.\n",
      "***** Running Evaluation *****\n",
      "  Num examples = 3448\n",
      "  Batch size = 32\n",
      "Saving model checkpoint to functions_basic_finetuning_single_label/checkpoint-65\n",
      "Configuration saved in functions_basic_finetuning_single_label/checkpoint-65/config.json\n",
      "Model weights saved in functions_basic_finetuning_single_label/checkpoint-65/pytorch_model.bin\n",
      "tokenizer config file saved in functions_basic_finetuning_single_label/checkpoint-65/tokenizer_config.json\n",
      "Special tokens file saved in functions_basic_finetuning_single_label/checkpoint-65/special_tokens_map.json\n",
      "Deleting older checkpoint [functions_basic_finetuning_single_label/checkpoint-52] due to args.save_total_limit\n",
      "\n",
      "\n",
      "Training completed. Do not forget to share your model on huggingface.co/models =)\n",
      "\n",
      "\n",
      "Loading best model from functions_basic_finetuning_single_label/checkpoint-65 (score: 0.21168028685538412).\n"
     ]
    },
    {
     "data": {
      "text/plain": [
       "TrainOutput(global_step=65, training_loss=1.086111567570613, metrics={'train_runtime': 142.1131, 'train_samples_per_second': 14.425, 'train_steps_per_second': 0.457, 'total_flos': 15802505626500.0, 'train_loss': 1.086111567570613, 'epoch': 5.0})"
      ]
     },
     "execution_count": 16,
     "metadata": {},
     "output_type": "execute_result"
    }
   ],
   "source": [
    "from transformers import TrainingArguments, Trainer\n",
    "\n",
    "batch_size = 16\n",
    "model_name = \"functions_basic_finetuning_single_label\"\n",
    "training_args = TrainingArguments(\n",
    "        output_dir=model_name,\n",
    "        num_train_epochs=5,\n",
    "        learning_rate = 2e-5,\n",
    "        per_device_train_batch_size=batch_size,\n",
    "        per_device_eval_batch_size=batch_size,\n",
    "        warmup_ratio=0.1,\n",
    "        weight_decay=0.01,\n",
    "        evaluation_strategy=\"epoch\",\n",
    "        save_strategy=\"epoch\",\n",
    "        metric_for_best_model = \"f1\",\n",
    "        load_best_model_at_end=True,\n",
    "        save_total_limit = 1,        \n",
    "        report_to='none',\n",
    "    )\n",
    "\n",
    "trainer = Trainer(model=model, args=training_args, \n",
    "                  compute_metrics=compute_metrics,\n",
    "                  train_dataset=ds_enc[\"train\"],\n",
    "                  eval_dataset=ds_enc[\"valid\"],                    \n",
    "                  tokenizer=tokenizer,\n",
    "                  data_collator=data_collator,)\n",
    "trainer.train()"
   ]
  },
  {
   "cell_type": "code",
   "execution_count": null,
   "id": "35341334",
   "metadata": {},
   "outputs": [
    {
     "name": "stderr",
     "output_type": "stream",
     "text": [
      "The following columns in the test set don't have a corresponding argument in `XLMRobertaForSequenceClassification.forward` and have been ignored: text. If text are not expected by `XLMRobertaForSequenceClassification.forward`,  you can safely ignore this message.\n",
      "***** Running Prediction *****\n",
      "  Num examples = 12172\n",
      "  Batch size = 32\n",
      "/home/njfernandez/.local/lib/python3.8/site-packages/torch/nn/parallel/_functions.py:68: UserWarning: Was asked to gather along dimension 0, but all input tensors were scalars; will instead unsqueeze and return a vector.\n",
      "  warnings.warn('Was asked to gather along dimension 0, but all '\n"
     ]
    },
    {
     "data": {
      "text/html": [
       "\n",
       "    <div>\n",
       "      \n",
       "      <progress value='99' max='381' style='width:300px; height:20px; vertical-align: middle;'></progress>\n",
       "      [ 99/381 00:14 < 00:41, 6.72 it/s]\n",
       "    </div>\n",
       "    "
      ],
      "text/plain": [
       "<IPython.core.display.HTML object>"
      ]
     },
     "metadata": {},
     "output_type": "display_data"
    }
   ],
   "source": [
    "preds_output = trainer.predict(ds_enc['test'])\n",
    "print(preds_output.metrics)"
   ]
  },
  {
   "cell_type": "code",
   "execution_count": null,
   "id": "7036f198",
   "metadata": {},
   "outputs": [],
   "source": [
    "from sklearn.metrics import classification_report\n",
    "\n",
    "y_true = np.array(ds_enc['test'][\"label\"])\n",
    "y_pred = preds_output.predictions.argmax(-1)\n",
    "\n",
    "report = classification_report(\n",
    "  y_true,\n",
    "  y_pred,\n",
    "  target_names=labels.names,\n",
    "  zero_division=0\n",
    ")\n",
    "print(report)"
   ]
  },
  {
   "cell_type": "code",
   "execution_count": null,
   "id": "8194f1a9",
   "metadata": {},
   "outputs": [],
   "source": [
    "report = classification_report(\n",
    "  y_true,\n",
    "  y_pred,\n",
    "  target_names=labels.names,\n",
    "  zero_division=0,\n",
    "    output_dict=True\n",
    ")\n",
    "\n",
    "df = pd.DataFrame(report).transpose()\n",
    "with open(r'classification_report_functions_basic_ait_finetuning_singlelabel.csv', 'w') as csv_file:\n",
    "    df.to_csv(path_or_buf=csv_file)"
   ]
  },
  {
   "cell_type": "code",
   "execution_count": null,
   "id": "66941a64",
   "metadata": {},
   "outputs": [],
   "source": [
    "from sklearn.metrics import ConfusionMatrixDisplay, confusion_matrix\n",
    "import matplotlib.pyplot as plt\n",
    "\n",
    "def plot_confusion_matrix(y_preds, y_true, labels):    \n",
    "    cm = confusion_matrix(y_true, y_preds, normalize=\"true\")\n",
    "    fig, ax = plt.subplots(figsize=(50, 50))\n",
    "    disp = ConfusionMatrixDisplay(confusion_matrix=cm, display_labels=labels)  \n",
    "    font = {'family' : 'DejaVu Sans',\n",
    "        'weight' : 'bold',\n",
    "        'size'   : 16}\n",
    "    plt.rc('font', **font)\n",
    "    ax.tick_params(axis='x', which='major', labelsize=15)\n",
    "    disp.plot(cmap=\"Blues\", values_format=\".2f\", ax=ax, colorbar=False)\n",
    "    plt.title(\"Normalized confusion matrix\")\n",
    "    plt.show()"
   ]
  },
  {
   "cell_type": "code",
   "execution_count": null,
   "id": "76b409bc",
   "metadata": {},
   "outputs": [],
   "source": [
    "y_preds = np.argmax(preds_output.predictions, axis=1)\n",
    "y_valid = np.array(ds_enc[\"test\"][\"label\"])\n",
    "plot_confusion_matrix(y_preds, y_valid, labels.names)"
   ]
  },
  {
   "cell_type": "code",
   "execution_count": null,
   "id": "00da41b4",
   "metadata": {},
   "outputs": [],
   "source": [
    "from torch.nn.functional import cross_entropy\n",
    "\n",
    "def forward_pass_with_label(batch):\n",
    "    inputs = {k:v.to(device) for k,v in batch.items() \n",
    "              if k in tokenizer.model_input_names}\n",
    "    with torch.no_grad():\n",
    "        output = model(**inputs)\n",
    "        pred_label = torch.argmax(output.logits, axis=-1)\n",
    "        loss = cross_entropy(output.logits, batch[\"label\"].to(device), \n",
    "                             reduction=\"none\")     \n",
    "    return {\"loss\": loss.cpu().numpy(), \n",
    "            \"predicted_label\": pred_label.cpu().numpy()}\n",
    "\n",
    "ds_enc.set_format(\"torch\", \n",
    "                            columns=[\"input_ids\", \"attention_mask\", \"label\"])\n",
    "ds_enc[\"test\"] = ds_enc[\"test\"].map(\n",
    "    forward_pass_with_label, batched=True, batch_size=16)"
   ]
  },
  {
   "cell_type": "code",
   "execution_count": null,
   "id": "29bf2588",
   "metadata": {},
   "outputs": [],
   "source": [
    "def label_int2str(row):\n",
    "    return dataset[\"train\"].features[\"label\"].int2str(row)"
   ]
  },
  {
   "cell_type": "code",
   "execution_count": null,
   "id": "7ee99dc7",
   "metadata": {},
   "outputs": [],
   "source": [
    "ds_enc.set_format(\"pandas\")\n",
    "cols = [\"text\", 'label', \"predicted_label\", \"loss\"]\n",
    "df_test = ds_enc[\"test\"][:][cols]\n",
    "df_test[\"label\"] = df_test[\"label\"].apply(label_int2str)\n",
    "df_test[\"predicted_label\"] = (df_test[\"predicted_label\"]\n",
    "                              .apply(label_int2str))"
   ]
  },
  {
   "cell_type": "code",
   "execution_count": null,
   "id": "fe9cd43a",
   "metadata": {},
   "outputs": [],
   "source": [
    "loss_values = df_test.sort_values(\"loss\", ascending=False).head(50)\n",
    "loss_values"
   ]
  },
  {
   "cell_type": "code",
   "execution_count": null,
   "id": "8d87313a",
   "metadata": {},
   "outputs": [],
   "source": [
    "loss_values.to_csv('loss_values_functions_basic_ait_finetuning_singlelabel.tsv',header =True, sep = '\\t',index=False)\n",
    "df_test.to_csv('preds_functions_basic_ait_singlelabel.tsv',header =True, sep = '\\t',index=False)"
   ]
  },
  {
   "cell_type": "code",
   "execution_count": null,
   "id": "1284a045",
   "metadata": {},
   "outputs": [],
   "source": []
  }
 ],
 "metadata": {
  "kernelspec": {
   "display_name": "Python 3 (ipykernel)",
   "language": "python",
   "name": "python3"
  },
  "language_info": {
   "codemirror_mode": {
    "name": "ipython",
    "version": 3
   },
   "file_extension": ".py",
   "mimetype": "text/x-python",
   "name": "python",
   "nbconvert_exporter": "python",
   "pygments_lexer": "ipython3",
   "version": "3.8.10"
  }
 },
 "nbformat": 4,
 "nbformat_minor": 5
}

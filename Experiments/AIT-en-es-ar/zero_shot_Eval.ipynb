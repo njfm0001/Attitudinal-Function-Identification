{
 "cells": [
  {
   "cell_type": "code",
   "execution_count": 1,
   "id": "5344e3da",
   "metadata": {},
   "outputs": [
    {
     "name": "stderr",
     "output_type": "stream",
     "text": [
      "/home/njfernandez/.local/lib/python3.8/site-packages/tqdm/auto.py:22: TqdmWarning: IProgress not found. Please update jupyter and ipywidgets. See https://ipywidgets.readthedocs.io/en/stable/user_install.html\n",
      "  from .autonotebook import tqdm as notebook_tqdm\n"
     ]
    }
   ],
   "source": [
    "from transformers import pipeline\n",
    "import numpy as np\n",
    "import pandas as pd\n",
    "from datasets import Dataset, load_dataset, ClassLabel, concatenate_datasets, DatasetDict\n",
    "import torch\n",
    "from sklearn.metrics import classification_report\n",
    "import matplotlib.pyplot as plt\n",
    "\n",
    "#Seeding for deterministic results i.e. showing same output \n",
    "RANDOM_SEED = 64\n",
    "np.random.seed(RANDOM_SEED)\n",
    "torch.manual_seed(RANDOM_SEED)\n",
    "if torch.cuda.is_available():\n",
    "   torch.cuda.manual_seed(RANDOM_SEED)\n",
    "   torch.cuda.manual_seed_all(RANDOM_SEED) \n",
    "   torch.backends.cudnn.deterministic = True  \n",
    "   torch.backends.cudnn.benchmark = False"
   ]
  },
  {
   "cell_type": "code",
   "execution_count": 2,
   "id": "a79505d3",
   "metadata": {},
   "outputs": [
    {
     "data": {
      "text/html": [
       "<div>\n",
       "<style scoped>\n",
       "    .dataframe tbody tr th:only-of-type {\n",
       "        vertical-align: middle;\n",
       "    }\n",
       "\n",
       "    .dataframe tbody tr th {\n",
       "        vertical-align: top;\n",
       "    }\n",
       "\n",
       "    .dataframe thead th {\n",
       "        text-align: right;\n",
       "    }\n",
       "</style>\n",
       "<table border=\"1\" class=\"dataframe\">\n",
       "  <thead>\n",
       "    <tr style=\"text-align: right;\">\n",
       "      <th></th>\n",
       "      <th>text</th>\n",
       "      <th>functions</th>\n",
       "    </tr>\n",
       "  </thead>\n",
       "  <tbody>\n",
       "    <tr>\n",
       "      <th>85</th>\n",
       "      <td>I'm not really very keen on it</td>\n",
       "      <td>DISLIKE</td>\n",
       "    </tr>\n",
       "    <tr>\n",
       "      <th>86</th>\n",
       "      <td>I'm not really very keen</td>\n",
       "      <td>DISLIKE</td>\n",
       "    </tr>\n",
       "    <tr>\n",
       "      <th>87</th>\n",
       "      <td>I'm not really keen on it</td>\n",
       "      <td>DISLIKE</td>\n",
       "    </tr>\n",
       "    <tr>\n",
       "      <th>88</th>\n",
       "      <td>I'm not really keen</td>\n",
       "      <td>DISLIKE</td>\n",
       "    </tr>\n",
       "    <tr>\n",
       "      <th>89</th>\n",
       "      <td>I'm not very keen on it</td>\n",
       "      <td>DISLIKE</td>\n",
       "    </tr>\n",
       "    <tr>\n",
       "      <th>...</th>\n",
       "      <td>...</td>\n",
       "      <td>...</td>\n",
       "    </tr>\n",
       "    <tr>\n",
       "      <th>897</th>\n",
       "      <td>you could do it</td>\n",
       "      <td>OTHER</td>\n",
       "    </tr>\n",
       "    <tr>\n",
       "      <th>898</th>\n",
       "      <td>you look nice</td>\n",
       "      <td>OTHER</td>\n",
       "    </tr>\n",
       "    <tr>\n",
       "      <th>899</th>\n",
       "      <td>you look smart</td>\n",
       "      <td>OTHER</td>\n",
       "    </tr>\n",
       "    <tr>\n",
       "      <th>900</th>\n",
       "      <td>you're right</td>\n",
       "      <td>OTHER</td>\n",
       "    </tr>\n",
       "    <tr>\n",
       "      <th>901</th>\n",
       "      <td>you're welcome</td>\n",
       "      <td>OTHER</td>\n",
       "    </tr>\n",
       "  </tbody>\n",
       "</table>\n",
       "<p>410 rows × 2 columns</p>\n",
       "</div>"
      ],
      "text/plain": [
       "                               text functions\n",
       "85   I'm not really very keen on it   DISLIKE\n",
       "86         I'm not really very keen   DISLIKE\n",
       "87        I'm not really keen on it   DISLIKE\n",
       "88              I'm not really keen   DISLIKE\n",
       "89          I'm not very keen on it   DISLIKE\n",
       "..                              ...       ...\n",
       "897                 you could do it     OTHER\n",
       "898                   you look nice     OTHER\n",
       "899                  you look smart     OTHER\n",
       "900                    you're right     OTHER\n",
       "901                  you're welcome     OTHER\n",
       "\n",
       "[410 rows x 2 columns]"
      ]
     },
     "execution_count": 2,
     "metadata": {},
     "output_type": "execute_result"
    }
   ],
   "source": [
    "comfunctions_basic = 'comfunct_basic.txt'\n",
    "df = pd.read_csv(comfunctions_basic, delimiter=\";\")\n",
    "df = df[df['function'].isin(['ANGRY', 'WORRIED', 'PESSIMISTIC', 'DISLIKE', 'OTHER'])].rename(columns={\"function\": \"functions\"})\n",
    "df"
   ]
  },
  {
   "cell_type": "code",
   "execution_count": 3,
   "id": "f27f5041",
   "metadata": {},
   "outputs": [
    {
     "data": {
      "text/plain": [
       "array(['ANGRY', 'DISLIKE', 'OTHER', 'PESSIMISTIC', 'WORRIED'],\n",
       "      dtype=object)"
      ]
     },
     "execution_count": 3,
     "metadata": {},
     "output_type": "execute_result"
    }
   ],
   "source": [
    "unique_labels = df[\"functions\"].unique().tolist()\n",
    "function_labels = ClassLabel(names=unique_labels)\n",
    "\n",
    "from sklearn.preprocessing import MultiLabelBinarizer\n",
    "mlb = MultiLabelBinarizer()\n",
    "mlb.fit([function_labels.names])\n",
    "labels_classes = mlb.classes_\n",
    "labels_classes"
   ]
  },
  {
   "cell_type": "code",
   "execution_count": 4,
   "id": "94f9f80b",
   "metadata": {},
   "outputs": [
    {
     "name": "stderr",
     "output_type": "stream",
     "text": [
      "Using custom data configuration default-051610f9ffe8f8d2\n",
      "Found cached dataset csv (/home/njfernandez/.cache/huggingface/datasets/csv/default-051610f9ffe8f8d2/0.0.0/6b34fb8fcf56f7c8ba51dc895bfa2bfbe43546f190a60fcf74bb5e8afdcc2317)\n",
      "100%|██████████| 3/3 [00:00<00:00, 682.41it/s]\n",
      "Using custom data configuration default-94907eb33ba58000\n",
      "Found cached dataset csv (/home/njfernandez/.cache/huggingface/datasets/csv/default-94907eb33ba58000/0.0.0/6b34fb8fcf56f7c8ba51dc895bfa2bfbe43546f190a60fcf74bb5e8afdcc2317)\n",
      "100%|██████████| 3/3 [00:00<00:00, 654.61it/s]\n",
      "Using custom data configuration default-869e6abb15784ff2\n",
      "Found cached dataset csv (/home/njfernandez/.cache/huggingface/datasets/csv/default-869e6abb15784ff2/0.0.0/6b34fb8fcf56f7c8ba51dc895bfa2bfbe43546f190a60fcf74bb5e8afdcc2317)\n",
      "100%|██████████| 3/3 [00:00<00:00, 705.79it/s]\n",
      "Loading cached shuffled indices for dataset at /home/njfernandez/.cache/huggingface/datasets/csv/default-051610f9ffe8f8d2/0.0.0/6b34fb8fcf56f7c8ba51dc895bfa2bfbe43546f190a60fcf74bb5e8afdcc2317/cache-61b64f8f2d33fef0.arrow\n",
      "Loading cached shuffled indices for dataset at /home/njfernandez/.cache/huggingface/datasets/csv/default-051610f9ffe8f8d2/0.0.0/6b34fb8fcf56f7c8ba51dc895bfa2bfbe43546f190a60fcf74bb5e8afdcc2317/cache-22704bf1ca817405.arrow\n"
     ]
    }
   ],
   "source": [
    "function_mapping = {'OTHER': ['anticipation', 'joy', 'love', 'optimism', 'surprise', 'trust'],\n",
    "           'NOT_INTERESTED': [''], \n",
    "           'DISLIKE':['disgust'], \n",
    "           'NOT_CORRECT': [''], \n",
    "           'PESSIMISTIC':['sadness', 'pessimism'], \n",
    "           'WORRIED':['fear'], \n",
    "           'ANGRY': ['anger'], \n",
    "           'DISAPPOINTED': [''], \n",
    "           'BORED': [''], \n",
    "           'NOT_APPROVE':[''], \n",
    "           'NOT_IMPORTANT': [''], \n",
    "           'DISAGREE': [''], \n",
    "           'WARN': [''], \n",
    "           'COMPLAIN': [''], \n",
    "           'THREATEN': [''], \n",
    "           'UNWILLING': [''], \n",
    "           'DISTRUST' : [''],\n",
    "           'REFUSE': [''] }\n",
    "\n",
    "ait_es_dataset = load_dataset(\"csv\", sep = '\\t', data_files ={'train': r'2018-E-c-Es-train.txt',\n",
    "                                                        'test': r'2018-E-c-Es-test-gold.txt',\n",
    "                                                       'valid': r'2018-E-c-Es-dev.txt'})\n",
    "ait_en_dataset = load_dataset(\"csv\", sep = '\\t', data_files ={'train': r'2018-E-c-En-train.txt',\n",
    "                                                        'test': r'2018-E-c-En-test-gold.txt',\n",
    "                                                       'valid': r'2018-E-c-En-dev.txt'})\n",
    "ait_ar_dataset = load_dataset(\"csv\", sep = '\\t', data_files ={'train': r'2018-E-c-Ar-train.txt',\n",
    "                                                        'test': r'2018-E-c-Ar-test-gold.txt',\n",
    "                                                       'valid': r'2018-E-c-Ar-dev.txt'})\n",
    "train_dataset = concatenate_datasets([ait_es_dataset['train'], ait_en_dataset['train'], ait_ar_dataset['train']])\n",
    "valid_dataset = concatenate_datasets([ait_es_dataset['valid'], ait_en_dataset['valid'], ait_ar_dataset['valid']])\n",
    "test_dataset = concatenate_datasets([ait_es_dataset['test'], ait_en_dataset['test'], ait_ar_dataset['test']])\n",
    "\n",
    "ait_dataset = DatasetDict({'valid': valid_dataset.shuffle(seed=42), 'test': test_dataset.shuffle(seed=42)})"
   ]
  },
  {
   "cell_type": "code",
   "execution_count": 5,
   "id": "a89b9400",
   "metadata": {},
   "outputs": [
    {
     "name": "stderr",
     "output_type": "stream",
     "text": [
      "100%|██████████| 2150/2150 [00:00<00:00, 12969.16ex/s]\n",
      "100%|██████████| 7631/7631 [00:00<00:00, 13334.66ex/s]\n"
     ]
    },
    {
     "data": {
      "text/plain": [
       "{'text': 'انا رايحة اعمل عملية تانى فى عنيا\\\\nادعولى\\\\nوقلبى وربى غضبانين عليك يا اللى تفرط فى ارضك',\n",
       " 'OTHER': 0,\n",
       " 'DISLIKE': 0,\n",
       " 'PESSIMISTIC': 1,\n",
       " 'WORRIED': 0,\n",
       " 'ANGRY': 1,\n",
       " 'functions': ['PESSIMISTIC', 'ANGRY']}"
      ]
     },
     "execution_count": 5,
     "metadata": {},
     "output_type": "execute_result"
    }
   ],
   "source": [
    "new_dataset = DatasetDict()\n",
    "for split in ait_dataset:\n",
    "    new_split = []\n",
    "    for record in ait_dataset[split]:\n",
    "        new_record = {'text': record['Tweet']}\n",
    "        for function in function_mapping:\n",
    "            labels = function_mapping[function]\n",
    "            if '' in labels:\n",
    "                continue\n",
    "            else:\n",
    "                score = sum([record[label] for label in labels])\n",
    "                new_record[function] = int(score > 0)\n",
    "        new_split.append(new_record)\n",
    "    ait_dataset[split] =  Dataset.from_pandas(pd.DataFrame(data=new_split))\n",
    "cols = ait_dataset['test'].column_names\n",
    "ait_dataset = ait_dataset.map(lambda x : {\"functions\": [c for c in cols if x[c] == 1]})\n",
    "ait_dataset['test'][20]"
   ]
  },
  {
   "cell_type": "code",
   "execution_count": 6,
   "id": "905a57ec",
   "metadata": {},
   "outputs": [
    {
     "name": "stderr",
     "output_type": "stream",
     "text": [
      "100%|██████████| 3/3 [00:00<00:00, 249.68ba/s]\n",
      "100%|██████████| 8/8 [00:00<00:00, 247.18ba/s]\n"
     ]
    }
   ],
   "source": [
    "# Convert labels to one hot enconding vectors\n",
    "def one_hot_encoding(batch):\n",
    "    label_ids = mlb.transform(batch['functions'])\n",
    "    return {\"label_ids\":label_ids}\n",
    "ait_dataset = ait_dataset.map(one_hot_encoding, batched=True)\n",
    "\n",
    "def get_predicted_labels(batch):\n",
    "    transformed_into_label_names = mlb.inverse_transform(np.array(batch['pred_label_ids']))\n",
    "    return  {\"predicted_labels\": list(map(list, transformed_into_label_names))}"
   ]
  },
  {
   "cell_type": "code",
   "execution_count": 7,
   "id": "6d564df3",
   "metadata": {},
   "outputs": [],
   "source": [
    "zero_shot_model='MoritzLaurer/mDeBERTa-v3-base-mnli-xnli'\n",
    "candidate_labels= {#\"lack of interest\": \"NOT_INTERESTED\",\n",
    "                   #\"boredom\": \"BORED\",\n",
    "                   \"disgust\": \"DISLIKE\", \n",
    "                   #\"incorrectness\": \"NOT_CORRECT\", \n",
    "                   \"sadness\": \"PESSIMISTIC\", \n",
    "                   \"fear\": \"WORRIED\", \n",
    "                   \"anger\": \"ANGRY\", \n",
    "                   #\"disappointment\": \"DISAPPOINTED\",\n",
    "                   #\"complaint\": \"COMPLAIN\",\n",
    "                   #\"disapproval\": \"NOT_APPROVE\",\n",
    "                   #\"unimportance\": \"NOT_IMPORTANT\", \n",
    "                   #\"disagreement\": \"DISAGREE\",\n",
    "                   #\"refusal\": \"REFUSE\",\n",
    "                  #\"warning\": \"WARN\", \n",
    "                  #\"threat\": \"THREATEN\",\n",
    "                  #\"unwillingness\": \"UNWILLING\",\n",
    "                  #\"distrust\": \"DISTRUST\",\n",
    "                  \"joy, surprise or other emotion\": \"OTHER\"}\n",
    "\n",
    "h_ts = ['This person feels {}.', 'This person conveys {}.','This person shows {}.','This person expresses {}.', \n",
    "        'This text is {}.', 'This text is about {}.', 'This text shows {}.', 'This text expresses {}.', 'This text conveys {}.',\n",
    "       'The communicative function of this text is {}.', 'The communicative intention of this text is {}.', 'The emotion of this text is {}.', \n",
    "        'The emotion expressed in this text is {}.'] # the templates used\n",
    "\n",
    "def zero_shot_pipeline(example):\n",
    "    output = classifier(example['text'], candidate_labels=list(candidate_labels.keys()), hypothesis_template=ht, multi_label=True)\n",
    "    labels_scores = {candidate_labels[key]: score for key, score in zip(output['labels'], output['scores'])}\n",
    "    labels_scores = sorted(labels_scores.items(), key=lambda kv: kv[1], reverse=True)    \n",
    "    labels = [label for label, _ in labels_scores]\n",
    "    scores = [score for _, score in labels_scores]\n",
    "    return {\"predicted_labels_items\": labels, \"predicted_labels_scores\": scores}\n"
   ]
  },
  {
   "cell_type": "code",
   "execution_count": 8,
   "id": "5e74d2f5",
   "metadata": {},
   "outputs": [],
   "source": [
    "def get_preds(example, threshold=None, topk=None):\n",
    "    preds = []\n",
    "    if threshold:\n",
    "        for label, score in zip(example[\"predicted_labels_items\"], example[\"predicted_labels_scores\"]):\n",
    "            if score >= threshold:\n",
    "                preds.append(label)\n",
    "    elif topk:\n",
    "        for i in range(topk):\n",
    "            preds.append(example[\"predicted_labels_items\"][i])\n",
    "    else:\n",
    "                raise ValueError(\"Set either `threshold` or `topk`.\")\n",
    "    return {\"pred_label_ids\": list(np.squeeze(mlb.transform([preds])))}\n",
    "\n",
    "def get_clf_report(ds):\n",
    "    y_true = np.array(ds[\"label_ids\"])\n",
    "    y_pred = np.array(ds[\"pred_label_ids\"])\n",
    "    return classification_report(\n",
    "            y_true, y_pred, target_names=mlb.classes_, zero_division=0, \n",
    "            output_dict=True)"
   ]
  },
  {
   "cell_type": "code",
   "execution_count": 9,
   "id": "ca7f2169",
   "metadata": {},
   "outputs": [
    {
     "name": "stderr",
     "output_type": "stream",
     "text": [
      "/home/njfernandez/.local/lib/python3.8/site-packages/transformers/convert_slow_tokenizer.py:446: UserWarning: The sentencepiece tokenizer that you are converting to a fast tokenizer uses the byte fallback option which is not implemented in the fast tokenizers. In practice this means that the fast version of the tokenizer can produce unknown tokens whereas the sentencepiece version would have converted these unknown tokens into a sequence of byte tokens matching the original piece of text.\n",
      "  warnings.warn(\n",
      "Parameter 'function'=<function zero_shot_pipeline at 0x7f6553d0d430> of the transform datasets.arrow_dataset.Dataset._map_single couldn't be hashed properly, a random hash was used instead. Make sure your transforms and parameters are serializable with pickle or dill for the dataset fingerprinting and caching to work. If you reuse this transform, the caching mechanism will consider it to be different from the previous calls and recompute everything. This warning is only showed once. Subsequent hashing failures won't be showed.\n"
     ]
    },
    {
     "name": "stdout",
     "output_type": "stream",
     "text": [
      "This person feels {}.\n"
     ]
    },
    {
     "name": "stderr",
     "output_type": "stream",
     "text": [
      "  0%|          | 9/2150 [00:00<02:31, 14.16ex/s]/home/njfernandez/.local/lib/python3.8/site-packages/transformers/pipelines/base.py:1043: UserWarning: You seem to be using the pipelines sequentially on GPU. In order to maximize efficiency please use a dataset\n",
      "  warnings.warn(\n",
      "100%|██████████| 2150/2150 [02:08<00:00, 16.68ex/s]\n",
      "100%|██████████| 2150/2150 [00:00<00:00, 5463.25ex/s]\n",
      "100%|██████████| 2150/2150 [00:00<00:00, 5584.05ex/s]\n",
      "100%|██████████| 2150/2150 [00:00<00:00, 5607.20ex/s]\n",
      "100%|██████████| 2150/2150 [00:00<00:00, 3732.96ex/s]\n",
      "100%|██████████| 2150/2150 [00:00<00:00, 5608.88ex/s]\n",
      "100%|██████████| 2150/2150 [00:00<00:00, 5624.64ex/s]\n",
      "100%|██████████| 2150/2150 [00:00<00:00, 5603.64ex/s]\n",
      "100%|██████████| 2150/2150 [00:00<00:00, 5624.78ex/s]\n",
      "100%|██████████| 2150/2150 [00:00<00:00, 5535.15ex/s]\n",
      "100%|██████████| 2150/2150 [00:00<00:00, 5608.97ex/s]\n",
      "100%|██████████| 2150/2150 [00:00<00:00, 5576.75ex/s]\n",
      "100%|██████████| 2150/2150 [00:00<00:00, 4028.44ex/s]\n",
      "100%|██████████| 2150/2150 [00:00<00:00, 5631.91ex/s]\n",
      "100%|██████████| 2150/2150 [00:00<00:00, 5651.87ex/s]\n",
      "100%|██████████| 2150/2150 [00:00<00:00, 5645.47ex/s]\n",
      "100%|██████████| 2150/2150 [00:00<00:00, 3639.93ex/s]\n",
      "100%|██████████| 2150/2150 [00:00<00:00, 5643.37ex/s]\n",
      "100%|██████████| 2150/2150 [00:00<00:00, 5650.67ex/s]\n",
      "100%|██████████| 2150/2150 [00:00<00:00, 5631.51ex/s]\n",
      "100%|██████████| 2150/2150 [00:00<00:00, 4044.80ex/s]\n",
      "100%|██████████| 2150/2150 [00:00<00:00, 5608.53ex/s]\n",
      "100%|██████████| 2150/2150 [00:00<00:00, 5615.12ex/s]\n",
      "100%|██████████| 2150/2150 [00:00<00:00, 5627.46ex/s]\n",
      "100%|██████████| 2150/2150 [00:00<00:00, 4072.87ex/s]\n",
      "100%|██████████| 2150/2150 [00:00<00:00, 5632.22ex/s]\n",
      "100%|██████████| 2150/2150 [00:00<00:00, 5617.77ex/s]\n",
      "100%|██████████| 2150/2150 [00:00<00:00, 5635.47ex/s]\n",
      "100%|██████████| 2150/2150 [00:00<00:00, 5622.51ex/s]\n",
      "100%|██████████| 2150/2150 [00:00<00:00, 4041.39ex/s]\n",
      "100%|██████████| 2150/2150 [00:00<00:00, 5663.54ex/s]\n",
      "100%|██████████| 2150/2150 [00:00<00:00, 5596.87ex/s]\n",
      "100%|██████████| 2150/2150 [00:00<00:00, 5650.53ex/s]\n",
      "100%|██████████| 2150/2150 [00:00<00:00, 4066.57ex/s]\n",
      "100%|██████████| 2150/2150 [00:00<00:00, 5652.20ex/s]\n",
      "100%|██████████| 2150/2150 [00:00<00:00, 5665.47ex/s]\n",
      "100%|██████████| 2150/2150 [00:00<00:00, 5666.71ex/s]\n",
      "100%|██████████| 2150/2150 [00:00<00:00, 3817.51ex/s]\n",
      "100%|██████████| 2150/2150 [00:00<00:00, 5638.02ex/s]\n",
      "100%|██████████| 2150/2150 [00:00<00:00, 5653.95ex/s]\n",
      "100%|██████████| 2150/2150 [00:00<00:00, 5618.23ex/s]\n",
      "100%|██████████| 2150/2150 [00:00<00:00, 3876.07ex/s]\n",
      "100%|██████████| 2150/2150 [00:00<00:00, 5639.21ex/s]\n",
      "100%|██████████| 2150/2150 [00:00<00:00, 5595.85ex/s]\n",
      "100%|██████████| 2150/2150 [00:00<00:00, 5607.50ex/s]\n",
      "100%|██████████| 2150/2150 [00:00<00:00, 4056.88ex/s]\n",
      "100%|██████████| 2150/2150 [00:00<00:00, 5548.90ex/s]\n",
      "100%|██████████| 2150/2150 [00:00<00:00, 5587.86ex/s]\n",
      "100%|██████████| 2150/2150 [00:00<00:00, 5644.46ex/s]\n",
      "100%|██████████| 2150/2150 [00:00<00:00, 3994.95ex/s]\n",
      "100%|██████████| 2150/2150 [00:00<00:00, 5634.33ex/s]\n",
      "100%|██████████| 2150/2150 [00:00<00:00, 5619.60ex/s]\n",
      "100%|██████████| 2150/2150 [00:00<00:00, 5587.43ex/s]\n",
      "100%|██████████| 2150/2150 [00:00<00:00, 4063.69ex/s]\n",
      "100%|██████████| 2150/2150 [00:00<00:00, 5617.84ex/s]\n",
      "100%|██████████| 2150/2150 [00:00<00:00, 5643.87ex/s]\n",
      "100%|██████████| 2150/2150 [00:00<00:00, 5624.02ex/s]\n",
      "100%|██████████| 2150/2150 [00:00<00:00, 5095.31ex/s]\n",
      "100%|██████████| 2150/2150 [00:00<00:00, 3928.55ex/s]\n",
      "100%|██████████| 2150/2150 [00:00<00:00, 5584.05ex/s]\n",
      "100%|██████████| 2150/2150 [00:00<00:00, 5583.73ex/s]\n",
      "100%|██████████| 2150/2150 [00:00<00:00, 5591.25ex/s]\n",
      "100%|██████████| 2150/2150 [00:00<00:00, 4032.94ex/s]\n",
      "100%|██████████| 2150/2150 [00:00<00:00, 5599.37ex/s]\n",
      "100%|██████████| 2150/2150 [00:00<00:00, 5581.24ex/s]\n",
      "100%|██████████| 2150/2150 [00:00<00:00, 5620.74ex/s]\n",
      "100%|██████████| 2150/2150 [00:00<00:00, 4002.04ex/s]\n",
      "100%|██████████| 2150/2150 [00:00<00:00, 5579.34ex/s]\n",
      "100%|██████████| 2150/2150 [00:00<00:00, 5569.30ex/s]\n",
      "100%|██████████| 2150/2150 [00:00<00:00, 5586.75ex/s]\n",
      "100%|██████████| 2150/2150 [00:00<00:00, 3994.86ex/s]\n",
      "100%|██████████| 2150/2150 [00:00<00:00, 5623.58ex/s]\n",
      "100%|██████████| 2150/2150 [00:00<00:00, 5629.19ex/s]\n",
      "100%|██████████| 2150/2150 [00:00<00:00, 5628.56ex/s]\n",
      "100%|██████████| 2150/2150 [00:00<00:00, 3768.54ex/s]\n",
      "100%|██████████| 2150/2150 [00:00<00:00, 5606.91ex/s]\n",
      "100%|██████████| 2150/2150 [00:00<00:00, 5637.47ex/s]\n",
      "100%|██████████| 2150/2150 [00:00<00:00, 5599.93ex/s]\n",
      "100%|██████████| 2150/2150 [00:00<00:00, 5635.71ex/s]\n",
      "100%|██████████| 2150/2150 [00:00<00:00, 4069.74ex/s]\n",
      "100%|██████████| 2150/2150 [00:00<00:00, 5622.40ex/s]\n",
      "100%|██████████| 2150/2150 [00:00<00:00, 5627.03ex/s]\n",
      "100%|██████████| 2150/2150 [00:00<00:00, 5634.72ex/s]\n",
      "100%|██████████| 2150/2150 [00:00<00:00, 4043.73ex/s]\n",
      "100%|██████████| 2150/2150 [00:00<00:00, 5069.33ex/s]\n",
      "100%|██████████| 2150/2150 [00:00<00:00, 5611.50ex/s]\n",
      "100%|██████████| 2150/2150 [00:00<00:00, 5596.51ex/s]\n",
      "100%|██████████| 2150/2150 [00:00<00:00, 4030.72ex/s]\n",
      "100%|██████████| 2150/2150 [00:00<00:00, 5585.66ex/s]\n",
      "100%|██████████| 2150/2150 [00:00<00:00, 5639.74ex/s]\n",
      "100%|██████████| 2150/2150 [00:00<00:00, 5634.84ex/s]\n",
      "100%|██████████| 2150/2150 [00:00<00:00, 4042.35ex/s]\n",
      "100%|██████████| 2150/2150 [00:00<00:00, 5613.86ex/s]\n",
      "100%|██████████| 2150/2150 [00:00<00:00, 5660.52ex/s]\n",
      "100%|██████████| 2150/2150 [00:00<00:00, 5635.30ex/s]\n",
      "100%|██████████| 2150/2150 [00:00<00:00, 4040.73ex/s]\n",
      "100%|██████████| 2150/2150 [00:00<00:00, 5618.96ex/s]\n",
      "100%|██████████| 2150/2150 [00:00<00:00, 5611.75ex/s]\n",
      "100%|██████████| 2150/2150 [00:00<00:00, 5619.04ex/s]\n",
      "100%|██████████| 2150/2150 [00:00<00:00, 4042.44ex/s]\n",
      "100%|██████████| 2150/2150 [00:00<00:00, 5664.27ex/s]\n"
     ]
    },
    {
     "data": {
      "image/png": "[encoded data removed]",
      "text/plain": [
       "<Figure size 432x288 with 1 Axes>"
      ]
     },
     "metadata": {
      "needs_background": "light"
     },
     "output_type": "display_data"
    },
    {
     "data": {
      "image/png": "[encoded data removed]",
      "text/plain": [
       "<Figure size 432x288 with 1 Axes>"
      ]
     },
     "metadata": {
      "needs_background": "light"
     },
     "output_type": "display_data"
    },
    {
     "name": "stdout",
     "output_type": "stream",
     "text": [
      "Best threshold (micro): 0.09999999999999999 with F1-score 0.53.\n",
      "Best threshold (macro): 0.060000000000000005 with F1-score 0.53.\n",
      "Best threshold (macro-Precision): 0.99 with macroP-score 0.57.\n",
      "Best threshold (macro-Recall): 0.01 with macroR-score 0.94.\n",
      "This person conveys {}.\n"
     ]
    },
    {
     "name": "stderr",
     "output_type": "stream",
     "text": [
      "  0%|          | 0/2150 [00:00<?, ?ex/s]/home/njfernandez/.local/lib/python3.8/site-packages/transformers/pipelines/base.py:1043: UserWarning: You seem to be using the pipelines sequentially on GPU. In order to maximize efficiency please use a dataset\n",
      "  warnings.warn(\n",
      "100%|██████████| 2150/2150 [02:08<00:00, 16.77ex/s]\n",
      "100%|██████████| 2150/2150 [00:00<00:00, 5516.26ex/s]\n",
      "100%|██████████| 2150/2150 [00:00<00:00, 3709.83ex/s]\n",
      "100%|██████████| 2150/2150 [00:00<00:00, 5645.64ex/s]\n",
      "100%|██████████| 2150/2150 [00:00<00:00, 5610.96ex/s]\n",
      "100%|██████████| 2150/2150 [00:00<00:00, 5023.28ex/s]\n",
      "100%|██████████| 2150/2150 [00:00<00:00, 5664.43ex/s]\n",
      "100%|██████████| 2150/2150 [00:00<00:00, 4030.24ex/s]\n",
      "100%|██████████| 2150/2150 [00:00<00:00, 5653.06ex/s]\n",
      "100%|██████████| 2150/2150 [00:00<00:00, 5646.79ex/s]\n",
      "100%|██████████| 2150/2150 [00:00<00:00, 5662.84ex/s]\n",
      "100%|██████████| 2150/2150 [00:00<00:00, 3893.38ex/s]\n",
      "100%|██████████| 2150/2150 [00:00<00:00, 5643.47ex/s]\n",
      "100%|██████████| 2150/2150 [00:00<00:00, 4906.17ex/s]\n",
      "100%|██████████| 2150/2150 [00:00<00:00, 5477.57ex/s]\n",
      "100%|██████████| 2150/2150 [00:00<00:00, 3761.53ex/s]\n",
      "100%|██████████| 2150/2150 [00:00<00:00, 5553.42ex/s]\n",
      "100%|██████████| 2150/2150 [00:00<00:00, 5578.28ex/s]\n",
      "100%|██████████| 2150/2150 [00:00<00:00, 5569.44ex/s]\n",
      "100%|██████████| 2150/2150 [00:00<00:00, 3973.91ex/s]\n",
      "100%|██████████| 2150/2150 [00:00<00:00, 5612.56ex/s]\n",
      "100%|██████████| 2150/2150 [00:00<00:00, 5598.20ex/s]\n",
      "100%|██████████| 2150/2150 [00:00<00:00, 5588.39ex/s]\n",
      "100%|██████████| 2150/2150 [00:00<00:00, 4015.90ex/s]\n",
      "100%|██████████| 2150/2150 [00:00<00:00, 5557.35ex/s]\n",
      "100%|██████████| 2150/2150 [00:00<00:00, 5577.50ex/s]\n",
      "100%|██████████| 2150/2150 [00:00<00:00, 5532.96ex/s]\n",
      "100%|██████████| 2150/2150 [00:00<00:00, 5570.08ex/s]\n",
      "100%|██████████| 2150/2150 [00:00<00:00, 3937.09ex/s]\n",
      "100%|██████████| 2150/2150 [00:00<00:00, 5610.88ex/s]\n",
      "100%|██████████| 2150/2150 [00:00<00:00, 5615.81ex/s]\n",
      "100%|██████████| 2150/2150 [00:00<00:00, 5590.30ex/s]\n",
      "100%|██████████| 2150/2150 [00:00<00:00, 4037.44ex/s]\n",
      "100%|██████████| 2150/2150 [00:00<00:00, 5065.45ex/s]\n",
      "100%|██████████| 2150/2150 [00:00<00:00, 5606.90ex/s]\n",
      "100%|██████████| 2150/2150 [00:00<00:00, 5573.63ex/s]\n",
      "100%|██████████| 2150/2150 [00:00<00:00, 3999.78ex/s]\n",
      "100%|██████████| 2150/2150 [00:00<00:00, 5573.38ex/s]\n",
      "100%|██████████| 2150/2150 [00:00<00:00, 5594.75ex/s]\n",
      "100%|██████████| 2150/2150 [00:00<00:00, 5581.25ex/s]\n",
      "100%|██████████| 2150/2150 [00:00<00:00, 4006.57ex/s]\n",
      "100%|██████████| 2150/2150 [00:00<00:00, 5601.20ex/s]\n",
      "100%|██████████| 2150/2150 [00:00<00:00, 5596.82ex/s]\n",
      "100%|██████████| 2150/2150 [00:00<00:00, 5599.43ex/s]\n",
      "100%|██████████| 2150/2150 [00:00<00:00, 4016.92ex/s]\n",
      "100%|██████████| 2150/2150 [00:00<00:00, 5573.43ex/s]\n",
      "100%|██████████| 2150/2150 [00:00<00:00, 5574.94ex/s]\n",
      "100%|██████████| 2150/2150 [00:00<00:00, 5604.81ex/s]\n",
      "100%|██████████| 2150/2150 [00:00<00:00, 4010.71ex/s]\n",
      "100%|██████████| 2150/2150 [00:00<00:00, 5618.85ex/s]\n",
      "100%|██████████| 2150/2150 [00:00<00:00, 5544.36ex/s]\n",
      "100%|██████████| 2150/2150 [00:00<00:00, 5601.21ex/s]\n",
      "100%|██████████| 2150/2150 [00:00<00:00, 5606.23ex/s]\n",
      "100%|██████████| 2150/2150 [00:00<00:00, 4026.72ex/s]\n",
      "100%|██████████| 2150/2150 [00:00<00:00, 5581.86ex/s]\n",
      "100%|██████████| 2150/2150 [00:00<00:00, 5597.54ex/s]\n",
      "100%|██████████| 2150/2150 [00:00<00:00, 5574.86ex/s]\n",
      "100%|██████████| 2150/2150 [00:00<00:00, 4003.11ex/s]\n",
      "100%|██████████| 2150/2150 [00:00<00:00, 5603.84ex/s]\n",
      "100%|██████████| 2150/2150 [00:00<00:00, 5568.13ex/s]\n",
      "100%|██████████| 2150/2150 [00:00<00:00, 5609.26ex/s]\n",
      "100%|██████████| 2150/2150 [00:00<00:00, 4010.24ex/s]\n",
      "100%|██████████| 2150/2150 [00:00<00:00, 5644.94ex/s]\n",
      "100%|██████████| 2150/2150 [00:00<00:00, 5573.10ex/s]\n",
      "100%|██████████| 2150/2150 [00:00<00:00, 5625.69ex/s]\n",
      "100%|██████████| 2150/2150 [00:00<00:00, 4006.93ex/s]\n",
      "100%|██████████| 2150/2150 [00:00<00:00, 5507.97ex/s]\n",
      "100%|██████████| 2150/2150 [00:00<00:00, 5466.60ex/s]\n",
      "100%|██████████| 2150/2150 [00:00<00:00, 5600.00ex/s]\n",
      "100%|██████████| 2150/2150 [00:00<00:00, 5615.87ex/s]\n",
      "100%|██████████| 2150/2150 [00:00<00:00, 4019.35ex/s]\n",
      "100%|██████████| 2150/2150 [00:00<00:00, 5620.80ex/s]\n",
      "100%|██████████| 2150/2150 [00:00<00:00, 5585.19ex/s]\n",
      "100%|██████████| 2150/2150 [00:00<00:00, 5604.51ex/s]\n",
      "100%|██████████| 2150/2150 [00:00<00:00, 4018.84ex/s]\n",
      "100%|██████████| 2150/2150 [00:00<00:00, 5590.90ex/s]\n",
      "100%|██████████| 2150/2150 [00:00<00:00, 5598.76ex/s]\n",
      "100%|██████████| 2150/2150 [00:00<00:00, 5603.88ex/s]\n",
      "100%|██████████| 2150/2150 [00:00<00:00, 4016.65ex/s]\n",
      "100%|██████████| 2150/2150 [00:00<00:00, 5589.93ex/s]\n",
      "100%|██████████| 2150/2150 [00:00<00:00, 5606.51ex/s]\n",
      "100%|██████████| 2150/2150 [00:00<00:00, 5581.11ex/s]\n",
      "100%|██████████| 2150/2150 [00:00<00:00, 4022.61ex/s]\n",
      "100%|██████████| 2150/2150 [00:00<00:00, 5435.87ex/s]\n",
      "100%|██████████| 2150/2150 [00:00<00:00, 5607.26ex/s]\n",
      "100%|██████████| 2150/2150 [00:00<00:00, 5623.94ex/s]\n",
      "100%|██████████| 2150/2150 [00:00<00:00, 4008.75ex/s]\n",
      "100%|██████████| 2150/2150 [00:00<00:00, 5581.40ex/s]\n",
      "100%|██████████| 2150/2150 [00:00<00:00, 5577.31ex/s]\n",
      "100%|██████████| 2150/2150 [00:00<00:00, 5621.78ex/s]\n",
      "100%|██████████| 2150/2150 [00:00<00:00, 4015.67ex/s]\n",
      "100%|██████████| 2150/2150 [00:00<00:00, 5607.58ex/s]\n",
      "100%|██████████| 2150/2150 [00:00<00:00, 5582.20ex/s]\n",
      "100%|██████████| 2150/2150 [00:00<00:00, 5579.04ex/s]\n",
      "100%|██████████| 2150/2150 [00:00<00:00, 5591.49ex/s]\n",
      "100%|██████████| 2150/2150 [00:00<00:00, 4028.61ex/s]\n",
      "100%|██████████| 2150/2150 [00:00<00:00, 5608.77ex/s]\n",
      "100%|██████████| 2150/2150 [00:00<00:00, 5594.79ex/s]\n",
      "100%|██████████| 2150/2150 [00:00<00:00, 5550.63ex/s]\n",
      "100%|██████████| 2150/2150 [00:00<00:00, 4019.70ex/s]\n",
      "100%|██████████| 2150/2150 [00:00<00:00, 5668.57ex/s]\n"
     ]
    },
    {
     "data": {
      "image/png": "[encoded data removed]",
      "text/plain": [
       "<Figure size 432x288 with 1 Axes>"
      ]
     },
     "metadata": {
      "needs_background": "light"
     },
     "output_type": "display_data"
    },
    {
     "data": {
      "image/png": "[encoded data removed]",
      "text/plain": [
       "<Figure size 432x288 with 1 Axes>"
      ]
     },
     "metadata": {
      "needs_background": "light"
     },
     "output_type": "display_data"
    },
    {
     "name": "stdout",
     "output_type": "stream",
     "text": [
      "Best threshold (micro): 0.11 with F1-score 0.54.\n",
      "Best threshold (macro): 0.11 with F1-score 0.53.\n",
      "Best threshold (macro-Precision): 0.99 with macroP-score 0.54.\n",
      "Best threshold (macro-Recall): 0.01 with macroR-score 0.95.\n",
      "This person shows {}.\n"
     ]
    },
    {
     "name": "stderr",
     "output_type": "stream",
     "text": [
      "  0%|          | 0/2150 [00:00<?, ?ex/s]/home/njfernandez/.local/lib/python3.8/site-packages/transformers/pipelines/base.py:1043: UserWarning: You seem to be using the pipelines sequentially on GPU. In order to maximize efficiency please use a dataset\n",
      "  warnings.warn(\n",
      "100%|██████████| 2150/2150 [02:09<00:00, 16.65ex/s]\n",
      "100%|██████████| 2150/2150 [00:00<00:00, 5495.04ex/s]\n",
      "100%|██████████| 2150/2150 [00:00<00:00, 3698.52ex/s]\n",
      "100%|██████████| 2150/2150 [00:00<00:00, 5581.84ex/s]\n",
      "100%|██████████| 2150/2150 [00:00<00:00, 5594.82ex/s]\n",
      "100%|██████████| 2150/2150 [00:00<00:00, 5547.24ex/s]\n",
      "100%|██████████| 2150/2150 [00:00<00:00, 4007.86ex/s]\n",
      "100%|██████████| 2150/2150 [00:00<00:00, 5614.89ex/s]\n",
      "100%|██████████| 2150/2150 [00:00<00:00, 5612.09ex/s]\n",
      "100%|██████████| 2150/2150 [00:00<00:00, 5580.38ex/s]\n",
      "100%|██████████| 2150/2150 [00:00<00:00, 5608.90ex/s]\n",
      "100%|██████████| 2150/2150 [00:00<00:00, 4036.30ex/s]\n",
      "100%|██████████| 2150/2150 [00:00<00:00, 5591.60ex/s]\n",
      "100%|██████████| 2150/2150 [00:00<00:00, 5586.27ex/s]\n",
      "100%|██████████| 2150/2150 [00:00<00:00, 5588.44ex/s]\n",
      "100%|██████████| 2150/2150 [00:00<00:00, 3992.91ex/s]\n",
      "100%|██████████| 2150/2150 [00:00<00:00, 5604.86ex/s]\n",
      "100%|██████████| 2150/2150 [00:00<00:00, 5593.64ex/s]\n",
      "100%|██████████| 2150/2150 [00:00<00:00, 5078.28ex/s]\n",
      "100%|██████████| 2150/2150 [00:00<00:00, 4011.89ex/s]\n",
      "100%|██████████| 2150/2150 [00:00<00:00, 5575.92ex/s]\n",
      "100%|██████████| 2150/2150 [00:00<00:00, 5593.27ex/s]\n",
      "100%|██████████| 2150/2150 [00:00<00:00, 5567.85ex/s]\n",
      "100%|██████████| 2150/2150 [00:00<00:00, 4020.22ex/s]\n",
      "100%|██████████| 2150/2150 [00:00<00:00, 5582.20ex/s]\n",
      "100%|██████████| 2150/2150 [00:00<00:00, 5582.79ex/s]\n",
      "100%|██████████| 2150/2150 [00:00<00:00, 5586.33ex/s]\n",
      "100%|██████████| 2150/2150 [00:00<00:00, 4014.05ex/s]\n",
      "100%|██████████| 2150/2150 [00:00<00:00, 5587.14ex/s]\n",
      "100%|██████████| 2150/2150 [00:00<00:00, 5555.18ex/s]\n",
      "100%|██████████| 2150/2150 [00:00<00:00, 5586.47ex/s]\n",
      "100%|██████████| 2150/2150 [00:00<00:00, 4003.11ex/s]\n",
      "100%|██████████| 2150/2150 [00:00<00:00, 5611.44ex/s]\n",
      "100%|██████████| 2150/2150 [00:00<00:00, 5565.15ex/s]\n",
      "100%|██████████| 2150/2150 [00:00<00:00, 5608.41ex/s]\n",
      "100%|██████████| 2150/2150 [00:00<00:00, 4017.59ex/s]\n",
      "100%|██████████| 2150/2150 [00:00<00:00, 5592.11ex/s]\n",
      "100%|██████████| 2150/2150 [00:00<00:00, 5559.22ex/s]\n",
      "100%|██████████| 2150/2150 [00:00<00:00, 5591.33ex/s]\n",
      "100%|██████████| 2150/2150 [00:00<00:00, 4004.00ex/s]\n",
      "100%|██████████| 2150/2150 [00:00<00:00, 5590.43ex/s]\n",
      "100%|██████████| 2150/2150 [00:00<00:00, 5434.75ex/s]\n",
      "100%|██████████| 2150/2150 [00:00<00:00, 5503.55ex/s]\n",
      "100%|██████████| 2150/2150 [00:00<00:00, 5581.87ex/s]\n",
      "100%|██████████| 2150/2150 [00:00<00:00, 4016.20ex/s]\n",
      "100%|██████████| 2150/2150 [00:00<00:00, 5541.68ex/s]\n",
      "100%|██████████| 2150/2150 [00:00<00:00, 5506.23ex/s]\n",
      "100%|██████████| 2150/2150 [00:00<00:00, 5520.18ex/s]\n",
      "100%|██████████| 2150/2150 [00:00<00:00, 3726.68ex/s]\n",
      "100%|██████████| 2150/2150 [00:00<00:00, 5343.93ex/s]\n",
      "100%|██████████| 2150/2150 [00:00<00:00, 5649.05ex/s]\n",
      "100%|██████████| 2150/2150 [00:00<00:00, 5509.07ex/s]\n",
      "100%|██████████| 2150/2150 [00:00<00:00, 3861.31ex/s]\n",
      "100%|██████████| 2150/2150 [00:00<00:00, 5634.56ex/s]\n",
      "100%|██████████| 2150/2150 [00:00<00:00, 5632.55ex/s]\n",
      "100%|██████████| 2150/2150 [00:00<00:00, 5627.71ex/s]\n",
      "100%|██████████| 2150/2150 [00:00<00:00, 5160.42ex/s]\n",
      "100%|██████████| 2150/2150 [00:00<00:00, 4046.79ex/s]\n",
      "100%|██████████| 2150/2150 [00:00<00:00, 5593.22ex/s]\n",
      "100%|██████████| 2150/2150 [00:00<00:00, 5583.79ex/s]\n",
      "100%|██████████| 2150/2150 [00:00<00:00, 5572.33ex/s]\n",
      "100%|██████████| 2150/2150 [00:00<00:00, 3967.02ex/s]\n",
      "100%|██████████| 2150/2150 [00:00<00:00, 5608.83ex/s]\n",
      "100%|██████████| 2150/2150 [00:00<00:00, 5637.59ex/s]\n",
      "100%|██████████| 2150/2150 [00:00<00:00, 5580.69ex/s]\n",
      "100%|██████████| 2150/2150 [00:00<00:00, 4030.33ex/s]\n",
      "100%|██████████| 2150/2150 [00:00<00:00, 5595.03ex/s]\n",
      "100%|██████████| 2150/2150 [00:00<00:00, 5624.84ex/s]\n",
      "100%|██████████| 2150/2150 [00:00<00:00, 5607.79ex/s]\n",
      "100%|██████████| 2150/2150 [00:00<00:00, 4021.94ex/s]\n",
      "100%|██████████| 2150/2150 [00:00<00:00, 5599.47ex/s]\n",
      "100%|██████████| 2150/2150 [00:00<00:00, 5631.82ex/s]\n",
      "100%|██████████| 2150/2150 [00:00<00:00, 5591.42ex/s]\n",
      "100%|██████████| 2150/2150 [00:00<00:00, 5611.84ex/s]\n",
      "100%|██████████| 2150/2150 [00:00<00:00, 3963.58ex/s]\n",
      "100%|██████████| 2150/2150 [00:00<00:00, 5610.05ex/s]\n",
      "100%|██████████| 2150/2150 [00:00<00:00, 5609.99ex/s]\n",
      "100%|██████████| 2150/2150 [00:00<00:00, 5603.46ex/s]\n",
      "100%|██████████| 2150/2150 [00:00<00:00, 4030.52ex/s]\n",
      "100%|██████████| 2150/2150 [00:00<00:00, 5567.83ex/s]\n",
      "100%|██████████| 2150/2150 [00:00<00:00, 5609.35ex/s]\n",
      "100%|██████████| 2150/2150 [00:00<00:00, 5585.10ex/s]\n",
      "100%|██████████| 2150/2150 [00:00<00:00, 4022.42ex/s]\n",
      "100%|██████████| 2150/2150 [00:00<00:00, 5592.94ex/s]\n",
      "100%|██████████| 2150/2150 [00:00<00:00, 5587.50ex/s]\n",
      "100%|██████████| 2150/2150 [00:00<00:00, 5602.56ex/s]\n",
      "100%|██████████| 2150/2150 [00:00<00:00, 4014.84ex/s]\n",
      "100%|██████████| 2150/2150 [00:00<00:00, 5648.08ex/s]\n",
      "100%|██████████| 2150/2150 [00:00<00:00, 5599.61ex/s]\n",
      "100%|██████████| 2150/2150 [00:00<00:00, 5595.33ex/s]\n",
      "100%|██████████| 2150/2150 [00:00<00:00, 4019.86ex/s]\n",
      "100%|██████████| 2150/2150 [00:00<00:00, 5600.01ex/s]\n",
      "100%|██████████| 2150/2150 [00:00<00:00, 5635.20ex/s]\n",
      "100%|██████████| 2150/2150 [00:00<00:00, 5611.49ex/s]\n",
      "100%|██████████| 2150/2150 [00:00<00:00, 4028.96ex/s]\n",
      "100%|██████████| 2150/2150 [00:00<00:00, 5631.21ex/s]\n",
      "100%|██████████| 2150/2150 [00:00<00:00, 5645.94ex/s]\n",
      "100%|██████████| 2150/2150 [00:00<00:00, 5632.43ex/s]\n",
      "100%|██████████| 2150/2150 [00:00<00:00, 5623.17ex/s]\n",
      "100%|██████████| 2150/2150 [00:00<00:00, 4049.44ex/s]\n",
      "100%|██████████| 2150/2150 [00:00<00:00, 5667.27ex/s]\n"
     ]
    },
    {
     "data": {
      "image/png": "[encoded data removed]",
      "text/plain": [
       "<Figure size 432x288 with 1 Axes>"
      ]
     },
     "metadata": {
      "needs_background": "light"
     },
     "output_type": "display_data"
    },
    {
     "data": {
      "image/png": "[encoded data removed]",
      "text/plain": [
       "<Figure size 432x288 with 1 Axes>"
      ]
     },
     "metadata": {
      "needs_background": "light"
     },
     "output_type": "display_data"
    },
    {
     "name": "stdout",
     "output_type": "stream",
     "text": [
      "Best threshold (micro): 0.08 with F1-score 0.53.\n",
      "Best threshold (macro): 0.08 with F1-score 0.53.\n",
      "Best threshold (macro-Precision): 0.99 with macroP-score 0.59.\n",
      "Best threshold (macro-Recall): 0.01 with macroR-score 0.94.\n",
      "This person expresses {}.\n"
     ]
    },
    {
     "name": "stderr",
     "output_type": "stream",
     "text": [
      "  0%|          | 0/2150 [00:00<?, ?ex/s]/home/njfernandez/.local/lib/python3.8/site-packages/transformers/pipelines/base.py:1043: UserWarning: You seem to be using the pipelines sequentially on GPU. In order to maximize efficiency please use a dataset\n",
      "  warnings.warn(\n",
      "100%|██████████| 2150/2150 [02:24<00:00, 14.83ex/s]\n",
      "100%|██████████| 2150/2150 [00:00<00:00, 5121.25ex/s]\n",
      "100%|██████████| 2150/2150 [00:01<00:00, 1958.70ex/s]\n",
      "100%|██████████| 2150/2150 [00:00<00:00, 5312.78ex/s]\n",
      "100%|██████████| 2150/2150 [00:00<00:00, 5316.85ex/s]\n",
      "100%|██████████| 2150/2150 [00:00<00:00, 5374.43ex/s]\n",
      "100%|██████████| 2150/2150 [00:00<00:00, 3946.71ex/s]\n",
      "100%|██████████| 2150/2150 [00:00<00:00, 5462.85ex/s]\n",
      "100%|██████████| 2150/2150 [00:00<00:00, 5406.69ex/s]\n",
      "100%|██████████| 2150/2150 [00:00<00:00, 5375.85ex/s]\n",
      "100%|██████████| 2150/2150 [00:00<00:00, 3754.25ex/s]\n",
      "100%|██████████| 2150/2150 [00:00<00:00, 5393.19ex/s]\n",
      "100%|██████████| 2150/2150 [00:00<00:00, 5420.93ex/s]\n",
      "100%|██████████| 2150/2150 [00:00<00:00, 5418.87ex/s]\n",
      "100%|██████████| 2150/2150 [00:00<00:00, 3425.58ex/s]\n",
      "100%|██████████| 2150/2150 [00:00<00:00, 5337.05ex/s]\n",
      "100%|██████████| 2150/2150 [00:00<00:00, 5384.10ex/s]\n",
      "100%|██████████| 2150/2150 [00:00<00:00, 4868.71ex/s]\n",
      "100%|██████████| 2150/2150 [00:00<00:00, 3894.46ex/s]\n",
      "100%|██████████| 2150/2150 [00:00<00:00, 5393.54ex/s]\n",
      "100%|██████████| 2150/2150 [00:00<00:00, 5387.08ex/s]\n",
      "100%|██████████| 2150/2150 [00:00<00:00, 5355.19ex/s]\n",
      "100%|██████████| 2150/2150 [00:00<00:00, 5138.50ex/s]\n",
      "100%|██████████| 2150/2150 [00:00<00:00, 3780.01ex/s]\n",
      "100%|██████████| 2150/2150 [00:00<00:00, 5356.15ex/s]\n",
      "100%|██████████| 2150/2150 [00:00<00:00, 5400.39ex/s]\n",
      "100%|██████████| 2150/2150 [00:00<00:00, 5414.43ex/s]\n",
      "100%|██████████| 2150/2150 [00:00<00:00, 3898.87ex/s]\n",
      "100%|██████████| 2150/2150 [00:00<00:00, 5403.47ex/s]\n",
      "100%|██████████| 2150/2150 [00:00<00:00, 4759.71ex/s]\n",
      "100%|██████████| 2150/2150 [00:00<00:00, 5411.37ex/s]\n",
      "100%|██████████| 2150/2150 [00:00<00:00, 3811.52ex/s]\n",
      "100%|██████████| 2150/2150 [00:00<00:00, 5248.02ex/s]\n",
      "100%|██████████| 2150/2150 [00:00<00:00, 5461.98ex/s]\n",
      "100%|██████████| 2150/2150 [00:00<00:00, 5546.37ex/s]\n",
      "100%|██████████| 2150/2150 [00:00<00:00, 3885.28ex/s]\n",
      "100%|██████████| 2150/2150 [00:00<00:00, 5471.22ex/s]\n",
      "100%|██████████| 2150/2150 [00:00<00:00, 5499.24ex/s]\n",
      "100%|██████████| 2150/2150 [00:00<00:00, 5557.11ex/s]\n",
      "100%|██████████| 2150/2150 [00:00<00:00, 3937.39ex/s]\n",
      "100%|██████████| 2150/2150 [00:00<00:00, 5463.26ex/s]\n",
      "100%|██████████| 2150/2150 [00:00<00:00, 5356.33ex/s]\n",
      "100%|██████████| 2150/2150 [00:00<00:00, 5364.74ex/s]\n",
      "100%|██████████| 2150/2150 [00:00<00:00, 5023.66ex/s]\n",
      "100%|██████████| 2150/2150 [00:00<00:00, 3945.11ex/s]\n",
      "100%|██████████| 2150/2150 [00:00<00:00, 4953.80ex/s]\n",
      "100%|██████████| 2150/2150 [00:00<00:00, 5447.20ex/s]\n",
      "100%|██████████| 2150/2150 [00:00<00:00, 5399.10ex/s]\n",
      "100%|██████████| 2150/2150 [00:00<00:00, 3724.29ex/s]\n",
      "100%|██████████| 2150/2150 [00:00<00:00, 5488.28ex/s]\n",
      "100%|██████████| 2150/2150 [00:00<00:00, 4804.14ex/s]\n",
      "100%|██████████| 2150/2150 [00:00<00:00, 5460.11ex/s]\n",
      "100%|██████████| 2150/2150 [00:00<00:00, 3769.81ex/s]\n",
      "100%|██████████| 2150/2150 [00:00<00:00, 5478.81ex/s]\n",
      "100%|██████████| 2150/2150 [00:00<00:00, 5491.84ex/s]\n",
      "100%|██████████| 2150/2150 [00:00<00:00, 5441.79ex/s]\n",
      "100%|██████████| 2150/2150 [00:00<00:00, 3746.38ex/s]\n",
      "100%|██████████| 2150/2150 [00:00<00:00, 5524.91ex/s]\n",
      "100%|██████████| 2150/2150 [00:00<00:00, 5141.39ex/s]\n",
      "100%|██████████| 2150/2150 [00:00<00:00, 5485.38ex/s]\n",
      "100%|██████████| 2150/2150 [00:00<00:00, 3803.36ex/s]\n",
      "100%|██████████| 2150/2150 [00:00<00:00, 5292.93ex/s]\n",
      "100%|██████████| 2150/2150 [00:00<00:00, 5342.99ex/s]\n",
      "100%|██████████| 2150/2150 [00:00<00:00, 5562.94ex/s]\n",
      "100%|██████████| 2150/2150 [00:00<00:00, 5559.72ex/s]\n",
      "100%|██████████| 2150/2150 [00:00<00:00, 3957.30ex/s]\n",
      "100%|██████████| 2150/2150 [00:00<00:00, 5421.46ex/s]\n",
      "100%|██████████| 2150/2150 [00:00<00:00, 5451.32ex/s]\n",
      "100%|██████████| 2150/2150 [00:00<00:00, 5536.31ex/s]\n",
      "100%|██████████| 2150/2150 [00:00<00:00, 3973.20ex/s]\n",
      "100%|██████████| 2150/2150 [00:00<00:00, 5442.57ex/s]\n",
      "100%|██████████| 2150/2150 [00:00<00:00, 5412.38ex/s]\n",
      "100%|██████████| 2150/2150 [00:00<00:00, 5440.60ex/s]\n",
      "100%|██████████| 2150/2150 [00:00<00:00, 3988.89ex/s]\n",
      "100%|██████████| 2150/2150 [00:00<00:00, 5496.58ex/s]\n",
      "100%|██████████| 2150/2150 [00:00<00:00, 5458.85ex/s]\n",
      "100%|██████████| 2150/2150 [00:00<00:00, 5357.40ex/s]\n",
      "100%|██████████| 2150/2150 [00:00<00:00, 3580.81ex/s]\n",
      "100%|██████████| 2150/2150 [00:00<00:00, 5379.31ex/s]\n",
      "100%|██████████| 2150/2150 [00:00<00:00, 5481.77ex/s]\n",
      "100%|██████████| 2150/2150 [00:00<00:00, 5303.41ex/s]\n",
      "100%|██████████| 2150/2150 [00:00<00:00, 3884.94ex/s]\n",
      "100%|██████████| 2150/2150 [00:00<00:00, 5480.86ex/s]\n",
      "100%|██████████| 2150/2150 [00:00<00:00, 5487.93ex/s]\n",
      "100%|██████████| 2150/2150 [00:00<00:00, 5338.42ex/s]\n",
      "100%|██████████| 2150/2150 [00:00<00:00, 3879.33ex/s]\n",
      "100%|██████████| 2150/2150 [00:00<00:00, 5419.60ex/s]\n",
      "100%|██████████| 2150/2150 [00:00<00:00, 4849.06ex/s]\n",
      "100%|██████████| 2150/2150 [00:00<00:00, 5455.55ex/s]\n",
      "100%|██████████| 2150/2150 [00:00<00:00, 5365.86ex/s]\n",
      "100%|██████████| 2150/2150 [00:00<00:00, 3788.02ex/s]\n",
      "100%|██████████| 2150/2150 [00:00<00:00, 5442.73ex/s]\n",
      "100%|██████████| 2150/2150 [00:00<00:00, 5350.75ex/s]\n",
      "100%|██████████| 2150/2150 [00:00<00:00, 5519.36ex/s]\n",
      "100%|██████████| 2150/2150 [00:00<00:00, 3941.16ex/s]\n",
      "100%|██████████| 2150/2150 [00:00<00:00, 5379.51ex/s]\n",
      "100%|██████████| 2150/2150 [00:00<00:00, 5430.97ex/s]\n",
      "100%|██████████| 2150/2150 [00:00<00:00, 5436.90ex/s]\n",
      "100%|██████████| 2150/2150 [00:00<00:00, 3942.59ex/s]\n",
      "100%|██████████| 2150/2150 [00:00<00:00, 5417.80ex/s]\n",
      "100%|██████████| 2150/2150 [00:00<00:00, 5478.05ex/s]\n"
     ]
    },
    {
     "data": {
      "image/png": "[encoded data removed]",
      "text/plain": [
       "<Figure size 432x288 with 1 Axes>"
      ]
     },
     "metadata": {
      "needs_background": "light"
     },
     "output_type": "display_data"
    },
    {
     "data": {
      "image/png": "[encoded data removed]",
      "text/plain": [
       "<Figure size 432x288 with 1 Axes>"
      ]
     },
     "metadata": {
      "needs_background": "light"
     },
     "output_type": "display_data"
    },
    {
     "name": "stdout",
     "output_type": "stream",
     "text": [
      "Best threshold (micro): 0.06999999999999999 with F1-score 0.53.\n",
      "Best threshold (macro): 0.06999999999999999 with F1-score 0.53.\n",
      "Best threshold (macro-Precision): 0.99 with macroP-score 0.54.\n",
      "Best threshold (macro-Recall): 0.01 with macroR-score 0.96.\n",
      "This text is {}.\n"
     ]
    },
    {
     "name": "stderr",
     "output_type": "stream",
     "text": [
      "  0%|          | 0/2150 [00:00<?, ?ex/s]/home/njfernandez/.local/lib/python3.8/site-packages/transformers/pipelines/base.py:1043: UserWarning: You seem to be using the pipelines sequentially on GPU. In order to maximize efficiency please use a dataset\n",
      "  warnings.warn(\n",
      "100%|██████████| 2150/2150 [02:11<00:00, 16.40ex/s]\n",
      "100%|██████████| 2150/2150 [00:00<00:00, 3675.00ex/s]\n",
      "100%|██████████| 2150/2150 [00:00<00:00, 5560.68ex/s]\n",
      "100%|██████████| 2150/2150 [00:00<00:00, 5150.67ex/s]\n",
      "100%|██████████| 2150/2150 [00:00<00:00, 5463.60ex/s]\n",
      "100%|██████████| 2150/2150 [00:00<00:00, 4756.34ex/s]\n",
      "100%|██████████| 2150/2150 [00:00<00:00, 3574.88ex/s]\n",
      "100%|██████████| 2150/2150 [00:00<00:00, 5557.33ex/s]\n",
      "100%|██████████| 2150/2150 [00:00<00:00, 5541.64ex/s]\n",
      "100%|██████████| 2150/2150 [00:00<00:00, 5527.24ex/s]\n",
      "100%|██████████| 2150/2150 [00:00<00:00, 3909.75ex/s]\n",
      "100%|██████████| 2150/2150 [00:00<00:00, 5449.05ex/s]\n",
      "100%|██████████| 2150/2150 [00:00<00:00, 5450.64ex/s]\n",
      "100%|██████████| 2150/2150 [00:00<00:00, 5505.34ex/s]\n",
      "100%|██████████| 2150/2150 [00:00<00:00, 3880.35ex/s]\n",
      "100%|██████████| 2150/2150 [00:00<00:00, 5431.54ex/s]\n",
      "100%|██████████| 2150/2150 [00:00<00:00, 5427.28ex/s]\n",
      "100%|██████████| 2150/2150 [00:00<00:00, 5460.39ex/s]\n",
      "100%|██████████| 2150/2150 [00:00<00:00, 3872.86ex/s]\n",
      "100%|██████████| 2150/2150 [00:00<00:00, 5405.67ex/s]\n",
      "100%|██████████| 2150/2150 [00:00<00:00, 5537.60ex/s]\n",
      "100%|██████████| 2150/2150 [00:00<00:00, 5591.01ex/s]\n",
      "100%|██████████| 2150/2150 [00:00<00:00, 3988.22ex/s]\n",
      "100%|██████████| 2150/2150 [00:00<00:00, 5559.86ex/s]\n",
      "100%|██████████| 2150/2150 [00:00<00:00, 5494.46ex/s]\n",
      "100%|██████████| 2150/2150 [00:00<00:00, 5548.44ex/s]\n",
      "100%|██████████| 2150/2150 [00:00<00:00, 5492.63ex/s]\n",
      "100%|██████████| 2150/2150 [00:00<00:00, 4002.96ex/s]\n",
      "100%|██████████| 2150/2150 [00:00<00:00, 5523.61ex/s]\n",
      "100%|██████████| 2150/2150 [00:00<00:00, 5522.75ex/s]\n",
      "100%|██████████| 2150/2150 [00:00<00:00, 4975.85ex/s]\n",
      "100%|██████████| 2150/2150 [00:00<00:00, 3836.83ex/s]\n",
      "100%|██████████| 2150/2150 [00:00<00:00, 5476.32ex/s]\n",
      "100%|██████████| 2150/2150 [00:00<00:00, 5589.50ex/s]\n",
      "100%|██████████| 2150/2150 [00:00<00:00, 5585.32ex/s]\n",
      "100%|██████████| 2150/2150 [00:00<00:00, 3941.46ex/s]\n",
      "100%|██████████| 2150/2150 [00:00<00:00, 5393.86ex/s]\n",
      "100%|██████████| 2150/2150 [00:00<00:00, 5514.98ex/s]\n",
      "100%|██████████| 2150/2150 [00:00<00:00, 5554.34ex/s]\n",
      "100%|██████████| 2150/2150 [00:00<00:00, 3616.51ex/s]\n",
      "100%|██████████| 2150/2150 [00:00<00:00, 5571.48ex/s]\n",
      "100%|██████████| 2150/2150 [00:00<00:00, 5489.48ex/s]\n",
      "100%|██████████| 2150/2150 [00:00<00:00, 5295.23ex/s]\n",
      "100%|██████████| 2150/2150 [00:00<00:00, 3427.82ex/s]\n",
      "100%|██████████| 2150/2150 [00:00<00:00, 5510.61ex/s]\n",
      "100%|██████████| 2150/2150 [00:00<00:00, 5595.26ex/s]\n",
      "100%|██████████| 2150/2150 [00:00<00:00, 5643.57ex/s]\n",
      "100%|██████████| 2150/2150 [00:00<00:00, 5545.03ex/s]\n",
      "100%|██████████| 2150/2150 [00:00<00:00, 4012.21ex/s]\n",
      "100%|██████████| 2150/2150 [00:00<00:00, 5565.15ex/s]\n",
      "100%|██████████| 2150/2150 [00:00<00:00, 5589.59ex/s]\n",
      "100%|██████████| 2150/2150 [00:00<00:00, 5584.93ex/s]\n",
      "100%|██████████| 2150/2150 [00:00<00:00, 3979.92ex/s]\n",
      "100%|██████████| 2150/2150 [00:00<00:00, 5617.58ex/s]\n",
      "100%|██████████| 2150/2150 [00:00<00:00, 5487.42ex/s]\n",
      "100%|██████████| 2150/2150 [00:01<00:00, 1144.97ex/s]\n",
      "100%|██████████| 2150/2150 [00:02<00:00, 746.81ex/s]\n",
      "100%|██████████| 2150/2150 [00:00<00:00, 4405.53ex/s]\n",
      "100%|██████████| 2150/2150 [00:00<00:00, 4092.49ex/s]\n",
      "100%|██████████| 2150/2150 [00:00<00:00, 4697.21ex/s]\n",
      "100%|██████████| 2150/2150 [00:01<00:00, 1083.31ex/s]\n",
      "100%|██████████| 2150/2150 [00:00<00:00, 3901.79ex/s]\n",
      "100%|██████████| 2150/2150 [00:00<00:00, 4636.85ex/s]\n",
      "100%|██████████| 2150/2150 [00:00<00:00, 4079.79ex/s]\n",
      "100%|██████████| 2150/2150 [00:01<00:00, 1077.28ex/s]\n",
      "100%|██████████| 2150/2150 [00:00<00:00, 3610.83ex/s]\n",
      "100%|██████████| 2150/2150 [00:00<00:00, 4038.55ex/s]\n",
      "100%|██████████| 2150/2150 [00:00<00:00, 4215.50ex/s]\n",
      "100%|██████████| 2150/2150 [00:00<00:00, 3996.59ex/s]\n",
      "100%|██████████| 2150/2150 [00:01<00:00, 1173.88ex/s]\n",
      "100%|██████████| 2150/2150 [00:00<00:00, 4610.14ex/s]\n",
      "100%|██████████| 2150/2150 [00:00<00:00, 4668.12ex/s]\n",
      "100%|██████████| 2150/2150 [00:00<00:00, 4517.17ex/s]\n",
      "100%|██████████| 2150/2150 [00:01<00:00, 1215.54ex/s]\n",
      "100%|██████████| 2150/2150 [00:00<00:00, 4646.09ex/s]\n",
      "100%|██████████| 2150/2150 [00:00<00:00, 4636.62ex/s]\n",
      "100%|██████████| 2150/2150 [00:00<00:00, 4694.59ex/s]\n",
      "100%|██████████| 2150/2150 [00:01<00:00, 1104.12ex/s]\n",
      "100%|██████████| 2150/2150 [00:00<00:00, 4573.88ex/s]\n",
      "100%|██████████| 2150/2150 [00:00<00:00, 4709.99ex/s]\n",
      "100%|██████████| 2150/2150 [00:00<00:00, 4675.41ex/s]\n",
      "100%|██████████| 2150/2150 [00:01<00:00, 1179.04ex/s]\n",
      "100%|██████████| 2150/2150 [00:00<00:00, 4375.08ex/s]\n",
      "100%|██████████| 2150/2150 [00:00<00:00, 4675.49ex/s]\n",
      "100%|██████████| 2150/2150 [00:00<00:00, 4613.50ex/s]\n",
      "100%|██████████| 2150/2150 [00:01<00:00, 1143.71ex/s]\n",
      "100%|██████████| 2150/2150 [00:00<00:00, 4671.97ex/s]\n",
      "100%|██████████| 2150/2150 [00:00<00:00, 4665.22ex/s]\n",
      "100%|██████████| 2150/2150 [00:00<00:00, 4124.31ex/s]\n",
      "100%|██████████| 2150/2150 [00:00<00:00, 4584.28ex/s]\n",
      "100%|██████████| 2150/2150 [00:01<00:00, 1184.92ex/s]\n",
      "100%|██████████| 2150/2150 [00:00<00:00, 4358.91ex/s]\n",
      "100%|██████████| 2150/2150 [00:00<00:00, 4261.67ex/s]\n",
      "100%|██████████| 2150/2150 [00:00<00:00, 4647.33ex/s]\n",
      "100%|██████████| 2150/2150 [00:01<00:00, 1179.63ex/s]\n",
      "100%|██████████| 2150/2150 [00:00<00:00, 4483.32ex/s]\n",
      "100%|██████████| 2150/2150 [00:00<00:00, 4177.26ex/s]\n",
      "100%|██████████| 2150/2150 [00:00<00:00, 3923.47ex/s]\n",
      "100%|██████████| 2150/2150 [00:01<00:00, 1170.75ex/s]\n",
      "100%|██████████| 2150/2150 [00:00<00:00, 4382.50ex/s]\n",
      "100%|██████████| 2150/2150 [00:00<00:00, 4661.75ex/s]\n"
     ]
    },
    {
     "data": {
      "image/png": "[encoded data removed]",
      "text/plain": [
       "<Figure size 432x288 with 1 Axes>"
      ]
     },
     "metadata": {
      "needs_background": "light"
     },
     "output_type": "display_data"
    },
    {
     "data": {
      "image/png": "[encoded data removed]",
      "text/plain": [
       "<Figure size 432x288 with 1 Axes>"
      ]
     },
     "metadata": {
      "needs_background": "light"
     },
     "output_type": "display_data"
    },
    {
     "name": "stdout",
     "output_type": "stream",
     "text": [
      "Best threshold (micro): 0.02 with F1-score 0.56.\n",
      "Best threshold (macro): 0.02 with F1-score 0.55.\n",
      "Best threshold (macro-Precision): 0.98 with macroP-score 0.66.\n",
      "Best threshold (macro-Recall): 0.01 with macroR-score 0.91.\n",
      "This text is about {}.\n"
     ]
    },
    {
     "name": "stderr",
     "output_type": "stream",
     "text": [
      "  0%|          | 0/2150 [00:00<?, ?ex/s]/home/njfernandez/.local/lib/python3.8/site-packages/transformers/pipelines/base.py:1043: UserWarning: You seem to be using the pipelines sequentially on GPU. In order to maximize efficiency please use a dataset\n",
      "  warnings.warn(\n",
      "100%|██████████| 2150/2150 [01:37<00:00, 21.97ex/s]\n",
      "100%|██████████| 2150/2150 [00:00<00:00, 5355.01ex/s]\n",
      "100%|██████████| 2150/2150 [00:00<00:00, 5382.62ex/s]\n",
      "100%|██████████| 2150/2150 [00:00<00:00, 2357.83ex/s]\n",
      "100%|██████████| 2150/2150 [00:00<00:00, 5577.98ex/s]\n",
      "100%|██████████| 2150/2150 [00:00<00:00, 5434.92ex/s]\n",
      "100%|██████████| 2150/2150 [00:00<00:00, 5431.91ex/s]\n",
      "100%|██████████| 2150/2150 [00:00<00:00, 3796.38ex/s]\n",
      "100%|██████████| 2150/2150 [00:00<00:00, 5629.82ex/s]\n",
      "100%|██████████| 2150/2150 [00:00<00:00, 5563.17ex/s]\n",
      "100%|██████████| 2150/2150 [00:00<00:00, 5206.38ex/s]\n",
      "100%|██████████| 2150/2150 [00:00<00:00, 3762.77ex/s]\n",
      "100%|██████████| 2150/2150 [00:00<00:00, 5581.86ex/s]\n",
      "100%|██████████| 2150/2150 [00:00<00:00, 5659.57ex/s]\n",
      "100%|██████████| 2150/2150 [00:00<00:00, 5619.01ex/s]\n",
      "100%|██████████| 2150/2150 [00:00<00:00, 3883.48ex/s]\n",
      "100%|██████████| 2150/2150 [00:00<00:00, 5590.74ex/s]\n",
      "100%|██████████| 2150/2150 [00:00<00:00, 5639.72ex/s]\n",
      "100%|██████████| 2150/2150 [00:00<00:00, 5270.27ex/s]\n",
      "100%|██████████| 2150/2150 [00:00<00:00, 4033.76ex/s]\n",
      "100%|██████████| 2150/2150 [00:00<00:00, 5620.79ex/s]\n",
      "100%|██████████| 2150/2150 [00:00<00:00, 5659.85ex/s]\n",
      "100%|██████████| 2150/2150 [00:00<00:00, 5037.49ex/s]\n",
      "100%|██████████| 2150/2150 [00:00<00:00, 3705.69ex/s]\n",
      "100%|██████████| 2150/2150 [00:00<00:00, 5629.73ex/s]\n",
      "100%|██████████| 2150/2150 [00:00<00:00, 5609.27ex/s]\n",
      "100%|██████████| 2150/2150 [00:00<00:00, 5612.10ex/s]\n",
      "100%|██████████| 2150/2150 [00:00<00:00, 3744.19ex/s]\n",
      "100%|██████████| 2150/2150 [00:00<00:00, 5369.00ex/s]\n",
      "100%|██████████| 2150/2150 [00:00<00:00, 5659.51ex/s]\n",
      "100%|██████████| 2150/2150 [00:00<00:00, 5660.16ex/s]\n",
      "100%|██████████| 2150/2150 [00:00<00:00, 5660.72ex/s]\n",
      "100%|██████████| 2150/2150 [00:00<00:00, 3909.05ex/s]\n",
      "100%|██████████| 2150/2150 [00:00<00:00, 5473.32ex/s]\n",
      "100%|██████████| 2150/2150 [00:00<00:00, 5721.08ex/s]\n",
      "100%|██████████| 2150/2150 [00:00<00:00, 5706.93ex/s]\n",
      "100%|██████████| 2150/2150 [00:00<00:00, 4070.79ex/s]\n",
      "100%|██████████| 2150/2150 [00:00<00:00, 5725.22ex/s]\n",
      "100%|██████████| 2150/2150 [00:00<00:00, 5241.72ex/s]\n",
      "100%|██████████| 2150/2150 [00:00<00:00, 5691.78ex/s]\n",
      "100%|██████████| 2150/2150 [00:00<00:00, 3922.01ex/s]\n",
      "100%|██████████| 2150/2150 [00:00<00:00, 5677.25ex/s]\n",
      "100%|██████████| 2150/2150 [00:00<00:00, 5625.41ex/s]\n",
      "100%|██████████| 2150/2150 [00:00<00:00, 5689.20ex/s]\n",
      "100%|██████████| 2150/2150 [00:00<00:00, 3973.07ex/s]\n",
      "100%|██████████| 2150/2150 [00:00<00:00, 5689.15ex/s]\n",
      "100%|██████████| 2150/2150 [00:00<00:00, 5689.46ex/s]\n",
      "100%|██████████| 2150/2150 [00:00<00:00, 5669.71ex/s]\n",
      "100%|██████████| 2150/2150 [00:00<00:00, 5704.42ex/s]\n",
      "100%|██████████| 2150/2150 [00:00<00:00, 4043.56ex/s]\n",
      "100%|██████████| 2150/2150 [00:00<00:00, 5674.74ex/s]\n",
      "100%|██████████| 2150/2150 [00:00<00:00, 5643.52ex/s]\n",
      "100%|██████████| 2150/2150 [00:00<00:00, 5705.64ex/s]\n",
      "100%|██████████| 2150/2150 [00:00<00:00, 3944.14ex/s]\n",
      "100%|██████████| 2150/2150 [00:00<00:00, 5691.85ex/s]\n",
      "100%|██████████| 2150/2150 [00:00<00:00, 5678.33ex/s]\n",
      "100%|██████████| 2150/2150 [00:00<00:00, 5655.12ex/s]\n",
      "100%|██████████| 2150/2150 [00:00<00:00, 4083.37ex/s]\n",
      "100%|██████████| 2150/2150 [00:00<00:00, 5724.98ex/s]\n",
      "100%|██████████| 2150/2150 [00:00<00:00, 5725.49ex/s]\n",
      "100%|██████████| 2150/2150 [00:00<00:00, 5666.41ex/s]\n",
      "100%|██████████| 2150/2150 [00:00<00:00, 4073.59ex/s]\n",
      "100%|██████████| 2150/2150 [00:00<00:00, 5655.92ex/s]\n",
      "100%|██████████| 2150/2150 [00:00<00:00, 5692.49ex/s]\n",
      "100%|██████████| 2150/2150 [00:00<00:00, 5647.95ex/s]\n",
      "100%|██████████| 2150/2150 [00:00<00:00, 4070.85ex/s]\n",
      "100%|██████████| 2150/2150 [00:00<00:00, 5641.76ex/s]\n",
      "100%|██████████| 2150/2150 [00:00<00:00, 5653.08ex/s]\n",
      "100%|██████████| 2150/2150 [00:00<00:00, 5654.35ex/s]\n",
      "100%|██████████| 2150/2150 [00:00<00:00, 4059.62ex/s]\n",
      "100%|██████████| 2150/2150 [00:00<00:00, 5717.96ex/s]\n",
      "100%|██████████| 2150/2150 [00:00<00:00, 5114.46ex/s]\n",
      "100%|██████████| 2150/2150 [00:00<00:00, 5681.83ex/s]\n",
      "100%|██████████| 2150/2150 [00:00<00:00, 5640.96ex/s]\n",
      "100%|██████████| 2150/2150 [00:00<00:00, 4055.37ex/s]\n",
      "100%|██████████| 2150/2150 [00:00<00:00, 5656.18ex/s]\n",
      "100%|██████████| 2150/2150 [00:00<00:00, 5664.06ex/s]\n",
      "100%|██████████| 2150/2150 [00:00<00:00, 5669.72ex/s]\n",
      "100%|██████████| 2150/2150 [00:00<00:00, 3761.65ex/s]\n",
      "100%|██████████| 2150/2150 [00:00<00:00, 5673.88ex/s]\n",
      "100%|██████████| 2150/2150 [00:00<00:00, 5669.93ex/s]\n",
      "100%|██████████| 2150/2150 [00:00<00:00, 5688.14ex/s]\n",
      "100%|██████████| 2150/2150 [00:00<00:00, 3826.53ex/s]\n",
      "100%|██████████| 2150/2150 [00:00<00:00, 5686.76ex/s]\n",
      "100%|██████████| 2150/2150 [00:00<00:00, 5655.61ex/s]\n",
      "100%|██████████| 2150/2150 [00:00<00:00, 5714.07ex/s]\n",
      "100%|██████████| 2150/2150 [00:00<00:00, 4073.49ex/s]\n",
      "100%|██████████| 2150/2150 [00:00<00:00, 5659.55ex/s]\n",
      "100%|██████████| 2150/2150 [00:00<00:00, 5705.36ex/s]\n",
      "100%|██████████| 2150/2150 [00:00<00:00, 5724.91ex/s]\n"
     ]
    },
    {
     "data": {
      "image/png": "[encoded data removed]",
      "text/plain": [
       "<Figure size 432x288 with 1 Axes>"
      ]
     },
     "metadata": {
      "needs_background": "light"
     },
     "output_type": "display_data"
    },
    {
     "data": {
      "image/png": "[encoded data removed]",
      "text/plain": [
       "<Figure size 432x288 with 1 Axes>"
      ]
     },
     "metadata": {
      "needs_background": "light"
     },
     "output_type": "display_data"
    },
    {
     "name": "stdout",
     "output_type": "stream",
     "text": [
      "Best threshold (micro): 0.02 with F1-score 0.56.\n",
      "Best threshold (macro): 0.02 with F1-score 0.55.\n",
      "Best threshold (macro-Precision): 0.98 with macroP-score 0.66.\n",
      "Best threshold (macro-Recall): 0.01 with macroR-score 0.87.\n",
      "This text shows {}.\n"
     ]
    },
    {
     "name": "stderr",
     "output_type": "stream",
     "text": [
      "  0%|          | 0/2150 [00:00<?, ?ex/s]/home/njfernandez/.local/lib/python3.8/site-packages/transformers/pipelines/base.py:1043: UserWarning: You seem to be using the pipelines sequentially on GPU. In order to maximize efficiency please use a dataset\n",
      "  warnings.warn(\n",
      "100%|██████████| 2150/2150 [02:08<00:00, 16.75ex/s]\n",
      "100%|██████████| 2150/2150 [00:00<00:00, 3714.85ex/s]\n",
      "100%|██████████| 2150/2150 [00:00<00:00, 5610.28ex/s]\n",
      "100%|██████████| 2150/2150 [00:00<00:00, 5577.69ex/s]\n",
      "100%|██████████| 2150/2150 [00:00<00:00, 5636.28ex/s]\n",
      "100%|██████████| 2150/2150 [00:00<00:00, 4031.96ex/s]\n",
      "100%|██████████| 2150/2150 [00:00<00:00, 5663.05ex/s]\n",
      "100%|██████████| 2150/2150 [00:00<00:00, 5640.01ex/s]\n",
      "100%|██████████| 2150/2150 [00:00<00:00, 5639.39ex/s]\n",
      "100%|██████████| 2150/2150 [00:00<00:00, 4036.10ex/s]\n",
      "100%|██████████| 2150/2150 [00:00<00:00, 5631.25ex/s]\n",
      "100%|██████████| 2150/2150 [00:00<00:00, 4986.70ex/s]\n",
      "100%|██████████| 2150/2150 [00:00<00:00, 5639.49ex/s]\n",
      "100%|██████████| 2150/2150 [00:00<00:00, 4023.58ex/s]\n",
      "100%|██████████| 2150/2150 [00:00<00:00, 5611.37ex/s]\n",
      "100%|██████████| 2150/2150 [00:00<00:00, 5642.94ex/s]\n",
      "100%|██████████| 2150/2150 [00:00<00:00, 5625.19ex/s]\n",
      "100%|██████████| 2150/2150 [00:00<00:00, 4017.59ex/s]\n",
      "100%|██████████| 2150/2150 [00:00<00:00, 5626.02ex/s]\n",
      "100%|██████████| 2150/2150 [00:00<00:00, 5033.83ex/s]\n",
      "100%|██████████| 2150/2150 [00:00<00:00, 5635.11ex/s]\n",
      "100%|██████████| 2150/2150 [00:00<00:00, 4069.12ex/s]\n",
      "100%|██████████| 2150/2150 [00:00<00:00, 5637.71ex/s]\n",
      "100%|██████████| 2150/2150 [00:00<00:00, 5654.25ex/s]\n",
      "100%|██████████| 2150/2150 [00:00<00:00, 5630.67ex/s]\n",
      "100%|██████████| 2150/2150 [00:00<00:00, 5653.87ex/s]\n",
      "100%|██████████| 2150/2150 [00:00<00:00, 4059.57ex/s]\n",
      "100%|██████████| 2150/2150 [00:00<00:00, 5630.07ex/s]\n",
      "100%|██████████| 2150/2150 [00:00<00:00, 5651.16ex/s]\n",
      "100%|██████████| 2150/2150 [00:00<00:00, 5604.13ex/s]\n",
      "100%|██████████| 2150/2150 [00:00<00:00, 4062.59ex/s]\n",
      "100%|██████████| 2150/2150 [00:00<00:00, 5637.20ex/s]\n",
      "100%|██████████| 2150/2150 [00:00<00:00, 5600.02ex/s]\n",
      "100%|██████████| 2150/2150 [00:00<00:00, 5630.44ex/s]\n",
      "100%|██████████| 2150/2150 [00:00<00:00, 4051.74ex/s]\n",
      "100%|██████████| 2150/2150 [00:00<00:00, 5615.13ex/s]\n",
      "100%|██████████| 2150/2150 [00:00<00:00, 5624.28ex/s]\n",
      "100%|██████████| 2150/2150 [00:00<00:00, 5096.40ex/s]\n",
      "100%|██████████| 2150/2150 [00:00<00:00, 4003.12ex/s]\n",
      "100%|██████████| 2150/2150 [00:00<00:00, 5662.27ex/s]\n",
      "100%|██████████| 2150/2150 [00:00<00:00, 5627.57ex/s]\n",
      "100%|██████████| 2150/2150 [00:00<00:00, 5664.96ex/s]\n",
      "100%|██████████| 2150/2150 [00:00<00:00, 4035.66ex/s]\n",
      "100%|██████████| 2150/2150 [00:00<00:00, 5642.51ex/s]\n",
      "100%|██████████| 2150/2150 [00:00<00:00, 5630.06ex/s]\n",
      "100%|██████████| 2150/2150 [00:00<00:00, 5665.29ex/s]\n",
      "100%|██████████| 2150/2150 [00:00<00:00, 5629.11ex/s]\n",
      "100%|██████████| 2150/2150 [00:00<00:00, 4073.27ex/s]\n",
      "100%|██████████| 2150/2150 [00:00<00:00, 5643.57ex/s]\n",
      "100%|██████████| 2150/2150 [00:00<00:00, 5117.97ex/s]\n",
      "100%|██████████| 2150/2150 [00:00<00:00, 5622.20ex/s]\n",
      "100%|██████████| 2150/2150 [00:00<00:00, 4076.05ex/s]\n",
      "100%|██████████| 2150/2150 [00:00<00:00, 5641.36ex/s]\n",
      "100%|██████████| 2150/2150 [00:00<00:00, 5626.87ex/s]\n",
      "100%|██████████| 2150/2150 [00:00<00:00, 5649.27ex/s]\n",
      "100%|██████████| 2150/2150 [00:00<00:00, 4057.61ex/s]\n",
      "100%|██████████| 2150/2150 [00:00<00:00, 5667.40ex/s]\n",
      "100%|██████████| 2150/2150 [00:00<00:00, 5624.22ex/s]\n",
      "100%|██████████| 2150/2150 [00:00<00:00, 5643.19ex/s]\n",
      "100%|██████████| 2150/2150 [00:00<00:00, 4062.55ex/s]\n",
      "100%|██████████| 2150/2150 [00:00<00:00, 5675.64ex/s]\n",
      "100%|██████████| 2150/2150 [00:00<00:00, 5665.72ex/s]\n",
      "100%|██████████| 2150/2150 [00:00<00:00, 5618.64ex/s]\n",
      "100%|██████████| 2150/2150 [00:00<00:00, 4054.18ex/s]\n",
      "100%|██████████| 2150/2150 [00:00<00:00, 5606.57ex/s]\n",
      "100%|██████████| 2150/2150 [00:00<00:00, 5656.89ex/s]\n",
      "100%|██████████| 2150/2150 [00:00<00:00, 5648.80ex/s]\n",
      "100%|██████████| 2150/2150 [00:00<00:00, 4044.85ex/s]\n",
      "100%|██████████| 2150/2150 [00:00<00:00, 5649.54ex/s]\n",
      "100%|██████████| 2150/2150 [00:00<00:00, 5657.65ex/s]\n",
      "100%|██████████| 2150/2150 [00:00<00:00, 5620.60ex/s]\n",
      "100%|██████████| 2150/2150 [00:00<00:00, 5635.62ex/s]\n",
      "100%|██████████| 2150/2150 [00:00<00:00, 4064.12ex/s]\n",
      "100%|██████████| 2150/2150 [00:00<00:00, 5651.97ex/s]\n",
      "100%|██████████| 2150/2150 [00:00<00:00, 5609.69ex/s]\n",
      "100%|██████████| 2150/2150 [00:00<00:00, 5587.56ex/s]\n",
      "100%|██████████| 2150/2150 [00:00<00:00, 3886.09ex/s]\n",
      "100%|██████████| 2150/2150 [00:00<00:00, 5624.66ex/s]\n",
      "100%|██████████| 2150/2150 [00:00<00:00, 5644.01ex/s]\n",
      "100%|██████████| 2150/2150 [00:00<00:00, 5597.88ex/s]\n",
      "100%|██████████| 2150/2150 [00:00<00:00, 4042.81ex/s]\n",
      "100%|██████████| 2150/2150 [00:00<00:00, 5678.73ex/s]\n",
      "100%|██████████| 2150/2150 [00:00<00:00, 5640.03ex/s]\n",
      "100%|██████████| 2150/2150 [00:00<00:00, 5627.06ex/s]\n",
      "100%|██████████| 2150/2150 [00:00<00:00, 4034.44ex/s]\n",
      "100%|██████████| 2150/2150 [00:00<00:00, 5653.90ex/s]\n",
      "100%|██████████| 2150/2150 [00:00<00:00, 5628.76ex/s]\n",
      "100%|██████████| 2150/2150 [00:00<00:00, 5614.55ex/s]\n",
      "100%|██████████| 2150/2150 [00:00<00:00, 5638.70ex/s]\n",
      "100%|██████████| 2150/2150 [00:00<00:00, 4037.99ex/s]\n",
      "100%|██████████| 2150/2150 [00:00<00:00, 5632.27ex/s]\n",
      "100%|██████████| 2150/2150 [00:00<00:00, 5639.90ex/s]\n",
      "100%|██████████| 2150/2150 [00:00<00:00, 5653.70ex/s]\n",
      "100%|██████████| 2150/2150 [00:00<00:00, 4071.75ex/s]\n",
      "100%|██████████| 2150/2150 [00:00<00:00, 5360.55ex/s]\n",
      "100%|██████████| 2150/2150 [00:00<00:00, 5621.76ex/s]\n",
      "100%|██████████| 2150/2150 [00:00<00:00, 5635.19ex/s]\n",
      "100%|██████████| 2150/2150 [00:00<00:00, 4018.56ex/s]\n",
      "100%|██████████| 2150/2150 [00:00<00:00, 5658.72ex/s]\n",
      "100%|██████████| 2150/2150 [00:00<00:00, 5647.40ex/s]\n",
      "100%|██████████| 2150/2150 [00:00<00:00, 5670.07ex/s]\n"
     ]
    },
    {
     "data": {
      "image/png": "[encoded data removed]",
      "text/plain": [
       "<Figure size 432x288 with 1 Axes>"
      ]
     },
     "metadata": {
      "needs_background": "light"
     },
     "output_type": "display_data"
    },
    {
     "data": {
      "image/png": "[encoded data removed]",
      "text/plain": [
       "<Figure size 432x288 with 1 Axes>"
      ]
     },
     "metadata": {
      "needs_background": "light"
     },
     "output_type": "display_data"
    },
    {
     "name": "stdout",
     "output_type": "stream",
     "text": [
      "Best threshold (micro): 0.03 with F1-score 0.55.\n",
      "Best threshold (macro): 0.03 with F1-score 0.54.\n",
      "Best threshold (macro-Precision): 0.99 with macroP-score 0.60.\n",
      "Best threshold (macro-Recall): 0.01 with macroR-score 0.93.\n",
      "This text expresses {}.\n"
     ]
    },
    {
     "name": "stderr",
     "output_type": "stream",
     "text": [
      "  0%|          | 0/2150 [00:00<?, ?ex/s]/home/njfernandez/.local/lib/python3.8/site-packages/transformers/pipelines/base.py:1043: UserWarning: You seem to be using the pipelines sequentially on GPU. In order to maximize efficiency please use a dataset\n",
      "  warnings.warn(\n",
      " 72%|███████▏  | 1538/2150 [01:32<00:36, 16.56ex/s]IOPub message rate exceeded.\n",
      "The notebook server will temporarily stop sending output\n",
      "to the client in order to avoid crashing it.\n",
      "To change this limit, set the config variable\n",
      "`--NotebookApp.iopub_msg_rate_limit`.\n",
      "\n",
      "Current values:\n",
      "NotebookApp.iopub_msg_rate_limit=1000.0 (msgs/sec)\n",
      "NotebookApp.rate_limit_window=3.0 (secs)\n",
      "\n"
     ]
    }
   ],
   "source": [
    "# Use GPU if available\n",
    "classifier = pipeline('zero-shot-classification', model=zero_shot_model, device=0, fp16=True, batch_size=64)\n",
    "\n",
    "for ht in h_ts:\n",
    "    print(ht)\n",
    "    ait_dataset['valid'] = ait_dataset['valid'].map(zero_shot_pipeline)\n",
    "    macros, micros, macroprecision, macrorecall = [], [], [], []\n",
    "    thresholds = np.linspace(0.01, 1, 100)\n",
    "    for threshold in thresholds:\n",
    "        ds_zero_shot = ait_dataset['valid'].map(get_preds,\n",
    "                                        fn_kwargs={\"threshold\": threshold})\n",
    "        clf_report = get_clf_report(ds_zero_shot)\n",
    "        micros.append(clf_report[\"micro avg\"][\"f1-score\"])\n",
    "        macros.append(clf_report[\"macro avg\"][\"f1-score\"])\n",
    "        macroprecision.append(clf_report['macro avg']['precision'])\n",
    "        macrorecall.append(clf_report['macro avg']['recall'])\n",
    "    plt.plot(thresholds, micros, label=\"Micro F1\")\n",
    "    plt.plot(thresholds, macros, label=\"Macro F1\")\n",
    "    plt.xlabel(\"Threshold\")\n",
    "    plt.ylabel(\"F1-score\")\n",
    "    plt.legend(loc=\"best\")\n",
    "    plt.show()\n",
    "    plt.plot(thresholds, macroprecision, label=\"Macro P\")\n",
    "    plt.plot(thresholds, macrorecall, label=\"Macro R\")\n",
    "    plt.xlabel(\"Threshold\")\n",
    "    plt.ylabel(\"Score\")\n",
    "    plt.legend(loc=\"best\")\n",
    "    plt.show()\n",
    "    best_t, best_micro = thresholds[np.argmax(micros)], np.max(micros)\n",
    "    print(f'Best threshold (micro): {best_t} with F1-score {best_micro:.2f}.')\n",
    "    best_t, best_macro = thresholds[np.argmax(macros)], np.max(macros)\n",
    "    print(f'Best threshold (macro): {best_t} with F1-score {best_macro:.2f}.')\n",
    "    best_t, best_macro_P = thresholds[np.argmax(macroprecision)], np.max(macroprecision)\n",
    "    print(f'Best threshold (macro-Precision): {best_t} with macroP-score {best_macro_P:.2f}.')\n",
    "    best_t, best_macro_R = thresholds[np.argmax(macrorecall)], np.max(macrorecall)\n",
    "    print(f'Best threshold (macro-Recall): {best_t} with macroR-score {best_macro_R:.2f}.')"
   ]
  },
  {
   "cell_type": "code",
   "execution_count": 11,
   "id": "071f4d6d",
   "metadata": {},
   "outputs": [
    {
     "name": "stdout",
     "output_type": "stream",
     "text": [
      "This person feels {}.\n"
     ]
    },
    {
     "name": "stderr",
     "output_type": "stream",
     "text": [
      "  0%|          | 0/7631 [00:00<?, ?ex/s]/home/njfernandez/.local/lib/python3.8/site-packages/transformers/pipelines/base.py:1043: UserWarning: You seem to be using the pipelines sequentially on GPU. In order to maximize efficiency please use a dataset\n",
      "  warnings.warn(\n",
      "100%|██████████| 7631/7631 [07:55<00:00, 16.06ex/s]\n",
      "100%|██████████| 7631/7631 [00:01<00:00, 4724.43ex/s]\n"
     ]
    },
    {
     "name": "stdout",
     "output_type": "stream",
     "text": [
      "{'ANGRY': {'precision': 0.4392755681818182, 'recall': 0.9410422213769494, 'f1-score': 0.5989589638058347, 'support': 2629}, 'DISLIKE': {'precision': 0.3379712746858169, 'recall': 0.8193688792165397, 'f1-score': 0.4785510009532888, 'support': 1838}, 'OTHER': {'precision': 0.922077922077922, 'recall': 0.34273373983739835, 'f1-score': 0.4997221707723652, 'support': 3936}, 'PESSIMISTIC': {'precision': 0.48010610079575594, 'recall': 0.8743961352657005, 'f1-score': 0.6198630136986302, 'support': 2691}, 'WORRIED': {'precision': 0.2051026509866454, 'recall': 0.9545454545454546, 'f1-score': 0.33765381460213295, 'support': 1078}, 'micro avg': {'precision': 0.4057478224416601, 'recall': 0.7156588892540257, 'f1-score': 0.517879967896317, 'support': 12172}, 'macro avg': {'precision': 0.47690670334559176, 'recall': 0.7864172860484084, 'f1-score': 0.5069497927664504, 'support': 12172}, 'weighted avg': {'precision': 0.5683874094582826, 'recall': 0.7156588892540257, 'f1-score': 0.530166653118783, 'support': 12172}, 'samples avg': {'precision': 0.4198073646966321, 'recall': 0.6618202070501901, 'f1-score': 0.4824785284751213, 'support': 12172}}\n"
     ]
    },
    {
     "name": "stderr",
     "output_type": "stream",
     "text": [
      "100%|██████████| 8/8 [00:00<00:00, 149.41ba/s]\n"
     ]
    },
    {
     "name": "stdout",
     "output_type": "stream",
     "text": [
      "This person conveys {}.\n"
     ]
    },
    {
     "name": "stderr",
     "output_type": "stream",
     "text": [
      "  0%|          | 0/7631 [00:00<?, ?ex/s]/home/njfernandez/.local/lib/python3.8/site-packages/transformers/pipelines/base.py:1043: UserWarning: You seem to be using the pipelines sequentially on GPU. In order to maximize efficiency please use a dataset\n",
      "  warnings.warn(\n",
      " 57%|█████▋    | 4318/7631 [04:26<03:21, 16.41ex/s]IOPub message rate exceeded.\n",
      "The notebook server will temporarily stop sending output\n",
      "to the client in order to avoid crashing it.\n",
      "To change this limit, set the config variable\n",
      "`--NotebookApp.iopub_msg_rate_limit`.\n",
      "\n",
      "Current values:\n",
      "NotebookApp.iopub_msg_rate_limit=1000.0 (msgs/sec)\n",
      "NotebookApp.rate_limit_window=3.0 (secs)\n",
      "\n",
      " 83%|████████▎ | 6316/7631 [06:27<01:19, 16.47ex/s]IOPub message rate exceeded.\n",
      "The notebook server will temporarily stop sending output\n",
      "to the client in order to avoid crashing it.\n",
      "To change this limit, set the config variable\n",
      "`--NotebookApp.iopub_msg_rate_limit`.\n",
      "\n",
      "Current values:\n",
      "NotebookApp.iopub_msg_rate_limit=1000.0 (msgs/sec)\n",
      "NotebookApp.rate_limit_window=3.0 (secs)\n",
      "\n",
      "100%|██████████| 7631/7631 [08:54<00:00, 14.28ex/s]\n",
      "100%|██████████| 7631/7631 [00:01<00:00, 4325.94ex/s]\n"
     ]
    },
    {
     "name": "stdout",
     "output_type": "stream",
     "text": [
      "{'ANGRY': {'precision': 0.45585096060547253, 'recall': 0.893495625713199, 'f1-score': 0.6037008481110254, 'support': 2629}, 'DISLIKE': {'precision': 0.34602244997559783, 'recall': 0.7714907508161044, 'f1-score': 0.4777628032345014, 'support': 1838}, 'OTHER': {'precision': 0.9245152354570637, 'recall': 0.3391768292682927, 'f1-score': 0.4962825278810409, 'support': 3936}, 'PESSIMISTIC': {'precision': 0.47766749379652607, 'recall': 0.8584169453734671, 'f1-score': 0.6137903547229971, 'support': 2691}, 'WORRIED': {'precision': 0.22119815668202766, 'recall': 0.8905380333951762, 'f1-score': 0.35437430786268, 'support': 1078}, 'micro avg': {'precision': 0.42131749786120476, 'recall': 0.6878080841275057, 'f1-score': 0.522547826358331, 'support': 12172}, 'macro avg': {'precision': 0.4850508593033376, 'recall': 0.7506236369132478, 'f1-score': 0.509182168362449, 'support': 12172}, 'weighted avg': {'precision': 0.5748577262533369, 'recall': 0.6878080841275057, 'f1-score': 0.5300978426063285, 'support': 12172}, 'samples avg': {'precision': 0.4284650329795134, 'recall': 0.6408880443803783, 'f1-score': 0.48067677164781086, 'support': 12172}}\n"
     ]
    },
    {
     "name": "stderr",
     "output_type": "stream",
     "text": [
      "100%|██████████| 8/8 [00:00<00:00, 134.49ba/s]\n"
     ]
    },
    {
     "name": "stdout",
     "output_type": "stream",
     "text": [
      "The communicative intention of this text is {}.\n"
     ]
    },
    {
     "name": "stderr",
     "output_type": "stream",
     "text": [
      "  0%|          | 0/7631 [00:00<?, ?ex/s]/home/njfernandez/.local/lib/python3.8/site-packages/transformers/pipelines/base.py:1043: UserWarning: You seem to be using the pipelines sequentially on GPU. In order to maximize efficiency please use a dataset\n",
      "  warnings.warn(\n",
      "  6%|▋         | 490/7631 [00:32<08:20, 14.27ex/s]IOPub message rate exceeded.\n",
      "The notebook server will temporarily stop sending output\n",
      "to the client in order to avoid crashing it.\n",
      "To change this limit, set the config variable\n",
      "`--NotebookApp.iopub_msg_rate_limit`.\n",
      "\n",
      "Current values:\n",
      "NotebookApp.iopub_msg_rate_limit=1000.0 (msgs/sec)\n",
      "NotebookApp.rate_limit_window=3.0 (secs)\n",
      "\n"
     ]
    }
   ],
   "source": [
    "for ht in h_ts:\n",
    "    thr = 0.5\n",
    "    print(ht)\n",
    "    ait_dataset['test'] = ait_dataset['test'].map(zero_shot_pipeline)    \n",
    "    thresholds = np.linspace(0.01, 1, 100)\n",
    "    ds_zero_shot = ait_dataset['test'].map(get_preds, fn_kwargs={'threshold': thr})\n",
    "    clf_report = get_clf_report(ds_zero_shot)\n",
    "    print(clf_report)\n",
    "    df = pd.DataFrame(clf_report).transpose()\n",
    "    with open(f\"classification_report_functions_ait_zero_shot_threshold={thr}_ht={ht}.csv\", 'w') as csv_file:\n",
    "        df.to_csv(path_or_buf=csv_file)        \n",
    "    ds_zero_shot = ds_zero_shot.map(get_predicted_labels, batched=True)\n",
    "    ds_zero_shot.set_format(\"pandas\")\n",
    "    cols = [\"text\", \"functions\", \"predicted_labels\"]\n",
    "    df_test = ds_zero_shot[:][cols]\n",
    "    df_test.to_csv(f\"preds_functions_ait_zero_shot_threshold={thr}_ht={ht}.tsv\",header =True, sep = '\\t',index=False)"
   ]
  },
  {
   "cell_type": "code",
   "execution_count": null,
   "id": "63dc01c4",
   "metadata": {},
   "outputs": [],
   "source": []
  }
 ],
 "metadata": {
  "kernelspec": {
   "display_name": "Python 3 (ipykernel)",
   "language": "python",
   "name": "python3"
  },
  "language_info": {
   "codemirror_mode": {
    "name": "ipython",
    "version": 3
   },
   "file_extension": ".py",
   "mimetype": "text/x-python",
   "name": "python",
   "nbconvert_exporter": "python",
   "pygments_lexer": "ipython3",
   "version": "3.8.10"
  }
 },
 "nbformat": 4,
 "nbformat_minor": 5
}

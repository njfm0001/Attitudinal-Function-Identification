{
 "cells": [
  {
   "cell_type": "code",
   "execution_count": 1,
   "id": "4fb14783",
   "metadata": {},
   "outputs": [
    {
     "name": "stderr",
     "output_type": "stream",
     "text": [
      "/home/njfernandez/.local/lib/python3.8/site-packages/tqdm/auto.py:22: TqdmWarning: IProgress not found. Please update jupyter and ipywidgets. See https://ipywidgets.readthedocs.io/en/stable/user_install.html\n",
      "  from .autonotebook import tqdm as notebook_tqdm\n"
     ]
    }
   ],
   "source": [
    "from datasets import Dataset, load_dataset, DatasetDict, ClassLabel, concatenate_datasets\n",
    "import numpy as np\n",
    "import torch\n",
    "import pandas as pd\n",
    "\n",
    "#Seeding for deterministic results i.e. showing same output \n",
    "RANDOM_SEED = 64\n",
    "np.random.seed(RANDOM_SEED)\n",
    "torch.manual_seed(RANDOM_SEED)\n",
    "if torch.cuda.is_available():\n",
    "   torch.cuda.manual_seed(RANDOM_SEED)\n",
    "   torch.cuda.manual_seed_all(RANDOM_SEED) \n",
    "   torch.backends.cudnn.deterministic = True  \n",
    "   torch.backends.cudnn.benchmark = False"
   ]
  },
  {
   "cell_type": "code",
   "execution_count": 2,
   "id": "c5016f3e",
   "metadata": {},
   "outputs": [
    {
     "data": {
      "text/html": [
       "<div>\n",
       "<style scoped>\n",
       "    .dataframe tbody tr th:only-of-type {\n",
       "        vertical-align: middle;\n",
       "    }\n",
       "\n",
       "    .dataframe tbody tr th {\n",
       "        vertical-align: top;\n",
       "    }\n",
       "\n",
       "    .dataframe thead th {\n",
       "        text-align: right;\n",
       "    }\n",
       "</style>\n",
       "<table border=\"1\" class=\"dataframe\">\n",
       "  <thead>\n",
       "    <tr style=\"text-align: right;\">\n",
       "      <th></th>\n",
       "      <th>text</th>\n",
       "      <th>functions</th>\n",
       "    </tr>\n",
       "  </thead>\n",
       "  <tbody>\n",
       "    <tr>\n",
       "      <th>85</th>\n",
       "      <td>I'm not really very keen on it</td>\n",
       "      <td>DISLIKE</td>\n",
       "    </tr>\n",
       "    <tr>\n",
       "      <th>86</th>\n",
       "      <td>I'm not really very keen</td>\n",
       "      <td>DISLIKE</td>\n",
       "    </tr>\n",
       "    <tr>\n",
       "      <th>87</th>\n",
       "      <td>I'm not really keen on it</td>\n",
       "      <td>DISLIKE</td>\n",
       "    </tr>\n",
       "    <tr>\n",
       "      <th>88</th>\n",
       "      <td>I'm not really keen</td>\n",
       "      <td>DISLIKE</td>\n",
       "    </tr>\n",
       "    <tr>\n",
       "      <th>89</th>\n",
       "      <td>I'm not very keen on it</td>\n",
       "      <td>DISLIKE</td>\n",
       "    </tr>\n",
       "    <tr>\n",
       "      <th>...</th>\n",
       "      <td>...</td>\n",
       "      <td>...</td>\n",
       "    </tr>\n",
       "    <tr>\n",
       "      <th>897</th>\n",
       "      <td>you could do it</td>\n",
       "      <td>OTHER</td>\n",
       "    </tr>\n",
       "    <tr>\n",
       "      <th>898</th>\n",
       "      <td>you look nice</td>\n",
       "      <td>OTHER</td>\n",
       "    </tr>\n",
       "    <tr>\n",
       "      <th>899</th>\n",
       "      <td>you look smart</td>\n",
       "      <td>OTHER</td>\n",
       "    </tr>\n",
       "    <tr>\n",
       "      <th>900</th>\n",
       "      <td>you're right</td>\n",
       "      <td>OTHER</td>\n",
       "    </tr>\n",
       "    <tr>\n",
       "      <th>901</th>\n",
       "      <td>you're welcome</td>\n",
       "      <td>OTHER</td>\n",
       "    </tr>\n",
       "  </tbody>\n",
       "</table>\n",
       "<p>410 rows × 2 columns</p>\n",
       "</div>"
      ],
      "text/plain": [
       "                               text functions\n",
       "85   I'm not really very keen on it   DISLIKE\n",
       "86         I'm not really very keen   DISLIKE\n",
       "87        I'm not really keen on it   DISLIKE\n",
       "88              I'm not really keen   DISLIKE\n",
       "89          I'm not very keen on it   DISLIKE\n",
       "..                              ...       ...\n",
       "897                 you could do it     OTHER\n",
       "898                   you look nice     OTHER\n",
       "899                  you look smart     OTHER\n",
       "900                    you're right     OTHER\n",
       "901                  you're welcome     OTHER\n",
       "\n",
       "[410 rows x 2 columns]"
      ]
     },
     "execution_count": 2,
     "metadata": {},
     "output_type": "execute_result"
    }
   ],
   "source": [
    "comfunctions_basic = 'comfunct_basic.txt'\n",
    "df = pd.read_csv(comfunctions_basic, delimiter=\";\")\n",
    "df = df[df['function'].isin(['ANGRY', 'WORRIED', 'PESSIMISTIC', 'DISLIKE', 'OTHER'])].rename(columns={\"function\": \"functions\"})\n",
    "df"
   ]
  },
  {
   "cell_type": "code",
   "execution_count": 3,
   "id": "1a5c02f9",
   "metadata": {},
   "outputs": [
    {
     "data": {
      "text/plain": [
       "array(['ANGRY', 'DISLIKE', 'OTHER', 'PESSIMISTIC', 'WORRIED'],\n",
       "      dtype=object)"
      ]
     },
     "execution_count": 3,
     "metadata": {},
     "output_type": "execute_result"
    }
   ],
   "source": [
    "unique_labels = df[\"functions\"].unique().tolist()\n",
    "function_labels = ClassLabel(names=unique_labels)\n",
    "\n",
    "from sklearn.preprocessing import MultiLabelBinarizer\n",
    "mlb = MultiLabelBinarizer()\n",
    "mlb.fit([function_labels.names])\n",
    "labels_classes = mlb.classes_\n",
    "labels_classes"
   ]
  },
  {
   "cell_type": "code",
   "execution_count": 4,
   "id": "72d72be8",
   "metadata": {
    "scrolled": true
   },
   "outputs": [
    {
     "name": "stderr",
     "output_type": "stream",
     "text": [
      "Using custom data configuration default-051610f9ffe8f8d2\n",
      "Found cached dataset csv (/home/njfernandez/.cache/huggingface/datasets/csv/default-051610f9ffe8f8d2/0.0.0/6b34fb8fcf56f7c8ba51dc895bfa2bfbe43546f190a60fcf74bb5e8afdcc2317)\n",
      "100%|██████████| 3/3 [00:00<00:00, 719.43it/s]\n",
      "Using custom data configuration default-94907eb33ba58000\n",
      "Found cached dataset csv (/home/njfernandez/.cache/huggingface/datasets/csv/default-94907eb33ba58000/0.0.0/6b34fb8fcf56f7c8ba51dc895bfa2bfbe43546f190a60fcf74bb5e8afdcc2317)\n",
      "100%|██████████| 3/3 [00:00<00:00, 639.70it/s]\n",
      "Using custom data configuration default-869e6abb15784ff2\n",
      "Found cached dataset csv (/home/njfernandez/.cache/huggingface/datasets/csv/default-869e6abb15784ff2/0.0.0/6b34fb8fcf56f7c8ba51dc895bfa2bfbe43546f190a60fcf74bb5e8afdcc2317)\n",
      "100%|██████████| 3/3 [00:00<00:00, 442.36it/s]\n",
      "Loading cached shuffled indices for dataset at /home/njfernandez/.cache/huggingface/datasets/csv/default-051610f9ffe8f8d2/0.0.0/6b34fb8fcf56f7c8ba51dc895bfa2bfbe43546f190a60fcf74bb5e8afdcc2317/cache-342257832c8283f6.arrow\n",
      "Loading cached shuffled indices for dataset at /home/njfernandez/.cache/huggingface/datasets/csv/default-051610f9ffe8f8d2/0.0.0/6b34fb8fcf56f7c8ba51dc895bfa2bfbe43546f190a60fcf74bb5e8afdcc2317/cache-61b64f8f2d33fef0.arrow\n",
      "Loading cached shuffled indices for dataset at /home/njfernandez/.cache/huggingface/datasets/csv/default-051610f9ffe8f8d2/0.0.0/6b34fb8fcf56f7c8ba51dc895bfa2bfbe43546f190a60fcf74bb5e8afdcc2317/cache-22704bf1ca817405.arrow\n"
     ]
    }
   ],
   "source": [
    "function_mapping = {'OTHER': ['anticipation', 'joy', 'love', 'optimism', 'surprise', 'trust'],\n",
    "           'NOT_INTERESTED': [''], \n",
    "           'DISLIKE':['disgust'], \n",
    "           'NOT_CORRECT': [''], \n",
    "           'PESSIMISTIC':['sadness', 'pessimism'], \n",
    "           'WORRIED':['fear'], \n",
    "           'ANGRY': ['anger'], \n",
    "           'DISAPPOINTED': [''], \n",
    "           'BORED': [''], \n",
    "           'NOT_APPROVE':[''], \n",
    "           'NOT_IMPORTANT': [''], \n",
    "           'DISAGREE': [''], \n",
    "           'WARN': [''], \n",
    "           'COMPLAIN': [''], \n",
    "           'THREATEN': [''], \n",
    "           'UNWILLING': [''], \n",
    "           'DISTRUST' : [''],\n",
    "           'REFUSE': [''] }\n",
    "\n",
    "ait_es_dataset = load_dataset(\"csv\", sep = '\\t', data_files ={'train': r'2018-E-c-Es-train.txt',\n",
    "                                                        'test': r'2018-E-c-Es-test-gold.txt',\n",
    "                                                       'valid': r'2018-E-c-Es-dev.txt'})\n",
    "ait_en_dataset = load_dataset(\"csv\", sep = '\\t', data_files ={'train': r'2018-E-c-En-train.txt',\n",
    "                                                        'test': r'2018-E-c-En-test-gold.txt',\n",
    "                                                       'valid': r'2018-E-c-En-dev.txt'})\n",
    "ait_ar_dataset = load_dataset(\"csv\", sep = '\\t', data_files ={'train': r'2018-E-c-Ar-train.txt',\n",
    "                                                        'test': r'2018-E-c-Ar-test-gold.txt',\n",
    "                                                       'valid': r'2018-E-c-Ar-dev.txt'})\n",
    "train_dataset = concatenate_datasets([ait_es_dataset['train'], ait_en_dataset['train'], ait_ar_dataset['train']])\n",
    "valid_dataset = concatenate_datasets([ait_es_dataset['valid'], ait_en_dataset['valid'], ait_ar_dataset['valid']])\n",
    "test_dataset = concatenate_datasets([ait_es_dataset['test'], ait_en_dataset['test'], ait_ar_dataset['test']])\n",
    "\n",
    "ait_dataset = DatasetDict({'train': train_dataset.shuffle(seed=42), 'valid': valid_dataset.shuffle(seed=42), 'test': test_dataset.shuffle(seed=42)})"
   ]
  },
  {
   "cell_type": "code",
   "execution_count": 5,
   "id": "fe70f991",
   "metadata": {},
   "outputs": [
    {
     "data": {
      "text/plain": [
       "{'ID': '2018-Ar-03597',\n",
       " 'Tweet': 'انا رايحة اعمل عملية تانى فى عنيا\\\\nادعولى\\\\nوقلبى وربى غضبانين عليك يا اللى تفرط فى ارضك',\n",
       " 'anger': 1,\n",
       " 'anticipation': 0,\n",
       " 'disgust': 0,\n",
       " 'fear': 0,\n",
       " 'joy': 0,\n",
       " 'love': 0,\n",
       " 'optimism': 0,\n",
       " 'pessimism': 0,\n",
       " 'sadness': 1,\n",
       " 'surprise': 0,\n",
       " 'trust': 0}"
      ]
     },
     "execution_count": 5,
     "metadata": {},
     "output_type": "execute_result"
    }
   ],
   "source": [
    "ait_dataset['test'][20]"
   ]
  },
  {
   "cell_type": "code",
   "execution_count": 6,
   "id": "5d5999de",
   "metadata": {},
   "outputs": [],
   "source": [
    "new_dataset = DatasetDict()\n",
    "for split in ait_dataset:\n",
    "    new_split = []\n",
    "    for record in ait_dataset[split]:\n",
    "        new_record = {'text': record['Tweet']}\n",
    "        for function in function_mapping:\n",
    "            labels = function_mapping[function]\n",
    "            if '' in labels:\n",
    "                continue\n",
    "            else:\n",
    "                score = sum([record[label] for label in labels])\n",
    "                new_record[function] = int(score > 0)\n",
    "        new_split.append(new_record)\n",
    "    ait_dataset[split] =  Dataset.from_pandas(pd.DataFrame(data=new_split))"
   ]
  },
  {
   "cell_type": "code",
   "execution_count": 7,
   "id": "1a817835",
   "metadata": {},
   "outputs": [
    {
     "data": {
      "text/plain": [
       "{'text': 'انا رايحة اعمل عملية تانى فى عنيا\\\\nادعولى\\\\nوقلبى وربى غضبانين عليك يا اللى تفرط فى ارضك',\n",
       " 'OTHER': 0,\n",
       " 'DISLIKE': 0,\n",
       " 'PESSIMISTIC': 1,\n",
       " 'WORRIED': 0,\n",
       " 'ANGRY': 1}"
      ]
     },
     "execution_count": 7,
     "metadata": {},
     "output_type": "execute_result"
    }
   ],
   "source": [
    "ait_dataset['test'][20]"
   ]
  },
  {
   "cell_type": "code",
   "execution_count": 8,
   "id": "1320904f",
   "metadata": {},
   "outputs": [
    {
     "data": {
      "text/plain": [
       "DatasetDict({\n",
       "    train: Dataset({\n",
       "        features: ['text', 'OTHER', 'DISLIKE', 'PESSIMISTIC', 'WORRIED', 'ANGRY'],\n",
       "        num_rows: 12675\n",
       "    })\n",
       "    valid: Dataset({\n",
       "        features: ['text', 'OTHER', 'DISLIKE', 'PESSIMISTIC', 'WORRIED', 'ANGRY'],\n",
       "        num_rows: 2150\n",
       "    })\n",
       "    test: Dataset({\n",
       "        features: ['text', 'OTHER', 'DISLIKE', 'PESSIMISTIC', 'WORRIED', 'ANGRY'],\n",
       "        num_rows: 7631\n",
       "    })\n",
       "})"
      ]
     },
     "execution_count": 8,
     "metadata": {},
     "output_type": "execute_result"
    }
   ],
   "source": [
    "ait_dataset"
   ]
  },
  {
   "cell_type": "code",
   "execution_count": 9,
   "id": "d8492272",
   "metadata": {},
   "outputs": [
    {
     "name": "stderr",
     "output_type": "stream",
     "text": [
      "100%|██████████| 12675/12675 [00:00<00:00, 14486.80ex/s]\n",
      "100%|██████████| 2150/2150 [00:00<00:00, 14692.93ex/s]\n",
      "100%|██████████| 7631/7631 [00:00<00:00, 14572.16ex/s]\n"
     ]
    },
    {
     "data": {
      "text/plain": [
       "{'text': 'انا رايحة اعمل عملية تانى فى عنيا\\\\nادعولى\\\\nوقلبى وربى غضبانين عليك يا اللى تفرط فى ارضك',\n",
       " 'OTHER': 0,\n",
       " 'DISLIKE': 0,\n",
       " 'PESSIMISTIC': 1,\n",
       " 'WORRIED': 0,\n",
       " 'ANGRY': 1,\n",
       " 'functions': ['PESSIMISTIC', 'ANGRY']}"
      ]
     },
     "execution_count": 9,
     "metadata": {},
     "output_type": "execute_result"
    }
   ],
   "source": [
    "cols = ait_dataset['test'].column_names\n",
    "ait_dataset = ait_dataset.map(lambda x : {\"functions\": [c for c in cols if x[c] == 1]})\n",
    "ait_dataset['test'][20]"
   ]
  },
  {
   "cell_type": "code",
   "execution_count": 10,
   "id": "77eeec1b",
   "metadata": {},
   "outputs": [
    {
     "name": "stderr",
     "output_type": "stream",
     "text": [
      "100%|██████████| 13/13 [00:00<00:00, 232.86ba/s]\n",
      "100%|██████████| 3/3 [00:00<00:00, 270.15ba/s]\n",
      "100%|██████████| 8/8 [00:00<00:00, 257.76ba/s]\n"
     ]
    }
   ],
   "source": [
    "# Convert labels to one hot enconding vectors\n",
    "def one_hot_encoding(batch):\n",
    "    label_ids = mlb.transform(batch['functions'])\n",
    "    return {\"label_ids\":label_ids}\n",
    "ait_dataset = ait_dataset.map(one_hot_encoding, batched=True)"
   ]
  },
  {
   "cell_type": "code",
   "execution_count": 11,
   "id": "1991dbf1",
   "metadata": {},
   "outputs": [
    {
     "data": {
      "text/plain": [
       "{'text': 'انا رايحة اعمل عملية تانى فى عنيا\\\\nادعولى\\\\nوقلبى وربى غضبانين عليك يا اللى تفرط فى ارضك',\n",
       " 'OTHER': 0,\n",
       " 'DISLIKE': 0,\n",
       " 'PESSIMISTIC': 1,\n",
       " 'WORRIED': 0,\n",
       " 'ANGRY': 1,\n",
       " 'functions': ['PESSIMISTIC', 'ANGRY'],\n",
       " 'label_ids': [1, 0, 0, 1, 0]}"
      ]
     },
     "execution_count": 11,
     "metadata": {},
     "output_type": "execute_result"
    }
   ],
   "source": [
    "ait_dataset['test'][20]"
   ]
  },
  {
   "cell_type": "code",
   "execution_count": 12,
   "id": "94c15c9d",
   "metadata": {},
   "outputs": [
    {
     "name": "stderr",
     "output_type": "stream",
     "text": [
      "Some weights of the model checkpoint at cardiffnlp/twitter-xlm-roberta-base were not used when initializing XLMRobertaForSequenceClassification: ['lm_head.dense.bias', 'lm_head.bias', 'lm_head.layer_norm.bias', 'lm_head.decoder.weight', 'lm_head.layer_norm.weight', 'lm_head.decoder.bias', 'lm_head.dense.weight']\n",
      "- This IS expected if you are initializing XLMRobertaForSequenceClassification from the checkpoint of a model trained on another task or with another architecture (e.g. initializing a BertForSequenceClassification model from a BertForPreTraining model).\n",
      "- This IS NOT expected if you are initializing XLMRobertaForSequenceClassification from the checkpoint of a model that you expect to be exactly identical (initializing a BertForSequenceClassification model from a BertForSequenceClassification model).\n",
      "Some weights of XLMRobertaForSequenceClassification were not initialized from the model checkpoint at cardiffnlp/twitter-xlm-roberta-base and are newly initialized: ['classifier.dense.bias', 'classifier.out_proj.bias', 'classifier.out_proj.weight', 'classifier.dense.weight']\n",
      "You should probably TRAIN this model on a down-stream task to be able to use it for predictions and inference.\n",
      "  0%|          | 0/13 [00:00<?, ?ba/s]Asking to truncate to max_length but no maximum length is provided and the model has no predefined maximum length. Default to no truncation.\n",
      "100%|██████████| 13/13 [00:00<00:00, 24.80ba/s]\n",
      "100%|██████████| 3/3 [00:00<00:00, 32.14ba/s]\n",
      "100%|██████████| 8/8 [00:00<00:00, 25.60ba/s]\n"
     ]
    },
    {
     "name": "stdout",
     "output_type": "stream",
     "text": [
      "DatasetDict({\n",
      "    train: Dataset({\n",
      "        features: ['text', 'OTHER', 'DISLIKE', 'PESSIMISTIC', 'WORRIED', 'ANGRY', 'functions', 'label_ids', 'input_ids', 'attention_mask'],\n",
      "        num_rows: 12675\n",
      "    })\n",
      "    valid: Dataset({\n",
      "        features: ['text', 'OTHER', 'DISLIKE', 'PESSIMISTIC', 'WORRIED', 'ANGRY', 'functions', 'label_ids', 'input_ids', 'attention_mask'],\n",
      "        num_rows: 2150\n",
      "    })\n",
      "    test: Dataset({\n",
      "        features: ['text', 'OTHER', 'DISLIKE', 'PESSIMISTIC', 'WORRIED', 'ANGRY', 'functions', 'label_ids', 'input_ids', 'attention_mask'],\n",
      "        num_rows: 7631\n",
      "    })\n",
      "})\n"
     ]
    },
    {
     "name": "stderr",
     "output_type": "stream",
     "text": [
      "100%|██████████| 12675/12675 [00:06<00:00, 1998.36ex/s]\n",
      "100%|██████████| 2150/2150 [00:00<00:00, 2207.82ex/s]\n",
      "100%|██████████| 7631/7631 [00:03<00:00, 2076.76ex/s]\n"
     ]
    }
   ],
   "source": [
    "from transformers import AutoTokenizer, AutoModelForSequenceClassification, pipeline, Trainer, TrainingArguments\n",
    "transformer_model = 'cardiffnlp/twitter-xlm-roberta-base'\n",
    "device = torch.device(\"cuda\" if torch.cuda.is_available() else \"cpu\")\n",
    "model = (AutoModelForSequenceClassification\n",
    "         .from_pretrained(transformer_model,problem_type=\"multi_label_classification\", num_labels = len(labels_classes))).to(device)\n",
    "tokenizer=AutoTokenizer.from_pretrained(transformer_model)\n",
    "\n",
    "def tokenize(batch):\n",
    "    return tokenizer(batch[\"text\"], truncation=True, padding=True)\n",
    "\n",
    "ds_enc = ait_dataset.map(tokenize, batched=True)\n",
    "print(ds_enc)\n",
    "ds_enc.set_format(\"torch\", columns=[\"input_ids\", \"attention_mask\", \"label_ids\"])\n",
    "ds_enc = (ds_enc\n",
    "          .map(lambda x : {\"float_labels\": x[\"label_ids\"].to(torch.float)}, remove_columns=[\"label_ids\"])\n",
    "          .rename_column(\"float_labels\", \"label_ids\"))"
   ]
  },
  {
   "cell_type": "code",
   "execution_count": 13,
   "id": "f5e77a87",
   "metadata": {},
   "outputs": [],
   "source": [
    "from sklearn.metrics import f1_score, roc_auc_score, accuracy_score\n",
    "from transformers import EvalPrediction\n",
    "    \n",
    "# source: https://jesusleal.io/2021/04/21/Longformer-multlabel-classification/\n",
    "def multi_label_metrics(predictions, labels, threshold=0.5):   \n",
    "    sigmoid = torch.nn.Sigmoid()\n",
    "    probs = sigmoid(torch.Tensor(predictions)) \n",
    "    y_pred = np.zeros(probs.shape)\n",
    "    y_pred[np.where(probs >= threshold)] = 1   \n",
    "    y_true = labels\n",
    "    f1_macro_average = f1_score(y_true=y_true, y_pred=y_pred, average='macro')\n",
    "    roc_auc = roc_auc_score(y_true, y_pred, average = 'macro')\n",
    "    accuracy = accuracy_score(y_true, y_pred)\n",
    "    # return as dictionary\n",
    "    metrics = {'f1': f1_macro_average,\n",
    "               'roc_auc': roc_auc,\n",
    "               'accuracy': accuracy}\n",
    "    return metrics\n",
    "\n",
    "def compute_metrics(p: EvalPrediction):\n",
    "    preds = p.predictions[0] if isinstance(p.predictions, \n",
    "            tuple) else p.predictions\n",
    "    result = multi_label_metrics(\n",
    "        predictions=preds, \n",
    "        labels=p.label_ids)\n",
    "    return result"
   ]
  },
  {
   "cell_type": "code",
   "execution_count": 14,
   "id": "977a0d7e",
   "metadata": {},
   "outputs": [
    {
     "name": "stderr",
     "output_type": "stream",
     "text": [
      "The following columns in the training set don't have a corresponding argument in `XLMRobertaForSequenceClassification.forward` and have been ignored: DISLIKE, ANGRY, functions, WORRIED, OTHER, PESSIMISTIC, text. If DISLIKE, ANGRY, functions, WORRIED, OTHER, PESSIMISTIC, text are not expected by `XLMRobertaForSequenceClassification.forward`,  you can safely ignore this message.\n",
      "/home/njfernandez/.local/lib/python3.8/site-packages/transformers/optimization.py:306: FutureWarning: This implementation of AdamW is deprecated and will be removed in a future version. Use the PyTorch implementation torch.optim.AdamW instead, or set `no_deprecation_warning=True` to disable this warning\n",
      "  warnings.warn(\n",
      "***** Running training *****\n",
      "  Num examples = 12675\n",
      "  Num Epochs = 5\n",
      "  Instantaneous batch size per device = 16\n",
      "  Total train batch size (w. parallel, distributed & accumulation) = 32\n",
      "  Gradient Accumulation steps = 1\n",
      "  Total optimization steps = 1985\n",
      "  Number of trainable parameters = 278047493\n",
      "You're using a XLMRobertaTokenizerFast tokenizer. Please note that with a fast tokenizer, using the `__call__` method is faster than using a method to encode the text followed by a call to the `pad` method to get a padded encoding.\n",
      "/home/njfernandez/.local/lib/python3.8/site-packages/torch/nn/parallel/_functions.py:68: UserWarning: Was asked to gather along dimension 0, but all input tensors were scalars; will instead unsqueeze and return a vector.\n",
      "  warnings.warn('Was asked to gather along dimension 0, but all '\n"
     ]
    },
    {
     "data": {
      "text/html": [
       "\n",
       "    <div>\n",
       "      \n",
       "      <progress value='1985' max='1985' style='width:300px; height:20px; vertical-align: middle;'></progress>\n",
       "      [1985/1985 15:24, Epoch 5/5]\n",
       "    </div>\n",
       "    <table border=\"1\" class=\"dataframe\">\n",
       "  <thead>\n",
       " <tr style=\"text-align: left;\">\n",
       "      <th>Epoch</th>\n",
       "      <th>Training Loss</th>\n",
       "      <th>Validation Loss</th>\n",
       "      <th>F1</th>\n",
       "      <th>Roc Auc</th>\n",
       "      <th>Accuracy</th>\n",
       "    </tr>\n",
       "  </thead>\n",
       "  <tbody>\n",
       "    <tr>\n",
       "      <td>1</td>\n",
       "      <td>No log</td>\n",
       "      <td>0.376662</td>\n",
       "      <td>0.676998</td>\n",
       "      <td>0.767868</td>\n",
       "      <td>0.499535</td>\n",
       "    </tr>\n",
       "    <tr>\n",
       "      <td>2</td>\n",
       "      <td>0.467500</td>\n",
       "      <td>0.339588</td>\n",
       "      <td>0.736341</td>\n",
       "      <td>0.803875</td>\n",
       "      <td>0.519070</td>\n",
       "    </tr>\n",
       "    <tr>\n",
       "      <td>3</td>\n",
       "      <td>0.327300</td>\n",
       "      <td>0.341047</td>\n",
       "      <td>0.742795</td>\n",
       "      <td>0.812228</td>\n",
       "      <td>0.535349</td>\n",
       "    </tr>\n",
       "    <tr>\n",
       "      <td>4</td>\n",
       "      <td>0.271200</td>\n",
       "      <td>0.351157</td>\n",
       "      <td>0.753104</td>\n",
       "      <td>0.819948</td>\n",
       "      <td>0.544651</td>\n",
       "    </tr>\n",
       "    <tr>\n",
       "      <td>5</td>\n",
       "      <td>0.271200</td>\n",
       "      <td>0.362160</td>\n",
       "      <td>0.748581</td>\n",
       "      <td>0.818603</td>\n",
       "      <td>0.542791</td>\n",
       "    </tr>\n",
       "  </tbody>\n",
       "</table><p>"
      ],
      "text/plain": [
       "<IPython.core.display.HTML object>"
      ]
     },
     "metadata": {},
     "output_type": "display_data"
    },
    {
     "name": "stderr",
     "output_type": "stream",
     "text": [
      "The following columns in the evaluation set don't have a corresponding argument in `XLMRobertaForSequenceClassification.forward` and have been ignored: DISLIKE, ANGRY, functions, WORRIED, OTHER, PESSIMISTIC, text. If DISLIKE, ANGRY, functions, WORRIED, OTHER, PESSIMISTIC, text are not expected by `XLMRobertaForSequenceClassification.forward`,  you can safely ignore this message.\n",
      "***** Running Evaluation *****\n",
      "  Num examples = 2150\n",
      "  Batch size = 32\n",
      "Saving model checkpoint to baseline_finetuning/checkpoint-397\n",
      "Configuration saved in baseline_finetuning/checkpoint-397/config.json\n",
      "Model weights saved in baseline_finetuning/checkpoint-397/pytorch_model.bin\n",
      "tokenizer config file saved in baseline_finetuning/checkpoint-397/tokenizer_config.json\n",
      "Special tokens file saved in baseline_finetuning/checkpoint-397/special_tokens_map.json\n",
      "Deleting older checkpoint [baseline_finetuning/checkpoint-1588] due to args.save_total_limit\n",
      "/home/njfernandez/.local/lib/python3.8/site-packages/torch/nn/parallel/_functions.py:68: UserWarning: Was asked to gather along dimension 0, but all input tensors were scalars; will instead unsqueeze and return a vector.\n",
      "  warnings.warn('Was asked to gather along dimension 0, but all '\n",
      "The following columns in the evaluation set don't have a corresponding argument in `XLMRobertaForSequenceClassification.forward` and have been ignored: DISLIKE, ANGRY, functions, WORRIED, OTHER, PESSIMISTIC, text. If DISLIKE, ANGRY, functions, WORRIED, OTHER, PESSIMISTIC, text are not expected by `XLMRobertaForSequenceClassification.forward`,  you can safely ignore this message.\n",
      "***** Running Evaluation *****\n",
      "  Num examples = 2150\n",
      "  Batch size = 32\n",
      "Saving model checkpoint to baseline_finetuning/checkpoint-794\n",
      "Configuration saved in baseline_finetuning/checkpoint-794/config.json\n",
      "Model weights saved in baseline_finetuning/checkpoint-794/pytorch_model.bin\n",
      "tokenizer config file saved in baseline_finetuning/checkpoint-794/tokenizer_config.json\n",
      "Special tokens file saved in baseline_finetuning/checkpoint-794/special_tokens_map.json\n",
      "Deleting older checkpoint [baseline_finetuning/checkpoint-397] due to args.save_total_limit\n",
      "/home/njfernandez/.local/lib/python3.8/site-packages/torch/nn/parallel/_functions.py:68: UserWarning: Was asked to gather along dimension 0, but all input tensors were scalars; will instead unsqueeze and return a vector.\n",
      "  warnings.warn('Was asked to gather along dimension 0, but all '\n",
      "The following columns in the evaluation set don't have a corresponding argument in `XLMRobertaForSequenceClassification.forward` and have been ignored: DISLIKE, ANGRY, functions, WORRIED, OTHER, PESSIMISTIC, text. If DISLIKE, ANGRY, functions, WORRIED, OTHER, PESSIMISTIC, text are not expected by `XLMRobertaForSequenceClassification.forward`,  you can safely ignore this message.\n",
      "***** Running Evaluation *****\n",
      "  Num examples = 2150\n",
      "  Batch size = 32\n",
      "Saving model checkpoint to baseline_finetuning/checkpoint-1191\n",
      "Configuration saved in baseline_finetuning/checkpoint-1191/config.json\n",
      "Model weights saved in baseline_finetuning/checkpoint-1191/pytorch_model.bin\n",
      "tokenizer config file saved in baseline_finetuning/checkpoint-1191/tokenizer_config.json\n",
      "Special tokens file saved in baseline_finetuning/checkpoint-1191/special_tokens_map.json\n",
      "Deleting older checkpoint [baseline_finetuning/checkpoint-794] due to args.save_total_limit\n",
      "/home/njfernandez/.local/lib/python3.8/site-packages/torch/nn/parallel/_functions.py:68: UserWarning: Was asked to gather along dimension 0, but all input tensors were scalars; will instead unsqueeze and return a vector.\n",
      "  warnings.warn('Was asked to gather along dimension 0, but all '\n",
      "The following columns in the evaluation set don't have a corresponding argument in `XLMRobertaForSequenceClassification.forward` and have been ignored: DISLIKE, ANGRY, functions, WORRIED, OTHER, PESSIMISTIC, text. If DISLIKE, ANGRY, functions, WORRIED, OTHER, PESSIMISTIC, text are not expected by `XLMRobertaForSequenceClassification.forward`,  you can safely ignore this message.\n",
      "***** Running Evaluation *****\n",
      "  Num examples = 2150\n",
      "  Batch size = 32\n",
      "Saving model checkpoint to baseline_finetuning/checkpoint-1588\n",
      "Configuration saved in baseline_finetuning/checkpoint-1588/config.json\n",
      "Model weights saved in baseline_finetuning/checkpoint-1588/pytorch_model.bin\n",
      "tokenizer config file saved in baseline_finetuning/checkpoint-1588/tokenizer_config.json\n",
      "Special tokens file saved in baseline_finetuning/checkpoint-1588/special_tokens_map.json\n",
      "Deleting older checkpoint [baseline_finetuning/checkpoint-1191] due to args.save_total_limit\n",
      "/home/njfernandez/.local/lib/python3.8/site-packages/torch/nn/parallel/_functions.py:68: UserWarning: Was asked to gather along dimension 0, but all input tensors were scalars; will instead unsqueeze and return a vector.\n",
      "  warnings.warn('Was asked to gather along dimension 0, but all '\n",
      "The following columns in the evaluation set don't have a corresponding argument in `XLMRobertaForSequenceClassification.forward` and have been ignored: DISLIKE, ANGRY, functions, WORRIED, OTHER, PESSIMISTIC, text. If DISLIKE, ANGRY, functions, WORRIED, OTHER, PESSIMISTIC, text are not expected by `XLMRobertaForSequenceClassification.forward`,  you can safely ignore this message.\n",
      "***** Running Evaluation *****\n",
      "  Num examples = 2150\n",
      "  Batch size = 32\n",
      "Saving model checkpoint to baseline_finetuning/checkpoint-1985\n",
      "Configuration saved in baseline_finetuning/checkpoint-1985/config.json\n",
      "Model weights saved in baseline_finetuning/checkpoint-1985/pytorch_model.bin\n",
      "tokenizer config file saved in baseline_finetuning/checkpoint-1985/tokenizer_config.json\n",
      "Special tokens file saved in baseline_finetuning/checkpoint-1985/special_tokens_map.json\n",
      "\n",
      "\n",
      "Training completed. Do not forget to share your model on huggingface.co/models =)\n",
      "\n",
      "\n",
      "Loading best model from baseline_finetuning/checkpoint-1588 (score: 0.7531037464122079).\n",
      "Deleting older checkpoint [baseline_finetuning/checkpoint-1985] due to args.save_total_limit\n"
     ]
    },
    {
     "data": {
      "text/plain": [
       "TrainOutput(global_step=1985, training_loss=0.32733679322211506, metrics={'train_runtime': 927.1514, 'train_samples_per_second': 68.355, 'train_steps_per_second': 2.141, 'total_flos': 4076482186558044.0, 'train_loss': 0.32733679322211506, 'epoch': 5.0})"
      ]
     },
     "execution_count": 14,
     "metadata": {},
     "output_type": "execute_result"
    }
   ],
   "source": [
    "from transformers import TrainingArguments, Trainer\n",
    "\n",
    "batch_size = 16\n",
    "model_name = \"baseline_finetuning\"\n",
    "training_args = TrainingArguments(\n",
    "        output_dir=model_name,\n",
    "        num_train_epochs=5,\n",
    "        learning_rate = 2e-5,\n",
    "        per_device_train_batch_size=batch_size,\n",
    "        per_device_eval_batch_size=batch_size,\n",
    "        warmup_ratio=0.1,\n",
    "        weight_decay=0.01,\n",
    "        evaluation_strategy=\"epoch\",\n",
    "        save_strategy=\"epoch\",\n",
    "        metric_for_best_model = \"f1\",\n",
    "        load_best_model_at_end=True,\n",
    "        save_total_limit = 1,        \n",
    "        report_to='none',\n",
    "    )\n",
    "\n",
    "trainer = Trainer(model=model, args=training_args, \n",
    "                  compute_metrics=compute_metrics,\n",
    "                  train_dataset=ds_enc[\"train\"],\n",
    "                  eval_dataset=ds_enc[\"valid\"],                    \n",
    "                  tokenizer=tokenizer,\n",
    "                 )\n",
    "trainer.train()"
   ]
  },
  {
   "cell_type": "code",
   "execution_count": 15,
   "id": "35341334",
   "metadata": {},
   "outputs": [
    {
     "name": "stderr",
     "output_type": "stream",
     "text": [
      "The following columns in the test set don't have a corresponding argument in `XLMRobertaForSequenceClassification.forward` and have been ignored: DISLIKE, ANGRY, functions, WORRIED, OTHER, PESSIMISTIC, text. If DISLIKE, ANGRY, functions, WORRIED, OTHER, PESSIMISTIC, text are not expected by `XLMRobertaForSequenceClassification.forward`,  you can safely ignore this message.\n",
      "***** Running Prediction *****\n",
      "  Num examples = 2150\n",
      "  Batch size = 32\n",
      "/home/njfernandez/.local/lib/python3.8/site-packages/torch/nn/parallel/_functions.py:68: UserWarning: Was asked to gather along dimension 0, but all input tensors were scalars; will instead unsqueeze and return a vector.\n",
      "  warnings.warn('Was asked to gather along dimension 0, but all '\n"
     ]
    },
    {
     "data": {
      "text/html": [],
      "text/plain": [
       "<IPython.core.display.HTML object>"
      ]
     },
     "metadata": {},
     "output_type": "display_data"
    },
    {
     "name": "stdout",
     "output_type": "stream",
     "text": [
      "{'test_loss': 0.35115671157836914, 'test_f1': 0.7531037464122079, 'test_roc_auc': 0.8199481131628639, 'test_accuracy': 0.5446511627906977, 'test_runtime': 8.9889, 'test_samples_per_second': 239.185, 'test_steps_per_second': 7.565}\n"
     ]
    }
   ],
   "source": [
    "preds_output = trainer.predict(ds_enc['valid'])\n",
    "print(preds_output.metrics)"
   ]
  },
  {
   "cell_type": "code",
   "execution_count": 16,
   "id": "7036f198",
   "metadata": {},
   "outputs": [],
   "source": [
    "from sklearn.metrics import classification_report\n",
    "import matplotlib.pyplot as plt\n",
    "\n",
    "macros, micros, macroprecision, macrorecall = [], [], [], []\n",
    "y_true = np.array(ds_enc['valid'][\"label_ids\"])\n",
    "thresholds = np.linspace(0.1, 1, 100)\n",
    "for threshold in thresholds:\n",
    "    sigmoid = torch.nn.Sigmoid()\n",
    "    probs = sigmoid(torch.Tensor(preds_output.predictions))\n",
    "    y_pred = np.zeros(probs.shape)\n",
    "    y_pred[np.where(probs >= threshold)] = 1    \n",
    "    report = classification_report(y_true, y_pred, target_names=labels_classes, zero_division=0, output_dict=True)\n",
    "    micros.append(report[\"micro avg\"][\"f1-score\"])\n",
    "    macros.append(report[\"macro avg\"][\"f1-score\"])\n",
    "    macroprecision.append(report['macro avg']['precision'])\n",
    "    macrorecall.append(report['macro avg']['recall'])"
   ]
  },
  {
   "cell_type": "code",
   "execution_count": 17,
   "id": "37fffee5",
   "metadata": {},
   "outputs": [
    {
     "data": {
      "image/png": "[encoded data removed]",
      "text/plain": [
       "<Figure size 432x288 with 1 Axes>"
      ]
     },
     "metadata": {
      "needs_background": "light"
     },
     "output_type": "display_data"
    }
   ],
   "source": [
    "plt.plot(thresholds, micros, label=\"Micro F1\")\n",
    "plt.plot(thresholds, macros, label=\"Macro F1\")\n",
    "plt.xlabel(\"Threshold\")\n",
    "plt.ylabel(\"F1-score\")\n",
    "plt.legend(loc=\"best\")\n",
    "plt.show()"
   ]
  },
  {
   "cell_type": "code",
   "execution_count": 18,
   "id": "2849c666",
   "metadata": {},
   "outputs": [
    {
     "data": {
      "image/png": "[encoded data removed]",
      "text/plain": [
       "<Figure size 432x288 with 1 Axes>"
      ]
     },
     "metadata": {
      "needs_background": "light"
     },
     "output_type": "display_data"
    }
   ],
   "source": [
    "plt.plot(thresholds, macroprecision, label=\"Macro P\")\n",
    "plt.plot(thresholds, macrorecall, label=\"Macro R\")\n",
    "plt.xlabel(\"Threshold\")\n",
    "plt.ylabel(\"Score\")\n",
    "plt.legend(loc=\"best\")\n",
    "plt.show()"
   ]
  },
  {
   "cell_type": "code",
   "execution_count": 19,
   "id": "96ce7ce5",
   "metadata": {},
   "outputs": [
    {
     "name": "stdout",
     "output_type": "stream",
     "text": [
      "Best threshold (micro): 0.32727272727272727 with F1-score 0.77.\n",
      "Best threshold (macro): 0.32727272727272727 with F1-score 0.76.\n",
      "Best threshold (macro-Precision): 0.9818181818181817 with macroP-score 0.96.\n",
      "Best threshold (macro-Recall): 0.1 with macroR-score 0.92.\n"
     ]
    }
   ],
   "source": [
    "best_t, best_micro = thresholds[np.argmax(micros)], np.max(micros)\n",
    "print(f'Best threshold (micro): {best_t} with F1-score {best_micro:.2f}.')\n",
    "best_t, best_macro = thresholds[np.argmax(macros)], np.max(macros)\n",
    "print(f'Best threshold (macro): {best_t} with F1-score {best_macro:.2f}.')\n",
    "best_t, best_macro_P = thresholds[np.argmax(macroprecision)], np.max(macroprecision)\n",
    "print(f'Best threshold (macro-Precision): {best_t} with macroP-score {best_macro_P:.2f}.')\n",
    "best_t, best_macro_R = thresholds[np.argmax(macrorecall)], np.max(macrorecall)\n",
    "print(f'Best threshold (macro-Recall): {best_t} with macroR-score {best_macro_R:.2f}.')"
   ]
  },
  {
   "cell_type": "code",
   "execution_count": 20,
   "id": "269d9bad",
   "metadata": {},
   "outputs": [
    {
     "name": "stderr",
     "output_type": "stream",
     "text": [
      "The following columns in the test set don't have a corresponding argument in `XLMRobertaForSequenceClassification.forward` and have been ignored: DISLIKE, ANGRY, functions, WORRIED, OTHER, PESSIMISTIC, text. If DISLIKE, ANGRY, functions, WORRIED, OTHER, PESSIMISTIC, text are not expected by `XLMRobertaForSequenceClassification.forward`,  you can safely ignore this message.\n",
      "***** Running Prediction *****\n",
      "  Num examples = 7631\n",
      "  Batch size = 32\n",
      "/home/njfernandez/.local/lib/python3.8/site-packages/torch/nn/parallel/_functions.py:68: UserWarning: Was asked to gather along dimension 0, but all input tensors were scalars; will instead unsqueeze and return a vector.\n",
      "  warnings.warn('Was asked to gather along dimension 0, but all '\n"
     ]
    },
    {
     "data": {
      "text/html": [],
      "text/plain": [
       "<IPython.core.display.HTML object>"
      ]
     },
     "metadata": {},
     "output_type": "display_data"
    },
    {
     "name": "stdout",
     "output_type": "stream",
     "text": [
      "{'test_loss': 0.35369929671287537, 'test_f1': 0.7442200137324562, 'test_roc_auc': 0.8111359364041796, 'test_accuracy': 0.5299436508976543, 'test_runtime': 32.0219, 'test_samples_per_second': 238.305, 'test_steps_per_second': 7.464}\n"
     ]
    }
   ],
   "source": [
    "#output = trainer.evaluate()\n",
    "preds_output = trainer.predict(ds_enc['test'])\n",
    "print(preds_output.metrics)"
   ]
  },
  {
   "cell_type": "code",
   "execution_count": 26,
   "id": "8194f1a9",
   "metadata": {},
   "outputs": [
    {
     "name": "stdout",
     "output_type": "stream",
     "text": [
      "{'ANGRY': {'precision': 0.7485359972442301, 'recall': 0.8265500190186382, 'f1-score': 0.7856109906001446, 'support': 2629}, 'DISLIKE': {'precision': 0.6473761647866602, 'recall': 0.7181719260065288, 'f1-score': 0.6809388702605107, 'support': 1838}, 'OTHER': {'precision': 0.8456410256410256, 'recall': 0.8379065040650406, 'f1-score': 0.8417559979581418, 'support': 3936}, 'PESSIMISTIC': {'precision': 0.7299925205684368, 'recall': 0.7253808992939428, 'f1-score': 0.7276794035414725, 'support': 2691}, 'WORRIED': {'precision': 0.7315891472868217, 'recall': 0.7003710575139147, 'f1-score': 0.7156398104265402, 'support': 1078}, 'micro avg': {'precision': 0.7569333758367868, 'recall': 0.7803154781465659, 'f1-score': 0.7684466019417475, 'support': 12172}, 'macro avg': {'precision': 0.7406269711054347, 'recall': 0.761676081179613, 'f1-score': 0.750325014557362, 'support': 12172}, 'weighted avg': {'precision': 0.7590605141456538, 'recall': 0.7803154781465659, 'f1-score': 0.7689560907295233, 'support': 12172}, 'samples avg': {'precision': 0.8009784650329795, 'recall': 0.8083278731489976, 'f1-score': 0.7783639415666673, 'support': 12172}}\n"
     ]
    }
   ],
   "source": [
    "sigmoid = torch.nn.Sigmoid()\n",
    "probs = sigmoid(torch.Tensor(preds_output.predictions))\n",
    "y_pred = np.zeros(probs.shape)\n",
    "y_pred[np.where(probs >= 0.4)]= 1\n",
    "y_true = np.array(ds_enc['test'][\"label_ids\"])\n",
    "\n",
    "from sklearn.metrics import classification_report\n",
    "\n",
    "report = classification_report(\n",
    "  y_true,\n",
    "  y_pred,\n",
    "  target_names=labels_classes,\n",
    "  zero_division=0,\n",
    "  output_dict=True\n",
    ")\n",
    "print(report)\n",
    "\n",
    "df = pd.DataFrame(report).transpose()\n",
    "with open(r'classification_report_baseline_ait_finetuning_multilabel_threshold=0.4.csv', 'w') as csv_file:\n",
    "    df.to_csv(path_or_buf=csv_file)"
   ]
  },
  {
   "cell_type": "code",
   "execution_count": 27,
   "id": "66941a64",
   "metadata": {},
   "outputs": [
    {
     "name": "stderr",
     "output_type": "stream",
     "text": [
      "Parameter 'function'=<function forward_pass_with_label at 0x7f797ce2c3a0> of the transform datasets.arrow_dataset.Dataset._map_single couldn't be hashed properly, a random hash was used instead. Make sure your transforms and parameters are serializable with pickle or dill for the dataset fingerprinting and caching to work. If you reuse this transform, the caching mechanism will consider it to be different from the previous calls and recompute everything. This warning is only showed once. Subsequent hashing failures won't be showed.\n",
      "100%|██████████| 1585/1585 [00:31<00:00, 49.70ba/s]\n",
      "100%|██████████| 269/269 [00:05<00:00, 52.70ba/s]\n",
      "100%|██████████| 954/954 [00:18<00:00, 50.75ba/s]\n"
     ]
    }
   ],
   "source": [
    "import torch.nn as nn\n",
    "def loss_fn(outputs, labels):\n",
    "    if labels is None:\n",
    "        return None\n",
    "    loss_values = []\n",
    "    for f, b in zip(outputs, labels):\n",
    "        loss_value = nn.BCEWithLogitsLoss()(f, b.float())\n",
    "        loss_values.append(loss_value)\n",
    "    torch_loss = torch.tensor(loss_values)\n",
    "    return torch_loss\n",
    "\n",
    "def forward_pass_with_label(batch): \n",
    "    inputs = {k:v.to(device) for k,v in batch.items() \n",
    "              if k in tokenizer.model_input_names}      \n",
    "    with torch.no_grad():\n",
    "        output = model(**inputs)\n",
    "        logits = output.logits        \n",
    "        sigmoid = torch.nn.Sigmoid()\n",
    "        probs = sigmoid(logits.squeeze().cpu())       \n",
    "        predictions = np.zeros(probs.shape)\n",
    "        predictions[np.where(probs >= 0.5)] = 1       \n",
    "        loss = loss_fn(logits, batch[\"label_ids\"].to(device))\n",
    "    return {\"loss\": loss.cpu().numpy(), \n",
    "            \"pred_label_ids\": predictions}\n",
    "\n",
    "ds_enc.set_format(\"torch\", \n",
    "                            columns=[\"input_ids\", \"attention_mask\", \"label_ids\"])\n",
    "ds_enc = ds_enc.map(\n",
    "    forward_pass_with_label, batched=True, batch_size = 8)"
   ]
  },
  {
   "cell_type": "code",
   "execution_count": 28,
   "id": "76b409bc",
   "metadata": {},
   "outputs": [
    {
     "name": "stderr",
     "output_type": "stream",
     "text": [
      "100%|██████████| 8/8 [00:00<00:00, 33.21ba/s]\n"
     ]
    },
    {
     "name": "stdout",
     "output_type": "stream",
     "text": [
      "                                                   text  \\\n",
      "3166  Was sort of hoping #EclipseDay would mean my w...   \n",
      "4858  Estoy viendo rápido y furioso 8, sería más emo...   \n",
      "4805  حلو شعور الكره المتبادل وتقابلو بعض بإبتسامة صفرة   \n",
      "1767  Woke up to what appears to be either a sinus o...   \n",
      "100   بجد ايه الكونسبت ال بيخليكى تقلعى الطرحه يوم خ...   \n",
      "616   @ARnews1936 @kdsats72 Americans do not spank t...   \n",
      "3228  @sailorm318 @LandonVegaXXX Where's the picture? 😰   \n",
      "2331  Al principio estaba tentado, Ahora estoy enven...   \n",
      "4821        Terrible playlist se armó el Mesa, lo banco   \n",
      "6981  nag-iimprove na si Jasper omg 💙 dull boy no mo...   \n",
      "4530  جيش التبولة اللبناني سيقوم بعملية مدروسة في جر...   \n",
      "329   @allmmbi من جد انت متغير تغريداتك قلت. ومستوى ...   \n",
      "154             عزيزي في هذا الشوب ريحتك اهم من مظهرك 😅   \n",
      "3977  'A #nation is a #society #united by #delusions...   \n",
      "238   واكثر شيء صدمني بالحلقة كان كلام رستم مع ابو ن...   \n",
      "1802  كمية اشمئزاز عظيمة للشخص اللي يحس نفسه محور ال...   \n",
      "6629  Porque mierda soy tan orgullosa loco por que p...   \n",
      "6292             @LHTide1 not #horrific but..\\n#CUDDLY!   \n",
      "6752          I'm dead tired yet can't sleep #wonderful   \n",
      "6325  @TheSexyOwl No busco remplazarte y no me gusta...   \n",
      "3811  Ami solo me pasan estas cosas, pero bueno no p...   \n",
      "594                                   I'm #mad about it   \n",
      "6087  من كثر ما اسمع صراخ بالشارع صار الصراخ ما يشدن...   \n",
      "1006                @Ur_7anan تقول مذعوره طبيعي رح تهذي   \n",
      "5512  My head is bloody, but unbowed. \\nI front unfe...   \n",
      "7626  @AquaticQueenM -He laughs back- 'I may act all...   \n",
      "7064  Chicks I don't even talk to look up to me. #fl...   \n",
      "1140  #irritated  @SouthwestAir I'd be more than hap...   \n",
      "3137  @ABCTV @AuSenate @annabelcrabb I confess I did...   \n",
      "1069  مش عاوز اشتم البدري علشان في رمضان بس والله وص...   \n",
      "5694  A person #hates u for 1 of 3 reasons. They 1) ...   \n",
      "929   feeling like a grim reaper all day hehehe\\n9 d...   \n",
      "3218  انا شخص اكرهه احد يشوفني ادخن او اشيش موب خوف ...   \n",
      "5166  @SCT_mx @gruizesp @beltrandelrio Hubo al menos...   \n",
      "1567  14-اذا انت قررت تبعد بالبدايه راح تصيبني نوبة ...   \n",
      "4482           @Monarch Really??? I've had to hang up!    \n",
      "7302  @SadieAtkins Should have come with us #boiling...   \n",
      "4243  كان يوم عبارة عن تأنيب ضمير لأول مرة اقدر اتغل...   \n",
      "148   @vegetta777 @YouTube Hoy no hay saludo con \"He...   \n",
      "511   acabo de bloquear a uno que no tenia foto de p...   \n",
      "5641  Sospecho de Judas Iscariote con una oreo enven...   \n",
      "6829  #حفله_ماجنه_بجامعة_نوره إذا ضعف الإيمان بالله ...   \n",
      "2174  @angiu57 #JuevesIntratable Defendiendo desespe...   \n",
      "4202  لكن جريمة قتل السفير الامريكي هي كابوس على قطر...   \n",
      "6103                      everyday it's something new 😤   \n",
      "2106  ¿Por qué Twitter me fija como \"promocionados\" ...   \n",
      "2576  أهم أعراض #التحرش بعمر (3-9) سنوات #الخوف و#ال...   \n",
      "189   Police - This is the Police !! Open your door ...   \n",
      "6487             my hair now matches my attitude #fiery   \n",
      "5470  Lo chistoso es que uno sabe quienes son los qu...   \n",
      "\n",
      "                                   functions  \\\n",
      "3166           [DISLIKE, PESSIMISTIC, ANGRY]   \n",
      "4858           [DISLIKE, PESSIMISTIC, ANGRY]   \n",
      "4805           [DISLIKE, PESSIMISTIC, ANGRY]   \n",
      "1767           [DISLIKE, PESSIMISTIC, ANGRY]   \n",
      "100            [DISLIKE, PESSIMISTIC, ANGRY]   \n",
      "616                         [OTHER, WORRIED]   \n",
      "3228                 [OTHER, DISLIKE, ANGRY]   \n",
      "2331           [DISLIKE, PESSIMISTIC, ANGRY]   \n",
      "4821           [DISLIKE, PESSIMISTIC, ANGRY]   \n",
      "6981           [DISLIKE, PESSIMISTIC, ANGRY]   \n",
      "4530    [OTHER, DISLIKE, PESSIMISTIC, ANGRY]   \n",
      "329            [OTHER, PESSIMISTIC, WORRIED]   \n",
      "154                   [DISLIKE, PESSIMISTIC]   \n",
      "3977                        [DISLIKE, ANGRY]   \n",
      "238     [OTHER, DISLIKE, PESSIMISTIC, ANGRY]   \n",
      "1802                        [DISLIKE, ANGRY]   \n",
      "6629                        [DISLIKE, ANGRY]   \n",
      "6292                        [OTHER, WORRIED]   \n",
      "6752    [OTHER, DISLIKE, PESSIMISTIC, ANGRY]   \n",
      "6325                  [PESSIMISTIC, WORRIED]   \n",
      "3811           [DISLIKE, PESSIMISTIC, ANGRY]   \n",
      "594                  [OTHER, DISLIKE, ANGRY]   \n",
      "6087           [DISLIKE, PESSIMISTIC, ANGRY]   \n",
      "1006                  [PESSIMISTIC, WORRIED]   \n",
      "5512                          [OTHER, ANGRY]   \n",
      "7626                    [OTHER, PESSIMISTIC]   \n",
      "7064                                 [OTHER]   \n",
      "1140    [OTHER, DISLIKE, PESSIMISTIC, ANGRY]   \n",
      "3137                    [OTHER, PESSIMISTIC]   \n",
      "1069           [DISLIKE, PESSIMISTIC, ANGRY]   \n",
      "5694                               [WORRIED]   \n",
      "929                   [PESSIMISTIC, WORRIED]   \n",
      "3218           [OTHER, PESSIMISTIC, WORRIED]   \n",
      "5166           [DISLIKE, PESSIMISTIC, ANGRY]   \n",
      "1567                  [PESSIMISTIC, WORRIED]   \n",
      "4482                        [DISLIKE, ANGRY]   \n",
      "7302                                 [OTHER]   \n",
      "4243                        [OTHER, WORRIED]   \n",
      "148            [OTHER, PESSIMISTIC, WORRIED]   \n",
      "511   [DISLIKE, PESSIMISTIC, WORRIED, ANGRY]   \n",
      "5641                  [PESSIMISTIC, WORRIED]   \n",
      "6829           [OTHER, DISLIKE, PESSIMISTIC]   \n",
      "2174    [OTHER, DISLIKE, PESSIMISTIC, ANGRY]   \n",
      "4202                          [OTHER, ANGRY]   \n",
      "6103                                 [OTHER]   \n",
      "2106                 [OTHER, DISLIKE, ANGRY]   \n",
      "2576                          [OTHER, ANGRY]   \n",
      "189                     [OTHER, PESSIMISTIC]   \n",
      "6487                                 [OTHER]   \n",
      "5470                        [DISLIKE, ANGRY]   \n",
      "\n",
      "                            predicted_labels      loss  \n",
      "3166                                 [OTHER]  3.202368  \n",
      "4858                                 [OTHER]  3.057018  \n",
      "4805                                 [OTHER]  2.933867  \n",
      "1767                                 [OTHER]  2.888976  \n",
      "100                                  [OTHER]  2.845874  \n",
      "616                         [ANGRY, DISLIKE]  2.819647  \n",
      "3228                  [PESSIMISTIC, WORRIED]  2.706183  \n",
      "2331                                 [OTHER]  2.682219  \n",
      "4821                                 [OTHER]  2.648745  \n",
      "6981                                 [OTHER]  2.560650  \n",
      "4530                                 [OTHER]  2.551193  \n",
      "329                         [ANGRY, DISLIKE]  2.535865  \n",
      "154                                  [OTHER]  2.485873  \n",
      "3977                                 [OTHER]  2.481154  \n",
      "238                                [WORRIED]  2.435678  \n",
      "1802                                 [OTHER]  2.422457  \n",
      "6629                                 [OTHER]  2.386933  \n",
      "6292                        [ANGRY, DISLIKE]  2.345645  \n",
      "6752                                 [OTHER]  2.335893  \n",
      "6325                                 [ANGRY]  2.303106  \n",
      "3811                    [OTHER, PESSIMISTIC]  2.279104  \n",
      "594                   [PESSIMISTIC, WORRIED]  2.211610  \n",
      "6087                               [WORRIED]  2.202379  \n",
      "1006                        [ANGRY, DISLIKE]  2.147195  \n",
      "5512                  [PESSIMISTIC, WORRIED]  2.135391  \n",
      "7626                        [ANGRY, DISLIKE]  2.117849  \n",
      "7064           [ANGRY, DISLIKE, PESSIMISTIC]  2.117127  \n",
      "1140                  [PESSIMISTIC, WORRIED]  2.117056  \n",
      "3137           [ANGRY, DISLIKE, PESSIMISTIC]  2.116293  \n",
      "1069                    [OTHER, PESSIMISTIC]  2.115023  \n",
      "5694                        [ANGRY, DISLIKE]  2.108721  \n",
      "929                                  [OTHER]  2.107532  \n",
      "3218                                 [ANGRY]  2.097322  \n",
      "5166                               [WORRIED]  2.094369  \n",
      "1567                                 [ANGRY]  2.090401  \n",
      "4482                                 [OTHER]  2.087747  \n",
      "7302                        [ANGRY, DISLIKE]  2.053064  \n",
      "4243                    [ANGRY, PESSIMISTIC]  2.035445  \n",
      "148                           [ANGRY, OTHER]  2.022905  \n",
      "511                                  [ANGRY]  1.989992  \n",
      "5641                                 [ANGRY]  1.978668  \n",
      "6829                               [WORRIED]  1.973853  \n",
      "2174                                 [OTHER]  1.960258  \n",
      "4202  [ANGRY, DISLIKE, PESSIMISTIC, WORRIED]  1.955046  \n",
      "6103                        [ANGRY, DISLIKE]  1.945096  \n",
      "2106                           [PESSIMISTIC]  1.942334  \n",
      "2576           [ANGRY, PESSIMISTIC, WORRIED]  1.941770  \n",
      "189                         [ANGRY, DISLIKE]  1.936257  \n",
      "6487           [ANGRY, DISLIKE, PESSIMISTIC]  1.932929  \n",
      "5470                                 [OTHER]  1.925890  \n"
     ]
    }
   ],
   "source": [
    "def get_predicted_labels(batch):\n",
    "    transformed_into_label_names = mlb.inverse_transform(np.array(batch['pred_label_ids']))  \n",
    "    return  {\"predicted_labels\": list(map(list, transformed_into_label_names))}\n",
    "ds_enc['test'] = ds_enc['test'].map(get_predicted_labels, batched=True)\n",
    "\n",
    "ds_enc.set_format(\"pandas\")\n",
    "cols = [\"text\", \"functions\", \"predicted_labels\", \"loss\"]\n",
    "df_test = ds_enc['test'][:][cols]\n",
    "loss_values = df_test.sort_values(\"loss\", ascending=False).head(50)\n",
    "print(loss_values)"
   ]
  },
  {
   "cell_type": "code",
   "execution_count": 29,
   "id": "29bf2588",
   "metadata": {},
   "outputs": [],
   "source": [
    "loss_values.to_csv('loss_values_baseline_ait_finetuning_multilabel_threshold=0.4.tsv',header =True, sep = '\\t',index=False)\n",
    "df_test.to_csv('preds_baseline_ait_finetuning_multilabel_threshold=0.4.tsv',header =True, sep = '\\t',index=False)"
   ]
  },
  {
   "cell_type": "code",
   "execution_count": null,
   "id": "1284a045",
   "metadata": {},
   "outputs": [],
   "source": []
  }
 ],
 "metadata": {
  "kernelspec": {
   "display_name": "Python 3 (ipykernel)",
   "language": "python",
   "name": "python3"
  },
  "language_info": {
   "codemirror_mode": {
    "name": "ipython",
    "version": 3
   },
   "file_extension": ".py",
   "mimetype": "text/x-python",
   "name": "python",
   "nbconvert_exporter": "python",
   "pygments_lexer": "ipython3",
   "version": "3.8.10"
  }
 },
 "nbformat": 4,
 "nbformat_minor": 5
}

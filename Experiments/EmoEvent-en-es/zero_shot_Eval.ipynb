{
 "cells": [
  {
   "cell_type": "code",
   "execution_count": 1,
   "id": "5344e3da",
   "metadata": {},
   "outputs": [
    {
     "name": "stderr",
     "output_type": "stream",
     "text": [
      "/home/njfernandez/.local/lib/python3.8/site-packages/tqdm/auto.py:22: TqdmWarning: IProgress not found. Please update jupyter and ipywidgets. See https://ipywidgets.readthedocs.io/en/stable/user_install.html\n",
      "  from .autonotebook import tqdm as notebook_tqdm\n"
     ]
    }
   ],
   "source": [
    "from transformers import pipeline\n",
    "import numpy as np\n",
    "import pandas as pd\n",
    "from datasets import Dataset, load_dataset, DatasetDict, concatenate_datasets\n",
    "import torch\n",
    "from sklearn.metrics import classification_report\n",
    "\n",
    "#Seeding for deterministic results i.e. showing same output \n",
    "RANDOM_SEED = 64\n",
    "np.random.seed(RANDOM_SEED)\n",
    "torch.manual_seed(RANDOM_SEED)\n",
    "if torch.cuda.is_available():\n",
    "   torch.cuda.manual_seed(RANDOM_SEED)\n",
    "   torch.cuda.manual_seed_all(RANDOM_SEED) \n",
    "   torch.backends.cudnn.deterministic = True  \n",
    "   torch.backends.cudnn.benchmark = False"
   ]
  },
  {
   "cell_type": "code",
   "execution_count": 2,
   "id": "ae42f113",
   "metadata": {},
   "outputs": [
    {
     "name": "stderr",
     "output_type": "stream",
     "text": [
      "Using custom data configuration default-c8e873fed443e156\n",
      "Found cached dataset csv (/home/njfernandez/.cache/huggingface/datasets/csv/default-c8e873fed443e156/0.0.0/6b34fb8fcf56f7c8ba51dc895bfa2bfbe43546f190a60fcf74bb5e8afdcc2317)\n",
      "100%|██████████| 1/1 [00:00<00:00, 689.63it/s]\n",
      "Using custom data configuration default-a74fc7f693d7463f\n",
      "Found cached dataset csv (/home/njfernandez/.cache/huggingface/datasets/csv/default-a74fc7f693d7463f/0.0.0/6b34fb8fcf56f7c8ba51dc895bfa2bfbe43546f190a60fcf74bb5e8afdcc2317)\n",
      "100%|██████████| 1/1 [00:00<00:00, 415.65it/s]\n",
      "Loading cached shuffled indices for dataset at /home/njfernandez/.cache/huggingface/datasets/csv/default-c8e873fed443e156/0.0.0/6b34fb8fcf56f7c8ba51dc895bfa2bfbe43546f190a60fcf74bb5e8afdcc2317/cache-8f2ef9d8448eac04.arrow\n"
     ]
    }
   ],
   "source": [
    "emoevent_es_dataset = load_dataset(\"csv\", sep = '\\t', data_files ={'test': r'es_test.tsv'\n",
    "                                                       })\n",
    "emoevent_en_dataset = load_dataset(\"csv\", sep = '\\t', data_files ={\n",
    "                                                        'test': r'en_test.tsv',\n",
    "                                                       })\n",
    "\n",
    "test_dataset = concatenate_datasets([emoevent_es_dataset['test'], emoevent_en_dataset['test']])\n",
    "\n",
    "emoevent = DatasetDict({'test': test_dataset.shuffle(seed=42)})"
   ]
  },
  {
   "cell_type": "code",
   "execution_count": 3,
   "id": "63983371",
   "metadata": {},
   "outputs": [
    {
     "name": "stderr",
     "output_type": "stream",
     "text": [
      "100%|██████████| 4/4 [00:00<00:00, 90.46ba/s]\n"
     ]
    }
   ],
   "source": [
    "function_mapping = {'OTHER': ['others', 'surprise', 'joy'],\n",
    "           'NOT_INTERESTED': [''], \n",
    "           'DISLIKE':['disgust'], \n",
    "           'NOT_CORRECT': [''], \n",
    "           'PESSIMISTIC':['sadness'], \n",
    "           'WORRIED':['fear'], \n",
    "           'ANGRY': ['anger'], \n",
    "           'DISAPPOINTED': [''], \n",
    "           'BORED': [''], \n",
    "           'NOT_APPROVE':[''], \n",
    "           'NOT_IMPORTANT': [''], \n",
    "           'DISAGREE': [''], \n",
    "           'WARN': [''], \n",
    "           'COMPLAIN': [''], \n",
    "           'THREATEN': [''], \n",
    "           'UNWILLING': [''], \n",
    "           'DISTRUST' : [''],\n",
    "           'REFUSE': [''] }\n",
    "\n",
    "emoevent = emoevent.remove_columns(\"id\").remove_columns(\"event\").remove_columns(\"offensive\")\n",
    "def map_labels(batch):\n",
    "    batch['function'] = [[] for _ in range(len(batch['tweet']))]\n",
    "    for i, item in enumerate(batch[\"function\"]):\n",
    "        for key, value in function_mapping.items():\n",
    "            for emotion in value:\n",
    "                if emotion == batch[\"emotion\"][i]:\n",
    "                    batch[\"function\"][i] = key\n",
    "                    break\n",
    "    return batch\n",
    "emoevent = emoevent.map(map_labels, batched=True)"
   ]
  },
  {
   "cell_type": "code",
   "execution_count": 4,
   "id": "6d564df3",
   "metadata": {},
   "outputs": [],
   "source": [
    "zero_shot_model='MoritzLaurer/mDeBERTa-v3-base-mnli-xnli'\n",
    "candidate_labels= {#\"lack of interest\": \"NOT_INTERESTED\",\n",
    "                   #\"boredom\": \"BORED\",\n",
    "                   \"disgust\": \"DISLIKE\", \n",
    "                   #\"incorrectness\": \"NOT_CORRECT\", \n",
    "                   \"sadness\": \"PESSIMISTIC\", \n",
    "                   \"fear\": \"WORRIED\", \n",
    "                   \"anger\": \"ANGRY\", \n",
    "                   #\"disappointment\": \"DISAPPOINTED\",\n",
    "                   #\"complaint\": \"COMPLAIN\",\n",
    "                   #\"disapproval\": \"NOT_APPROVE\",\n",
    "                   #\"unimportance\": \"NOT_IMPORTANT\", \n",
    "                   #\"disagreement\": \"DISAGREE\",\n",
    "                   #\"refusal\": \"REFUSE\",\n",
    "                  #\"warning\": \"WARN\", \n",
    "                  #\"threat\": \"THREATEN\",\n",
    "                  #\"unwillingness\": \"UNWILLING\",\n",
    "                  #\"distrust\": \"DISTRUST\",\n",
    "                  \"joy, surprise or other emotion\": \"OTHER\"}\n",
    "\n",
    "h_ts = ['This person feels {}.', 'This person conveys {}.','This person shows {}.','This person expresses {}.', \n",
    "        'This text is {}.', 'This text is about {}.', 'This text shows {}.', 'This text expresses {}.', 'This text conveys {}.',\n",
    "       'The communicative function of this text is {}.', 'The communicative intention of this text is {}.', 'The emotion of this text is {}.', \n",
    "        'The emotion expressed in this text is {}.'] # the templates used\n",
    "\n",
    "def zero_shot_pipeline(example):\n",
    "    output = classifier(example['tweet'], candidate_labels=list(candidate_labels.keys()), hypothesis_template=ht, multi_label=False)\n",
    "    labels_scores = {candidate_labels[key]: score for key, score in zip(output['labels'], output['scores'])}\n",
    "    label, score = sorted(labels_scores.items(), key=lambda kv: kv[1], reverse=True)[0]\n",
    "    return {\"predicted_label\": label, \"score\": score}"
   ]
  },
  {
   "cell_type": "code",
   "execution_count": 5,
   "id": "ca7f2169",
   "metadata": {},
   "outputs": [
    {
     "name": "stderr",
     "output_type": "stream",
     "text": [
      "/home/njfernandez/.local/lib/python3.8/site-packages/transformers/convert_slow_tokenizer.py:446: UserWarning: The sentencepiece tokenizer that you are converting to a fast tokenizer uses the byte fallback option which is not implemented in the fast tokenizers. In practice this means that the fast version of the tokenizer can produce unknown tokens whereas the sentencepiece version would have converted these unknown tokens into a sequence of byte tokens matching the original piece of text.\n",
      "  warnings.warn(\n",
      "Parameter 'function'=<function zero_shot_pipeline at 0x7f806c290ca0> of the transform datasets.arrow_dataset.Dataset._map_single couldn't be hashed properly, a random hash was used instead. Make sure your transforms and parameters are serializable with pickle or dill for the dataset fingerprinting and caching to work. If you reuse this transform, the caching mechanism will consider it to be different from the previous calls and recompute everything. This warning is only showed once. Subsequent hashing failures won't be showed.\n"
     ]
    },
    {
     "name": "stdout",
     "output_type": "stream",
     "text": [
      "This person feels {}.\n"
     ]
    },
    {
     "name": "stderr",
     "output_type": "stream",
     "text": [
      "  0%|          | 10/3073 [00:00<03:09, 16.16ex/s]/home/njfernandez/.local/lib/python3.8/site-packages/transformers/pipelines/base.py:1043: UserWarning: You seem to be using the pipelines sequentially on GPU. In order to maximize efficiency please use a dataset\n",
      "  warnings.warn(\n",
      "100%|██████████| 3073/3073 [03:04<00:00, 16.63ex/s]\n"
     ]
    },
    {
     "name": "stdout",
     "output_type": "stream",
     "text": [
      "              precision    recall  f1-score   support\n",
      "\n",
      "       ANGRY       0.10      0.49      0.17       244\n",
      "     DISLIKE       0.04      0.03      0.03       184\n",
      "       OTHER       0.90      0.25      0.40      2316\n",
      " PESSIMISTIC       0.17      0.26      0.21       278\n",
      "     WORRIED       0.04      0.55      0.07        51\n",
      "\n",
      "    accuracy                           0.27      3073\n",
      "   macro avg       0.25      0.32      0.18      3073\n",
      "weighted avg       0.70      0.27      0.33      3073\n",
      "\n",
      "This person conveys {}.\n"
     ]
    },
    {
     "name": "stderr",
     "output_type": "stream",
     "text": [
      "  0%|          | 0/3073 [00:00<?, ?ex/s]/home/njfernandez/.local/lib/python3.8/site-packages/transformers/pipelines/base.py:1043: UserWarning: You seem to be using the pipelines sequentially on GPU. In order to maximize efficiency please use a dataset\n",
      "  warnings.warn(\n",
      "100%|██████████| 3073/3073 [03:14<00:00, 15.78ex/s]\n"
     ]
    },
    {
     "name": "stdout",
     "output_type": "stream",
     "text": [
      "              precision    recall  f1-score   support\n",
      "\n",
      "       ANGRY       0.08      0.50      0.14       244\n",
      "     DISLIKE       0.03      0.05      0.03       184\n",
      "       OTHER       0.87      0.19      0.31      2316\n",
      " PESSIMISTIC       0.17      0.28      0.21       278\n",
      "     WORRIED       0.08      0.33      0.13        51\n",
      "\n",
      "    accuracy                           0.22      3073\n",
      "   macro avg       0.25      0.27      0.16      3073\n",
      "weighted avg       0.68      0.22      0.27      3073\n",
      "\n",
      "This person shows {}.\n"
     ]
    },
    {
     "name": "stderr",
     "output_type": "stream",
     "text": [
      "  0%|          | 0/3073 [00:00<?, ?ex/s]/home/njfernandez/.local/lib/python3.8/site-packages/transformers/pipelines/base.py:1043: UserWarning: You seem to be using the pipelines sequentially on GPU. In order to maximize efficiency please use a dataset\n",
      "  warnings.warn(\n",
      "100%|██████████| 3073/3073 [03:10<00:00, 16.11ex/s]\n"
     ]
    },
    {
     "name": "stdout",
     "output_type": "stream",
     "text": [
      "              precision    recall  f1-score   support\n",
      "\n",
      "       ANGRY       0.08      0.57      0.15       244\n",
      "     DISLIKE       0.03      0.03      0.03       184\n",
      "       OTHER       0.88      0.18      0.30      2316\n",
      " PESSIMISTIC       0.17      0.30      0.22       278\n",
      "     WORRIED       0.07      0.37      0.11        51\n",
      "\n",
      "    accuracy                           0.22      3073\n",
      "   macro avg       0.25      0.29      0.16      3073\n",
      "weighted avg       0.69      0.22      0.26      3073\n",
      "\n",
      "This person expresses {}.\n"
     ]
    },
    {
     "name": "stderr",
     "output_type": "stream",
     "text": [
      "  0%|          | 0/3073 [00:00<?, ?ex/s]/home/njfernandez/.local/lib/python3.8/site-packages/transformers/pipelines/base.py:1043: UserWarning: You seem to be using the pipelines sequentially on GPU. In order to maximize efficiency please use a dataset\n",
      "  warnings.warn(\n",
      "100%|██████████| 3073/3073 [03:09<00:00, 16.25ex/s]\n"
     ]
    },
    {
     "name": "stdout",
     "output_type": "stream",
     "text": [
      "              precision    recall  f1-score   support\n",
      "\n",
      "       ANGRY       0.09      0.39      0.15       244\n",
      "     DISLIKE       0.02      0.04      0.03       184\n",
      "       OTHER       0.89      0.16      0.28      2316\n",
      " PESSIMISTIC       0.13      0.35      0.19       278\n",
      "     WORRIED       0.04      0.55      0.08        51\n",
      "\n",
      "    accuracy                           0.20      3073\n",
      "   macro avg       0.24      0.30      0.15      3073\n",
      "weighted avg       0.69      0.20      0.24      3073\n",
      "\n",
      "This text is {}.\n"
     ]
    },
    {
     "name": "stderr",
     "output_type": "stream",
     "text": [
      "  0%|          | 0/3073 [00:00<?, ?ex/s]/home/njfernandez/.local/lib/python3.8/site-packages/transformers/pipelines/base.py:1043: UserWarning: You seem to be using the pipelines sequentially on GPU. In order to maximize efficiency please use a dataset\n",
      "  warnings.warn(\n",
      "100%|██████████| 3073/3073 [03:15<00:00, 15.73ex/s]\n"
     ]
    },
    {
     "name": "stdout",
     "output_type": "stream",
     "text": [
      "              precision    recall  f1-score   support\n",
      "\n",
      "       ANGRY       0.11      0.61      0.18       244\n",
      "     DISLIKE       0.10      0.04      0.05       184\n",
      "       OTHER       0.90      0.30      0.45      2316\n",
      " PESSIMISTIC       0.17      0.28      0.21       278\n",
      "     WORRIED       0.05      0.37      0.09        51\n",
      "\n",
      "    accuracy                           0.31      3073\n",
      "   macro avg       0.26      0.32      0.20      3073\n",
      "weighted avg       0.70      0.31      0.38      3073\n",
      "\n",
      "This text is about {}.\n"
     ]
    },
    {
     "name": "stderr",
     "output_type": "stream",
     "text": [
      "  0%|          | 0/3073 [00:00<?, ?ex/s]/home/njfernandez/.local/lib/python3.8/site-packages/transformers/pipelines/base.py:1043: UserWarning: You seem to be using the pipelines sequentially on GPU. In order to maximize efficiency please use a dataset\n",
      "  warnings.warn(\n",
      "100%|██████████| 3073/3073 [03:14<00:00, 15.81ex/s]\n"
     ]
    },
    {
     "name": "stdout",
     "output_type": "stream",
     "text": [
      "              precision    recall  f1-score   support\n",
      "\n",
      "       ANGRY       0.10      0.50      0.17       244\n",
      "     DISLIKE       0.17      0.08      0.11       184\n",
      "       OTHER       0.87      0.32      0.47      2316\n",
      " PESSIMISTIC       0.14      0.37      0.21       278\n",
      "     WORRIED       0.06      0.29      0.11        51\n",
      "\n",
      "    accuracy                           0.33      3073\n",
      "   macro avg       0.27      0.31      0.21      3073\n",
      "weighted avg       0.69      0.33      0.40      3073\n",
      "\n",
      "This text shows {}.\n"
     ]
    },
    {
     "name": "stderr",
     "output_type": "stream",
     "text": [
      "  0%|          | 0/3073 [00:00<?, ?ex/s]/home/njfernandez/.local/lib/python3.8/site-packages/transformers/pipelines/base.py:1043: UserWarning: You seem to be using the pipelines sequentially on GPU. In order to maximize efficiency please use a dataset\n",
      "  warnings.warn(\n",
      "100%|██████████| 3073/3073 [03:14<00:00, 15.77ex/s]\n"
     ]
    },
    {
     "name": "stdout",
     "output_type": "stream",
     "text": [
      "              precision    recall  f1-score   support\n",
      "\n",
      "       ANGRY       0.09      0.60      0.16       244\n",
      "     DISLIKE       0.05      0.03      0.04       184\n",
      "       OTHER       0.89      0.24      0.37      2316\n",
      " PESSIMISTIC       0.17      0.27      0.21       278\n",
      "     WORRIED       0.06      0.37      0.10        51\n",
      "\n",
      "    accuracy                           0.26      3073\n",
      "   macro avg       0.25      0.30      0.18      3073\n",
      "weighted avg       0.70      0.26      0.32      3073\n",
      "\n",
      "This text expresses {}.\n"
     ]
    },
    {
     "name": "stderr",
     "output_type": "stream",
     "text": [
      "  0%|          | 0/3073 [00:00<?, ?ex/s]/home/njfernandez/.local/lib/python3.8/site-packages/transformers/pipelines/base.py:1043: UserWarning: You seem to be using the pipelines sequentially on GPU. In order to maximize efficiency please use a dataset\n",
      "  warnings.warn(\n",
      "100%|██████████| 3073/3073 [03:14<00:00, 15.76ex/s]\n"
     ]
    },
    {
     "name": "stdout",
     "output_type": "stream",
     "text": [
      "              precision    recall  f1-score   support\n",
      "\n",
      "       ANGRY       0.09      0.40      0.15       244\n",
      "     DISLIKE       0.05      0.08      0.06       184\n",
      "       OTHER       0.89      0.20      0.33      2316\n",
      " PESSIMISTIC       0.13      0.27      0.18       278\n",
      "     WORRIED       0.04      0.47      0.08        51\n",
      "\n",
      "    accuracy                           0.22      3073\n",
      "   macro avg       0.24      0.28      0.16      3073\n",
      "weighted avg       0.69      0.22      0.28      3073\n",
      "\n",
      "This text conveys {}.\n"
     ]
    },
    {
     "name": "stderr",
     "output_type": "stream",
     "text": [
      "  0%|          | 0/3073 [00:00<?, ?ex/s]/home/njfernandez/.local/lib/python3.8/site-packages/transformers/pipelines/base.py:1043: UserWarning: You seem to be using the pipelines sequentially on GPU. In order to maximize efficiency please use a dataset\n",
      "  warnings.warn(\n",
      "100%|██████████| 3073/3073 [03:15<00:00, 15.74ex/s]\n"
     ]
    },
    {
     "name": "stdout",
     "output_type": "stream",
     "text": [
      "              precision    recall  f1-score   support\n",
      "\n",
      "       ANGRY       0.10      0.53      0.16       244\n",
      "     DISLIKE       0.04      0.06      0.05       184\n",
      "       OTHER       0.89      0.25      0.39      2316\n",
      " PESSIMISTIC       0.14      0.26      0.18       278\n",
      "     WORRIED       0.06      0.33      0.10        51\n",
      "\n",
      "    accuracy                           0.26      3073\n",
      "   macro avg       0.24      0.29      0.18      3073\n",
      "weighted avg       0.69      0.26      0.33      3073\n",
      "\n",
      "The communicative function of this text is {}.\n"
     ]
    },
    {
     "name": "stderr",
     "output_type": "stream",
     "text": [
      "  0%|          | 0/3073 [00:00<?, ?ex/s]/home/njfernandez/.local/lib/python3.8/site-packages/transformers/pipelines/base.py:1043: UserWarning: You seem to be using the pipelines sequentially on GPU. In order to maximize efficiency please use a dataset\n",
      "  warnings.warn(\n",
      "100%|██████████| 3073/3073 [03:15<00:00, 15.72ex/s]\n"
     ]
    },
    {
     "name": "stdout",
     "output_type": "stream",
     "text": [
      "              precision    recall  f1-score   support\n",
      "\n",
      "       ANGRY       0.11      0.36      0.16       244\n",
      "     DISLIKE       0.09      0.07      0.07       184\n",
      "       OTHER       0.88      0.29      0.44      2316\n",
      " PESSIMISTIC       0.15      0.43      0.22       278\n",
      "     WORRIED       0.04      0.45      0.08        51\n",
      "\n",
      "    accuracy                           0.30      3073\n",
      "   macro avg       0.25      0.32      0.19      3073\n",
      "weighted avg       0.69      0.30      0.37      3073\n",
      "\n",
      "The communicative intention of this text is {}.\n"
     ]
    },
    {
     "name": "stderr",
     "output_type": "stream",
     "text": [
      "  0%|          | 0/3073 [00:00<?, ?ex/s]/home/njfernandez/.local/lib/python3.8/site-packages/transformers/pipelines/base.py:1043: UserWarning: You seem to be using the pipelines sequentially on GPU. In order to maximize efficiency please use a dataset\n",
      "  warnings.warn(\n",
      "100%|██████████| 3073/3073 [14:20<00:00,  3.57ex/s]    \n"
     ]
    },
    {
     "name": "stdout",
     "output_type": "stream",
     "text": [
      "              precision    recall  f1-score   support\n",
      "\n",
      "       ANGRY       0.11      0.32      0.16       244\n",
      "     DISLIKE       0.11      0.07      0.09       184\n",
      "       OTHER       0.88      0.29      0.44      2316\n",
      " PESSIMISTIC       0.13      0.50      0.21       278\n",
      "     WORRIED       0.05      0.39      0.09        51\n",
      "\n",
      "    accuracy                           0.30      3073\n",
      "   macro avg       0.26      0.31      0.20      3073\n",
      "weighted avg       0.69      0.30      0.37      3073\n",
      "\n",
      "The emotion of this text is {}.\n"
     ]
    },
    {
     "name": "stderr",
     "output_type": "stream",
     "text": [
      "  0%|          | 0/3073 [00:00<?, ?ex/s]/home/njfernandez/.local/lib/python3.8/site-packages/transformers/pipelines/base.py:1043: UserWarning: You seem to be using the pipelines sequentially on GPU. In order to maximize efficiency please use a dataset\n",
      "  warnings.warn(\n",
      "100%|██████████| 3073/3073 [03:14<00:00, 15.83ex/s]\n"
     ]
    },
    {
     "name": "stdout",
     "output_type": "stream",
     "text": [
      "              precision    recall  f1-score   support\n",
      "\n",
      "       ANGRY       0.12      0.30      0.17       244\n",
      "     DISLIKE       0.16      0.11      0.13       184\n",
      "       OTHER       0.84      0.52      0.65      2316\n",
      " PESSIMISTIC       0.15      0.36      0.22       278\n",
      "     WORRIED       0.07      0.31      0.12        51\n",
      "\n",
      "    accuracy                           0.46      3073\n",
      "   macro avg       0.27      0.32      0.26      3073\n",
      "weighted avg       0.67      0.46      0.53      3073\n",
      "\n",
      "The emotion expressed in this text is {}.\n"
     ]
    },
    {
     "name": "stderr",
     "output_type": "stream",
     "text": [
      "  0%|          | 0/3073 [00:00<?, ?ex/s]/home/njfernandez/.local/lib/python3.8/site-packages/transformers/pipelines/base.py:1043: UserWarning: You seem to be using the pipelines sequentially on GPU. In order to maximize efficiency please use a dataset\n",
      "  warnings.warn(\n",
      "100%|██████████| 3073/3073 [03:41<00:00, 13.89ex/s]\n"
     ]
    },
    {
     "name": "stdout",
     "output_type": "stream",
     "text": [
      "              precision    recall  f1-score   support\n",
      "\n",
      "       ANGRY       0.12      0.28      0.17       244\n",
      "     DISLIKE       0.18      0.13      0.15       184\n",
      "       OTHER       0.85      0.50      0.63      2316\n",
      " PESSIMISTIC       0.15      0.38      0.21       278\n",
      "     WORRIED       0.08      0.39      0.13        51\n",
      "\n",
      "    accuracy                           0.45      3073\n",
      "   macro avg       0.27      0.34      0.26      3073\n",
      "weighted avg       0.67      0.45      0.52      3073\n",
      "\n"
     ]
    }
   ],
   "source": [
    "# Use GPU if available\n",
    "classifier = pipeline('zero-shot-classification', model=zero_shot_model, device=0)\n",
    "\n",
    "for ht in h_ts:\n",
    "    print(ht)\n",
    "    emoevent['test'] = emoevent['test'].map(zero_shot_pipeline)   \n",
    "    y_true = emoevent['test'][\"function\"]\n",
    "    y_pred = emoevent['test'][\"predicted_label\"]\n",
    "    clf_report = classification_report(\n",
    "            y_true, y_pred, zero_division=0)\n",
    "    print(clf_report)\n",
    "    clf_report = classification_report(\n",
    "            y_true, y_pred, zero_division=0, output_dict=True)\n",
    "    df = pd.DataFrame(clf_report).transpose()\n",
    "    with open(f\"classification_report_emoevent_ht={ht}_zero_shot.csv\", 'w') as csv_file:\n",
    "        df.to_csv(path_or_buf=csv_file)\n",
    "    ds_zero_shot = emoevent['test'].to_pandas()\n",
    "    cols = [\"tweet\", \"emotion\", \"function\", \"predicted_label\", \"score\"]\n",
    "    df_test = ds_zero_shot[:][cols]\n",
    "    df_test.to_csv(f\"preds_emoevent_ht={ht}_zero_shot.csv\",header =True, sep = '\\t',index=False)"
   ]
  },
  {
   "cell_type": "code",
   "execution_count": null,
   "id": "071f4d6d",
   "metadata": {},
   "outputs": [],
   "source": []
  }
 ],
 "metadata": {
  "kernelspec": {
   "display_name": "Python 3 (ipykernel)",
   "language": "python",
   "name": "python3"
  },
  "language_info": {
   "codemirror_mode": {
    "name": "ipython",
    "version": 3
   },
   "file_extension": ".py",
   "mimetype": "text/x-python",
   "name": "python",
   "nbconvert_exporter": "python",
   "pygments_lexer": "ipython3",
   "version": "3.8.10"
  }
 },
 "nbformat": 4,
 "nbformat_minor": 5
}

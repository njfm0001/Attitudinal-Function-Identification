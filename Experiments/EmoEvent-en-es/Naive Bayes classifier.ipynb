{
 "cells": [
  {
   "cell_type": "markdown",
   "id": "acf45e0f",
   "metadata": {},
   "source": [
    "# EmoEvent en train (baseline) experiment"
   ]
  },
  {
   "cell_type": "code",
   "execution_count": 3,
   "id": "38673a21",
   "metadata": {},
   "outputs": [],
   "source": [
    "from datasets import Dataset, load_dataset, DatasetDict, ClassLabel, concatenate_datasets\n",
    "import numpy as np\n",
    "import torch\n",
    "import pandas as pd\n",
    "\n",
    "#Seeding for deterministic results i.e. showing same output \n",
    "RANDOM_SEED = 64\n",
    "np.random.seed(RANDOM_SEED)\n",
    "torch.manual_seed(RANDOM_SEED)\n",
    "if torch.cuda.is_available():\n",
    "   torch.cuda.manual_seed(RANDOM_SEED)\n",
    "   torch.cuda.manual_seed_all(RANDOM_SEED) \n",
    "   torch.backends.cudnn.deterministic = True  \n",
    "   torch.backends.cudnn.benchmark = False"
   ]
  },
  {
   "cell_type": "code",
   "execution_count": 4,
   "id": "11a6e0f2",
   "metadata": {},
   "outputs": [
    {
     "name": "stderr",
     "output_type": "stream",
     "text": [
      "Using custom data configuration default-960b1f9335da6974\n",
      "Found cached dataset csv (/home/njfernandez/.cache/huggingface/datasets/csv/default-960b1f9335da6974/0.0.0/6b34fb8fcf56f7c8ba51dc895bfa2bfbe43546f190a60fcf74bb5e8afdcc2317)\n",
      "100%|██████████| 3/3 [00:00<00:00, 877.35it/s]\n",
      "Using custom data configuration default-f0f3a67dac6080b1\n",
      "Found cached dataset csv (/home/njfernandez/.cache/huggingface/datasets/csv/default-f0f3a67dac6080b1/0.0.0/6b34fb8fcf56f7c8ba51dc895bfa2bfbe43546f190a60fcf74bb5e8afdcc2317)\n",
      "100%|██████████| 3/3 [00:00<00:00, 920.68it/s]\n",
      "Loading cached shuffled indices for dataset at /home/njfernandez/.cache/huggingface/datasets/csv/default-960b1f9335da6974/0.0.0/6b34fb8fcf56f7c8ba51dc895bfa2bfbe43546f190a60fcf74bb5e8afdcc2317/cache-6a6e13a3ae6ef6af.arrow\n",
      "Loading cached shuffled indices for dataset at /home/njfernandez/.cache/huggingface/datasets/csv/default-960b1f9335da6974/0.0.0/6b34fb8fcf56f7c8ba51dc895bfa2bfbe43546f190a60fcf74bb5e8afdcc2317/cache-b12a5b2844f1fc9b.arrow\n",
      "Loading cached shuffled indices for dataset at /home/njfernandez/.cache/huggingface/datasets/csv/default-960b1f9335da6974/0.0.0/6b34fb8fcf56f7c8ba51dc895bfa2bfbe43546f190a60fcf74bb5e8afdcc2317/cache-27073343a85cbf60.arrow\n"
     ]
    }
   ],
   "source": [
    "emoevent_es_dataset = load_dataset(\"csv\", sep = '\\t', data_files ={'train': r'es_train.tsv',\n",
    "                                                        'test': r'es_test.tsv',\n",
    "                                                       'valid': r'es_dev.tsv'})\n",
    "emoevent_en_dataset = load_dataset(\"csv\", sep = '\\t', data_files ={'train': r'en_train.tsv',\n",
    "                                                        'test': r'en_test.tsv',\n",
    "                                                       'valid': r'en_dev.tsv'})\n",
    "\n",
    "train_dataset = concatenate_datasets([emoevent_es_dataset['train'], emoevent_en_dataset['train']])\n",
    "valid_dataset = concatenate_datasets([emoevent_es_dataset['valid'], emoevent_en_dataset['valid']])\n",
    "test_dataset = concatenate_datasets([emoevent_es_dataset['test'], emoevent_en_dataset['test']])\n",
    "\n",
    "emoevent = DatasetDict({'train': train_dataset.shuffle(seed=42), 'valid': valid_dataset.shuffle(seed=42), 'test': test_dataset.shuffle(seed=42)})"
   ]
  },
  {
   "cell_type": "code",
   "execution_count": 5,
   "id": "5e517e37",
   "metadata": {},
   "outputs": [
    {
     "name": "stderr",
     "output_type": "stream",
     "text": [
      "Loading cached processed dataset at /home/njfernandez/.cache/huggingface/datasets/csv/default-960b1f9335da6974/0.0.0/6b34fb8fcf56f7c8ba51dc895bfa2bfbe43546f190a60fcf74bb5e8afdcc2317/cache-583aa5492a81268f.arrow\n",
      "Loading cached processed dataset at /home/njfernandez/.cache/huggingface/datasets/csv/default-960b1f9335da6974/0.0.0/6b34fb8fcf56f7c8ba51dc895bfa2bfbe43546f190a60fcf74bb5e8afdcc2317/cache-4054e870b3bdf90d.arrow\n",
      "Loading cached processed dataset at /home/njfernandez/.cache/huggingface/datasets/csv/default-960b1f9335da6974/0.0.0/6b34fb8fcf56f7c8ba51dc895bfa2bfbe43546f190a60fcf74bb5e8afdcc2317/cache-cc4651795e9bd861.arrow\n"
     ]
    }
   ],
   "source": [
    "emoevent = emoevent.remove_columns(\"id\").remove_columns(\"event\").remove_columns(\"offensive\")\n",
    "\n",
    "function_mapping = {'OTHER': ['others', 'surprise', 'joy'],\n",
    "           'NOT_INTERESTED': [''], \n",
    "           'DISLIKE':['disgust'], \n",
    "           'NOT_CORRECT': [''], \n",
    "           'PESSIMISTIC':['sadness'], \n",
    "           'WORRIED':['fear'], \n",
    "           'ANGRY': ['anger'], \n",
    "           'DISAPPOINTED': [''], \n",
    "           'BORED': [''], \n",
    "           'NOT_APPROVE':[''], \n",
    "           'NOT_IMPORTANT': [''], \n",
    "           'DISAGREE': [''], \n",
    "           'WARN': [''], \n",
    "           'COMPLAIN': [''], \n",
    "           'THREATEN': [''], \n",
    "           'UNWILLING': [''], \n",
    "           'DISTRUST' : [''],\n",
    "           'REFUSE': [''] }\n",
    "\n",
    "def map_labels(batch):\n",
    "    batch['function'] = [[] for _ in range(len(batch['tweet']))]\n",
    "    for i, item in enumerate(batch[\"function\"]):\n",
    "        for key, value in function_mapping.items():\n",
    "            for emotion in value:\n",
    "                if emotion == batch[\"emotion\"][i]:\n",
    "                    batch[\"function\"][i] = key\n",
    "                    break\n",
    "    return batch\n",
    "emoevent = emoevent.map(map_labels, batched=True)"
   ]
  },
  {
   "cell_type": "code",
   "execution_count": 6,
   "id": "f53ec871",
   "metadata": {},
   "outputs": [
    {
     "data": {
      "text/html": [
       "<div>\n",
       "<style scoped>\n",
       "    .dataframe tbody tr th:only-of-type {\n",
       "        vertical-align: middle;\n",
       "    }\n",
       "\n",
       "    .dataframe tbody tr th {\n",
       "        vertical-align: top;\n",
       "    }\n",
       "\n",
       "    .dataframe thead th {\n",
       "        text-align: right;\n",
       "    }\n",
       "</style>\n",
       "<table border=\"1\" class=\"dataframe\">\n",
       "  <thead>\n",
       "    <tr style=\"text-align: right;\">\n",
       "      <th></th>\n",
       "      <th>tweet</th>\n",
       "      <th>emotion</th>\n",
       "      <th>function</th>\n",
       "    </tr>\n",
       "  </thead>\n",
       "  <tbody>\n",
       "    <tr>\n",
       "      <th>0</th>\n",
       "      <td>Pues me sumo a los elogios del CAPITULACO de #...</td>\n",
       "      <td>joy</td>\n",
       "      <td>OTHER</td>\n",
       "    </tr>\n",
       "    <tr>\n",
       "      <th>1</th>\n",
       "      <td>Sigo teniendo esperanzas de que sea Gilly. ¿Qu...</td>\n",
       "      <td>others</td>\n",
       "      <td>OTHER</td>\n",
       "    </tr>\n",
       "    <tr>\n",
       "      <th>2</th>\n",
       "      <td>Following philanthropic response to the #Notre...</td>\n",
       "      <td>others</td>\n",
       "      <td>OTHER</td>\n",
       "    </tr>\n",
       "    <tr>\n",
       "      <th>3</th>\n",
       "      <td>#NotiPost #30Abr #Venezuela vive un \"momento c...</td>\n",
       "      <td>others</td>\n",
       "      <td>OTHER</td>\n",
       "    </tr>\n",
       "    <tr>\n",
       "      <th>4</th>\n",
       "      <td>I can't help but to feel a little disappointed...</td>\n",
       "      <td>others</td>\n",
       "      <td>OTHER</td>\n",
       "    </tr>\n",
       "    <tr>\n",
       "      <th>...</th>\n",
       "      <td>...</td>\n",
       "      <td>...</td>\n",
       "      <td>...</td>\n",
       "    </tr>\n",
       "    <tr>\n",
       "      <th>10830</th>\n",
       "      <td>📚 \"Siempre imaginé que el paraíso sería algún ...</td>\n",
       "      <td>others</td>\n",
       "      <td>OTHER</td>\n",
       "    </tr>\n",
       "    <tr>\n",
       "      <th>10831</th>\n",
       "      <td>Puta mierda el 8x03 de Juego de tronos. Como c...</td>\n",
       "      <td>anger</td>\n",
       "      <td>ANGRY</td>\n",
       "    </tr>\n",
       "    <tr>\n",
       "      <th>10832</th>\n",
       "      <td>\" Qué tristeza, ..., se pierde una creación de...</td>\n",
       "      <td>sadness</td>\n",
       "      <td>PESSIMISTIC</td>\n",
       "    </tr>\n",
       "    <tr>\n",
       "      <th>10833</th>\n",
       "      <td>\"You need to vote for us, for your children an...</td>\n",
       "      <td>others</td>\n",
       "      <td>OTHER</td>\n",
       "    </tr>\n",
       "    <tr>\n",
       "      <th>10834</th>\n",
       "      <td>Happy #worldbookday!  Share your appreciation ...</td>\n",
       "      <td>joy</td>\n",
       "      <td>OTHER</td>\n",
       "    </tr>\n",
       "  </tbody>\n",
       "</table>\n",
       "<p>10835 rows × 3 columns</p>\n",
       "</div>"
      ],
      "text/plain": [
       "                                                   tweet  emotion     function\n",
       "0      Pues me sumo a los elogios del CAPITULACO de #...      joy        OTHER\n",
       "1      Sigo teniendo esperanzas de que sea Gilly. ¿Qu...   others        OTHER\n",
       "2      Following philanthropic response to the #Notre...   others        OTHER\n",
       "3      #NotiPost #30Abr #Venezuela vive un \"momento c...   others        OTHER\n",
       "4      I can't help but to feel a little disappointed...   others        OTHER\n",
       "...                                                  ...      ...          ...\n",
       "10830  📚 \"Siempre imaginé que el paraíso sería algún ...   others        OTHER\n",
       "10831  Puta mierda el 8x03 de Juego de tronos. Como c...    anger        ANGRY\n",
       "10832  \" Qué tristeza, ..., se pierde una creación de...  sadness  PESSIMISTIC\n",
       "10833  \"You need to vote for us, for your children an...   others        OTHER\n",
       "10834  Happy #worldbookday!  Share your appreciation ...      joy        OTHER\n",
       "\n",
       "[10835 rows x 3 columns]"
      ]
     },
     "execution_count": 6,
     "metadata": {},
     "output_type": "execute_result"
    }
   ],
   "source": [
    "df_train = emoevent['train'].to_pandas()\n",
    "df_valid = emoevent['valid'].to_pandas()\n",
    "df_test = emoevent['test'].to_pandas()\n",
    "\n",
    "df_train"
   ]
  },
  {
   "cell_type": "code",
   "execution_count": 7,
   "id": "a05a30f5",
   "metadata": {},
   "outputs": [],
   "source": [
    "from sklearn.feature_extraction.text import CountVectorizer\n",
    "cv = CountVectorizer()"
   ]
  },
  {
   "cell_type": "code",
   "execution_count": 8,
   "id": "26443e4a",
   "metadata": {},
   "outputs": [],
   "source": [
    "X_train = cv.fit_transform(df_train['tweet'])\n",
    "X_valid = cv.transform(df_valid['tweet'])\n",
    "X_test = cv.transform(df_test['tweet'])\n",
    "\n",
    "y_train = df_train[\"function\"]\n",
    "y_valid = df_valid[\"function\"]\n",
    "y_test = df_test[\"function\"]"
   ]
  },
  {
   "cell_type": "code",
   "execution_count": 9,
   "id": "e6be6805",
   "metadata": {},
   "outputs": [
    {
     "name": "stdout",
     "output_type": "stream",
     "text": [
      "              precision    recall  f1-score   support\n",
      "\n",
      "       ANGRY       0.14      0.04      0.06       244\n",
      "     DISLIKE       0.36      0.18      0.24       184\n",
      "       OTHER       0.77      0.90      0.83      2316\n",
      " PESSIMISTIC       0.14      0.10      0.12       278\n",
      "     WORRIED       0.00      0.00      0.00        51\n",
      "\n",
      "    accuracy                           0.70      3073\n",
      "   macro avg       0.28      0.24      0.25      3073\n",
      "weighted avg       0.62      0.70      0.66      3073\n",
      "\n"
     ]
    }
   ],
   "source": [
    "from sklearn.naive_bayes import MultinomialNB\n",
    "from sklearn.metrics import classification_report\n",
    "\n",
    "classifier = MultinomialNB()\n",
    "classifier.fit(X_train, y_train)\n",
    "y_pred_test = classifier.predict(X_test)\n",
    "clf_report = classification_report(y_test, y_pred_test, zero_division=0)\n",
    "print(clf_report)"
   ]
  },
  {
   "cell_type": "code",
   "execution_count": 10,
   "id": "a075e023",
   "metadata": {},
   "outputs": [],
   "source": [
    "clf_report = classification_report(y_test, y_pred_test, zero_division=0, output_dict=True)\n",
    "df_results = pd.DataFrame(clf_report).transpose()\n",
    "with open(r'classification_report_baseline_emoevent_naive_bayes.csv', 'w') as csv_file:\n",
    "    df_results.to_csv(path_or_buf=csv_file)"
   ]
  },
  {
   "cell_type": "code",
   "execution_count": 11,
   "id": "822003b2",
   "metadata": {},
   "outputs": [],
   "source": [
    "df_test['predicted_label'] = y_pred_test\n",
    "df_test.to_csv('preds_baseline_emoevent_naive_bayes.tsv',header =True, sep = '\\t',index=False)"
   ]
  },
  {
   "cell_type": "markdown",
   "id": "7321c768",
   "metadata": {},
   "source": [
    "# Function basic experiment"
   ]
  },
  {
   "cell_type": "code",
   "execution_count": 12,
   "id": "46e0990d",
   "metadata": {},
   "outputs": [
    {
     "data": {
      "text/html": [
       "<div>\n",
       "<style scoped>\n",
       "    .dataframe tbody tr th:only-of-type {\n",
       "        vertical-align: middle;\n",
       "    }\n",
       "\n",
       "    .dataframe tbody tr th {\n",
       "        vertical-align: top;\n",
       "    }\n",
       "\n",
       "    .dataframe thead th {\n",
       "        text-align: right;\n",
       "    }\n",
       "</style>\n",
       "<table border=\"1\" class=\"dataframe\">\n",
       "  <thead>\n",
       "    <tr style=\"text-align: right;\">\n",
       "      <th></th>\n",
       "      <th>text</th>\n",
       "      <th>function</th>\n",
       "    </tr>\n",
       "  </thead>\n",
       "  <tbody>\n",
       "    <tr>\n",
       "      <th>85</th>\n",
       "      <td>I'm not really very keen on it</td>\n",
       "      <td>DISLIKE</td>\n",
       "    </tr>\n",
       "    <tr>\n",
       "      <th>86</th>\n",
       "      <td>I'm not really very keen</td>\n",
       "      <td>DISLIKE</td>\n",
       "    </tr>\n",
       "    <tr>\n",
       "      <th>87</th>\n",
       "      <td>I'm not really keen on it</td>\n",
       "      <td>DISLIKE</td>\n",
       "    </tr>\n",
       "    <tr>\n",
       "      <th>88</th>\n",
       "      <td>I'm not really keen</td>\n",
       "      <td>DISLIKE</td>\n",
       "    </tr>\n",
       "    <tr>\n",
       "      <th>89</th>\n",
       "      <td>I'm not very keen on it</td>\n",
       "      <td>DISLIKE</td>\n",
       "    </tr>\n",
       "    <tr>\n",
       "      <th>...</th>\n",
       "      <td>...</td>\n",
       "      <td>...</td>\n",
       "    </tr>\n",
       "    <tr>\n",
       "      <th>897</th>\n",
       "      <td>you could do it</td>\n",
       "      <td>OTHER</td>\n",
       "    </tr>\n",
       "    <tr>\n",
       "      <th>898</th>\n",
       "      <td>you look nice</td>\n",
       "      <td>OTHER</td>\n",
       "    </tr>\n",
       "    <tr>\n",
       "      <th>899</th>\n",
       "      <td>you look smart</td>\n",
       "      <td>OTHER</td>\n",
       "    </tr>\n",
       "    <tr>\n",
       "      <th>900</th>\n",
       "      <td>you're right</td>\n",
       "      <td>OTHER</td>\n",
       "    </tr>\n",
       "    <tr>\n",
       "      <th>901</th>\n",
       "      <td>you're welcome</td>\n",
       "      <td>OTHER</td>\n",
       "    </tr>\n",
       "  </tbody>\n",
       "</table>\n",
       "<p>410 rows × 2 columns</p>\n",
       "</div>"
      ],
      "text/plain": [
       "                               text function\n",
       "85   I'm not really very keen on it  DISLIKE\n",
       "86         I'm not really very keen  DISLIKE\n",
       "87        I'm not really keen on it  DISLIKE\n",
       "88              I'm not really keen  DISLIKE\n",
       "89          I'm not very keen on it  DISLIKE\n",
       "..                              ...      ...\n",
       "897                 you could do it    OTHER\n",
       "898                   you look nice    OTHER\n",
       "899                  you look smart    OTHER\n",
       "900                    you're right    OTHER\n",
       "901                  you're welcome    OTHER\n",
       "\n",
       "[410 rows x 2 columns]"
      ]
     },
     "execution_count": 12,
     "metadata": {},
     "output_type": "execute_result"
    }
   ],
   "source": [
    "comfunctions_basic = 'comfunct_basic.txt'\n",
    "df = pd.read_csv(comfunctions_basic, delimiter=\";\")\n",
    "df = df[df['function'].isin(['ANGRY', 'DISLIKE', 'OTHER', 'PESSIMISTIC', 'WORRIED'])]\n",
    "\n",
    "df"
   ]
  },
  {
   "cell_type": "code",
   "execution_count": 10,
   "id": "051f9bb4",
   "metadata": {},
   "outputs": [],
   "source": [
    "cv = CountVectorizer()\n",
    "X_train = cv.fit_transform(df['text'])\n",
    "X_test = cv.transform(df_test['tweet'])\n",
    "\n",
    "y_train = df[\"function\"]\n",
    "y_test = df_test[\"function\"]"
   ]
  },
  {
   "cell_type": "code",
   "execution_count": 11,
   "id": "375ea9c3",
   "metadata": {},
   "outputs": [
    {
     "name": "stdout",
     "output_type": "stream",
     "text": [
      "              precision    recall  f1-score   support\n",
      "\n",
      "       ANGRY       0.03      0.05      0.04        78\n",
      "     DISLIKE       0.10      0.07      0.08       151\n",
      "       OTHER       0.76      0.48      0.59      1105\n",
      " PESSIMISTIC       0.04      0.07      0.05        83\n",
      "     WORRIED       0.02      0.20      0.03        30\n",
      "\n",
      "    accuracy                           0.38      1447\n",
      "   macro avg       0.19      0.17      0.16      1447\n",
      "weighted avg       0.60      0.38      0.46      1447\n",
      "\n"
     ]
    }
   ],
   "source": [
    "from sklearn.naive_bayes import MultinomialNB\n",
    "from sklearn.metrics import classification_report\n",
    "\n",
    "classifier = MultinomialNB()\n",
    "classifier.fit(X_train, y_train)\n",
    "y_pred_test = classifier.predict(X_test)\n",
    "clf_report = classification_report(y_test, y_pred_test, zero_division=0)\n",
    "print(clf_report)"
   ]
  },
  {
   "cell_type": "code",
   "execution_count": 12,
   "id": "11f4fff6",
   "metadata": {},
   "outputs": [],
   "source": [
    "clf_report = classification_report(y_test, y_pred_test, zero_division=0, output_dict=True)\n",
    "df_result = pd.DataFrame(clf_report).transpose()\n",
    "with open(r'classification_report_functions_basic_emoevent_en_naive_bayes.csv', 'w') as csv_file:\n",
    "    df_result.to_csv(path_or_buf=csv_file)"
   ]
  },
  {
   "cell_type": "code",
   "execution_count": 13,
   "id": "f7bc8f36",
   "metadata": {},
   "outputs": [],
   "source": [
    "df_test['predicted_label'] = y_pred_test\n",
    "df_test.to_csv('preds_functions_basic_emoevent_en_naive_bayes.tsv',header =True, sep = '\\t',index=False)"
   ]
  },
  {
   "cell_type": "markdown",
   "id": "13be9667",
   "metadata": {},
   "source": [
    "# Function extended experiment"
   ]
  },
  {
   "cell_type": "code",
   "execution_count": 14,
   "id": "36720f76",
   "metadata": {},
   "outputs": [
    {
     "data": {
      "text/html": [
       "<div>\n",
       "<style scoped>\n",
       "    .dataframe tbody tr th:only-of-type {\n",
       "        vertical-align: middle;\n",
       "    }\n",
       "\n",
       "    .dataframe tbody tr th {\n",
       "        vertical-align: top;\n",
       "    }\n",
       "\n",
       "    .dataframe thead th {\n",
       "        text-align: right;\n",
       "    }\n",
       "</style>\n",
       "<table border=\"1\" class=\"dataframe\">\n",
       "  <thead>\n",
       "    <tr style=\"text-align: right;\">\n",
       "      <th></th>\n",
       "      <th>text</th>\n",
       "      <th>function</th>\n",
       "    </tr>\n",
       "  </thead>\n",
       "  <tbody>\n",
       "    <tr>\n",
       "      <th>0</th>\n",
       "      <td>Hey #friends, just wanted to clarify that the ...</td>\n",
       "      <td>OTHER</td>\n",
       "    </tr>\n",
       "    <tr>\n",
       "      <th>1</th>\n",
       "      <td>Good morning everyone! ☀️ Just wanted to say a...</td>\n",
       "      <td>OTHER</td>\n",
       "    </tr>\n",
       "    <tr>\n",
       "      <th>2</th>\n",
       "      <td>Hey #team, don't forget our meeting at 2pm tod...</td>\n",
       "      <td>OTHER</td>\n",
       "    </tr>\n",
       "    <tr>\n",
       "      <th>3</th>\n",
       "      <td>Sorry for the late reply, I was swamped at wor...</td>\n",
       "      <td>OTHER</td>\n",
       "    </tr>\n",
       "    <tr>\n",
       "      <th>4</th>\n",
       "      <td>Hey, can someone introduce me to @jane_doe? I'...</td>\n",
       "      <td>OTHER</td>\n",
       "    </tr>\n",
       "    <tr>\n",
       "      <th>...</th>\n",
       "      <td>...</td>\n",
       "      <td>...</td>\n",
       "    </tr>\n",
       "    <tr>\n",
       "      <th>2106</th>\n",
       "      <td>i hate this</td>\n",
       "      <td>DISLIKE</td>\n",
       "    </tr>\n",
       "    <tr>\n",
       "      <th>2107</th>\n",
       "      <td>this is the worst</td>\n",
       "      <td>DISLIKE</td>\n",
       "    </tr>\n",
       "    <tr>\n",
       "      <th>2108</th>\n",
       "      <td>Ew, spinach in my salad again. 😒 #NotAVegHead</td>\n",
       "      <td>DISLIKE</td>\n",
       "    </tr>\n",
       "    <tr>\n",
       "      <th>2109</th>\n",
       "      <td>🤢 Don't like this new food trend 🍔 #StickToThe...</td>\n",
       "      <td>DISLIKE</td>\n",
       "    </tr>\n",
       "    <tr>\n",
       "      <th>2110</th>\n",
       "      <td>This new movie looks like rubbish. The trailer...</td>\n",
       "      <td>DISLIKE</td>\n",
       "    </tr>\n",
       "  </tbody>\n",
       "</table>\n",
       "<p>733 rows × 2 columns</p>\n",
       "</div>"
      ],
      "text/plain": [
       "                                                   text function\n",
       "0     Hey #friends, just wanted to clarify that the ...    OTHER\n",
       "1     Good morning everyone! ☀️ Just wanted to say a...    OTHER\n",
       "2     Hey #team, don't forget our meeting at 2pm tod...    OTHER\n",
       "3     Sorry for the late reply, I was swamped at wor...    OTHER\n",
       "4     Hey, can someone introduce me to @jane_doe? I'...    OTHER\n",
       "...                                                 ...      ...\n",
       "2106                                        i hate this  DISLIKE\n",
       "2107                                  this is the worst  DISLIKE\n",
       "2108      Ew, spinach in my salad again. 😒 #NotAVegHead  DISLIKE\n",
       "2109  🤢 Don't like this new food trend 🍔 #StickToThe...  DISLIKE\n",
       "2110  This new movie looks like rubbish. The trailer...  DISLIKE\n",
       "\n",
       "[733 rows x 2 columns]"
      ]
     },
     "execution_count": 14,
     "metadata": {},
     "output_type": "execute_result"
    }
   ],
   "source": [
    "comfunctions_extended = 'comfunct_extended.txt'\n",
    "df = pd.read_csv(comfunctions_extended, delimiter=\";\")\n",
    "df = df[~df['function'].isin(['NOT_INTERESTED', 'BORED', 'NOT_CORRECT', 'DISAPPOINTED', 'COMPLAIN', 'NOT_APPROVE',\n",
    "                             'NOT_IMPORTANT', 'DISAGREE', 'REFUSE', 'WARN', 'THREATEN', 'UNWILLING', 'DISTRUST' ])]\n",
    "\n",
    "df"
   ]
  },
  {
   "cell_type": "code",
   "execution_count": 15,
   "id": "869a84d3",
   "metadata": {},
   "outputs": [],
   "source": [
    "cv = CountVectorizer()\n",
    "X_train = cv.fit_transform(df['text'])\n",
    "X_test = cv.transform(df_test['tweet'])\n",
    "\n",
    "y_train = df[\"function\"]\n",
    "y_test = df_test[\"function\"]"
   ]
  },
  {
   "cell_type": "code",
   "execution_count": 16,
   "id": "6d992c4d",
   "metadata": {},
   "outputs": [
    {
     "name": "stdout",
     "output_type": "stream",
     "text": [
      "              precision    recall  f1-score   support\n",
      "\n",
      "       ANGRY       0.07      0.22      0.11        78\n",
      "     DISLIKE       0.15      0.17      0.16       151\n",
      "       OTHER       0.81      0.57      0.67      1105\n",
      " PESSIMISTIC       0.05      0.05      0.05        83\n",
      "     WORRIED       0.04      0.23      0.07        30\n",
      "\n",
      "    accuracy                           0.47      1447\n",
      "   macro avg       0.22      0.25      0.21      1447\n",
      "weighted avg       0.64      0.47      0.54      1447\n",
      "\n"
     ]
    }
   ],
   "source": [
    "from sklearn.naive_bayes import MultinomialNB\n",
    "from sklearn.metrics import classification_report\n",
    "\n",
    "classifier = MultinomialNB()\n",
    "classifier.fit(X_train, y_train)\n",
    "y_pred_test = classifier.predict(X_test)\n",
    "clf_report = classification_report(y_test, y_pred_test, zero_division=0)\n",
    "print(clf_report)"
   ]
  },
  {
   "cell_type": "code",
   "execution_count": 17,
   "id": "cb3aa3b9",
   "metadata": {},
   "outputs": [],
   "source": [
    "clf_report = classification_report(y_test, y_pred_test, zero_division=0, output_dict=True)\n",
    "df_result = pd.DataFrame(clf_report).transpose()\n",
    "with open(r'classification_report_functions_extended_emoevent_en_naive_bayes.csv', 'w') as csv_file:\n",
    "    df_result.to_csv(path_or_buf=csv_file)"
   ]
  },
  {
   "cell_type": "code",
   "execution_count": 18,
   "id": "c306ed56",
   "metadata": {},
   "outputs": [],
   "source": [
    "df_test['predicted_label'] = y_pred_test\n",
    "df_test.to_csv('preds_functions_extended_emoevent_en_naive_bayes.tsv',header =True, sep = '\\t',index=False)"
   ]
  }
 ],
 "metadata": {
  "kernelspec": {
   "display_name": "Python 3 (ipykernel)",
   "language": "python",
   "name": "python3"
  },
  "language_info": {
   "codemirror_mode": {
    "name": "ipython",
    "version": 3
   },
   "file_extension": ".py",
   "mimetype": "text/x-python",
   "name": "python",
   "nbconvert_exporter": "python",
   "pygments_lexer": "ipython3",
   "version": "3.8.10"
  }
 },
 "nbformat": 4,
 "nbformat_minor": 5
}

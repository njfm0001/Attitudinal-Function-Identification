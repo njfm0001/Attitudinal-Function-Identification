{
 "cells": [
  {
   "cell_type": "code",
   "execution_count": 1,
   "id": "87d44585",
   "metadata": {},
   "outputs": [
    {
     "name": "stderr",
     "output_type": "stream",
     "text": [
      "/home/njfernandez/.local/lib/python3.8/site-packages/tqdm/auto.py:22: TqdmWarning: IProgress not found. Please update jupyter and ipywidgets. See https://ipywidgets.readthedocs.io/en/stable/user_install.html\n",
      "  from .autonotebook import tqdm as notebook_tqdm\n"
     ]
    }
   ],
   "source": [
    "import torch\n",
    "from transformers import AutoTokenizer, AutoModel\n",
    "import numpy as np\n",
    "import pandas as pd\n",
    "from datasets import Dataset, DatasetDict, load_dataset, concatenate_datasets\n",
    "#Seeding for deterministic results\n",
    "RANDOM_SEED = 64\n",
    "np.random.seed(RANDOM_SEED)\n",
    "torch.manual_seed(RANDOM_SEED)\n",
    "\n",
    "if torch.cuda.is_available():\n",
    "   torch.cuda.manual_seed(RANDOM_SEED)\n",
    "   torch.cuda.manual_seed_all(RANDOM_SEED) \n",
    "   torch.backends.cudnn.deterministic = True  \n",
    "   torch.backends.cudnn.benchmark = False"
   ]
  },
  {
   "cell_type": "code",
   "execution_count": 2,
   "id": "7c847afa",
   "metadata": {},
   "outputs": [],
   "source": [
    "model_ckpt = \"sentence-transformers/paraphrase-multilingual-mpnet-base-v2\"\n",
    "tokenizer = AutoTokenizer.from_pretrained(model_ckpt)\n",
    "model = AutoModel.from_pretrained(model_ckpt)\n",
    "\n",
    "def mean_pooling(model_output, attention_mask):   \n",
    "    token_embeddings = model_output[0] \n",
    "    input_mask_expanded = (attention_mask\n",
    "                           .unsqueeze(-1)\n",
    "                           .expand(token_embeddings.size())\n",
    "                           .float()) \n",
    "    sum_embeddings = torch.sum(token_embeddings * input_mask_expanded, 1)\n",
    "    sum_mask = torch.clamp(input_mask_expanded.sum(1), min=1e-9) \n",
    "    return sum_embeddings / sum_mask\n",
    "\n",
    "def embed_text(examples):\n",
    "    inputs = tokenizer(examples[\"text\"], padding=True, truncation=True,\n",
    "                       return_tensors=\"pt\")\n",
    "    with torch.no_grad():\n",
    "        model_output = model(**inputs)\n",
    "    pooled_embeds = mean_pooling(model_output, inputs[\"attention_mask\"])\n",
    "    return {\"embedding\": pooled_embeds.cpu().numpy()}\n",
    "\n",
    "from sentence_transformers import util\n",
    "def cosine_sim(batch):\n",
    "    batch['predicted_label'], batch['score'] = [[] for _ in range(len(batch['text']))], [[] for _ in range(len(batch['text']))]\n",
    "    for i, emb in enumerate(batch['embedding']):\n",
    "        scores = {func: util.pytorch_cos_sim(emb, metaemb[func]).item() for func in metaemb}\n",
    "        predicted_label, score = max(scores.items(), key=lambda x: x[1])\n",
    "        batch['predicted_label'][i] = predicted_label\n",
    "        batch['score'][i] = score\n",
    "    return batch"
   ]
  },
  {
   "cell_type": "code",
   "execution_count": 3,
   "id": "c95a5cd3",
   "metadata": {},
   "outputs": [
    {
     "name": "stderr",
     "output_type": "stream",
     "text": [
      "Using custom data configuration default-960b1f9335da6974\n",
      "Found cached dataset csv (/home/njfernandez/.cache/huggingface/datasets/csv/default-960b1f9335da6974/0.0.0/6b34fb8fcf56f7c8ba51dc895bfa2bfbe43546f190a60fcf74bb5e8afdcc2317)\n",
      "100%|██████████| 3/3 [00:00<00:00, 623.16it/s]\n",
      "Using custom data configuration default-f0f3a67dac6080b1\n",
      "Found cached dataset csv (/home/njfernandez/.cache/huggingface/datasets/csv/default-f0f3a67dac6080b1/0.0.0/6b34fb8fcf56f7c8ba51dc895bfa2bfbe43546f190a60fcf74bb5e8afdcc2317)\n",
      "100%|██████████| 3/3 [00:00<00:00, 941.34it/s]\n",
      "Loading cached shuffled indices for dataset at /home/njfernandez/.cache/huggingface/datasets/csv/default-960b1f9335da6974/0.0.0/6b34fb8fcf56f7c8ba51dc895bfa2bfbe43546f190a60fcf74bb5e8afdcc2317/cache-6a6e13a3ae6ef6af.arrow\n",
      "Loading cached shuffled indices for dataset at /home/njfernandez/.cache/huggingface/datasets/csv/default-960b1f9335da6974/0.0.0/6b34fb8fcf56f7c8ba51dc895bfa2bfbe43546f190a60fcf74bb5e8afdcc2317/cache-b12a5b2844f1fc9b.arrow\n",
      "Loading cached shuffled indices for dataset at /home/njfernandez/.cache/huggingface/datasets/csv/default-960b1f9335da6974/0.0.0/6b34fb8fcf56f7c8ba51dc895bfa2bfbe43546f190a60fcf74bb5e8afdcc2317/cache-27073343a85cbf60.arrow\n"
     ]
    }
   ],
   "source": [
    "emoevent_es_dataset = load_dataset(\"csv\", sep = '\\t', data_files ={'train': r'es_train.tsv',\n",
    "                                                        'test': r'es_test.tsv',\n",
    "                                                       'valid': r'es_dev.tsv'})\n",
    "emoevent_en_dataset = load_dataset(\"csv\", sep = '\\t', data_files ={'train': r'en_train.tsv',\n",
    "                                                        'test': r'en_test.tsv',\n",
    "                                                       'valid': r'en_dev.tsv'})\n",
    "\n",
    "train_dataset = concatenate_datasets([emoevent_es_dataset['train'], emoevent_en_dataset['train']])\n",
    "valid_dataset = concatenate_datasets([emoevent_es_dataset['valid'], emoevent_en_dataset['valid']])\n",
    "test_dataset = concatenate_datasets([emoevent_es_dataset['test'], emoevent_en_dataset['test']])\n",
    "\n",
    "emoevent = DatasetDict({'train': train_dataset.shuffle(seed=42), 'valid': valid_dataset.shuffle(seed=42), 'test': test_dataset.shuffle(seed=42)})"
   ]
  },
  {
   "cell_type": "code",
   "execution_count": 4,
   "id": "d49f33c8",
   "metadata": {},
   "outputs": [
    {
     "name": "stderr",
     "output_type": "stream",
     "text": [
      "Loading cached processed dataset at /home/njfernandez/.cache/huggingface/datasets/csv/default-960b1f9335da6974/0.0.0/6b34fb8fcf56f7c8ba51dc895bfa2bfbe43546f190a60fcf74bb5e8afdcc2317/cache-e14b2b051f7c3e62.arrow\n",
      "Loading cached processed dataset at /home/njfernandez/.cache/huggingface/datasets/csv/default-960b1f9335da6974/0.0.0/6b34fb8fcf56f7c8ba51dc895bfa2bfbe43546f190a60fcf74bb5e8afdcc2317/cache-bf961779de707358.arrow\n",
      "Loading cached processed dataset at /home/njfernandez/.cache/huggingface/datasets/csv/default-960b1f9335da6974/0.0.0/6b34fb8fcf56f7c8ba51dc895bfa2bfbe43546f190a60fcf74bb5e8afdcc2317/cache-c4e34589835c431b.arrow\n"
     ]
    }
   ],
   "source": [
    "function_mapping = {'OTHER': ['others', 'surprise', 'joy'],\n",
    "           'NOT_INTERESTED': [''], \n",
    "           'DISLIKE':['disgust'], \n",
    "           'NOT_CORRECT': [''], \n",
    "           'PESSIMISTIC':['sadness'], \n",
    "           'WORRIED':['fear'], \n",
    "           'ANGRY': ['anger'], \n",
    "           'DISAPPOINTED': [''], \n",
    "           'BORED': [''], \n",
    "           'NOT_APPROVE':[''], \n",
    "           'NOT_IMPORTANT': [''], \n",
    "           'DISAGREE': [''], \n",
    "           'WARN': [''], \n",
    "           'COMPLAIN': [''], \n",
    "           'THREATEN': [''], \n",
    "           'UNWILLING': [''], \n",
    "           'DISTRUST' : [''],\n",
    "           'REFUSE': [''] }\n",
    "\n",
    "emoevent = emoevent.remove_columns(\"id\").remove_columns(\"event\").remove_columns(\"offensive\").rename_column('tweet', 'text')\n",
    "def map_labels(batch):\n",
    "    batch['function'] = [[] for _ in range(len(batch['text']))]\n",
    "    for i, item in enumerate(batch[\"function\"]):\n",
    "        for key, value in function_mapping.items():\n",
    "            for emotion in value:\n",
    "                if emotion == batch[\"emotion\"][i]:\n",
    "                    batch[\"function\"][i] = key\n",
    "                    break\n",
    "    return batch\n",
    "emoevent = emoevent.map(map_labels, batched=True)"
   ]
  },
  {
   "cell_type": "markdown",
   "id": "44f292e3",
   "metadata": {},
   "source": [
    "# Function basic experiment"
   ]
  },
  {
   "cell_type": "code",
   "execution_count": 5,
   "id": "122a089b",
   "metadata": {},
   "outputs": [
    {
     "data": {
      "text/html": [
       "<div>\n",
       "<style scoped>\n",
       "    .dataframe tbody tr th:only-of-type {\n",
       "        vertical-align: middle;\n",
       "    }\n",
       "\n",
       "    .dataframe tbody tr th {\n",
       "        vertical-align: top;\n",
       "    }\n",
       "\n",
       "    .dataframe thead th {\n",
       "        text-align: right;\n",
       "    }\n",
       "</style>\n",
       "<table border=\"1\" class=\"dataframe\">\n",
       "  <thead>\n",
       "    <tr style=\"text-align: right;\">\n",
       "      <th></th>\n",
       "      <th>text</th>\n",
       "      <th>function</th>\n",
       "    </tr>\n",
       "  </thead>\n",
       "  <tbody>\n",
       "    <tr>\n",
       "      <th>85</th>\n",
       "      <td>I'm not really very keen on it</td>\n",
       "      <td>DISLIKE</td>\n",
       "    </tr>\n",
       "    <tr>\n",
       "      <th>86</th>\n",
       "      <td>I'm not really very keen</td>\n",
       "      <td>DISLIKE</td>\n",
       "    </tr>\n",
       "    <tr>\n",
       "      <th>87</th>\n",
       "      <td>I'm not really keen on it</td>\n",
       "      <td>DISLIKE</td>\n",
       "    </tr>\n",
       "    <tr>\n",
       "      <th>88</th>\n",
       "      <td>I'm not really keen</td>\n",
       "      <td>DISLIKE</td>\n",
       "    </tr>\n",
       "    <tr>\n",
       "      <th>89</th>\n",
       "      <td>I'm not very keen on it</td>\n",
       "      <td>DISLIKE</td>\n",
       "    </tr>\n",
       "    <tr>\n",
       "      <th>...</th>\n",
       "      <td>...</td>\n",
       "      <td>...</td>\n",
       "    </tr>\n",
       "    <tr>\n",
       "      <th>897</th>\n",
       "      <td>you could do it</td>\n",
       "      <td>OTHER</td>\n",
       "    </tr>\n",
       "    <tr>\n",
       "      <th>898</th>\n",
       "      <td>you look nice</td>\n",
       "      <td>OTHER</td>\n",
       "    </tr>\n",
       "    <tr>\n",
       "      <th>899</th>\n",
       "      <td>you look smart</td>\n",
       "      <td>OTHER</td>\n",
       "    </tr>\n",
       "    <tr>\n",
       "      <th>900</th>\n",
       "      <td>you're right</td>\n",
       "      <td>OTHER</td>\n",
       "    </tr>\n",
       "    <tr>\n",
       "      <th>901</th>\n",
       "      <td>you're welcome</td>\n",
       "      <td>OTHER</td>\n",
       "    </tr>\n",
       "  </tbody>\n",
       "</table>\n",
       "<p>410 rows × 2 columns</p>\n",
       "</div>"
      ],
      "text/plain": [
       "                               text function\n",
       "85   I'm not really very keen on it  DISLIKE\n",
       "86         I'm not really very keen  DISLIKE\n",
       "87        I'm not really keen on it  DISLIKE\n",
       "88              I'm not really keen  DISLIKE\n",
       "89          I'm not very keen on it  DISLIKE\n",
       "..                              ...      ...\n",
       "897                 you could do it    OTHER\n",
       "898                   you look nice    OTHER\n",
       "899                  you look smart    OTHER\n",
       "900                    you're right    OTHER\n",
       "901                  you're welcome    OTHER\n",
       "\n",
       "[410 rows x 2 columns]"
      ]
     },
     "execution_count": 5,
     "metadata": {},
     "output_type": "execute_result"
    }
   ],
   "source": [
    "comfunctions_basic = 'comfunct_basic.txt'\n",
    "df = pd.read_csv(comfunctions_basic, delimiter=\";\")\n",
    "df = df[df['function'].isin(['ANGRY', 'DISLIKE', 'OTHER', 'PESSIMISTIC', 'WORRIED'])]\n",
    "\n",
    "df"
   ]
  },
  {
   "cell_type": "code",
   "execution_count": 6,
   "id": "9f68ef26",
   "metadata": {},
   "outputs": [
    {
     "data": {
      "text/plain": [
       "DatasetDict({\n",
       "    train: Dataset({\n",
       "        features: ['text', 'function'],\n",
       "        num_rows: 410\n",
       "    })\n",
       "    test: Dataset({\n",
       "        features: ['text', 'emotion', 'function'],\n",
       "        num_rows: 3073\n",
       "    })\n",
       "})"
      ]
     },
     "execution_count": 6,
     "metadata": {},
     "output_type": "execute_result"
    }
   ],
   "source": [
    "dataset = DatasetDict({\n",
    "    \"train\": Dataset.from_pandas(df.reset_index(drop=True)),\n",
    "     \"test\": emoevent['test']\n",
    "}\n",
    "    )\n",
    "dataset"
   ]
  },
  {
   "cell_type": "code",
   "execution_count": 7,
   "id": "11c9ac53",
   "metadata": {},
   "outputs": [
    {
     "name": "stderr",
     "output_type": "stream",
     "text": [
      "100%|██████████| 26/26 [00:01<00:00, 16.00ba/s]\n",
      "100%|██████████| 193/193 [00:41<00:00,  4.62ba/s]\n"
     ]
    }
   ],
   "source": [
    "dataset = dataset.map(embed_text, batched=True, batch_size=16)"
   ]
  },
  {
   "cell_type": "code",
   "execution_count": 8,
   "id": "84024aca",
   "metadata": {},
   "outputs": [
    {
     "name": "stdout",
     "output_type": "stream",
     "text": [
      "dict_keys(['DISLIKE', 'PESSIMISTIC', 'WORRIED', 'ANGRY', 'OTHER'])\n"
     ]
    }
   ],
   "source": [
    "from collections import defaultdict\n",
    "\n",
    "metaemb = defaultdict(list)\n",
    "ds = dataset['train']\n",
    "\n",
    "for i, item in enumerate(ds[\"function\"]):    \n",
    "    function = ds['function'][i]\n",
    "    emb = torch.FloatTensor(ds['embedding'][i])\n",
    "    metaemb[function].append(emb)\n",
    "\n",
    "for key, value in metaemb.items():\n",
    "    metaemb[key] = torch.stack(value).mean(dim=0)\n",
    "\n",
    "print(metaemb.keys())"
   ]
  },
  {
   "cell_type": "code",
   "execution_count": 9,
   "id": "26ecfa07",
   "metadata": {},
   "outputs": [
    {
     "name": "stderr",
     "output_type": "stream",
     "text": [
      "100%|██████████| 193/193 [00:01<00:00, 97.83ba/s]\n"
     ]
    }
   ],
   "source": [
    "dataset['test'] = dataset['test'].map(cosine_sim, batched=True, batch_size=16)"
   ]
  },
  {
   "cell_type": "code",
   "execution_count": 10,
   "id": "33d4d7ed",
   "metadata": {},
   "outputs": [
    {
     "name": "stdout",
     "output_type": "stream",
     "text": [
      "              precision    recall  f1-score   support\n",
      "\n",
      "       ANGRY       0.13      0.33      0.19       244\n",
      "     DISLIKE       0.30      0.03      0.06       184\n",
      "       OTHER       0.81      0.69      0.74      2316\n",
      " PESSIMISTIC       0.09      0.13      0.10       278\n",
      "     WORRIED       0.13      0.22      0.16        51\n",
      "\n",
      "    accuracy                           0.56      3073\n",
      "   macro avg       0.29      0.28      0.25      3073\n",
      "weighted avg       0.65      0.56      0.59      3073\n",
      "\n"
     ]
    }
   ],
   "source": [
    "from sklearn.metrics import classification_report\n",
    "y_true = dataset['test'][\"function\"]\n",
    "y_pred = dataset['test'][\"predicted_label\"]\n",
    "clf_report = classification_report(\n",
    "        y_true, y_pred, zero_division=0, \n",
    "        )\n",
    "print(clf_report)"
   ]
  },
  {
   "cell_type": "code",
   "execution_count": 11,
   "id": "21524f81",
   "metadata": {},
   "outputs": [],
   "source": [
    "clf_report = classification_report(\n",
    "        y_true, y_pred, zero_division=0, \n",
    "    output_dict=True\n",
    "        )\n",
    "df = pd.DataFrame(clf_report).transpose()\n",
    "with open(r'classification_report_functions_basic_emoevent_metaembedding.csv', 'w') as csv_file:\n",
    "    df.to_csv(path_or_buf=csv_file)"
   ]
  },
  {
   "cell_type": "code",
   "execution_count": 12,
   "id": "47cd10f8",
   "metadata": {},
   "outputs": [
    {
     "data": {
      "text/html": [
       "<div>\n",
       "<style scoped>\n",
       "    .dataframe tbody tr th:only-of-type {\n",
       "        vertical-align: middle;\n",
       "    }\n",
       "\n",
       "    .dataframe tbody tr th {\n",
       "        vertical-align: top;\n",
       "    }\n",
       "\n",
       "    .dataframe thead th {\n",
       "        text-align: right;\n",
       "    }\n",
       "</style>\n",
       "<table border=\"1\" class=\"dataframe\">\n",
       "  <thead>\n",
       "    <tr style=\"text-align: right;\">\n",
       "      <th></th>\n",
       "      <th>text</th>\n",
       "      <th>emotion</th>\n",
       "      <th>function</th>\n",
       "      <th>predicted_label</th>\n",
       "      <th>score</th>\n",
       "    </tr>\n",
       "  </thead>\n",
       "  <tbody>\n",
       "    <tr>\n",
       "      <th>0</th>\n",
       "      <td>A su corta edad, #GretaThunberg realiza una hu...</td>\n",
       "      <td>sadness</td>\n",
       "      <td>PESSIMISTIC</td>\n",
       "      <td>OTHER</td>\n",
       "      <td>0.235700</td>\n",
       "    </tr>\n",
       "    <tr>\n",
       "      <th>1</th>\n",
       "      <td>Here’s to all the badass bitches in Westeros #...</td>\n",
       "      <td>joy</td>\n",
       "      <td>OTHER</td>\n",
       "      <td>OTHER</td>\n",
       "      <td>0.387474</td>\n",
       "    </tr>\n",
       "    <tr>\n",
       "      <th>2</th>\n",
       "      <td>¿PARA QUÉ LES SEGUÍS CON LOS DRAGONES? ESO ES ...</td>\n",
       "      <td>surprise</td>\n",
       "      <td>OTHER</td>\n",
       "      <td>OTHER</td>\n",
       "      <td>0.452714</td>\n",
       "    </tr>\n",
       "    <tr>\n",
       "      <th>3</th>\n",
       "      <td>The book collection campaign was originated by...</td>\n",
       "      <td>others</td>\n",
       "      <td>OTHER</td>\n",
       "      <td>OTHER</td>\n",
       "      <td>0.151092</td>\n",
       "    </tr>\n",
       "    <tr>\n",
       "      <th>4</th>\n",
       "      <td>USER You know who’s happy about the social and...</td>\n",
       "      <td>disgust</td>\n",
       "      <td>DISLIKE</td>\n",
       "      <td>OTHER</td>\n",
       "      <td>0.355766</td>\n",
       "    </tr>\n",
       "    <tr>\n",
       "      <th>...</th>\n",
       "      <td>...</td>\n",
       "      <td>...</td>\n",
       "      <td>...</td>\n",
       "      <td>...</td>\n",
       "      <td>...</td>\n",
       "    </tr>\n",
       "    <tr>\n",
       "      <th>3068</th>\n",
       "      <td>#PedroPresidente #ElecccionesGenerales28A #pso...</td>\n",
       "      <td>others</td>\n",
       "      <td>OTHER</td>\n",
       "      <td>OTHER</td>\n",
       "      <td>0.396823</td>\n",
       "    </tr>\n",
       "    <tr>\n",
       "      <th>3069</th>\n",
       "      <td>Ajá, ¿Dónde están los que decían que Guaidó US...</td>\n",
       "      <td>others</td>\n",
       "      <td>OTHER</td>\n",
       "      <td>OTHER</td>\n",
       "      <td>0.359550</td>\n",
       "    </tr>\n",
       "    <tr>\n",
       "      <th>3070</th>\n",
       "      <td>THANOS (with the İnfinity Gauntlet)  He missed...</td>\n",
       "      <td>others</td>\n",
       "      <td>OTHER</td>\n",
       "      <td>PESSIMISTIC</td>\n",
       "      <td>0.217733</td>\n",
       "    </tr>\n",
       "    <tr>\n",
       "      <th>3071</th>\n",
       "      <td>Greetings to all my #bookworms friends on #Wor...</td>\n",
       "      <td>joy</td>\n",
       "      <td>OTHER</td>\n",
       "      <td>OTHER</td>\n",
       "      <td>0.337349</td>\n",
       "    </tr>\n",
       "    <tr>\n",
       "      <th>3072</th>\n",
       "      <td>I apologize to #Venezuela. I wish that we, Ame...</td>\n",
       "      <td>others</td>\n",
       "      <td>OTHER</td>\n",
       "      <td>ANGRY</td>\n",
       "      <td>0.318624</td>\n",
       "    </tr>\n",
       "  </tbody>\n",
       "</table>\n",
       "<p>3073 rows × 5 columns</p>\n",
       "</div>"
      ],
      "text/plain": [
       "                                                   text   emotion  \\\n",
       "0     A su corta edad, #GretaThunberg realiza una hu...   sadness   \n",
       "1     Here’s to all the badass bitches in Westeros #...       joy   \n",
       "2     ¿PARA QUÉ LES SEGUÍS CON LOS DRAGONES? ESO ES ...  surprise   \n",
       "3     The book collection campaign was originated by...    others   \n",
       "4     USER You know who’s happy about the social and...   disgust   \n",
       "...                                                 ...       ...   \n",
       "3068  #PedroPresidente #ElecccionesGenerales28A #pso...    others   \n",
       "3069  Ajá, ¿Dónde están los que decían que Guaidó US...    others   \n",
       "3070  THANOS (with the İnfinity Gauntlet)  He missed...    others   \n",
       "3071  Greetings to all my #bookworms friends on #Wor...       joy   \n",
       "3072  I apologize to #Venezuela. I wish that we, Ame...    others   \n",
       "\n",
       "         function predicted_label     score  \n",
       "0     PESSIMISTIC           OTHER  0.235700  \n",
       "1           OTHER           OTHER  0.387474  \n",
       "2           OTHER           OTHER  0.452714  \n",
       "3           OTHER           OTHER  0.151092  \n",
       "4         DISLIKE           OTHER  0.355766  \n",
       "...           ...             ...       ...  \n",
       "3068        OTHER           OTHER  0.396823  \n",
       "3069        OTHER           OTHER  0.359550  \n",
       "3070        OTHER     PESSIMISTIC  0.217733  \n",
       "3071        OTHER           OTHER  0.337349  \n",
       "3072        OTHER           ANGRY  0.318624  \n",
       "\n",
       "[3073 rows x 5 columns]"
      ]
     },
     "execution_count": 12,
     "metadata": {},
     "output_type": "execute_result"
    }
   ],
   "source": [
    "cols = [\"text\", \"emotion\", \"function\", \"predicted_label\", \"score\"]\n",
    "df_test = dataset['test'].to_pandas()[:][cols]\n",
    "df_test"
   ]
  },
  {
   "cell_type": "code",
   "execution_count": 13,
   "id": "b9fcf7ef",
   "metadata": {},
   "outputs": [],
   "source": [
    "df_test.to_csv('preds_functions_basic_emoevent_metaembedding.tsv',header =True, sep = '\\t',index=False)"
   ]
  },
  {
   "cell_type": "markdown",
   "id": "67f2f848",
   "metadata": {},
   "source": [
    "# Function extended experiment"
   ]
  },
  {
   "cell_type": "code",
   "execution_count": 14,
   "id": "fa7e6270",
   "metadata": {},
   "outputs": [
    {
     "data": {
      "text/html": [
       "<div>\n",
       "<style scoped>\n",
       "    .dataframe tbody tr th:only-of-type {\n",
       "        vertical-align: middle;\n",
       "    }\n",
       "\n",
       "    .dataframe tbody tr th {\n",
       "        vertical-align: top;\n",
       "    }\n",
       "\n",
       "    .dataframe thead th {\n",
       "        text-align: right;\n",
       "    }\n",
       "</style>\n",
       "<table border=\"1\" class=\"dataframe\">\n",
       "  <thead>\n",
       "    <tr style=\"text-align: right;\">\n",
       "      <th></th>\n",
       "      <th>text</th>\n",
       "      <th>function</th>\n",
       "    </tr>\n",
       "  </thead>\n",
       "  <tbody>\n",
       "    <tr>\n",
       "      <th>0</th>\n",
       "      <td>Hey #friends, just wanted to clarify that the ...</td>\n",
       "      <td>OTHER</td>\n",
       "    </tr>\n",
       "    <tr>\n",
       "      <th>1</th>\n",
       "      <td>Good morning everyone! ☀️ Just wanted to say a...</td>\n",
       "      <td>OTHER</td>\n",
       "    </tr>\n",
       "    <tr>\n",
       "      <th>2</th>\n",
       "      <td>Hey #team, don't forget our meeting at 2pm tod...</td>\n",
       "      <td>OTHER</td>\n",
       "    </tr>\n",
       "    <tr>\n",
       "      <th>3</th>\n",
       "      <td>Sorry for the late reply, I was swamped at wor...</td>\n",
       "      <td>OTHER</td>\n",
       "    </tr>\n",
       "    <tr>\n",
       "      <th>4</th>\n",
       "      <td>Hey, can someone introduce me to @jane_doe? I'...</td>\n",
       "      <td>OTHER</td>\n",
       "    </tr>\n",
       "    <tr>\n",
       "      <th>...</th>\n",
       "      <td>...</td>\n",
       "      <td>...</td>\n",
       "    </tr>\n",
       "    <tr>\n",
       "      <th>2106</th>\n",
       "      <td>i hate this</td>\n",
       "      <td>DISLIKE</td>\n",
       "    </tr>\n",
       "    <tr>\n",
       "      <th>2107</th>\n",
       "      <td>this is the worst</td>\n",
       "      <td>DISLIKE</td>\n",
       "    </tr>\n",
       "    <tr>\n",
       "      <th>2108</th>\n",
       "      <td>Ew, spinach in my salad again. 😒 #NotAVegHead</td>\n",
       "      <td>DISLIKE</td>\n",
       "    </tr>\n",
       "    <tr>\n",
       "      <th>2109</th>\n",
       "      <td>🤢 Don't like this new food trend 🍔 #StickToThe...</td>\n",
       "      <td>DISLIKE</td>\n",
       "    </tr>\n",
       "    <tr>\n",
       "      <th>2110</th>\n",
       "      <td>This new movie looks like rubbish. The trailer...</td>\n",
       "      <td>DISLIKE</td>\n",
       "    </tr>\n",
       "  </tbody>\n",
       "</table>\n",
       "<p>733 rows × 2 columns</p>\n",
       "</div>"
      ],
      "text/plain": [
       "                                                   text function\n",
       "0     Hey #friends, just wanted to clarify that the ...    OTHER\n",
       "1     Good morning everyone! ☀️ Just wanted to say a...    OTHER\n",
       "2     Hey #team, don't forget our meeting at 2pm tod...    OTHER\n",
       "3     Sorry for the late reply, I was swamped at wor...    OTHER\n",
       "4     Hey, can someone introduce me to @jane_doe? I'...    OTHER\n",
       "...                                                 ...      ...\n",
       "2106                                        i hate this  DISLIKE\n",
       "2107                                  this is the worst  DISLIKE\n",
       "2108      Ew, spinach in my salad again. 😒 #NotAVegHead  DISLIKE\n",
       "2109  🤢 Don't like this new food trend 🍔 #StickToThe...  DISLIKE\n",
       "2110  This new movie looks like rubbish. The trailer...  DISLIKE\n",
       "\n",
       "[733 rows x 2 columns]"
      ]
     },
     "execution_count": 14,
     "metadata": {},
     "output_type": "execute_result"
    }
   ],
   "source": [
    "comfunctions_extended = 'comfunct_extended.txt'\n",
    "df = pd.read_csv(comfunctions_extended, delimiter=\";\")\n",
    "df = df[df['function'].isin(['ANGRY', 'DISLIKE', 'OTHER', 'PESSIMISTIC', 'WORRIED'])]\n",
    "\n",
    "df"
   ]
  },
  {
   "cell_type": "code",
   "execution_count": 15,
   "id": "1fb2c98e",
   "metadata": {},
   "outputs": [
    {
     "data": {
      "text/plain": [
       "DatasetDict({\n",
       "    train: Dataset({\n",
       "        features: ['text', 'function'],\n",
       "        num_rows: 733\n",
       "    })\n",
       "    test: Dataset({\n",
       "        features: ['text', 'emotion', 'function'],\n",
       "        num_rows: 3073\n",
       "    })\n",
       "})"
      ]
     },
     "execution_count": 15,
     "metadata": {},
     "output_type": "execute_result"
    }
   ],
   "source": [
    "dataset = DatasetDict({\n",
    "    \"train\": Dataset.from_pandas(df.reset_index(drop=True)),\n",
    "     \"test\": emoevent['test']\n",
    "}\n",
    "    )\n",
    "dataset"
   ]
  },
  {
   "cell_type": "code",
   "execution_count": 16,
   "id": "e60fa275",
   "metadata": {},
   "outputs": [
    {
     "name": "stderr",
     "output_type": "stream",
     "text": [
      "100%|██████████| 46/46 [00:04<00:00, 10.84ba/s]\n",
      "Loading cached processed dataset at /home/njfernandez/.cache/huggingface/datasets/csv/default-960b1f9335da6974/0.0.0/6b34fb8fcf56f7c8ba51dc895bfa2bfbe43546f190a60fcf74bb5e8afdcc2317/cache-9cd176735da0c6a9.arrow\n"
     ]
    }
   ],
   "source": [
    "dataset = dataset.map(embed_text, batched=True, batch_size=16)"
   ]
  },
  {
   "cell_type": "code",
   "execution_count": 17,
   "id": "837f5949",
   "metadata": {},
   "outputs": [
    {
     "name": "stdout",
     "output_type": "stream",
     "text": [
      "dict_keys(['OTHER', 'ANGRY', 'WORRIED', 'PESSIMISTIC', 'DISLIKE'])\n"
     ]
    }
   ],
   "source": [
    "from collections import defaultdict\n",
    "\n",
    "metaemb = defaultdict(list)\n",
    "ds = dataset['train']\n",
    "\n",
    "for i, item in enumerate(ds[\"function\"]):    \n",
    "    function = ds['function'][i]\n",
    "    emb = torch.FloatTensor(ds['embedding'][i])\n",
    "    metaemb[function].append(emb)\n",
    "\n",
    "for key, value in metaemb.items():\n",
    "    metaemb[key] = torch.stack(value).mean(dim=0)\n",
    "\n",
    "print(metaemb.keys())"
   ]
  },
  {
   "cell_type": "code",
   "execution_count": 18,
   "id": "133c9124",
   "metadata": {},
   "outputs": [
    {
     "name": "stderr",
     "output_type": "stream",
     "text": [
      "100%|██████████| 193/193 [00:01<00:00, 97.36ba/s]\n"
     ]
    }
   ],
   "source": [
    "dataset['test'] = dataset['test'].map(cosine_sim, batched=True, batch_size=16)"
   ]
  },
  {
   "cell_type": "code",
   "execution_count": 19,
   "id": "ac0603e8",
   "metadata": {},
   "outputs": [
    {
     "name": "stdout",
     "output_type": "stream",
     "text": [
      "              precision    recall  f1-score   support\n",
      "\n",
      "       ANGRY       0.14      0.37      0.21       244\n",
      "     DISLIKE       0.15      0.20      0.17       184\n",
      "       OTHER       0.82      0.56      0.67      2316\n",
      " PESSIMISTIC       0.10      0.10      0.10       278\n",
      "     WORRIED       0.06      0.39      0.11        51\n",
      "\n",
      "    accuracy                           0.48      3073\n",
      "   macro avg       0.26      0.33      0.25      3073\n",
      "weighted avg       0.65      0.48      0.54      3073\n",
      "\n"
     ]
    }
   ],
   "source": [
    "from sklearn.metrics import classification_report\n",
    "y_true = dataset['test'][\"function\"]\n",
    "y_pred = dataset['test'][\"predicted_label\"]\n",
    "clf_report = classification_report(\n",
    "        y_true, y_pred, zero_division=0, \n",
    "        )\n",
    "print(clf_report)"
   ]
  },
  {
   "cell_type": "code",
   "execution_count": 20,
   "id": "b733a8b1",
   "metadata": {},
   "outputs": [],
   "source": [
    "clf_report = classification_report(\n",
    "        y_true, y_pred, zero_division=0, \n",
    "    output_dict=True\n",
    "        )\n",
    "df = pd.DataFrame(clf_report).transpose()\n",
    "with open(r'classification_report_functions_extended_emoevent_metaembedding.csv', 'w') as csv_file:\n",
    "    df.to_csv(path_or_buf=csv_file)"
   ]
  },
  {
   "cell_type": "code",
   "execution_count": 21,
   "id": "48dfe489",
   "metadata": {
    "scrolled": true
   },
   "outputs": [
    {
     "data": {
      "text/html": [
       "<div>\n",
       "<style scoped>\n",
       "    .dataframe tbody tr th:only-of-type {\n",
       "        vertical-align: middle;\n",
       "    }\n",
       "\n",
       "    .dataframe tbody tr th {\n",
       "        vertical-align: top;\n",
       "    }\n",
       "\n",
       "    .dataframe thead th {\n",
       "        text-align: right;\n",
       "    }\n",
       "</style>\n",
       "<table border=\"1\" class=\"dataframe\">\n",
       "  <thead>\n",
       "    <tr style=\"text-align: right;\">\n",
       "      <th></th>\n",
       "      <th>text</th>\n",
       "      <th>emotion</th>\n",
       "      <th>function</th>\n",
       "      <th>predicted_label</th>\n",
       "      <th>score</th>\n",
       "    </tr>\n",
       "  </thead>\n",
       "  <tbody>\n",
       "    <tr>\n",
       "      <th>0</th>\n",
       "      <td>A su corta edad, #GretaThunberg realiza una hu...</td>\n",
       "      <td>sadness</td>\n",
       "      <td>PESSIMISTIC</td>\n",
       "      <td>WORRIED</td>\n",
       "      <td>0.328670</td>\n",
       "    </tr>\n",
       "    <tr>\n",
       "      <th>1</th>\n",
       "      <td>Here’s to all the badass bitches in Westeros #...</td>\n",
       "      <td>joy</td>\n",
       "      <td>OTHER</td>\n",
       "      <td>ANGRY</td>\n",
       "      <td>0.479460</td>\n",
       "    </tr>\n",
       "    <tr>\n",
       "      <th>2</th>\n",
       "      <td>¿PARA QUÉ LES SEGUÍS CON LOS DRAGONES? ESO ES ...</td>\n",
       "      <td>surprise</td>\n",
       "      <td>OTHER</td>\n",
       "      <td>ANGRY</td>\n",
       "      <td>0.581448</td>\n",
       "    </tr>\n",
       "    <tr>\n",
       "      <th>3</th>\n",
       "      <td>The book collection campaign was originated by...</td>\n",
       "      <td>others</td>\n",
       "      <td>OTHER</td>\n",
       "      <td>OTHER</td>\n",
       "      <td>0.145160</td>\n",
       "    </tr>\n",
       "    <tr>\n",
       "      <th>4</th>\n",
       "      <td>USER You know who’s happy about the social and...</td>\n",
       "      <td>disgust</td>\n",
       "      <td>DISLIKE</td>\n",
       "      <td>OTHER</td>\n",
       "      <td>0.439268</td>\n",
       "    </tr>\n",
       "    <tr>\n",
       "      <th>...</th>\n",
       "      <td>...</td>\n",
       "      <td>...</td>\n",
       "      <td>...</td>\n",
       "      <td>...</td>\n",
       "      <td>...</td>\n",
       "    </tr>\n",
       "    <tr>\n",
       "      <th>3068</th>\n",
       "      <td>#PedroPresidente #ElecccionesGenerales28A #pso...</td>\n",
       "      <td>others</td>\n",
       "      <td>OTHER</td>\n",
       "      <td>OTHER</td>\n",
       "      <td>0.489922</td>\n",
       "    </tr>\n",
       "    <tr>\n",
       "      <th>3069</th>\n",
       "      <td>Ajá, ¿Dónde están los que decían que Guaidó US...</td>\n",
       "      <td>others</td>\n",
       "      <td>OTHER</td>\n",
       "      <td>ANGRY</td>\n",
       "      <td>0.421708</td>\n",
       "    </tr>\n",
       "    <tr>\n",
       "      <th>3070</th>\n",
       "      <td>THANOS (with the İnfinity Gauntlet)  He missed...</td>\n",
       "      <td>others</td>\n",
       "      <td>OTHER</td>\n",
       "      <td>PESSIMISTIC</td>\n",
       "      <td>0.374856</td>\n",
       "    </tr>\n",
       "    <tr>\n",
       "      <th>3071</th>\n",
       "      <td>Greetings to all my #bookworms friends on #Wor...</td>\n",
       "      <td>joy</td>\n",
       "      <td>OTHER</td>\n",
       "      <td>OTHER</td>\n",
       "      <td>0.342155</td>\n",
       "    </tr>\n",
       "    <tr>\n",
       "      <th>3072</th>\n",
       "      <td>I apologize to #Venezuela. I wish that we, Ame...</td>\n",
       "      <td>others</td>\n",
       "      <td>OTHER</td>\n",
       "      <td>ANGRY</td>\n",
       "      <td>0.416348</td>\n",
       "    </tr>\n",
       "  </tbody>\n",
       "</table>\n",
       "<p>3073 rows × 5 columns</p>\n",
       "</div>"
      ],
      "text/plain": [
       "                                                   text   emotion  \\\n",
       "0     A su corta edad, #GretaThunberg realiza una hu...   sadness   \n",
       "1     Here’s to all the badass bitches in Westeros #...       joy   \n",
       "2     ¿PARA QUÉ LES SEGUÍS CON LOS DRAGONES? ESO ES ...  surprise   \n",
       "3     The book collection campaign was originated by...    others   \n",
       "4     USER You know who’s happy about the social and...   disgust   \n",
       "...                                                 ...       ...   \n",
       "3068  #PedroPresidente #ElecccionesGenerales28A #pso...    others   \n",
       "3069  Ajá, ¿Dónde están los que decían que Guaidó US...    others   \n",
       "3070  THANOS (with the İnfinity Gauntlet)  He missed...    others   \n",
       "3071  Greetings to all my #bookworms friends on #Wor...       joy   \n",
       "3072  I apologize to #Venezuela. I wish that we, Ame...    others   \n",
       "\n",
       "         function predicted_label     score  \n",
       "0     PESSIMISTIC         WORRIED  0.328670  \n",
       "1           OTHER           ANGRY  0.479460  \n",
       "2           OTHER           ANGRY  0.581448  \n",
       "3           OTHER           OTHER  0.145160  \n",
       "4         DISLIKE           OTHER  0.439268  \n",
       "...           ...             ...       ...  \n",
       "3068        OTHER           OTHER  0.489922  \n",
       "3069        OTHER           ANGRY  0.421708  \n",
       "3070        OTHER     PESSIMISTIC  0.374856  \n",
       "3071        OTHER           OTHER  0.342155  \n",
       "3072        OTHER           ANGRY  0.416348  \n",
       "\n",
       "[3073 rows x 5 columns]"
      ]
     },
     "execution_count": 21,
     "metadata": {},
     "output_type": "execute_result"
    }
   ],
   "source": [
    "cols = [\"text\", \"emotion\", \"function\", \"predicted_label\", \"score\"]\n",
    "df_test = dataset['test'].to_pandas()[:][cols]\n",
    "df_test"
   ]
  },
  {
   "cell_type": "code",
   "execution_count": 22,
   "id": "29a0d06c",
   "metadata": {},
   "outputs": [],
   "source": [
    "df_test.to_csv('preds_functions_extended_emoevent_metaembedding.tsv',header =True, sep = '\\t',index=False)"
   ]
  },
  {
   "cell_type": "markdown",
   "id": "c8109535",
   "metadata": {},
   "source": [
    "# EmoEvent es train (baseline) experiment"
   ]
  },
  {
   "cell_type": "code",
   "execution_count": 23,
   "id": "44767847",
   "metadata": {},
   "outputs": [
    {
     "data": {
      "text/plain": [
       "DatasetDict({\n",
       "    train: Dataset({\n",
       "        features: ['text', 'emotion', 'function'],\n",
       "        num_rows: 10835\n",
       "    })\n",
       "    test: Dataset({\n",
       "        features: ['text', 'emotion', 'function'],\n",
       "        num_rows: 3073\n",
       "    })\n",
       "})"
      ]
     },
     "execution_count": 23,
     "metadata": {},
     "output_type": "execute_result"
    }
   ],
   "source": [
    "dataset = DatasetDict({\n",
    "    \"train\": emoevent['train'],\n",
    "     \"test\": emoevent['test']\n",
    "}\n",
    "    )\n",
    "dataset"
   ]
  },
  {
   "cell_type": "code",
   "execution_count": 24,
   "id": "68b4fa63",
   "metadata": {},
   "outputs": [
    {
     "name": "stderr",
     "output_type": "stream",
     "text": [
      "100%|██████████| 678/678 [02:07<00:00,  5.32ba/s]\n",
      "Loading cached processed dataset at /home/njfernandez/.cache/huggingface/datasets/csv/default-960b1f9335da6974/0.0.0/6b34fb8fcf56f7c8ba51dc895bfa2bfbe43546f190a60fcf74bb5e8afdcc2317/cache-9cd176735da0c6a9.arrow\n"
     ]
    }
   ],
   "source": [
    "dataset = dataset.map(embed_text, batched=True, batch_size=16)"
   ]
  },
  {
   "cell_type": "code",
   "execution_count": null,
   "id": "0d5c8ea2",
   "metadata": {},
   "outputs": [],
   "source": [
    "from collections import defaultdict\n",
    "\n",
    "metaemb = defaultdict(list)\n",
    "ds = dataset['train']\n",
    "\n",
    "for i, item in enumerate(ds[\"function\"]):    \n",
    "    function = ds['function'][i]\n",
    "    emb = torch.FloatTensor(ds['embedding'][i])\n",
    "    metaemb[function].append(emb)\n",
    "\n",
    "for key, value in metaemb.items():\n",
    "    metaemb[key] = torch.stack(value).mean(dim=0)\n",
    "\n",
    "print(metaemb.keys())"
   ]
  },
  {
   "cell_type": "code",
   "execution_count": null,
   "id": "02a83490",
   "metadata": {},
   "outputs": [],
   "source": [
    "dataset['test'] = dataset['test'].map(cosine_sim, batched=True, batch_size=16)"
   ]
  },
  {
   "cell_type": "code",
   "execution_count": null,
   "id": "dfc62a31",
   "metadata": {},
   "outputs": [],
   "source": [
    "from sklearn.metrics import classification_report\n",
    "y_true = dataset['test'][\"function\"]\n",
    "y_pred = dataset['test'][\"predicted_label\"]\n",
    "clf_report = classification_report(\n",
    "        y_true, y_pred, zero_division=0, \n",
    "        )\n",
    "print(clf_report)"
   ]
  },
  {
   "cell_type": "code",
   "execution_count": null,
   "id": "9dd2162f",
   "metadata": {},
   "outputs": [],
   "source": [
    "clf_report = classification_report(\n",
    "        y_true, y_pred, zero_division=0, \n",
    "    output_dict=True\n",
    "        )\n",
    "df = pd.DataFrame(clf_report).transpose()\n",
    "with open(r'classification_report_baseline_emoevent_metaembedding.csv', 'w') as csv_file:\n",
    "    df.to_csv(path_or_buf=csv_file)"
   ]
  },
  {
   "cell_type": "code",
   "execution_count": null,
   "id": "55a15fed",
   "metadata": {},
   "outputs": [],
   "source": [
    "cols = [\"text\", \"emotion\", \"function\", \"predicted_label\", \"score\"]\n",
    "df_test = dataset['test'].to_pandas()[:][cols]\n",
    "df_test"
   ]
  },
  {
   "cell_type": "code",
   "execution_count": null,
   "id": "7ace9958",
   "metadata": {},
   "outputs": [],
   "source": [
    "df_test.to_csv('preds_baseline_emoevent_metaembedding.tsv',header =True, sep = '\\t',index=False)"
   ]
  }
 ],
 "metadata": {
  "kernelspec": {
   "display_name": "Python 3 (ipykernel)",
   "language": "python",
   "name": "python3"
  },
  "language_info": {
   "codemirror_mode": {
    "name": "ipython",
    "version": 3
   },
   "file_extension": ".py",
   "mimetype": "text/x-python",
   "name": "python",
   "nbconvert_exporter": "python",
   "pygments_lexer": "ipython3",
   "version": "3.8.10"
  }
 },
 "nbformat": 4,
 "nbformat_minor": 5
}

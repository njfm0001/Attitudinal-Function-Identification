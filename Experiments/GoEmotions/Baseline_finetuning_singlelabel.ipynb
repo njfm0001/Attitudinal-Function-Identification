{
 "cells": [
  {
   "cell_type": "code",
   "execution_count": 1,
   "id": "4fb14783",
   "metadata": {},
   "outputs": [
    {
     "name": "stderr",
     "output_type": "stream",
     "text": [
      "/home/njfernandez/.local/lib/python3.8/site-packages/tqdm/auto.py:22: TqdmWarning: IProgress not found. Please update jupyter and ipywidgets. See https://ipywidgets.readthedocs.io/en/stable/user_install.html\n",
      "  from .autonotebook import tqdm as notebook_tqdm\n"
     ]
    }
   ],
   "source": [
    "from datasets import Dataset, load_dataset, DatasetDict, ClassLabel\n",
    "import numpy as np\n",
    "import torch\n",
    "import pandas as pd\n",
    "\n",
    "#Seeding for deterministic results i.e. showing same output \n",
    "RANDOM_SEED = 64\n",
    "np.random.seed(RANDOM_SEED)\n",
    "torch.manual_seed(RANDOM_SEED)\n",
    "if torch.cuda.is_available():\n",
    "   torch.cuda.manual_seed(RANDOM_SEED)\n",
    "   torch.cuda.manual_seed_all(RANDOM_SEED) \n",
    "   torch.backends.cudnn.deterministic = True  \n",
    "   torch.backends.cudnn.benchmark = False"
   ]
  },
  {
   "cell_type": "code",
   "execution_count": 2,
   "id": "72d72be8",
   "metadata": {},
   "outputs": [
    {
     "name": "stderr",
     "output_type": "stream",
     "text": [
      "No config specified, defaulting to: go_emotions/simplified\n",
      "Found cached dataset go_emotions (/home/njfernandez/.cache/huggingface/datasets/go_emotions/simplified/0.0.0/2637cfdd4e64d30249c3ed2150fa2b9d279766bfcd6a809b9f085c61a90d776d)\n",
      "100%|██████████| 3/3 [00:00<00:00, 684.97it/s]\n",
      "Loading cached processed dataset at /home/njfernandez/.cache/huggingface/datasets/go_emotions/simplified/0.0.0/2637cfdd4e64d30249c3ed2150fa2b9d279766bfcd6a809b9f085c61a90d776d/cache-1c4d70c4ecc5a4bd.arrow\n",
      "Loading cached processed dataset at /home/njfernandez/.cache/huggingface/datasets/go_emotions/simplified/0.0.0/2637cfdd4e64d30249c3ed2150fa2b9d279766bfcd6a809b9f085c61a90d776d/cache-8f90b5d8ac946ce8.arrow\n",
      "Loading cached processed dataset at /home/njfernandez/.cache/huggingface/datasets/go_emotions/simplified/0.0.0/2637cfdd4e64d30249c3ed2150fa2b9d279766bfcd6a809b9f085c61a90d776d/cache-f0dc721270e34384.arrow\n",
      "Loading cached processed dataset at /home/njfernandez/.cache/huggingface/datasets/go_emotions/simplified/0.0.0/2637cfdd4e64d30249c3ed2150fa2b9d279766bfcd6a809b9f085c61a90d776d/cache-da1e4eb95e5bddb8.arrow\n",
      "Loading cached processed dataset at /home/njfernandez/.cache/huggingface/datasets/go_emotions/simplified/0.0.0/2637cfdd4e64d30249c3ed2150fa2b9d279766bfcd6a809b9f085c61a90d776d/cache-500fde3e70bff59d.arrow\n",
      "Loading cached processed dataset at /home/njfernandez/.cache/huggingface/datasets/go_emotions/simplified/0.0.0/2637cfdd4e64d30249c3ed2150fa2b9d279766bfcd6a809b9f085c61a90d776d/cache-15d24d55426355b0.arrow\n"
     ]
    }
   ],
   "source": [
    "function_mapping = {'OTHER': ['admiration', 'approval', 'gratitude', 'amusement', 'curiosity', 'embarrassment', 'love', 'optimism', 'joy', \n",
    "                              'realization', 'confusion', 'caring', 'excitement', 'surprise', 'desire', 'pride', 'relief', 'neutral'], \n",
    "           'NOT_INTERESTED': [''], \n",
    "           'DISLIKE':['disgust', 'annoyance'], \n",
    "           'NOT_CORRECT': ['disapproval'], \n",
    "           'PESSIMISTIC':['grief', 'remorse', 'sadness'], \n",
    "           'WORRIED':['fear', 'nervousness'], \n",
    "           'ANGRY': ['anger'], \n",
    "           'DISAPPOINTED': ['disappointment'], \n",
    "           'BORED': [''], \n",
    "           'NOT_APPROVE':['disapproval'], \n",
    "           'NOT_IMPORTANT': [''], \n",
    "           'DISAGREE': ['disapproval'], \n",
    "           'WARN': [''], \n",
    "           'COMPLAIN': [''], \n",
    "           'THREATEN': [''], \n",
    "           'UNWILLING': [''], \n",
    "           'DISTRUST' : [''],\n",
    "           'REFUSE': [''] }\n",
    "\n",
    "mapping = {\n",
    "    0:\"admiration\",\n",
    "    1:\"amusement\",\n",
    "    2:\"anger\",\n",
    "    3:\"annoyance\",\n",
    "    4:\"approval\",\n",
    "    5:\"caring\",\n",
    "    6:\"confusion\",\n",
    "    7:\"curiosity\",\n",
    "    8:\"desire\",\n",
    "    9:\"disappointment\",\n",
    "    10:\"disapproval\",\n",
    "    11:\"disgust\",\n",
    "    12:\"embarrassment\",\n",
    "    13:\"excitement\",\n",
    "    14:\"fear\",\n",
    "    15:\"gratitude\",\n",
    "    16:\"grief\",\n",
    "    17:\"joy\",\n",
    "    18:\"love\",\n",
    "    19:\"nervousness\",\n",
    "    20:\"optimism\",\n",
    "    21:\"pride\",\n",
    "    22:\"realization\",\n",
    "    23:\"relief\",\n",
    "    24:\"remorse\",\n",
    "    25:\"sadness\",\n",
    "    26:\"surprise\",\n",
    "    27:\"neutral\",\n",
    "}\n",
    "\n",
    "go_emotions = load_dataset(\"go_emotions\").remove_columns(\"id\")\n",
    "def adjust_labels(batch):\n",
    "    batch['emotions'] = [[] for _ in range(len(batch['text']))]\n",
    "    for i, item in enumerate(batch[\"labels\"]):\n",
    "        batch[\"emotions\"][i] = [mapping[label] for label in batch[\"labels\"][i]]\n",
    "    return batch\n",
    "\n",
    "go_emotions = go_emotions.map(adjust_labels, batched=True)\n",
    "def map_labels(batch):\n",
    "    batch['functions'] = [[] for _ in range(len(batch['text']))]\n",
    "    for i, item in enumerate(batch[\"emotions\"]):\n",
    "        batch[\"functions\"][i] = [key for key,value in function_mapping.items() if any(emotion in batch[\"emotions\"][i] for emotion in value)]\n",
    "    return batch\n",
    "go_emotions = go_emotions.map(map_labels, batched=True).remove_columns(\"labels\")\n",
    "\n",
    "for split in go_emotions.keys():\n",
    "    new_examples = []\n",
    "    for example in go_emotions[split]:\n",
    "        for label in example['functions']:\n",
    "            new_example = {'text': example['text'], 'emotions': example['emotions'],'function': label}\n",
    "            new_examples.append(new_example)\n",
    "    go_emotions[split] = Dataset.from_pandas(pd.DataFrame(data=new_examples))"
   ]
  },
  {
   "cell_type": "code",
   "execution_count": 3,
   "id": "93c5717c",
   "metadata": {},
   "outputs": [
    {
     "name": "stderr",
     "output_type": "stream",
     "text": [
      "Casting to class labels: 100%|██████████| 51/51 [00:00<00:00, 510.54ba/s]\n",
      "Casting to class labels: 100%|██████████| 7/7 [00:00<00:00, 533.34ba/s]\n",
      "Casting to class labels: 100%|██████████| 7/7 [00:00<00:00, 520.15ba/s]"
     ]
    },
    {
     "name": "stdout",
     "output_type": "stream",
     "text": [
      "['ANGRY', 'DISAGREE', 'DISAPPOINTED', 'DISLIKE', 'NOT_APPROVE', 'NOT_CORRECT', 'OTHER', 'PESSIMISTIC', 'WORRIED']\n"
     ]
    },
    {
     "name": "stderr",
     "output_type": "stream",
     "text": [
      "\n"
     ]
    }
   ],
   "source": [
    "dataset = go_emotions.class_encode_column(\"function\")\n",
    "labels = dataset['train'].features['function']\n",
    "dataset = dataset.rename_column(\"function\", \"label\")\n",
    "print(labels.names)"
   ]
  },
  {
   "cell_type": "code",
   "execution_count": 4,
   "id": "94c15c9d",
   "metadata": {},
   "outputs": [
    {
     "name": "stderr",
     "output_type": "stream",
     "text": [
      "Some weights of the model checkpoint at cardiffnlp/twitter-xlm-roberta-base were not used when initializing XLMRobertaForSequenceClassification: ['lm_head.dense.weight', 'lm_head.decoder.weight', 'lm_head.bias', 'lm_head.decoder.bias', 'lm_head.layer_norm.weight', 'lm_head.dense.bias', 'lm_head.layer_norm.bias']\n",
      "- This IS expected if you are initializing XLMRobertaForSequenceClassification from the checkpoint of a model trained on another task or with another architecture (e.g. initializing a BertForSequenceClassification model from a BertForPreTraining model).\n",
      "- This IS NOT expected if you are initializing XLMRobertaForSequenceClassification from the checkpoint of a model that you expect to be exactly identical (initializing a BertForSequenceClassification model from a BertForSequenceClassification model).\n",
      "Some weights of XLMRobertaForSequenceClassification were not initialized from the model checkpoint at cardiffnlp/twitter-xlm-roberta-base and are newly initialized: ['classifier.dense.bias', 'classifier.out_proj.bias', 'classifier.out_proj.weight', 'classifier.dense.weight']\n",
      "You should probably TRAIN this model on a down-stream task to be able to use it for predictions and inference.\n",
      "  0%|          | 0/1 [00:00<?, ?ba/s]Asking to truncate to max_length but no maximum length is provided and the model has no predefined maximum length. Default to no truncation.\n",
      "100%|██████████| 1/1 [00:07<00:00,  7.77s/ba]\n",
      "100%|██████████| 1/1 [00:00<00:00,  3.14ba/s]\n",
      "100%|██████████| 1/1 [00:00<00:00,  5.82ba/s]\n"
     ]
    },
    {
     "data": {
      "text/plain": [
       "DatasetDict({\n",
       "    train: Dataset({\n",
       "        features: ['text', 'emotions', 'label', 'input_ids', 'attention_mask'],\n",
       "        num_rows: 50199\n",
       "    })\n",
       "    validation: Dataset({\n",
       "        features: ['text', 'emotions', 'label', 'input_ids', 'attention_mask'],\n",
       "        num_rows: 6385\n",
       "    })\n",
       "    test: Dataset({\n",
       "        features: ['text', 'emotions', 'label', 'input_ids', 'attention_mask'],\n",
       "        num_rows: 6275\n",
       "    })\n",
       "})"
      ]
     },
     "execution_count": 4,
     "metadata": {},
     "output_type": "execute_result"
    }
   ],
   "source": [
    "from transformers import AutoTokenizer, AutoModelForSequenceClassification, DataCollatorWithPadding\n",
    "\n",
    "transformer_model = 'cardiffnlp/twitter-xlm-roberta-base'\n",
    "device = torch.device(\"cuda\" if torch.cuda.is_available() else \"cpu\")\n",
    "model = (AutoModelForSequenceClassification\n",
    "         .from_pretrained(transformer_model, num_labels = len(labels.names))).to(device)\n",
    "tokenizer=AutoTokenizer.from_pretrained(transformer_model)\n",
    "\n",
    "def tokenize(batch):\n",
    "    return tokenizer(batch[\"text\"], padding=True, truncation=True)\n",
    "\n",
    "ds_enc = dataset.map(tokenize, batched=True, batch_size=None)\n",
    "data_collator = DataCollatorWithPadding(tokenizer, padding=\"longest\")\n",
    "ds_enc"
   ]
  },
  {
   "cell_type": "code",
   "execution_count": 5,
   "id": "f5e77a87",
   "metadata": {},
   "outputs": [],
   "source": [
    "from sklearn.metrics import precision_recall_fscore_support\n",
    "def compute_metrics(pred):\n",
    "    labels = pred.label_ids\n",
    "    preds = pred.predictions.argmax(-1)\n",
    "    precision, recall, f1, _ = precision_recall_fscore_support(labels, preds, average='macro', zero_division=0)\n",
    "    return {\n",
    "        'precision': precision,\n",
    "        'recall': recall,\n",
    "        'f1': f1\n",
    "    }"
   ]
  },
  {
   "cell_type": "code",
   "execution_count": null,
   "id": "977a0d7e",
   "metadata": {},
   "outputs": [
    {
     "name": "stderr",
     "output_type": "stream",
     "text": [
      "The following columns in the training set don't have a corresponding argument in `XLMRobertaForSequenceClassification.forward` and have been ignored: text, emotions. If text, emotions are not expected by `XLMRobertaForSequenceClassification.forward`,  you can safely ignore this message.\n",
      "/home/njfernandez/.local/lib/python3.8/site-packages/transformers/optimization.py:306: FutureWarning: This implementation of AdamW is deprecated and will be removed in a future version. Use the PyTorch implementation torch.optim.AdamW instead, or set `no_deprecation_warning=True` to disable this warning\n",
      "  warnings.warn(\n",
      "***** Running training *****\n",
      "  Num examples = 50199\n",
      "  Num Epochs = 5\n",
      "  Instantaneous batch size per device = 8\n",
      "  Total train batch size (w. parallel, distributed & accumulation) = 16\n",
      "  Gradient Accumulation steps = 1\n",
      "  Total optimization steps = 15690\n",
      "  Number of trainable parameters = 278050569\n",
      "You're using a XLMRobertaTokenizerFast tokenizer. Please note that with a fast tokenizer, using the `__call__` method is faster than using a method to encode the text followed by a call to the `pad` method to get a padded encoding.\n",
      "/home/njfernandez/.local/lib/python3.8/site-packages/torch/nn/parallel/_functions.py:68: UserWarning: Was asked to gather along dimension 0, but all input tensors were scalars; will instead unsqueeze and return a vector.\n",
      "  warnings.warn('Was asked to gather along dimension 0, but all '\n"
     ]
    },
    {
     "data": {
      "text/html": [
       "\n",
       "    <div>\n",
       "      \n",
       "      <progress value='3139' max='15690' style='width:300px; height:20px; vertical-align: middle;'></progress>\n",
       "      [ 3139/15690 25:57 < 1:43:53, 2.01 it/s, Epoch 1/5]\n",
       "    </div>\n",
       "    <table border=\"1\" class=\"dataframe\">\n",
       "  <thead>\n",
       " <tr style=\"text-align: left;\">\n",
       "      <th>Epoch</th>\n",
       "      <th>Training Loss</th>\n",
       "      <th>Validation Loss</th>\n",
       "    </tr>\n",
       "  </thead>\n",
       "  <tbody>\n",
       "  </tbody>\n",
       "</table><p>\n",
       "    <div>\n",
       "      \n",
       "      <progress value='162' max='400' style='width:300px; height:20px; vertical-align: middle;'></progress>\n",
       "      [162/400 00:17 < 00:25, 9.20 it/s]\n",
       "    </div>\n",
       "    "
      ],
      "text/plain": [
       "<IPython.core.display.HTML object>"
      ]
     },
     "metadata": {},
     "output_type": "display_data"
    },
    {
     "name": "stderr",
     "output_type": "stream",
     "text": [
      "The following columns in the evaluation set don't have a corresponding argument in `XLMRobertaForSequenceClassification.forward` and have been ignored: text, emotions. If text, emotions are not expected by `XLMRobertaForSequenceClassification.forward`,  you can safely ignore this message.\n",
      "***** Running Evaluation *****\n",
      "  Num examples = 6385\n",
      "  Batch size = 16\n"
     ]
    }
   ],
   "source": [
    "from transformers import TrainingArguments, Trainer\n",
    "\n",
    "batch_size = 8\n",
    "model_name = \"functions_baseline_single_label\"\n",
    "training_args = TrainingArguments(\n",
    "        output_dir=model_name,\n",
    "        num_train_epochs=5,\n",
    "        learning_rate = 2e-5,\n",
    "        per_device_train_batch_size=batch_size,\n",
    "        per_device_eval_batch_size=batch_size,\n",
    "        warmup_ratio=0.1,\n",
    "        weight_decay=0.01,\n",
    "        evaluation_strategy=\"epoch\",\n",
    "        save_strategy=\"epoch\",\n",
    "        metric_for_best_model = \"f1\",\n",
    "        load_best_model_at_end=True,\n",
    "        save_total_limit = 1,        \n",
    "        report_to='none',\n",
    "    )\n",
    "\n",
    "trainer = Trainer(model=model, args=training_args, \n",
    "                  compute_metrics=compute_metrics,\n",
    "                  train_dataset=ds_enc[\"train\"],\n",
    "                  eval_dataset=ds_enc[\"validation\"],                    \n",
    "                  tokenizer=tokenizer,\n",
    "                  data_collator=data_collator,)\n",
    "trainer.train()"
   ]
  },
  {
   "cell_type": "code",
   "execution_count": null,
   "id": "35341334",
   "metadata": {},
   "outputs": [],
   "source": [
    "preds_output = trainer.predict(ds_enc['test'])\n",
    "print(preds_output.metrics)"
   ]
  },
  {
   "cell_type": "code",
   "execution_count": null,
   "id": "7036f198",
   "metadata": {},
   "outputs": [],
   "source": [
    "from sklearn.metrics import classification_report\n",
    "\n",
    "y_true = np.array(ds_enc['test'][\"label\"])\n",
    "y_pred = preds_output.predictions.argmax(-1)\n",
    "\n",
    "report = classification_report(\n",
    "  y_true,\n",
    "  y_pred,\n",
    "  target_names=labels.names,\n",
    "  zero_division=0\n",
    ")\n",
    "print(report)"
   ]
  },
  {
   "cell_type": "code",
   "execution_count": null,
   "id": "8194f1a9",
   "metadata": {},
   "outputs": [],
   "source": [
    "report = classification_report(\n",
    "  y_true,\n",
    "  y_pred,\n",
    "  target_names=labels.names,\n",
    "  zero_division=0,\n",
    "    output_dict=True\n",
    ")\n",
    "\n",
    "df = pd.DataFrame(report).transpose()\n",
    "with open(r'classification_report_baseline_goemotions_finetuning_singlelabel.csv', 'w') as csv_file:\n",
    "    df.to_csv(path_or_buf=csv_file)"
   ]
  },
  {
   "cell_type": "code",
   "execution_count": null,
   "id": "66941a64",
   "metadata": {},
   "outputs": [],
   "source": [
    "from sklearn.metrics import ConfusionMatrixDisplay, confusion_matrix\n",
    "import matplotlib.pyplot as plt\n",
    "\n",
    "def plot_confusion_matrix(y_preds, y_true, labels):    \n",
    "    cm = confusion_matrix(y_true, y_preds, normalize=\"true\")\n",
    "    fig, ax = plt.subplots(figsize=(50, 50))\n",
    "    disp = ConfusionMatrixDisplay(confusion_matrix=cm, display_labels=labels)  \n",
    "    font = {'family' : 'DejaVu Sans',\n",
    "        'weight' : 'bold',\n",
    "        'size'   : 16}\n",
    "    plt.rc('font', **font)\n",
    "    ax.tick_params(axis='x', which='major', labelsize=15)\n",
    "    disp.plot(cmap=\"Blues\", values_format=\".2f\", ax=ax, colorbar=False)\n",
    "    plt.title(\"Normalized confusion matrix\")\n",
    "    plt.show()"
   ]
  },
  {
   "cell_type": "code",
   "execution_count": null,
   "id": "76b409bc",
   "metadata": {},
   "outputs": [],
   "source": [
    "y_preds = np.argmax(preds_output.predictions, axis=1)\n",
    "y_valid = np.array(ds_enc[\"test\"][\"label\"])\n",
    "plot_confusion_matrix(y_preds, y_valid, labels.names)"
   ]
  },
  {
   "cell_type": "code",
   "execution_count": null,
   "id": "00da41b4",
   "metadata": {},
   "outputs": [],
   "source": [
    "from torch.nn.functional import cross_entropy\n",
    "\n",
    "def forward_pass_with_label(batch):\n",
    "    inputs = {k:v.to(device) for k,v in batch.items() \n",
    "              if k in tokenizer.model_input_names}\n",
    "    with torch.no_grad():\n",
    "        output = model(**inputs)\n",
    "        pred_label = torch.argmax(output.logits, axis=-1)\n",
    "        loss = cross_entropy(output.logits, batch[\"label\"].to(device), \n",
    "                             reduction=\"none\")     \n",
    "    return {\"loss\": loss.cpu().numpy(), \n",
    "            \"predicted_label\": pred_label.cpu().numpy()}\n",
    "\n",
    "ds_enc.set_format(\"torch\", \n",
    "                            columns=[\"input_ids\", \"attention_mask\", \"label\"])\n",
    "ds_enc[\"test\"] = ds_enc[\"test\"].map(\n",
    "    forward_pass_with_label, batched=True, batch_size=16)"
   ]
  },
  {
   "cell_type": "code",
   "execution_count": null,
   "id": "29bf2588",
   "metadata": {},
   "outputs": [],
   "source": [
    "def label_int2str(row):\n",
    "    return dataset[\"train\"].features[\"label\"].int2str(row)"
   ]
  },
  {
   "cell_type": "code",
   "execution_count": null,
   "id": "7ee99dc7",
   "metadata": {},
   "outputs": [],
   "source": [
    "ds_enc.set_format(\"pandas\")\n",
    "cols = [\"text\", 'emotions', \"label\", \"predicted_label\", \"loss\"]\n",
    "df_test = ds_enc[\"test\"][:][cols]\n",
    "df_test[\"label\"] = df_test[\"label\"].apply(label_int2str)\n",
    "df_test[\"predicted_label\"] = (df_test[\"predicted_label\"]\n",
    "                              .apply(label_int2str))"
   ]
  },
  {
   "cell_type": "code",
   "execution_count": null,
   "id": "fe9cd43a",
   "metadata": {},
   "outputs": [],
   "source": [
    "loss_values = df_test.sort_values(\"loss\", ascending=False).head(50)\n",
    "loss_values"
   ]
  },
  {
   "cell_type": "code",
   "execution_count": null,
   "id": "8d87313a",
   "metadata": {},
   "outputs": [],
   "source": [
    "loss_values.to_csv('loss_values_baseline_goemotions_finetuning_singlelabel.tsv',header =True, sep = '\\t',index=False)\n",
    "df_test.to_csv('preds_functions_baseline_goemotions_finetuning_singlelabel.tsv',header =True, sep = '\\t',index=False)"
   ]
  },
  {
   "cell_type": "code",
   "execution_count": null,
   "id": "1284a045",
   "metadata": {},
   "outputs": [],
   "source": []
  }
 ],
 "metadata": {
  "kernelspec": {
   "display_name": "Python 3 (ipykernel)",
   "language": "python",
   "name": "python3"
  },
  "language_info": {
   "codemirror_mode": {
    "name": "ipython",
    "version": 3
   },
   "file_extension": ".py",
   "mimetype": "text/x-python",
   "name": "python",
   "nbconvert_exporter": "python",
   "pygments_lexer": "ipython3",
   "version": "3.8.10"
  }
 },
 "nbformat": 4,
 "nbformat_minor": 5
}

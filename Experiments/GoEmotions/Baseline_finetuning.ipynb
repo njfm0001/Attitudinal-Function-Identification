{
 "cells": [
  {
   "cell_type": "code",
   "execution_count": 1,
   "id": "4fb14783",
   "metadata": {},
   "outputs": [
    {
     "name": "stderr",
     "output_type": "stream",
     "text": [
      "/home/njfernandez/.local/lib/python3.8/site-packages/tqdm/auto.py:22: TqdmWarning: IProgress not found. Please update jupyter and ipywidgets. See https://ipywidgets.readthedocs.io/en/stable/user_install.html\n",
      "  from .autonotebook import tqdm as notebook_tqdm\n"
     ]
    }
   ],
   "source": [
    "from datasets import Dataset, load_dataset, DatasetDict, ClassLabel\n",
    "import numpy as np\n",
    "import torch\n",
    "import pandas as pd\n",
    "\n",
    "#Seeding for deterministic results i.e. showing same output \n",
    "RANDOM_SEED = 64\n",
    "np.random.seed(RANDOM_SEED)\n",
    "torch.manual_seed(RANDOM_SEED)\n",
    "if torch.cuda.is_available():\n",
    "   torch.cuda.manual_seed(RANDOM_SEED)\n",
    "   torch.cuda.manual_seed_all(RANDOM_SEED) \n",
    "   torch.backends.cudnn.deterministic = True  \n",
    "   torch.backends.cudnn.benchmark = False"
   ]
  },
  {
   "cell_type": "code",
   "execution_count": 2,
   "id": "1a8b33bf",
   "metadata": {},
   "outputs": [
    {
     "data": {
      "text/plain": [
       "array(['ANGRY', 'DISAGREE', 'DISAPPOINTED', 'DISLIKE', 'NOT_APPROVE',\n",
       "       'NOT_CORRECT', 'OTHER', 'PESSIMISTIC', 'WORRIED'], dtype=object)"
      ]
     },
     "execution_count": 2,
     "metadata": {},
     "output_type": "execute_result"
    }
   ],
   "source": [
    "unique_labels = ['ANGRY', 'DISAGREE', 'DISAPPOINTED', 'DISLIKE', 'NOT_APPROVE',\n",
    "       'NOT_CORRECT', 'OTHER', 'PESSIMISTIC', 'WORRIED']\n",
    "function_labels = ClassLabel(names=unique_labels)\n",
    "\n",
    "from sklearn.preprocessing import MultiLabelBinarizer\n",
    "mlb = MultiLabelBinarizer()\n",
    "mlb.fit([function_labels.names])\n",
    "labels_classes = mlb.classes_\n",
    "labels_classes"
   ]
  },
  {
   "cell_type": "code",
   "execution_count": 3,
   "id": "72d72be8",
   "metadata": {},
   "outputs": [
    {
     "name": "stderr",
     "output_type": "stream",
     "text": [
      "No config specified, defaulting to: go_emotions/simplified\n",
      "Found cached dataset go_emotions (/home/njfernandez/.cache/huggingface/datasets/go_emotions/simplified/0.0.0/2637cfdd4e64d30249c3ed2150fa2b9d279766bfcd6a809b9f085c61a90d776d)\n",
      "100%|██████████| 3/3 [00:00<00:00, 729.44it/s]\n",
      "Loading cached processed dataset at /home/njfernandez/.cache/huggingface/datasets/go_emotions/simplified/0.0.0/2637cfdd4e64d30249c3ed2150fa2b9d279766bfcd6a809b9f085c61a90d776d/cache-1c4d70c4ecc5a4bd.arrow\n",
      "Loading cached processed dataset at /home/njfernandez/.cache/huggingface/datasets/go_emotions/simplified/0.0.0/2637cfdd4e64d30249c3ed2150fa2b9d279766bfcd6a809b9f085c61a90d776d/cache-8f90b5d8ac946ce8.arrow\n",
      "Loading cached processed dataset at /home/njfernandez/.cache/huggingface/datasets/go_emotions/simplified/0.0.0/2637cfdd4e64d30249c3ed2150fa2b9d279766bfcd6a809b9f085c61a90d776d/cache-f0dc721270e34384.arrow\n",
      "Loading cached processed dataset at /home/njfernandez/.cache/huggingface/datasets/go_emotions/simplified/0.0.0/2637cfdd4e64d30249c3ed2150fa2b9d279766bfcd6a809b9f085c61a90d776d/cache-da1e4eb95e5bddb8.arrow\n",
      "Loading cached processed dataset at /home/njfernandez/.cache/huggingface/datasets/go_emotions/simplified/0.0.0/2637cfdd4e64d30249c3ed2150fa2b9d279766bfcd6a809b9f085c61a90d776d/cache-500fde3e70bff59d.arrow\n",
      "Loading cached processed dataset at /home/njfernandez/.cache/huggingface/datasets/go_emotions/simplified/0.0.0/2637cfdd4e64d30249c3ed2150fa2b9d279766bfcd6a809b9f085c61a90d776d/cache-15d24d55426355b0.arrow\n",
      "Loading cached processed dataset at /home/njfernandez/.cache/huggingface/datasets/go_emotions/simplified/0.0.0/2637cfdd4e64d30249c3ed2150fa2b9d279766bfcd6a809b9f085c61a90d776d/cache-e76f550bc5bd90ed.arrow\n",
      "Loading cached processed dataset at /home/njfernandez/.cache/huggingface/datasets/go_emotions/simplified/0.0.0/2637cfdd4e64d30249c3ed2150fa2b9d279766bfcd6a809b9f085c61a90d776d/cache-acee8c19bb377f9e.arrow\n",
      "Loading cached processed dataset at /home/njfernandez/.cache/huggingface/datasets/go_emotions/simplified/0.0.0/2637cfdd4e64d30249c3ed2150fa2b9d279766bfcd6a809b9f085c61a90d776d/cache-fd21ed3746b5ac63.arrow\n"
     ]
    }
   ],
   "source": [
    "function_mapping = {'OTHER': ['admiration', 'approval', 'gratitude', 'amusement', 'curiosity', 'embarrassment', 'love', 'optimism', 'joy', \n",
    "                              'realization', 'confusion', 'caring', 'excitement', 'surprise', 'desire', 'pride', 'relief', 'neutral'], \n",
    "           'NOT_INTERESTED': [''], \n",
    "           'DISLIKE':['disgust', 'annoyance'], \n",
    "           'NOT_CORRECT': ['disapproval'], \n",
    "           'PESSIMISTIC':['grief', 'remorse', 'sadness'], \n",
    "           'WORRIED':['fear', 'nervousness'], \n",
    "           'ANGRY': ['anger'], \n",
    "           'DISAPPOINTED': ['disappointment'], \n",
    "           'BORED': [''], \n",
    "           'NOT_APPROVE':['disapproval'], \n",
    "           'NOT_IMPORTANT': [''], \n",
    "           'DISAGREE': ['disapproval'], \n",
    "           'WARN': [''], \n",
    "           'COMPLAIN': [''], \n",
    "           'THREATEN': [''], \n",
    "           'UNWILLING': [''], \n",
    "           'DISTRUST' : [''],\n",
    "           'REFUSE': [''] }\n",
    "\n",
    "mapping = {\n",
    "    0:\"admiration\",\n",
    "    1:\"amusement\",\n",
    "    2:\"anger\",\n",
    "    3:\"annoyance\",\n",
    "    4:\"approval\",\n",
    "    5:\"caring\",\n",
    "    6:\"confusion\",\n",
    "    7:\"curiosity\",\n",
    "    8:\"desire\",\n",
    "    9:\"disappointment\",\n",
    "    10:\"disapproval\",\n",
    "    11:\"disgust\",\n",
    "    12:\"embarrassment\",\n",
    "    13:\"excitement\",\n",
    "    14:\"fear\",\n",
    "    15:\"gratitude\",\n",
    "    16:\"grief\",\n",
    "    17:\"joy\",\n",
    "    18:\"love\",\n",
    "    19:\"nervousness\",\n",
    "    20:\"optimism\",\n",
    "    21:\"pride\",\n",
    "    22:\"realization\",\n",
    "    23:\"relief\",\n",
    "    24:\"remorse\",\n",
    "    25:\"sadness\",\n",
    "    26:\"surprise\",\n",
    "    27:\"neutral\",\n",
    "}\n",
    "\n",
    "go_emotions = load_dataset(\"go_emotions\").remove_columns(\"id\")\n",
    "def adjust_labels(batch):\n",
    "    batch['emotions'] = [[] for _ in range(len(batch['text']))]\n",
    "    for i, item in enumerate(batch[\"labels\"]):\n",
    "        batch[\"emotions\"][i] = [mapping[label] for label in batch[\"labels\"][i]]\n",
    "    return batch\n",
    "\n",
    "go_emotions = go_emotions.map(adjust_labels, batched=True)\n",
    "def map_labels(batch):\n",
    "    batch['functions'] = [[] for _ in range(len(batch['text']))]\n",
    "    for i, item in enumerate(batch[\"emotions\"]):\n",
    "        batch[\"functions\"][i] = [key for key,value in function_mapping.items() if any(emotion in batch[\"emotions\"][i] for emotion in value)]\n",
    "    return batch\n",
    "go_emotions = go_emotions.map(map_labels, batched=True).remove_columns(\"labels\")\n",
    "\n",
    "# Convert labels to one hot enconding vectors\n",
    "def one_hot_encoding(batch):\n",
    "    label_ids = mlb.transform(batch['functions'])\n",
    "    return {\"label_ids\":label_ids}\n",
    "go_emotions = go_emotions.map(one_hot_encoding, batched=True)\n",
    "dataset = go_emotions"
   ]
  },
  {
   "cell_type": "code",
   "execution_count": 4,
   "id": "ded0c08a",
   "metadata": {},
   "outputs": [
    {
     "data": {
      "text/plain": [
       "{'text': 'Famous for his 3-4 Defense',\n",
       " 'emotions': ['admiration'],\n",
       " 'functions': ['OTHER'],\n",
       " 'label_ids': [0, 0, 0, 0, 0, 0, 1, 0, 0]}"
      ]
     },
     "execution_count": 4,
     "metadata": {},
     "output_type": "execute_result"
    }
   ],
   "source": [
    "dataset['train'][37]"
   ]
  },
  {
   "cell_type": "code",
   "execution_count": 5,
   "id": "94c15c9d",
   "metadata": {},
   "outputs": [
    {
     "name": "stderr",
     "output_type": "stream",
     "text": [
      "Loading cached processed dataset at /home/njfernandez/.cache/huggingface/datasets/go_emotions/simplified/0.0.0/2637cfdd4e64d30249c3ed2150fa2b9d279766bfcd6a809b9f085c61a90d776d/cache-6def43aa32922c3e.arrow\n",
      "Loading cached processed dataset at /home/njfernandez/.cache/huggingface/datasets/go_emotions/simplified/0.0.0/2637cfdd4e64d30249c3ed2150fa2b9d279766bfcd6a809b9f085c61a90d776d/cache-ff832761cc59288a.arrow\n",
      "Loading cached processed dataset at /home/njfernandez/.cache/huggingface/datasets/go_emotions/simplified/0.0.0/2637cfdd4e64d30249c3ed2150fa2b9d279766bfcd6a809b9f085c61a90d776d/cache-3de5fbbbd70fde4d.arrow\n",
      "Loading cached processed dataset at /home/njfernandez/.cache/huggingface/datasets/go_emotions/simplified/0.0.0/2637cfdd4e64d30249c3ed2150fa2b9d279766bfcd6a809b9f085c61a90d776d/cache-585ccde2a2a30353.arrow\n",
      "Loading cached processed dataset at /home/njfernandez/.cache/huggingface/datasets/go_emotions/simplified/0.0.0/2637cfdd4e64d30249c3ed2150fa2b9d279766bfcd6a809b9f085c61a90d776d/cache-752798cf714b6719.arrow\n",
      "Loading cached processed dataset at /home/njfernandez/.cache/huggingface/datasets/go_emotions/simplified/0.0.0/2637cfdd4e64d30249c3ed2150fa2b9d279766bfcd6a809b9f085c61a90d776d/cache-03c7f1b05f2a4036.arrow\n"
     ]
    },
    {
     "name": "stdout",
     "output_type": "stream",
     "text": [
      "DatasetDict({\n",
      "    train: Dataset({\n",
      "        features: ['text', 'emotions', 'functions', 'label_ids', 'input_ids', 'attention_mask'],\n",
      "        num_rows: 43410\n",
      "    })\n",
      "    validation: Dataset({\n",
      "        features: ['text', 'emotions', 'functions', 'label_ids', 'input_ids', 'attention_mask'],\n",
      "        num_rows: 5426\n",
      "    })\n",
      "    test: Dataset({\n",
      "        features: ['text', 'emotions', 'functions', 'label_ids', 'input_ids', 'attention_mask'],\n",
      "        num_rows: 5427\n",
      "    })\n",
      "})\n"
     ]
    }
   ],
   "source": [
    "from transformers import AutoTokenizer, AutoModelForSequenceClassification, pipeline, Trainer, TrainingArguments\n",
    "finetuned_model = 'functions_baseline_single_label/checkpoint-15690'\n",
    "device = torch.device(\"cuda\" if torch.cuda.is_available() else \"cpu\")\n",
    "model = (AutoModelForSequenceClassification\n",
    "         .from_pretrained(finetuned_model,problem_type=\"multi_label_classification\", num_labels = len(labels_classes))).to(device)\n",
    "tokenizer=AutoTokenizer.from_pretrained(finetuned_model)\n",
    "\n",
    "def tokenize(batch):\n",
    "    return tokenizer(batch[\"text\"], truncation=True, padding=True)#max_length=512) #for XLM-RoBERTa and emoevent-es, we need to set max_length parameter for this code to work\n",
    "\n",
    "ds_enc = dataset.map(tokenize, batched=True) #remove_columns=cols)\n",
    "print(ds_enc)\n",
    "ds_enc.set_format(\"torch\", columns=[\"input_ids\", \"attention_mask\", \"label_ids\"])\n",
    "ds_enc = (ds_enc\n",
    "          .map(lambda x : {\"float_labels\": x[\"label_ids\"].to(torch.float)}, remove_columns=[\"label_ids\"])\n",
    "          .rename_column(\"float_labels\", \"label_ids\"))"
   ]
  },
  {
   "cell_type": "code",
   "execution_count": 6,
   "id": "f5e77a87",
   "metadata": {},
   "outputs": [],
   "source": [
    "from sklearn.metrics import f1_score, roc_auc_score, accuracy_score\n",
    "from transformers import EvalPrediction\n",
    "    \n",
    "# source: https://jesusleal.io/2021/04/21/Longformer-multlabel-classification/\n",
    "def multi_label_metrics(predictions, labels, threshold=0.5):   \n",
    "    sigmoid = torch.nn.Sigmoid()\n",
    "    probs = sigmoid(torch.Tensor(predictions)) \n",
    "    y_pred = np.zeros(probs.shape)\n",
    "    y_pred[np.where(probs >= threshold)] = 1   \n",
    "    y_true = labels\n",
    "    f1_macro_average = f1_score(y_true=y_true, y_pred=y_pred, average='macro')\n",
    "    roc_auc = roc_auc_score(y_true, y_pred, average = 'macro')\n",
    "    accuracy = accuracy_score(y_true, y_pred)\n",
    "    # return as dictionary\n",
    "    metrics = {'f1': f1_macro_average,\n",
    "               'roc_auc': roc_auc,\n",
    "               'accuracy': accuracy}\n",
    "    return metrics\n",
    "\n",
    "def compute_metrics(p: EvalPrediction):\n",
    "    preds = p.predictions[0] if isinstance(p.predictions, \n",
    "            tuple) else p.predictions\n",
    "    result = multi_label_metrics(\n",
    "        predictions=preds, \n",
    "        labels=p.label_ids)\n",
    "    return result"
   ]
  },
  {
   "cell_type": "code",
   "execution_count": 7,
   "id": "977a0d7e",
   "metadata": {},
   "outputs": [],
   "source": [
    "args = TrainingArguments(\".\", num_train_epochs=1)\n",
    "\n",
    "trainer = Trainer(model=model, args=args, \n",
    "                  compute_metrics=compute_metrics,                  \n",
    "                  eval_dataset=ds_enc['test'],\n",
    "                  tokenizer=tokenizer)"
   ]
  },
  {
   "cell_type": "code",
   "execution_count": 8,
   "id": "ed0830b9",
   "metadata": {},
   "outputs": [
    {
     "name": "stderr",
     "output_type": "stream",
     "text": [
      "The following columns in the test set don't have a corresponding argument in `XLMRobertaForSequenceClassification.forward` and have been ignored: emotions, text, functions. If emotions, text, functions are not expected by `XLMRobertaForSequenceClassification.forward`,  you can safely ignore this message.\n",
      "***** Running Prediction *****\n",
      "  Num examples = 5426\n",
      "  Batch size = 16\n",
      "You're using a XLMRobertaTokenizerFast tokenizer. Please note that with a fast tokenizer, using the `__call__` method is faster than using a method to encode the text followed by a call to the `pad` method to get a padded encoding.\n",
      "/home/njfernandez/.local/lib/python3.8/site-packages/torch/nn/parallel/_functions.py:68: UserWarning: Was asked to gather along dimension 0, but all input tensors were scalars; will instead unsqueeze and return a vector.\n",
      "  warnings.warn('Was asked to gather along dimension 0, but all '\n"
     ]
    },
    {
     "data": {
      "text/html": [],
      "text/plain": [
       "<IPython.core.display.HTML object>"
      ]
     },
     "metadata": {},
     "output_type": "display_data"
    },
    {
     "name": "stdout",
     "output_type": "stream",
     "text": [
      "{'test_loss': 0.4908694624900818, 'test_f1': 0.38042313421611884, 'test_roc_auc': 0.7585230768809856, 'test_accuracy': 0.24972355326207152, 'test_runtime': 39.3958, 'test_samples_per_second': 137.73, 'test_steps_per_second': 8.63}\n"
     ]
    }
   ],
   "source": [
    "preds_output = trainer.predict(ds_enc['validation'])\n",
    "print(preds_output.metrics)"
   ]
  },
  {
   "cell_type": "code",
   "execution_count": 9,
   "id": "f277090e",
   "metadata": {},
   "outputs": [],
   "source": [
    "from sklearn.metrics import classification_report\n",
    "import matplotlib.pyplot as plt\n",
    "\n",
    "macros, micros, macroprecision, macrorecall = [], [], [], []\n",
    "y_true = np.array(ds_enc['validation'][\"label_ids\"])\n",
    "thresholds = np.linspace(0.1, 1, 100)\n",
    "for threshold in thresholds:\n",
    "    sigmoid = torch.nn.Sigmoid()\n",
    "    probs = sigmoid(torch.Tensor(preds_output.predictions))\n",
    "    y_pred = np.zeros(probs.shape)\n",
    "    y_pred[np.where(probs >= threshold)] = 1    \n",
    "    report = classification_report(y_true, y_pred, target_names=labels_classes, zero_division=0, output_dict=True)\n",
    "    micros.append(report[\"micro avg\"][\"f1-score\"])\n",
    "    macros.append(report[\"macro avg\"][\"f1-score\"])\n",
    "    macroprecision.append(report['macro avg']['precision'])\n",
    "    macrorecall.append(report['macro avg']['recall'])"
   ]
  },
  {
   "cell_type": "code",
   "execution_count": 10,
   "id": "42327762",
   "metadata": {},
   "outputs": [
    {
     "data": {
      "image/png": "[encoded data removed]",
      "text/plain": [
       "<Figure size 432x288 with 1 Axes>"
      ]
     },
     "metadata": {
      "needs_background": "light"
     },
     "output_type": "display_data"
    }
   ],
   "source": [
    "plt.plot(thresholds, micros, label=\"Micro F1\")\n",
    "plt.plot(thresholds, macros, label=\"Macro F1\")\n",
    "plt.xlabel(\"Threshold\")\n",
    "plt.ylabel(\"F1-score\")\n",
    "plt.legend(loc=\"best\")\n",
    "plt.show()"
   ]
  },
  {
   "cell_type": "code",
   "execution_count": 11,
   "id": "907442f9",
   "metadata": {},
   "outputs": [
    {
     "data": {
      "image/png": "[encoded data removed]",
      "text/plain": [
       "<Figure size 432x288 with 1 Axes>"
      ]
     },
     "metadata": {
      "needs_background": "light"
     },
     "output_type": "display_data"
    }
   ],
   "source": [
    "plt.plot(thresholds, macroprecision, label=\"Macro P\")\n",
    "plt.plot(thresholds, macrorecall, label=\"Macro R\")\n",
    "plt.xlabel(\"Threshold\")\n",
    "plt.ylabel(\"Score\")\n",
    "plt.legend(loc=\"best\")\n",
    "plt.show()"
   ]
  },
  {
   "cell_type": "code",
   "execution_count": 12,
   "id": "30fb6293",
   "metadata": {},
   "outputs": [
    {
     "name": "stdout",
     "output_type": "stream",
     "text": [
      "Best threshold (micro): 0.9545454545454545 with F1-score 0.78.\n",
      "Best threshold (macro): 0.9090909090909091 with F1-score 0.50.\n",
      "Best threshold (macro-Precision): 0.9545454545454545 with macroP-score 0.57.\n",
      "Best threshold (macro-Recall): 0.1 with macroR-score 0.94.\n"
     ]
    }
   ],
   "source": [
    "best_t, best_micro = thresholds[np.argmax(micros)], np.max(micros)\n",
    "print(f'Best threshold (micro): {best_t} with F1-score {best_micro:.2f}.')\n",
    "best_t, best_macro = thresholds[np.argmax(macros)], np.max(macros)\n",
    "print(f'Best threshold (macro): {best_t} with F1-score {best_macro:.2f}.')\n",
    "best_t, best_macro_P = thresholds[np.argmax(macroprecision)], np.max(macroprecision)\n",
    "print(f'Best threshold (macro-Precision): {best_t} with macroP-score {best_macro_P:.2f}.')\n",
    "best_t, best_macro_R = thresholds[np.argmax(macrorecall)], np.max(macrorecall)\n",
    "print(f'Best threshold (macro-Recall): {best_t} with macroR-score {best_macro_R:.2f}.')"
   ]
  },
  {
   "cell_type": "markdown",
   "id": "2d7cca7f",
   "metadata": {},
   "source": [
    "## Experiment with eval/test dataset"
   ]
  },
  {
   "cell_type": "code",
   "execution_count": 15,
   "id": "25968a0b",
   "metadata": {},
   "outputs": [
    {
     "name": "stderr",
     "output_type": "stream",
     "text": [
      "The following columns in the test set don't have a corresponding argument in `XLMRobertaForSequenceClassification.forward` and have been ignored: emotions, text, functions. If emotions, text, functions are not expected by `XLMRobertaForSequenceClassification.forward`,  you can safely ignore this message.\n",
      "***** Running Prediction *****\n",
      "  Num examples = 5427\n",
      "  Batch size = 16\n",
      "/home/njfernandez/.local/lib/python3.8/site-packages/torch/nn/parallel/_functions.py:68: UserWarning: Was asked to gather along dimension 0, but all input tensors were scalars; will instead unsqueeze and return a vector.\n",
      "  warnings.warn('Was asked to gather along dimension 0, but all '\n"
     ]
    },
    {
     "data": {
      "text/html": [],
      "text/plain": [
       "<IPython.core.display.HTML object>"
      ]
     },
     "metadata": {},
     "output_type": "display_data"
    },
    {
     "name": "stdout",
     "output_type": "stream",
     "text": [
      "{'test_loss': 0.49837425351142883, 'test_f1': 0.37323355355244536, 'test_roc_auc': 0.7588436591857942, 'test_accuracy': 0.24580799705177814, 'test_runtime': 37.8061, 'test_samples_per_second': 143.548, 'test_steps_per_second': 8.993}\n"
     ]
    }
   ],
   "source": [
    "#output = trainer.evaluate()\n",
    "preds_output = trainer.predict(ds_enc['test'])\n",
    "print(preds_output.metrics)"
   ]
  },
  {
   "cell_type": "code",
   "execution_count": 16,
   "id": "19769a03",
   "metadata": {},
   "outputs": [
    {
     "name": "stdout",
     "output_type": "stream",
     "text": [
      "{'ANGRY': {'precision': 0.39221556886227543, 'recall': 0.6616161616161617, 'f1-score': 0.4924812030075188, 'support': 198}, 'DISAGREE': {'precision': 0.4271356783919598, 'recall': 0.31835205992509363, 'f1-score': 0.3648068669527897, 'support': 267}, 'DISAPPOINTED': {'precision': 0.23595505617977527, 'recall': 0.41721854304635764, 'f1-score': 0.30143540669856456, 'support': 151}, 'DISLIKE': {'precision': 0.3040816326530612, 'recall': 0.6946386946386947, 'f1-score': 0.42299503193754434, 'support': 429}, 'NOT_APPROVE': {'precision': 0.42786069651741293, 'recall': 0.32209737827715357, 'f1-score': 0.36752136752136755, 'support': 267}, 'NOT_CORRECT': {'precision': 0.425531914893617, 'recall': 0.299625468164794, 'f1-score': 0.3516483516483516, 'support': 267}, 'OTHER': {'precision': 0.8867844222174931, 'recall': 0.9500683994528044, 'f1-score': 0.9173362685745735, 'support': 4386}, 'PESSIMISTIC': {'precision': 0.5, 'recall': 0.8207547169811321, 'f1-score': 0.6214285714285714, 'support': 212}, 'WORRIED': {'precision': 0.5547445255474452, 'recall': 0.7755102040816326, 'f1-score': 0.6468085106382978, 'support': 98}, 'micro avg': {'precision': 0.7017543859649122, 'recall': 0.8223107569721115, 'f1-score': 0.7572644555327268, 'support': 6275}, 'macro avg': {'precision': 0.46158994391811553, 'recall': 0.5844312917982027, 'f1-score': 0.49849573093417543, 'support': 6275}, 'weighted avg': {'precision': 0.738715762430759, 'recall': 0.8223107569721115, 'f1-score': 0.7701165907500205, 'support': 6275}, 'samples avg': {'precision': 0.7895399545482465, 'recall': 0.8829494502794668, 'f1-score': 0.8150815586968158, 'support': 6275}}\n"
     ]
    }
   ],
   "source": [
    "sigmoid = torch.nn.Sigmoid()\n",
    "probs = sigmoid(torch.Tensor(preds_output.predictions))\n",
    "y_pred = np.zeros(probs.shape)\n",
    "y_pred[np.where(probs >= 0.9)]= 1\n",
    "y_true = np.array(ds_enc['test'][\"label_ids\"])\n",
    "\n",
    "from sklearn.metrics import classification_report\n",
    "\n",
    "report = classification_report(\n",
    "  y_true,\n",
    "  y_pred,\n",
    "  target_names=labels_classes,\n",
    "  zero_division=0,\n",
    "  output_dict=True\n",
    ")\n",
    "print(report)\n",
    "\n",
    "df = pd.DataFrame(report).transpose()\n",
    "with open(r'classification_report_baseline_goemotions_finetuning_threshold=0.9.csv', 'w') as csv_file:\n",
    "    df.to_csv(path_or_buf=csv_file)"
   ]
  },
  {
   "cell_type": "code",
   "execution_count": 17,
   "id": "80461c63",
   "metadata": {},
   "outputs": [
    {
     "name": "stderr",
     "output_type": "stream",
     "text": [
      "                                                                  \r"
     ]
    }
   ],
   "source": [
    "import torch.nn as nn\n",
    "def loss_fn(outputs, labels):\n",
    "    if labels is None:\n",
    "        return None\n",
    "    loss_values = []\n",
    "    for f, b in zip(outputs, labels):\n",
    "        loss_value = nn.BCEWithLogitsLoss()(f, b.float())\n",
    "        loss_values.append(loss_value)\n",
    "    torch_loss = torch.tensor(loss_values)\n",
    "    return torch_loss\n",
    "\n",
    "def forward_pass_with_label(batch): \n",
    "    inputs = {k:v.to(device) for k,v in batch.items() \n",
    "              if k in tokenizer.model_input_names}      \n",
    "    with torch.no_grad():\n",
    "        output = model(**inputs)\n",
    "        logits = output.logits        \n",
    "        sigmoid = torch.nn.Sigmoid()\n",
    "        probs = sigmoid(logits.squeeze().cpu())       \n",
    "        predictions = np.zeros(probs.shape)\n",
    "        predictions[np.where(probs >= 0.9)] = 1       \n",
    "        loss = loss_fn(logits, batch[\"label_ids\"].to(device))\n",
    "    return {\"loss\": loss.cpu().numpy(), \n",
    "            \"pred_label_ids\": predictions}\n",
    "\n",
    "ds_enc.set_format(\"torch\", \n",
    "                            columns=[\"input_ids\", \"attention_mask\", \"label_ids\"])\n",
    "ds_enc = ds_enc.map(\n",
    "    forward_pass_with_label, batched=True, batch_size = 8)"
   ]
  },
  {
   "cell_type": "code",
   "execution_count": 18,
   "id": "170e7fd2",
   "metadata": {},
   "outputs": [
    {
     "name": "stderr",
     "output_type": "stream",
     "text": [
      "                                                                  \r"
     ]
    },
    {
     "name": "stdout",
     "output_type": "stream",
     "text": [
      "                                                   text  \\\n",
      "3655                                Hasn’t hurt me none   \n",
      "509   People like you with premature ejaculation and...   \n",
      "4066  WERE* protesting This is not current. Misleading.   \n",
      "2276  Ahhhhh you should start screaming and flailing...   \n",
      "4980  It's the universe trying to kill us with radia...   \n",
      "2430  Her lying, narcotics addicted, pedophilic gran...   \n",
      "137   The worst bbq in Texas Edit: Some of you are g...   \n",
      "5318  Can't you tell that [NAME] is a serious threat...   \n",
      "1734          Same...except that I'm not good looking :   \n",
      "4959  Definitely the current worst, hence 20 actuall...   \n",
      "4031  >the silent majority This is the most ignorant...   \n",
      "1924                 I'd rather die than drive a Volvo!   \n",
      "2476  Yeah, it's pretty funny how incapable most of ...   \n",
      "4347  Oooo I see, I was hoping it wasn't a troll thi...   \n",
      "1064  I can see why you’ll never be in a leadership ...   \n",
      "1970        Plot twist: they don‘t Want to Go To school   \n",
      "2769  I feel like its got to do with the bad desync ...   \n",
      "1496  I'm sorry you needed to add this. I thought yo...   \n",
      "1775  It’s the format. It’s like one of those bad [N...   \n",
      "3853       They don’t like to be excluded from anything   \n",
      "3855                                   Don't kink shame   \n",
      "344    Probably, I knew this lawn chair was a bad idea.   \n",
      "2982  We already had that fake news before. There's ...   \n",
      "1999  Mr. Met is a legend! Outrageous. Now... If you...   \n",
      "4777  Probably when they fired their cartoonist a fe...   \n",
      "3696  You played torb....... that’s why. Just kiddin...   \n",
      "5302  Loathing Big Pharma has nothing to do with bei...   \n",
      "2716  My cousin is coming back as interim exec chef ...   \n",
      "40                      You didn't watch it to the end.   \n",
      "441   China cheating the rest of the world is horrib...   \n",
      "4654                         I just unassigned and left   \n",
      "141   Only bet on games you like. Sometimes go a cou...   \n",
      "3025  This whole ordeal seems entirely pointless, bu...   \n",
      "2289  They call it the hub and spoke system. They ne...   \n",
      "3613                                       $20 too much   \n",
      "4826  I think years...I'm not ready and I know it, b...   \n",
      "1623           Nuh uh. She didn't go to Gudger College.   \n",
      "2068  They’re not exactly tiny creatures. Patch that...   \n",
      "2483  Well they got removed so I’m not sure if I wan...   \n",
      "3711  Hmmmm this is so familiar but I can't quite pu...   \n",
      "1582                       No thanks probably stank af.   \n",
      "897   Best not let [NAME] near him, what with her oi...   \n",
      "436   Market ≠ Capitalism Just because something ope...   \n",
      "2492     I didn’t understand because it’s not dark mode   \n",
      "1652                     I’ve still not noticed the kid   \n",
      "1624  Offense does too. Love [NAME] but he's hurting...   \n",
      "4054  80% of the country is putting their faith in a...   \n",
      "2196         Was not expecting that spongebob reference   \n",
      "191   Yea, very rude. Avoid anything with a strong s...   \n",
      "1855  Ah ok, that makes more sense. I don’t think mo...   \n",
      "\n",
      "                                      emotions  \\\n",
      "3655                             [disapproval]   \n",
      "509                              [disapproval]   \n",
      "4066                             [disapproval]   \n",
      "2276                             [disapproval]   \n",
      "4980                             [disapproval]   \n",
      "2430                  [annoyance, disapproval]   \n",
      "137                              [disapproval]   \n",
      "5318                             [disapproval]   \n",
      "1734                             [disapproval]   \n",
      "4959                             [disapproval]   \n",
      "4031             [disappointment, disapproval]   \n",
      "1924                      [anger, disapproval]   \n",
      "2476                             [disapproval]   \n",
      "4347                             [disapproval]   \n",
      "1064                             [disapproval]   \n",
      "1970                             [disapproval]   \n",
      "2769                             [disapproval]   \n",
      "1496                             [disapproval]   \n",
      "1775                             [disapproval]   \n",
      "3853                             [disapproval]   \n",
      "3855                             [disapproval]   \n",
      "344                              [disapproval]   \n",
      "2982                             [disapproval]   \n",
      "1999                             [disapproval]   \n",
      "4777                             [disapproval]   \n",
      "3696                             [disapproval]   \n",
      "5302                             [disapproval]   \n",
      "2716                  [annoyance, disapproval]   \n",
      "40                               [disapproval]   \n",
      "441                              [disapproval]   \n",
      "4654                             [disapproval]   \n",
      "141                              [disapproval]   \n",
      "3025                             [disapproval]   \n",
      "2289                             [disapproval]   \n",
      "3613                             [disapproval]   \n",
      "4826                             [disapproval]   \n",
      "1623                             [disapproval]   \n",
      "2068                             [disapproval]   \n",
      "2483                             [disapproval]   \n",
      "3711                             [disapproval]   \n",
      "1582                             [disapproval]   \n",
      "897                              [disapproval]   \n",
      "436                              [disapproval]   \n",
      "2492                             [disapproval]   \n",
      "1652                             [disapproval]   \n",
      "1624                    [disapproval, sadness]   \n",
      "4054  [annoyance, disappointment, disapproval]   \n",
      "2196                             [disapproval]   \n",
      "191                              [disapproval]   \n",
      "1855                             [disapproval]   \n",
      "\n",
      "                                              functions  \\\n",
      "3655               [NOT_CORRECT, NOT_APPROVE, DISAGREE]   \n",
      "509                [NOT_CORRECT, NOT_APPROVE, DISAGREE]   \n",
      "4066               [NOT_CORRECT, NOT_APPROVE, DISAGREE]   \n",
      "2276               [NOT_CORRECT, NOT_APPROVE, DISAGREE]   \n",
      "4980               [NOT_CORRECT, NOT_APPROVE, DISAGREE]   \n",
      "2430      [DISLIKE, NOT_CORRECT, NOT_APPROVE, DISAGREE]   \n",
      "137                [NOT_CORRECT, NOT_APPROVE, DISAGREE]   \n",
      "5318               [NOT_CORRECT, NOT_APPROVE, DISAGREE]   \n",
      "1734               [NOT_CORRECT, NOT_APPROVE, DISAGREE]   \n",
      "4959               [NOT_CORRECT, NOT_APPROVE, DISAGREE]   \n",
      "4031  [NOT_CORRECT, DISAPPOINTED, NOT_APPROVE, DISAG...   \n",
      "1924        [NOT_CORRECT, ANGRY, NOT_APPROVE, DISAGREE]   \n",
      "2476               [NOT_CORRECT, NOT_APPROVE, DISAGREE]   \n",
      "4347               [NOT_CORRECT, NOT_APPROVE, DISAGREE]   \n",
      "1064               [NOT_CORRECT, NOT_APPROVE, DISAGREE]   \n",
      "1970               [NOT_CORRECT, NOT_APPROVE, DISAGREE]   \n",
      "2769               [NOT_CORRECT, NOT_APPROVE, DISAGREE]   \n",
      "1496               [NOT_CORRECT, NOT_APPROVE, DISAGREE]   \n",
      "1775               [NOT_CORRECT, NOT_APPROVE, DISAGREE]   \n",
      "3853               [NOT_CORRECT, NOT_APPROVE, DISAGREE]   \n",
      "3855               [NOT_CORRECT, NOT_APPROVE, DISAGREE]   \n",
      "344                [NOT_CORRECT, NOT_APPROVE, DISAGREE]   \n",
      "2982               [NOT_CORRECT, NOT_APPROVE, DISAGREE]   \n",
      "1999               [NOT_CORRECT, NOT_APPROVE, DISAGREE]   \n",
      "4777               [NOT_CORRECT, NOT_APPROVE, DISAGREE]   \n",
      "3696               [NOT_CORRECT, NOT_APPROVE, DISAGREE]   \n",
      "5302               [NOT_CORRECT, NOT_APPROVE, DISAGREE]   \n",
      "2716      [DISLIKE, NOT_CORRECT, NOT_APPROVE, DISAGREE]   \n",
      "40                 [NOT_CORRECT, NOT_APPROVE, DISAGREE]   \n",
      "441                [NOT_CORRECT, NOT_APPROVE, DISAGREE]   \n",
      "4654               [NOT_CORRECT, NOT_APPROVE, DISAGREE]   \n",
      "141                [NOT_CORRECT, NOT_APPROVE, DISAGREE]   \n",
      "3025               [NOT_CORRECT, NOT_APPROVE, DISAGREE]   \n",
      "2289               [NOT_CORRECT, NOT_APPROVE, DISAGREE]   \n",
      "3613               [NOT_CORRECT, NOT_APPROVE, DISAGREE]   \n",
      "4826               [NOT_CORRECT, NOT_APPROVE, DISAGREE]   \n",
      "1623               [NOT_CORRECT, NOT_APPROVE, DISAGREE]   \n",
      "2068               [NOT_CORRECT, NOT_APPROVE, DISAGREE]   \n",
      "2483               [NOT_CORRECT, NOT_APPROVE, DISAGREE]   \n",
      "3711               [NOT_CORRECT, NOT_APPROVE, DISAGREE]   \n",
      "1582               [NOT_CORRECT, NOT_APPROVE, DISAGREE]   \n",
      "897                [NOT_CORRECT, NOT_APPROVE, DISAGREE]   \n",
      "436                [NOT_CORRECT, NOT_APPROVE, DISAGREE]   \n",
      "2492               [NOT_CORRECT, NOT_APPROVE, DISAGREE]   \n",
      "1652               [NOT_CORRECT, NOT_APPROVE, DISAGREE]   \n",
      "1624  [NOT_CORRECT, PESSIMISTIC, NOT_APPROVE, DISAGREE]   \n",
      "4054  [DISLIKE, NOT_CORRECT, DISAPPOINTED, NOT_APPRO...   \n",
      "2196               [NOT_CORRECT, NOT_APPROVE, DISAGREE]   \n",
      "191                [NOT_CORRECT, NOT_APPROVE, DISAGREE]   \n",
      "1855               [NOT_CORRECT, NOT_APPROVE, DISAGREE]   \n",
      "\n",
      "                        predicted_labels      loss  \n",
      "3655  [DISAPPOINTED, OTHER, PESSIMISTIC]  2.543008  \n",
      "509                              [OTHER]  2.259758  \n",
      "4066                             [OTHER]  2.250071  \n",
      "2276                    [DISLIKE, OTHER]  2.230413  \n",
      "4980                    [OTHER, WORRIED]  2.229402  \n",
      "2430       [OTHER, PESSIMISTIC, WORRIED]  2.207442  \n",
      "137                     [DISLIKE, OTHER]  2.199666  \n",
      "5318                    [OTHER, WORRIED]  2.176789  \n",
      "1734                             [OTHER]  2.163574  \n",
      "4959                           [DISLIKE]  2.150241  \n",
      "4031                    [DISLIKE, OTHER]  2.138036  \n",
      "1924                [OTHER, PESSIMISTIC]  2.131749  \n",
      "2476                    [DISLIKE, OTHER]  2.116612  \n",
      "4347                    [DISLIKE, OTHER]  2.112593  \n",
      "1064                    [DISLIKE, OTHER]  2.093570  \n",
      "1970                             [OTHER]  2.078654  \n",
      "2769               [DISAPPOINTED, OTHER]  2.051893  \n",
      "1496                [OTHER, PESSIMISTIC]  2.041594  \n",
      "1775      [DISAPPOINTED, DISLIKE, OTHER]  2.033019  \n",
      "3853                             [OTHER]  2.023760  \n",
      "3855                    [DISLIKE, OTHER]  2.013643  \n",
      "344                     [DISLIKE, OTHER]  1.998236  \n",
      "2982                    [DISLIKE, OTHER]  1.981589  \n",
      "1999                    [DISLIKE, OTHER]  1.979999  \n",
      "4777                             [OTHER]  1.961085  \n",
      "3696                    [DISLIKE, OTHER]  1.958423  \n",
      "5302                             [OTHER]  1.949413  \n",
      "2716                             [OTHER]  1.943594  \n",
      "40                               [OTHER]  1.939089  \n",
      "441                       [DISAPPOINTED]  1.934166  \n",
      "4654                             [OTHER]  1.924092  \n",
      "141                              [OTHER]  1.919769  \n",
      "3025                    [DISLIKE, OTHER]  1.904246  \n",
      "2289               [DISAPPOINTED, OTHER]  1.899022  \n",
      "3613                    [DISLIKE, OTHER]  1.895447  \n",
      "4826                             [OTHER]  1.892659  \n",
      "1623  [DISAPPOINTED, OTHER, PESSIMISTIC]  1.861751  \n",
      "2068                    [DISLIKE, OTHER]  1.857390  \n",
      "2483                             [OTHER]  1.853274  \n",
      "3711                             [OTHER]  1.834376  \n",
      "1582                    [DISLIKE, OTHER]  1.825449  \n",
      "897                              [OTHER]  1.797225  \n",
      "436                              [OTHER]  1.797117  \n",
      "2492                             [OTHER]  1.787443  \n",
      "1652                             [OTHER]  1.787355  \n",
      "1624  [DISAPPOINTED, OTHER, PESSIMISTIC]  1.780599  \n",
      "4054                             [OTHER]  1.776140  \n",
      "2196               [DISAPPOINTED, OTHER]  1.747034  \n",
      "191              [ANGRY, DISLIKE, OTHER]  1.740708  \n",
      "1855                             [OTHER]  1.723308  \n"
     ]
    }
   ],
   "source": [
    "def get_predicted_labels(batch):\n",
    "    transformed_into_label_names = mlb.inverse_transform(np.array(batch['pred_label_ids']))  \n",
    "    return  {\"predicted_labels\": list(map(list, transformed_into_label_names))}\n",
    "ds_enc['test'] = ds_enc['test'].map(get_predicted_labels, batched=True)\n",
    "\n",
    "ds_enc.set_format(\"pandas\")\n",
    "cols = [\"text\", \"emotions\", \"functions\", \"predicted_labels\", \"loss\"]\n",
    "df_test = ds_enc['test'][:][cols]\n",
    "loss_values = df_test.sort_values(\"loss\", ascending=False).head(50)\n",
    "print(loss_values)"
   ]
  },
  {
   "cell_type": "code",
   "execution_count": 19,
   "id": "7ee99dc7",
   "metadata": {},
   "outputs": [],
   "source": [
    "loss_values.to_csv('loss_values_baseline_finetuning_threshold=0.9.tsv',header =True, sep = '\\t',index=False)\n",
    "df_test.to_csv('preds_baseline_finetuning_threshold=0.9.tsv',header =True, sep = '\\t',index=False)"
   ]
  },
  {
   "cell_type": "code",
   "execution_count": null,
   "id": "8d87313a",
   "metadata": {},
   "outputs": [],
   "source": []
  }
 ],
 "metadata": {
  "kernelspec": {
   "display_name": "Python 3 (ipykernel)",
   "language": "python",
   "name": "python3"
  },
  "language_info": {
   "codemirror_mode": {
    "name": "ipython",
    "version": 3
   },
   "file_extension": ".py",
   "mimetype": "text/x-python",
   "name": "python",
   "nbconvert_exporter": "python",
   "pygments_lexer": "ipython3",
   "version": "3.8.10"
  }
 },
 "nbformat": 4,
 "nbformat_minor": 5
}

{
 "cells": [
  {
   "cell_type": "markdown",
   "id": "acf45e0f",
   "metadata": {},
   "source": [
    "# GoEmotions train (baseline) experiment"
   ]
  },
  {
   "cell_type": "code",
   "execution_count": 1,
   "id": "38673a21",
   "metadata": {},
   "outputs": [
    {
     "name": "stderr",
     "output_type": "stream",
     "text": [
      "/home/njfernandez/.local/lib/python3.8/site-packages/tqdm/auto.py:22: TqdmWarning: IProgress not found. Please update jupyter and ipywidgets. See https://ipywidgets.readthedocs.io/en/stable/user_install.html\n",
      "  from .autonotebook import tqdm as notebook_tqdm\n"
     ]
    }
   ],
   "source": [
    "from datasets import Dataset, load_dataset, DatasetDict, ClassLabel\n",
    "import numpy as np\n",
    "import torch\n",
    "import pandas as pd\n",
    "\n",
    "#Seeding for deterministic results i.e. showing same output \n",
    "RANDOM_SEED = 64\n",
    "np.random.seed(RANDOM_SEED)\n",
    "torch.manual_seed(RANDOM_SEED)\n",
    "if torch.cuda.is_available():\n",
    "   torch.cuda.manual_seed(RANDOM_SEED)\n",
    "   torch.cuda.manual_seed_all(RANDOM_SEED) \n",
    "   torch.backends.cudnn.deterministic = True  \n",
    "   torch.backends.cudnn.benchmark = False"
   ]
  },
  {
   "cell_type": "code",
   "execution_count": 2,
   "id": "fabea7e3",
   "metadata": {},
   "outputs": [],
   "source": [
    "comfunctions_basic = 'comfunct_basic.txt'\n",
    "df = pd.read_csv(comfunctions_basic, delimiter=\";\")\n",
    "df = df[~df['function'].isin(['NOT_INTERESTED', 'BORED','NOT_IMPORTANT', 'REFUSE', 'WARN', \n",
    "                              'COMPLAIN', 'THREATEN', 'UNWILLING', 'DISTRUST' ])].rename(columns={\"function\": \"functions\"})\n"
   ]
  },
  {
   "cell_type": "code",
   "execution_count": 3,
   "id": "02daaa86",
   "metadata": {},
   "outputs": [
    {
     "data": {
      "text/plain": [
       "array(['ANGRY', 'DISAGREE', 'DISAPPOINTED', 'DISLIKE', 'NOT_APPROVE',\n",
       "       'NOT_CORRECT', 'OTHER', 'PESSIMISTIC', 'WORRIED'], dtype=object)"
      ]
     },
     "execution_count": 3,
     "metadata": {},
     "output_type": "execute_result"
    }
   ],
   "source": [
    "unique_labels = df[\"functions\"].unique().tolist()\n",
    "function_labels = ClassLabel(names=unique_labels)\n",
    "\n",
    "from sklearn.preprocessing import MultiLabelBinarizer\n",
    "mlb = MultiLabelBinarizer()\n",
    "mlb.fit([function_labels.names])\n",
    "labels_classes = mlb.classes_\n",
    "labels_classes"
   ]
  },
  {
   "cell_type": "code",
   "execution_count": 4,
   "id": "5e517e37",
   "metadata": {},
   "outputs": [
    {
     "name": "stderr",
     "output_type": "stream",
     "text": [
      "No config specified, defaulting to: go_emotions/simplified\n",
      "Found cached dataset go_emotions (/home/njfernandez/.cache/huggingface/datasets/go_emotions/simplified/0.0.0/2637cfdd4e64d30249c3ed2150fa2b9d279766bfcd6a809b9f085c61a90d776d)\n",
      "100%|██████████| 3/3 [00:00<00:00, 773.90it/s]\n",
      "Loading cached processed dataset at /home/njfernandez/.cache/huggingface/datasets/go_emotions/simplified/0.0.0/2637cfdd4e64d30249c3ed2150fa2b9d279766bfcd6a809b9f085c61a90d776d/cache-1c4d70c4ecc5a4bd.arrow\n",
      "Loading cached processed dataset at /home/njfernandez/.cache/huggingface/datasets/go_emotions/simplified/0.0.0/2637cfdd4e64d30249c3ed2150fa2b9d279766bfcd6a809b9f085c61a90d776d/cache-8f90b5d8ac946ce8.arrow\n",
      "Loading cached processed dataset at /home/njfernandez/.cache/huggingface/datasets/go_emotions/simplified/0.0.0/2637cfdd4e64d30249c3ed2150fa2b9d279766bfcd6a809b9f085c61a90d776d/cache-f0dc721270e34384.arrow\n",
      "Loading cached processed dataset at /home/njfernandez/.cache/huggingface/datasets/go_emotions/simplified/0.0.0/2637cfdd4e64d30249c3ed2150fa2b9d279766bfcd6a809b9f085c61a90d776d/cache-da1e4eb95e5bddb8.arrow\n",
      "Loading cached processed dataset at /home/njfernandez/.cache/huggingface/datasets/go_emotions/simplified/0.0.0/2637cfdd4e64d30249c3ed2150fa2b9d279766bfcd6a809b9f085c61a90d776d/cache-500fde3e70bff59d.arrow\n",
      "Loading cached processed dataset at /home/njfernandez/.cache/huggingface/datasets/go_emotions/simplified/0.0.0/2637cfdd4e64d30249c3ed2150fa2b9d279766bfcd6a809b9f085c61a90d776d/cache-15d24d55426355b0.arrow\n",
      "Loading cached processed dataset at /home/njfernandez/.cache/huggingface/datasets/go_emotions/simplified/0.0.0/2637cfdd4e64d30249c3ed2150fa2b9d279766bfcd6a809b9f085c61a90d776d/cache-e76f550bc5bd90ed.arrow\n",
      "Loading cached processed dataset at /home/njfernandez/.cache/huggingface/datasets/go_emotions/simplified/0.0.0/2637cfdd4e64d30249c3ed2150fa2b9d279766bfcd6a809b9f085c61a90d776d/cache-acee8c19bb377f9e.arrow\n",
      "Loading cached processed dataset at /home/njfernandez/.cache/huggingface/datasets/go_emotions/simplified/0.0.0/2637cfdd4e64d30249c3ed2150fa2b9d279766bfcd6a809b9f085c61a90d776d/cache-fd21ed3746b5ac63.arrow\n"
     ]
    }
   ],
   "source": [
    "function_mapping = {'OTHER': ['admiration', 'approval', 'gratitude', 'amusement', 'curiosity', 'embarrassment', 'love', 'optimism', 'joy', \n",
    "                              'realization', 'confusion', 'caring', 'excitement', 'surprise', 'desire', 'pride', 'relief', 'neutral'], \n",
    "           'NOT_INTERESTED': [''], \n",
    "           'DISLIKE':['disgust', 'annoyance'], \n",
    "           'NOT_CORRECT': ['disapproval'], \n",
    "           'PESSIMISTIC':['grief', 'remorse', 'sadness'], \n",
    "           'WORRIED':['fear', 'nervousness'], \n",
    "           'ANGRY': ['anger'], \n",
    "           'DISAPPOINTED': ['disappointment'], \n",
    "           'BORED': [''], \n",
    "           'NOT_APPROVE':['disapproval'], \n",
    "           'NOT_IMPORTANT': [''], \n",
    "           'DISAGREE': ['disapproval'], \n",
    "           'WARN': [''], \n",
    "           'COMPLAIN': [''], \n",
    "           'THREATEN': [''], \n",
    "           'UNWILLING': [''], \n",
    "           'DISTRUST' : [''],\n",
    "           'REFUSE': [''] }\n",
    "\n",
    "mapping = {\n",
    "    0:\"admiration\",\n",
    "    1:\"amusement\",\n",
    "    2:\"anger\",\n",
    "    3:\"annoyance\",\n",
    "    4:\"approval\",\n",
    "    5:\"caring\",\n",
    "    6:\"confusion\",\n",
    "    7:\"curiosity\",\n",
    "    8:\"desire\",\n",
    "    9:\"disappointment\",\n",
    "    10:\"disapproval\",\n",
    "    11:\"disgust\",\n",
    "    12:\"embarrassment\",\n",
    "    13:\"excitement\",\n",
    "    14:\"fear\",\n",
    "    15:\"gratitude\",\n",
    "    16:\"grief\",\n",
    "    17:\"joy\",\n",
    "    18:\"love\",\n",
    "    19:\"nervousness\",\n",
    "    20:\"optimism\",\n",
    "    21:\"pride\",\n",
    "    22:\"realization\",\n",
    "    23:\"relief\",\n",
    "    24:\"remorse\",\n",
    "    25:\"sadness\",\n",
    "    26:\"surprise\",\n",
    "    27:\"neutral\",\n",
    "}\n",
    "\n",
    "go_emotions = load_dataset(\"go_emotions\").remove_columns(\"id\")\n",
    "def adjust_labels(batch):\n",
    "    batch['emotions'] = [[] for _ in range(len(batch['text']))]\n",
    "    for i, item in enumerate(batch[\"labels\"]):\n",
    "        batch[\"emotions\"][i] = [mapping[label] for label in batch[\"labels\"][i]]\n",
    "    return batch\n",
    "\n",
    "go_emotions = go_emotions.map(adjust_labels, batched=True)\n",
    "def map_labels(batch):\n",
    "    batch['functions'] = [[] for _ in range(len(batch['text']))]\n",
    "    for i, item in enumerate(batch[\"emotions\"]):\n",
    "        batch[\"functions\"][i] = [key for key,value in function_mapping.items() if any(emotion in batch[\"emotions\"][i] for emotion in value)]\n",
    "    return batch\n",
    "go_emotions = go_emotions.map(map_labels, batched=True).remove_columns(\"labels\")\n",
    "\n",
    "# Convert labels to one hot enconding vectors\n",
    "def one_hot_encoding(batch):\n",
    "    label_ids = mlb.transform(batch['functions'])\n",
    "    return {\"label_ids\":label_ids}\n",
    "go_emotions = go_emotions.map(one_hot_encoding, batched=True)"
   ]
  },
  {
   "cell_type": "code",
   "execution_count": 5,
   "id": "f53ec871",
   "metadata": {},
   "outputs": [],
   "source": [
    "from sklearn.naive_bayes import MultinomialNB\n",
    "from sklearn.multioutput import MultiOutputClassifier\n",
    "from sklearn.metrics import classification_report\n",
    "from sklearn.feature_extraction.text import CountVectorizer\n",
    "\n",
    "y_train = np.array(go_emotions['train']['label_ids'])\n",
    "y_test = np.array(go_emotions['test']['label_ids'])"
   ]
  },
  {
   "cell_type": "code",
   "execution_count": 6,
   "id": "1367506a",
   "metadata": {},
   "outputs": [],
   "source": [
    "count_vect = CountVectorizer()\n",
    "X_train_counts = count_vect.fit_transform(go_emotions['train']['text'])\n",
    "X_test_counts = count_vect.transform(go_emotions['test']['text'])"
   ]
  },
  {
   "cell_type": "code",
   "execution_count": 7,
   "id": "26443e4a",
   "metadata": {},
   "outputs": [],
   "source": [
    "nb = MultinomialNB()\n",
    "multi_nb = MultiOutputClassifier(nb, n_jobs=-1)\n",
    "multi_nb.fit(X_train_counts, y_train)\n",
    "y_pred_test = multi_nb.predict(X_test_counts)"
   ]
  },
  {
   "cell_type": "code",
   "execution_count": 8,
   "id": "e4695441",
   "metadata": {},
   "outputs": [
    {
     "name": "stdout",
     "output_type": "stream",
     "text": [
      "              precision    recall  f1-score   support\n",
      "\n",
      "       ANGRY       0.33      0.01      0.02       198\n",
      "    DISAGREE       0.00      0.00      0.00       267\n",
      "DISAPPOINTED       0.00      0.00      0.00       151\n",
      "     DISLIKE       0.62      0.06      0.10       429\n",
      " NOT_APPROVE       0.00      0.00      0.00       267\n",
      " NOT_CORRECT       0.00      0.00      0.00       267\n",
      "       OTHER       0.84      0.98      0.90      4386\n",
      " PESSIMISTIC       0.62      0.04      0.07       212\n",
      "     WORRIED       0.00      0.00      0.00        98\n",
      "\n",
      "   micro avg       0.83      0.69      0.75      6275\n",
      "   macro avg       0.27      0.12      0.12      6275\n",
      "weighted avg       0.66      0.69      0.64      6275\n",
      " samples avg       0.80      0.78      0.78      6275\n",
      "\n"
     ]
    }
   ],
   "source": [
    "clf_report = classification_report(y_test, y_pred_test, target_names=labels_classes, zero_division=0)\n",
    "print(clf_report)"
   ]
  },
  {
   "cell_type": "code",
   "execution_count": 9,
   "id": "822003b2",
   "metadata": {},
   "outputs": [],
   "source": [
    "clf_report = classification_report(y_test, y_pred_test, target_names=labels_classes, zero_division=0, output_dict=True)\n",
    "df_results = pd.DataFrame(clf_report).transpose()\n",
    "with open(r'classification_report_baseline_go_emotions_naive_bayes.csv', 'w') as csv_file:\n",
    "    df_results.to_csv(path_or_buf=csv_file)"
   ]
  },
  {
   "cell_type": "code",
   "execution_count": 10,
   "id": "2b78b616",
   "metadata": {},
   "outputs": [
    {
     "data": {
      "text/html": [
       "<div>\n",
       "<style scoped>\n",
       "    .dataframe tbody tr th:only-of-type {\n",
       "        vertical-align: middle;\n",
       "    }\n",
       "\n",
       "    .dataframe tbody tr th {\n",
       "        vertical-align: top;\n",
       "    }\n",
       "\n",
       "    .dataframe thead th {\n",
       "        text-align: right;\n",
       "    }\n",
       "</style>\n",
       "<table border=\"1\" class=\"dataframe\">\n",
       "  <thead>\n",
       "    <tr style=\"text-align: right;\">\n",
       "      <th></th>\n",
       "      <th>text</th>\n",
       "      <th>emotions</th>\n",
       "      <th>functions</th>\n",
       "      <th>predicted_labels</th>\n",
       "    </tr>\n",
       "  </thead>\n",
       "  <tbody>\n",
       "    <tr>\n",
       "      <th>0</th>\n",
       "      <td>I’m really sorry about your situation :( Altho...</td>\n",
       "      <td>[sadness]</td>\n",
       "      <td>[PESSIMISTIC]</td>\n",
       "      <td>[OTHER]</td>\n",
       "    </tr>\n",
       "    <tr>\n",
       "      <th>1</th>\n",
       "      <td>It's wonderful because it's awful. At not with.</td>\n",
       "      <td>[admiration]</td>\n",
       "      <td>[OTHER]</td>\n",
       "      <td>[OTHER]</td>\n",
       "    </tr>\n",
       "    <tr>\n",
       "      <th>2</th>\n",
       "      <td>Kings fan here, good luck to you guys! Will be...</td>\n",
       "      <td>[excitement]</td>\n",
       "      <td>[OTHER]</td>\n",
       "      <td>[OTHER]</td>\n",
       "    </tr>\n",
       "    <tr>\n",
       "      <th>3</th>\n",
       "      <td>I didn't know that, thank you for teaching me ...</td>\n",
       "      <td>[gratitude]</td>\n",
       "      <td>[OTHER]</td>\n",
       "      <td>[OTHER]</td>\n",
       "    </tr>\n",
       "    <tr>\n",
       "      <th>4</th>\n",
       "      <td>They got bored from haunting earth for thousan...</td>\n",
       "      <td>[neutral]</td>\n",
       "      <td>[OTHER]</td>\n",
       "      <td>[OTHER]</td>\n",
       "    </tr>\n",
       "    <tr>\n",
       "      <th>...</th>\n",
       "      <td>...</td>\n",
       "      <td>...</td>\n",
       "      <td>...</td>\n",
       "      <td>...</td>\n",
       "    </tr>\n",
       "    <tr>\n",
       "      <th>5422</th>\n",
       "      <td>Thanks. I was diagnosed with BP 1 after the ho...</td>\n",
       "      <td>[gratitude]</td>\n",
       "      <td>[OTHER]</td>\n",
       "      <td>[OTHER]</td>\n",
       "    </tr>\n",
       "    <tr>\n",
       "      <th>5423</th>\n",
       "      <td>Well that makes sense.</td>\n",
       "      <td>[approval]</td>\n",
       "      <td>[OTHER]</td>\n",
       "      <td>[OTHER]</td>\n",
       "    </tr>\n",
       "    <tr>\n",
       "      <th>5424</th>\n",
       "      <td>Daddy issues [NAME]</td>\n",
       "      <td>[neutral]</td>\n",
       "      <td>[OTHER]</td>\n",
       "      <td>[OTHER]</td>\n",
       "    </tr>\n",
       "    <tr>\n",
       "      <th>5425</th>\n",
       "      <td>So glad I discovered that subreddit a couple m...</td>\n",
       "      <td>[admiration]</td>\n",
       "      <td>[OTHER]</td>\n",
       "      <td>[OTHER]</td>\n",
       "    </tr>\n",
       "    <tr>\n",
       "      <th>5426</th>\n",
       "      <td>Had to watch \"Elmo in Grouchland\" one time too...</td>\n",
       "      <td>[neutral]</td>\n",
       "      <td>[OTHER]</td>\n",
       "      <td>[OTHER]</td>\n",
       "    </tr>\n",
       "  </tbody>\n",
       "</table>\n",
       "<p>5427 rows × 4 columns</p>\n",
       "</div>"
      ],
      "text/plain": [
       "                                                   text      emotions  \\\n",
       "0     I’m really sorry about your situation :( Altho...     [sadness]   \n",
       "1       It's wonderful because it's awful. At not with.  [admiration]   \n",
       "2     Kings fan here, good luck to you guys! Will be...  [excitement]   \n",
       "3     I didn't know that, thank you for teaching me ...   [gratitude]   \n",
       "4     They got bored from haunting earth for thousan...     [neutral]   \n",
       "...                                                 ...           ...   \n",
       "5422  Thanks. I was diagnosed with BP 1 after the ho...   [gratitude]   \n",
       "5423                             Well that makes sense.    [approval]   \n",
       "5424                                Daddy issues [NAME]     [neutral]   \n",
       "5425  So glad I discovered that subreddit a couple m...  [admiration]   \n",
       "5426  Had to watch \"Elmo in Grouchland\" one time too...     [neutral]   \n",
       "\n",
       "          functions predicted_labels  \n",
       "0     [PESSIMISTIC]          [OTHER]  \n",
       "1           [OTHER]          [OTHER]  \n",
       "2           [OTHER]          [OTHER]  \n",
       "3           [OTHER]          [OTHER]  \n",
       "4           [OTHER]          [OTHER]  \n",
       "...             ...              ...  \n",
       "5422        [OTHER]          [OTHER]  \n",
       "5423        [OTHER]          [OTHER]  \n",
       "5424        [OTHER]          [OTHER]  \n",
       "5425        [OTHER]          [OTHER]  \n",
       "5426        [OTHER]          [OTHER]  \n",
       "\n",
       "[5427 rows x 4 columns]"
      ]
     },
     "execution_count": 10,
     "metadata": {},
     "output_type": "execute_result"
    }
   ],
   "source": [
    "df_test = go_emotions['test'].to_pandas()\n",
    "cols = [\"text\", \"emotions\", \"functions\"]\n",
    "df_test = df_test[:][cols]\n",
    "df_test['predicted_labels'] =  list(map(list, mlb.inverse_transform(y_pred_test)))\n",
    "df_test"
   ]
  },
  {
   "cell_type": "code",
   "execution_count": 11,
   "id": "0eba8131",
   "metadata": {},
   "outputs": [],
   "source": [
    "df_test.to_csv('preds_baseline_go_emotions_naive_bayes.tsv',header =True, sep = '\\t',index=False)"
   ]
  },
  {
   "cell_type": "markdown",
   "id": "7321c768",
   "metadata": {},
   "source": [
    "# Function basic experiment"
   ]
  },
  {
   "cell_type": "code",
   "execution_count": 12,
   "id": "6b285cd4",
   "metadata": {},
   "outputs": [],
   "source": [
    "df[\"functions\"] = df[\"functions\"].apply(lambda x: [x])"
   ]
  },
  {
   "cell_type": "code",
   "execution_count": 13,
   "id": "4bb28299",
   "metadata": {},
   "outputs": [
    {
     "name": "stderr",
     "output_type": "stream",
     "text": [
      "100%|██████████| 1/1 [00:00<00:00, 218.23ba/s]\n"
     ]
    },
    {
     "data": {
      "text/plain": [
       "DatasetDict({\n",
       "    train: Dataset({\n",
       "        features: ['text', 'functions', 'label_ids'],\n",
       "        num_rows: 629\n",
       "    })\n",
       "    test: Dataset({\n",
       "        features: ['text', 'emotions', 'functions', 'label_ids'],\n",
       "        num_rows: 5427\n",
       "    })\n",
       "})"
      ]
     },
     "execution_count": 13,
     "metadata": {},
     "output_type": "execute_result"
    }
   ],
   "source": [
    "dataset = DatasetDict({\n",
    "    \"train\": Dataset.from_pandas(df.reset_index(drop=True)),\n",
    "     \"test\": go_emotions['test']\n",
    "}\n",
    "    )\n",
    "dataset['train'] = dataset['train'].map(one_hot_encoding, batched=True)\n",
    "dataset"
   ]
  },
  {
   "cell_type": "code",
   "execution_count": 14,
   "id": "051f9bb4",
   "metadata": {},
   "outputs": [],
   "source": [
    "y_train = np.array(dataset['train']['label_ids'])\n",
    "y_test = np.array(dataset['test']['label_ids'])"
   ]
  },
  {
   "cell_type": "code",
   "execution_count": 15,
   "id": "a45545f4",
   "metadata": {},
   "outputs": [],
   "source": [
    "count_vect = CountVectorizer()\n",
    "X_train_counts = count_vect.fit_transform(dataset['train']['text'])\n",
    "X_test_counts = count_vect.transform(dataset['test']['text'])"
   ]
  },
  {
   "cell_type": "code",
   "execution_count": 16,
   "id": "ac768d95",
   "metadata": {},
   "outputs": [],
   "source": [
    "nb = MultinomialNB()\n",
    "multi_nb = MultiOutputClassifier(nb, n_jobs=-1)\n",
    "multi_nb.fit(X_train_counts, y_train)\n",
    "y_pred_test = multi_nb.predict(X_test_counts)"
   ]
  },
  {
   "cell_type": "code",
   "execution_count": 17,
   "id": "375ea9c3",
   "metadata": {},
   "outputs": [
    {
     "name": "stdout",
     "output_type": "stream",
     "text": [
      "              precision    recall  f1-score   support\n",
      "\n",
      "       ANGRY       0.05      0.08      0.06       198\n",
      "    DISAGREE       0.05      0.06      0.05       267\n",
      "DISAPPOINTED       0.05      0.05      0.05       151\n",
      "     DISLIKE       0.11      0.06      0.08       429\n",
      " NOT_APPROVE       0.05      0.04      0.04       267\n",
      " NOT_CORRECT       0.07      0.11      0.09       267\n",
      "       OTHER       0.83      0.45      0.58      4386\n",
      " PESSIMISTIC       0.02      0.02      0.02       212\n",
      "     WORRIED       0.05      0.20      0.08        98\n",
      "\n",
      "   micro avg       0.44      0.33      0.38      6275\n",
      "   macro avg       0.14      0.12      0.12      6275\n",
      "weighted avg       0.60      0.33      0.42      6275\n",
      " samples avg       0.33      0.37      0.34      6275\n",
      "\n"
     ]
    }
   ],
   "source": [
    "clf_report = classification_report(y_test, y_pred_test, target_names=labels_classes, zero_division=0)\n",
    "print(clf_report)"
   ]
  },
  {
   "cell_type": "code",
   "execution_count": 18,
   "id": "11f4fff6",
   "metadata": {},
   "outputs": [],
   "source": [
    "clf_report = classification_report(y_test, y_pred_test, target_names=labels_classes, zero_division=0, output_dict=True)\n",
    "df_results = pd.DataFrame(clf_report).transpose()\n",
    "with open(r'classification_report_functions_basic_go_emotions_naive_bayes.csv', 'w') as csv_file:\n",
    "    df_results.to_csv(path_or_buf=csv_file)"
   ]
  },
  {
   "cell_type": "code",
   "execution_count": 19,
   "id": "f7bc8f36",
   "metadata": {},
   "outputs": [
    {
     "data": {
      "text/html": [
       "<div>\n",
       "<style scoped>\n",
       "    .dataframe tbody tr th:only-of-type {\n",
       "        vertical-align: middle;\n",
       "    }\n",
       "\n",
       "    .dataframe tbody tr th {\n",
       "        vertical-align: top;\n",
       "    }\n",
       "\n",
       "    .dataframe thead th {\n",
       "        text-align: right;\n",
       "    }\n",
       "</style>\n",
       "<table border=\"1\" class=\"dataframe\">\n",
       "  <thead>\n",
       "    <tr style=\"text-align: right;\">\n",
       "      <th></th>\n",
       "      <th>text</th>\n",
       "      <th>emotions</th>\n",
       "      <th>functions</th>\n",
       "      <th>predicted_labels</th>\n",
       "    </tr>\n",
       "  </thead>\n",
       "  <tbody>\n",
       "    <tr>\n",
       "      <th>0</th>\n",
       "      <td>I’m really sorry about your situation :( Altho...</td>\n",
       "      <td>[sadness]</td>\n",
       "      <td>[PESSIMISTIC]</td>\n",
       "      <td>[WORRIED]</td>\n",
       "    </tr>\n",
       "    <tr>\n",
       "      <th>1</th>\n",
       "      <td>It's wonderful because it's awful. At not with.</td>\n",
       "      <td>[admiration]</td>\n",
       "      <td>[OTHER]</td>\n",
       "      <td>[]</td>\n",
       "    </tr>\n",
       "    <tr>\n",
       "      <th>2</th>\n",
       "      <td>Kings fan here, good luck to you guys! Will be...</td>\n",
       "      <td>[excitement]</td>\n",
       "      <td>[OTHER]</td>\n",
       "      <td>[OTHER, PESSIMISTIC]</td>\n",
       "    </tr>\n",
       "    <tr>\n",
       "      <th>3</th>\n",
       "      <td>I didn't know that, thank you for teaching me ...</td>\n",
       "      <td>[gratitude]</td>\n",
       "      <td>[OTHER]</td>\n",
       "      <td>[OTHER]</td>\n",
       "    </tr>\n",
       "    <tr>\n",
       "      <th>4</th>\n",
       "      <td>They got bored from haunting earth for thousan...</td>\n",
       "      <td>[neutral]</td>\n",
       "      <td>[OTHER]</td>\n",
       "      <td>[]</td>\n",
       "    </tr>\n",
       "    <tr>\n",
       "      <th>...</th>\n",
       "      <td>...</td>\n",
       "      <td>...</td>\n",
       "      <td>...</td>\n",
       "      <td>...</td>\n",
       "    </tr>\n",
       "    <tr>\n",
       "      <th>5422</th>\n",
       "      <td>Thanks. I was diagnosed with BP 1 after the ho...</td>\n",
       "      <td>[gratitude]</td>\n",
       "      <td>[OTHER]</td>\n",
       "      <td>[DISAGREE]</td>\n",
       "    </tr>\n",
       "    <tr>\n",
       "      <th>5423</th>\n",
       "      <td>Well that makes sense.</td>\n",
       "      <td>[approval]</td>\n",
       "      <td>[OTHER]</td>\n",
       "      <td>[]</td>\n",
       "    </tr>\n",
       "    <tr>\n",
       "      <th>5424</th>\n",
       "      <td>Daddy issues [NAME]</td>\n",
       "      <td>[neutral]</td>\n",
       "      <td>[OTHER]</td>\n",
       "      <td>[]</td>\n",
       "    </tr>\n",
       "    <tr>\n",
       "      <th>5425</th>\n",
       "      <td>So glad I discovered that subreddit a couple m...</td>\n",
       "      <td>[admiration]</td>\n",
       "      <td>[OTHER]</td>\n",
       "      <td>[OTHER]</td>\n",
       "    </tr>\n",
       "    <tr>\n",
       "      <th>5426</th>\n",
       "      <td>Had to watch \"Elmo in Grouchland\" one time too...</td>\n",
       "      <td>[neutral]</td>\n",
       "      <td>[OTHER]</td>\n",
       "      <td>[NOT_APPROVE]</td>\n",
       "    </tr>\n",
       "  </tbody>\n",
       "</table>\n",
       "<p>5427 rows × 4 columns</p>\n",
       "</div>"
      ],
      "text/plain": [
       "                                                   text      emotions  \\\n",
       "0     I’m really sorry about your situation :( Altho...     [sadness]   \n",
       "1       It's wonderful because it's awful. At not with.  [admiration]   \n",
       "2     Kings fan here, good luck to you guys! Will be...  [excitement]   \n",
       "3     I didn't know that, thank you for teaching me ...   [gratitude]   \n",
       "4     They got bored from haunting earth for thousan...     [neutral]   \n",
       "...                                                 ...           ...   \n",
       "5422  Thanks. I was diagnosed with BP 1 after the ho...   [gratitude]   \n",
       "5423                             Well that makes sense.    [approval]   \n",
       "5424                                Daddy issues [NAME]     [neutral]   \n",
       "5425  So glad I discovered that subreddit a couple m...  [admiration]   \n",
       "5426  Had to watch \"Elmo in Grouchland\" one time too...     [neutral]   \n",
       "\n",
       "          functions      predicted_labels  \n",
       "0     [PESSIMISTIC]             [WORRIED]  \n",
       "1           [OTHER]                    []  \n",
       "2           [OTHER]  [OTHER, PESSIMISTIC]  \n",
       "3           [OTHER]               [OTHER]  \n",
       "4           [OTHER]                    []  \n",
       "...             ...                   ...  \n",
       "5422        [OTHER]            [DISAGREE]  \n",
       "5423        [OTHER]                    []  \n",
       "5424        [OTHER]                    []  \n",
       "5425        [OTHER]               [OTHER]  \n",
       "5426        [OTHER]         [NOT_APPROVE]  \n",
       "\n",
       "[5427 rows x 4 columns]"
      ]
     },
     "execution_count": 19,
     "metadata": {},
     "output_type": "execute_result"
    }
   ],
   "source": [
    "df_test = go_emotions['test'].to_pandas()\n",
    "cols = [\"text\", \"emotions\", \"functions\"]\n",
    "df_test = df_test[:][cols]\n",
    "df_test['predicted_labels'] =  list(map(list, mlb.inverse_transform(y_pred_test)))\n",
    "df_test"
   ]
  },
  {
   "cell_type": "code",
   "execution_count": 20,
   "id": "7f6cec52",
   "metadata": {},
   "outputs": [],
   "source": [
    "df_test.to_csv('preds_functions_basic_go_emotions_naive_bayes.tsv',header =True, sep = '\\t',index=False)"
   ]
  },
  {
   "cell_type": "markdown",
   "id": "13be9667",
   "metadata": {},
   "source": [
    "# Function extended experiment"
   ]
  },
  {
   "cell_type": "code",
   "execution_count": 21,
   "id": "36720f76",
   "metadata": {},
   "outputs": [],
   "source": [
    "comfunctions_extended = 'comfunct_extended.txt'\n",
    "df = pd.read_csv(comfunctions_basic, delimiter=\";\")\n",
    "df = df[~df['function'].isin(['NOT_INTERESTED', 'BORED','NOT_IMPORTANT', 'REFUSE', 'WARN', \n",
    "                              'COMPLAIN', 'THREATEN', 'UNWILLING', 'DISTRUST' ])].rename(columns={\"function\": \"functions\"})\n"
   ]
  },
  {
   "cell_type": "code",
   "execution_count": 22,
   "id": "d0c3271e",
   "metadata": {},
   "outputs": [],
   "source": [
    "df[\"functions\"] = df[\"functions\"].apply(lambda x: [x])"
   ]
  },
  {
   "cell_type": "code",
   "execution_count": 23,
   "id": "869a84d3",
   "metadata": {},
   "outputs": [
    {
     "name": "stderr",
     "output_type": "stream",
     "text": [
      "100%|██████████| 1/1 [00:00<00:00, 246.48ba/s]\n"
     ]
    },
    {
     "data": {
      "text/plain": [
       "DatasetDict({\n",
       "    train: Dataset({\n",
       "        features: ['text', 'functions', 'label_ids'],\n",
       "        num_rows: 629\n",
       "    })\n",
       "    test: Dataset({\n",
       "        features: ['text', 'emotions', 'functions', 'label_ids'],\n",
       "        num_rows: 5427\n",
       "    })\n",
       "})"
      ]
     },
     "execution_count": 23,
     "metadata": {},
     "output_type": "execute_result"
    }
   ],
   "source": [
    "dataset = DatasetDict({\n",
    "    \"train\": Dataset.from_pandas(df.reset_index(drop=True)),\n",
    "     \"test\": go_emotions['test']\n",
    "}\n",
    "    )\n",
    "dataset['train'] = dataset['train'].map(one_hot_encoding, batched=True)\n",
    "dataset"
   ]
  },
  {
   "cell_type": "code",
   "execution_count": 24,
   "id": "b919f43d",
   "metadata": {},
   "outputs": [],
   "source": [
    "y_train = np.array(dataset['train']['label_ids'])\n",
    "y_test = np.array(dataset['test']['label_ids'])"
   ]
  },
  {
   "cell_type": "code",
   "execution_count": 25,
   "id": "6d992c4d",
   "metadata": {},
   "outputs": [],
   "source": [
    "count_vect = CountVectorizer()\n",
    "X_train_counts = count_vect.fit_transform(dataset['train']['text'])\n",
    "X_test_counts = count_vect.transform(dataset['test']['text'])"
   ]
  },
  {
   "cell_type": "code",
   "execution_count": 26,
   "id": "705769a8",
   "metadata": {},
   "outputs": [],
   "source": [
    "nb = MultinomialNB()\n",
    "multi_nb = MultiOutputClassifier(nb, n_jobs=-1)\n",
    "multi_nb.fit(X_train_counts, y_train)\n",
    "y_pred_test = multi_nb.predict(X_test_counts)"
   ]
  },
  {
   "cell_type": "code",
   "execution_count": 27,
   "id": "cb3aa3b9",
   "metadata": {},
   "outputs": [
    {
     "name": "stdout",
     "output_type": "stream",
     "text": [
      "              precision    recall  f1-score   support\n",
      "\n",
      "       ANGRY       0.05      0.08      0.06       198\n",
      "    DISAGREE       0.05      0.06      0.05       267\n",
      "DISAPPOINTED       0.05      0.05      0.05       151\n",
      "     DISLIKE       0.11      0.06      0.08       429\n",
      " NOT_APPROVE       0.05      0.04      0.04       267\n",
      " NOT_CORRECT       0.07      0.11      0.09       267\n",
      "       OTHER       0.83      0.45      0.58      4386\n",
      " PESSIMISTIC       0.02      0.02      0.02       212\n",
      "     WORRIED       0.05      0.20      0.08        98\n",
      "\n",
      "   micro avg       0.44      0.33      0.38      6275\n",
      "   macro avg       0.14      0.12      0.12      6275\n",
      "weighted avg       0.60      0.33      0.42      6275\n",
      " samples avg       0.33      0.37      0.34      6275\n",
      "\n"
     ]
    }
   ],
   "source": [
    "clf_report = classification_report(y_test, y_pred_test, target_names=labels_classes, zero_division=0)\n",
    "print(clf_report)"
   ]
  },
  {
   "cell_type": "code",
   "execution_count": 28,
   "id": "b3e333a1",
   "metadata": {},
   "outputs": [],
   "source": [
    "clf_report = classification_report(y_test, y_pred_test, target_names=labels_classes, zero_division=0, output_dict=True)\n",
    "df_results = pd.DataFrame(clf_report).transpose()\n",
    "with open(r'classification_report_functions_extended_go_emotions_naive_bayes.csv', 'w') as csv_file:\n",
    "    df_results.to_csv(path_or_buf=csv_file)"
   ]
  },
  {
   "cell_type": "code",
   "execution_count": 29,
   "id": "c306ed56",
   "metadata": {},
   "outputs": [
    {
     "data": {
      "text/html": [
       "<div>\n",
       "<style scoped>\n",
       "    .dataframe tbody tr th:only-of-type {\n",
       "        vertical-align: middle;\n",
       "    }\n",
       "\n",
       "    .dataframe tbody tr th {\n",
       "        vertical-align: top;\n",
       "    }\n",
       "\n",
       "    .dataframe thead th {\n",
       "        text-align: right;\n",
       "    }\n",
       "</style>\n",
       "<table border=\"1\" class=\"dataframe\">\n",
       "  <thead>\n",
       "    <tr style=\"text-align: right;\">\n",
       "      <th></th>\n",
       "      <th>text</th>\n",
       "      <th>emotions</th>\n",
       "      <th>functions</th>\n",
       "      <th>predicted_labels</th>\n",
       "    </tr>\n",
       "  </thead>\n",
       "  <tbody>\n",
       "    <tr>\n",
       "      <th>0</th>\n",
       "      <td>I’m really sorry about your situation :( Altho...</td>\n",
       "      <td>[sadness]</td>\n",
       "      <td>[PESSIMISTIC]</td>\n",
       "      <td>[WORRIED]</td>\n",
       "    </tr>\n",
       "    <tr>\n",
       "      <th>1</th>\n",
       "      <td>It's wonderful because it's awful. At not with.</td>\n",
       "      <td>[admiration]</td>\n",
       "      <td>[OTHER]</td>\n",
       "      <td>[]</td>\n",
       "    </tr>\n",
       "    <tr>\n",
       "      <th>2</th>\n",
       "      <td>Kings fan here, good luck to you guys! Will be...</td>\n",
       "      <td>[excitement]</td>\n",
       "      <td>[OTHER]</td>\n",
       "      <td>[OTHER, PESSIMISTIC]</td>\n",
       "    </tr>\n",
       "    <tr>\n",
       "      <th>3</th>\n",
       "      <td>I didn't know that, thank you for teaching me ...</td>\n",
       "      <td>[gratitude]</td>\n",
       "      <td>[OTHER]</td>\n",
       "      <td>[OTHER]</td>\n",
       "    </tr>\n",
       "    <tr>\n",
       "      <th>4</th>\n",
       "      <td>They got bored from haunting earth for thousan...</td>\n",
       "      <td>[neutral]</td>\n",
       "      <td>[OTHER]</td>\n",
       "      <td>[]</td>\n",
       "    </tr>\n",
       "    <tr>\n",
       "      <th>...</th>\n",
       "      <td>...</td>\n",
       "      <td>...</td>\n",
       "      <td>...</td>\n",
       "      <td>...</td>\n",
       "    </tr>\n",
       "    <tr>\n",
       "      <th>5422</th>\n",
       "      <td>Thanks. I was diagnosed with BP 1 after the ho...</td>\n",
       "      <td>[gratitude]</td>\n",
       "      <td>[OTHER]</td>\n",
       "      <td>[DISAGREE]</td>\n",
       "    </tr>\n",
       "    <tr>\n",
       "      <th>5423</th>\n",
       "      <td>Well that makes sense.</td>\n",
       "      <td>[approval]</td>\n",
       "      <td>[OTHER]</td>\n",
       "      <td>[]</td>\n",
       "    </tr>\n",
       "    <tr>\n",
       "      <th>5424</th>\n",
       "      <td>Daddy issues [NAME]</td>\n",
       "      <td>[neutral]</td>\n",
       "      <td>[OTHER]</td>\n",
       "      <td>[]</td>\n",
       "    </tr>\n",
       "    <tr>\n",
       "      <th>5425</th>\n",
       "      <td>So glad I discovered that subreddit a couple m...</td>\n",
       "      <td>[admiration]</td>\n",
       "      <td>[OTHER]</td>\n",
       "      <td>[OTHER]</td>\n",
       "    </tr>\n",
       "    <tr>\n",
       "      <th>5426</th>\n",
       "      <td>Had to watch \"Elmo in Grouchland\" one time too...</td>\n",
       "      <td>[neutral]</td>\n",
       "      <td>[OTHER]</td>\n",
       "      <td>[NOT_APPROVE]</td>\n",
       "    </tr>\n",
       "  </tbody>\n",
       "</table>\n",
       "<p>5427 rows × 4 columns</p>\n",
       "</div>"
      ],
      "text/plain": [
       "                                                   text      emotions  \\\n",
       "0     I’m really sorry about your situation :( Altho...     [sadness]   \n",
       "1       It's wonderful because it's awful. At not with.  [admiration]   \n",
       "2     Kings fan here, good luck to you guys! Will be...  [excitement]   \n",
       "3     I didn't know that, thank you for teaching me ...   [gratitude]   \n",
       "4     They got bored from haunting earth for thousan...     [neutral]   \n",
       "...                                                 ...           ...   \n",
       "5422  Thanks. I was diagnosed with BP 1 after the ho...   [gratitude]   \n",
       "5423                             Well that makes sense.    [approval]   \n",
       "5424                                Daddy issues [NAME]     [neutral]   \n",
       "5425  So glad I discovered that subreddit a couple m...  [admiration]   \n",
       "5426  Had to watch \"Elmo in Grouchland\" one time too...     [neutral]   \n",
       "\n",
       "          functions      predicted_labels  \n",
       "0     [PESSIMISTIC]             [WORRIED]  \n",
       "1           [OTHER]                    []  \n",
       "2           [OTHER]  [OTHER, PESSIMISTIC]  \n",
       "3           [OTHER]               [OTHER]  \n",
       "4           [OTHER]                    []  \n",
       "...             ...                   ...  \n",
       "5422        [OTHER]            [DISAGREE]  \n",
       "5423        [OTHER]                    []  \n",
       "5424        [OTHER]                    []  \n",
       "5425        [OTHER]               [OTHER]  \n",
       "5426        [OTHER]         [NOT_APPROVE]  \n",
       "\n",
       "[5427 rows x 4 columns]"
      ]
     },
     "execution_count": 29,
     "metadata": {},
     "output_type": "execute_result"
    }
   ],
   "source": [
    "df_test = go_emotions['test'].to_pandas()\n",
    "cols = [\"text\", \"emotions\", \"functions\"]\n",
    "df_test = df_test[:][cols]\n",
    "df_test['predicted_labels'] =  list(map(list, mlb.inverse_transform(y_pred_test)))\n",
    "df_test"
   ]
  },
  {
   "cell_type": "code",
   "execution_count": 30,
   "id": "fc7edcec",
   "metadata": {},
   "outputs": [],
   "source": [
    "df_test.to_csv('preds_functions_extended_go_emotions_naive_bayes.tsv',header =True, sep = '\\t',index=False)"
   ]
  }
 ],
 "metadata": {
  "kernelspec": {
   "display_name": "Python 3 (ipykernel)",
   "language": "python",
   "name": "python3"
  },
  "language_info": {
   "codemirror_mode": {
    "name": "ipython",
    "version": 3
   },
   "file_extension": ".py",
   "mimetype": "text/x-python",
   "name": "python",
   "nbconvert_exporter": "python",
   "pygments_lexer": "ipython3",
   "version": "3.8.10"
  }
 },
 "nbformat": 4,
 "nbformat_minor": 5
}

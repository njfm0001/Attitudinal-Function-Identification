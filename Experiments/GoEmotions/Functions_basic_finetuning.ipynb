{
 "cells": [
  {
   "cell_type": "code",
   "execution_count": 1,
   "id": "4fb14783",
   "metadata": {},
   "outputs": [
    {
     "name": "stderr",
     "output_type": "stream",
     "text": [
      "/home/njfernandez/.local/lib/python3.8/site-packages/tqdm/auto.py:22: TqdmWarning: IProgress not found. Please update jupyter and ipywidgets. See https://ipywidgets.readthedocs.io/en/stable/user_install.html\n",
      "  from .autonotebook import tqdm as notebook_tqdm\n"
     ]
    }
   ],
   "source": [
    "from datasets import Dataset, load_dataset, DatasetDict, ClassLabel\n",
    "import numpy as np\n",
    "import torch\n",
    "import pandas as pd\n",
    "\n",
    "#Seeding for deterministic results i.e. showing same output \n",
    "RANDOM_SEED = 64\n",
    "np.random.seed(RANDOM_SEED)\n",
    "torch.manual_seed(RANDOM_SEED)\n",
    "if torch.cuda.is_available():\n",
    "   torch.cuda.manual_seed(RANDOM_SEED)\n",
    "   torch.cuda.manual_seed_all(RANDOM_SEED) \n",
    "   torch.backends.cudnn.deterministic = True  \n",
    "   torch.backends.cudnn.benchmark = False"
   ]
  },
  {
   "cell_type": "code",
   "execution_count": 2,
   "id": "1a8b33bf",
   "metadata": {},
   "outputs": [
    {
     "data": {
      "text/plain": [
       "array(['ANGRY', 'DISAGREE', 'DISAPPOINTED', 'DISLIKE', 'NOT_APPROVE',\n",
       "       'NOT_CORRECT', 'OTHER', 'PESSIMISTIC', 'WORRIED'], dtype=object)"
      ]
     },
     "execution_count": 2,
     "metadata": {},
     "output_type": "execute_result"
    }
   ],
   "source": [
    "unique_labels = ['ANGRY', 'DISAGREE', 'DISAPPOINTED', 'DISLIKE', 'NOT_APPROVE',\n",
    "       'NOT_CORRECT', 'OTHER', 'PESSIMISTIC', 'WORRIED']\n",
    "function_labels = ClassLabel(names=unique_labels)\n",
    "\n",
    "from sklearn.preprocessing import MultiLabelBinarizer\n",
    "mlb = MultiLabelBinarizer()\n",
    "mlb.fit([function_labels.names])\n",
    "labels_classes = mlb.classes_\n",
    "labels_classes"
   ]
  },
  {
   "cell_type": "code",
   "execution_count": 3,
   "id": "72d72be8",
   "metadata": {},
   "outputs": [
    {
     "name": "stderr",
     "output_type": "stream",
     "text": [
      "No config specified, defaulting to: go_emotions/simplified\n",
      "Found cached dataset go_emotions (/home/njfernandez/.cache/huggingface/datasets/go_emotions/simplified/0.0.0/2637cfdd4e64d30249c3ed2150fa2b9d279766bfcd6a809b9f085c61a90d776d)\n",
      "100%|██████████| 3/3 [00:00<00:00, 829.57it/s]\n",
      "Loading cached processed dataset at /home/njfernandez/.cache/huggingface/datasets/go_emotions/simplified/0.0.0/2637cfdd4e64d30249c3ed2150fa2b9d279766bfcd6a809b9f085c61a90d776d/cache-1c4d70c4ecc5a4bd.arrow\n",
      "Loading cached processed dataset at /home/njfernandez/.cache/huggingface/datasets/go_emotions/simplified/0.0.0/2637cfdd4e64d30249c3ed2150fa2b9d279766bfcd6a809b9f085c61a90d776d/cache-8f90b5d8ac946ce8.arrow\n",
      "Loading cached processed dataset at /home/njfernandez/.cache/huggingface/datasets/go_emotions/simplified/0.0.0/2637cfdd4e64d30249c3ed2150fa2b9d279766bfcd6a809b9f085c61a90d776d/cache-f0dc721270e34384.arrow\n",
      "Loading cached processed dataset at /home/njfernandez/.cache/huggingface/datasets/go_emotions/simplified/0.0.0/2637cfdd4e64d30249c3ed2150fa2b9d279766bfcd6a809b9f085c61a90d776d/cache-da1e4eb95e5bddb8.arrow\n",
      "Loading cached processed dataset at /home/njfernandez/.cache/huggingface/datasets/go_emotions/simplified/0.0.0/2637cfdd4e64d30249c3ed2150fa2b9d279766bfcd6a809b9f085c61a90d776d/cache-500fde3e70bff59d.arrow\n",
      "Loading cached processed dataset at /home/njfernandez/.cache/huggingface/datasets/go_emotions/simplified/0.0.0/2637cfdd4e64d30249c3ed2150fa2b9d279766bfcd6a809b9f085c61a90d776d/cache-15d24d55426355b0.arrow\n",
      "Loading cached processed dataset at /home/njfernandez/.cache/huggingface/datasets/go_emotions/simplified/0.0.0/2637cfdd4e64d30249c3ed2150fa2b9d279766bfcd6a809b9f085c61a90d776d/cache-acee8c19bb377f9e.arrow\n",
      "Loading cached processed dataset at /home/njfernandez/.cache/huggingface/datasets/go_emotions/simplified/0.0.0/2637cfdd4e64d30249c3ed2150fa2b9d279766bfcd6a809b9f085c61a90d776d/cache-fd21ed3746b5ac63.arrow\n"
     ]
    }
   ],
   "source": [
    "function_mapping = {'OTHER': ['admiration', 'approval', 'gratitude', 'amusement', 'curiosity', 'embarrassment', 'love', 'optimism', 'joy', \n",
    "                              'realization', 'confusion', 'caring', 'excitement', 'surprise', 'desire', 'pride', 'relief', 'neutral'], \n",
    "           'NOT_INTERESTED': [''], \n",
    "           'DISLIKE':['disgust', 'annoyance'], \n",
    "           'NOT_CORRECT': ['disapproval'], \n",
    "           'PESSIMISTIC':['grief', 'remorse', 'sadness'], \n",
    "           'WORRIED':['fear', 'nervousness'], \n",
    "           'ANGRY': ['anger'], \n",
    "           'DISAPPOINTED': ['disappointment'], \n",
    "           'BORED': [''], \n",
    "           'NOT_APPROVE':['disapproval'], \n",
    "           'NOT_IMPORTANT': [''], \n",
    "           'DISAGREE': ['disapproval'], \n",
    "           'WARN': [''], \n",
    "           'COMPLAIN': [''], \n",
    "           'THREATEN': [''], \n",
    "           'UNWILLING': [''], \n",
    "           'DISTRUST' : [''],\n",
    "           'REFUSE': [''] }\n",
    "\n",
    "mapping = {\n",
    "    0:\"admiration\",\n",
    "    1:\"amusement\",\n",
    "    2:\"anger\",\n",
    "    3:\"annoyance\",\n",
    "    4:\"approval\",\n",
    "    5:\"caring\",\n",
    "    6:\"confusion\",\n",
    "    7:\"curiosity\",\n",
    "    8:\"desire\",\n",
    "    9:\"disappointment\",\n",
    "    10:\"disapproval\",\n",
    "    11:\"disgust\",\n",
    "    12:\"embarrassment\",\n",
    "    13:\"excitement\",\n",
    "    14:\"fear\",\n",
    "    15:\"gratitude\",\n",
    "    16:\"grief\",\n",
    "    17:\"joy\",\n",
    "    18:\"love\",\n",
    "    19:\"nervousness\",\n",
    "    20:\"optimism\",\n",
    "    21:\"pride\",\n",
    "    22:\"realization\",\n",
    "    23:\"relief\",\n",
    "    24:\"remorse\",\n",
    "    25:\"sadness\",\n",
    "    26:\"surprise\",\n",
    "    27:\"neutral\",\n",
    "}\n",
    "\n",
    "go_emotions = load_dataset(\"go_emotions\").remove_columns(\"id\")\n",
    "def adjust_labels(batch):\n",
    "    batch['emotions'] = [[] for _ in range(len(batch['text']))]\n",
    "    for i, item in enumerate(batch[\"labels\"]):\n",
    "        batch[\"emotions\"][i] = [mapping[label] for label in batch[\"labels\"][i]]\n",
    "    return batch\n",
    "\n",
    "go_emotions = go_emotions.map(adjust_labels, batched=True)\n",
    "def map_labels(batch):\n",
    "    batch['functions'] = [[] for _ in range(len(batch['text']))]\n",
    "    for i, item in enumerate(batch[\"emotions\"]):\n",
    "        batch[\"functions\"][i] = [key for key,value in function_mapping.items() if any(emotion in batch[\"emotions\"][i] for emotion in value)]\n",
    "    return batch\n",
    "go_emotions = go_emotions.map(map_labels, batched=True).remove_columns(\"labels\")\n",
    "\n",
    "dataset = DatasetDict({\n",
    "    \"valid\": go_emotions['validation'],\n",
    "    \"test\": go_emotions['test']\n",
    "})\n",
    "\n",
    "# Convert labels to one hot enconding vectors\n",
    "def one_hot_encoding(batch):\n",
    "    label_ids = mlb.transform(batch['functions'])\n",
    "    return {\"label_ids\":label_ids}\n",
    "dataset = dataset.map(one_hot_encoding, batched=True)"
   ]
  },
  {
   "cell_type": "code",
   "execution_count": 4,
   "id": "94c15c9d",
   "metadata": {},
   "outputs": [
    {
     "name": "stderr",
     "output_type": "stream",
     "text": [
      "Loading cached processed dataset at /home/njfernandez/.cache/huggingface/datasets/go_emotions/simplified/0.0.0/2637cfdd4e64d30249c3ed2150fa2b9d279766bfcd6a809b9f085c61a90d776d/cache-ddf38a2b0db38978.arrow\n",
      "Loading cached processed dataset at /home/njfernandez/.cache/huggingface/datasets/go_emotions/simplified/0.0.0/2637cfdd4e64d30249c3ed2150fa2b9d279766bfcd6a809b9f085c61a90d776d/cache-58dfe44ecb134960.arrow\n",
      "Loading cached processed dataset at /home/njfernandez/.cache/huggingface/datasets/go_emotions/simplified/0.0.0/2637cfdd4e64d30249c3ed2150fa2b9d279766bfcd6a809b9f085c61a90d776d/cache-83ef510942efa061.arrow\n",
      "Loading cached processed dataset at /home/njfernandez/.cache/huggingface/datasets/go_emotions/simplified/0.0.0/2637cfdd4e64d30249c3ed2150fa2b9d279766bfcd6a809b9f085c61a90d776d/cache-e0f6928a892e6ae6.arrow\n"
     ]
    },
    {
     "name": "stdout",
     "output_type": "stream",
     "text": [
      "DatasetDict({\n",
      "    valid: Dataset({\n",
      "        features: ['text', 'emotions', 'functions', 'label_ids', 'input_ids', 'attention_mask'],\n",
      "        num_rows: 5426\n",
      "    })\n",
      "    test: Dataset({\n",
      "        features: ['text', 'emotions', 'functions', 'label_ids', 'input_ids', 'attention_mask'],\n",
      "        num_rows: 5427\n",
      "    })\n",
      "})\n"
     ]
    }
   ],
   "source": [
    "from transformers import AutoTokenizer, AutoModelForSequenceClassification, pipeline, Trainer, TrainingArguments\n",
    "finetuned_model = 'functions_basic_finetuning_single_label/checkpoint-100/'\n",
    "device = torch.device(\"cuda\" if torch.cuda.is_available() else \"cpu\")\n",
    "model = (AutoModelForSequenceClassification\n",
    "         .from_pretrained(finetuned_model,problem_type=\"multi_label_classification\", num_labels = len(labels_classes))).to(device)\n",
    "tokenizer=AutoTokenizer.from_pretrained(finetuned_model)\n",
    "\n",
    "def tokenize(batch):\n",
    "    return tokenizer(batch[\"text\"], truncation=True, padding=True)#max_length=512) #for XLM-RoBERTa and emoevent-es, we need to set max_length parameter for this code to work\n",
    "\n",
    "ds_enc = dataset.map(tokenize, batched=True) #remove_columns=cols)\n",
    "print(ds_enc)\n",
    "ds_enc.set_format(\"torch\", columns=[\"input_ids\", \"attention_mask\", \"label_ids\"])\n",
    "ds_enc = (ds_enc\n",
    "          .map(lambda x : {\"float_labels\": x[\"label_ids\"].to(torch.float)}, remove_columns=[\"label_ids\"])\n",
    "          .rename_column(\"float_labels\", \"label_ids\"))"
   ]
  },
  {
   "cell_type": "code",
   "execution_count": 5,
   "id": "f5e77a87",
   "metadata": {},
   "outputs": [],
   "source": [
    "from sklearn.metrics import f1_score, roc_auc_score, accuracy_score\n",
    "from transformers import EvalPrediction\n",
    "    \n",
    "# source: https://jesusleal.io/2021/04/21/Longformer-multlabel-classification/\n",
    "def multi_label_metrics(predictions, labels, threshold=0.5):   \n",
    "    sigmoid = torch.nn.Sigmoid()\n",
    "    probs = sigmoid(torch.Tensor(predictions)) \n",
    "    y_pred = np.zeros(probs.shape)\n",
    "    y_pred[np.where(probs >= threshold)] = 1   \n",
    "    y_true = labels\n",
    "    f1_macro_average = f1_score(y_true=y_true, y_pred=y_pred, average='macro')\n",
    "    roc_auc = roc_auc_score(y_true, y_pred, average = 'macro')\n",
    "    accuracy = accuracy_score(y_true, y_pred)\n",
    "    # return as dictionary\n",
    "    metrics = {'f1': f1_macro_average,\n",
    "               'roc_auc': roc_auc,\n",
    "               'accuracy': accuracy}\n",
    "    return metrics\n",
    "\n",
    "def compute_metrics(p: EvalPrediction):\n",
    "    preds = p.predictions[0] if isinstance(p.predictions, \n",
    "            tuple) else p.predictions\n",
    "    result = multi_label_metrics(\n",
    "        predictions=preds, \n",
    "        labels=p.label_ids)\n",
    "    return result"
   ]
  },
  {
   "cell_type": "code",
   "execution_count": 6,
   "id": "977a0d7e",
   "metadata": {},
   "outputs": [],
   "source": [
    "args = TrainingArguments(\".\", num_train_epochs=1)\n",
    "\n",
    "trainer = Trainer(model=model, args=args, \n",
    "                  compute_metrics=compute_metrics,                  \n",
    "                  eval_dataset=ds_enc['test'],\n",
    "                  tokenizer=tokenizer)"
   ]
  },
  {
   "cell_type": "code",
   "execution_count": 7,
   "id": "35341334",
   "metadata": {},
   "outputs": [
    {
     "name": "stderr",
     "output_type": "stream",
     "text": [
      "The following columns in the test set don't have a corresponding argument in `XLMRobertaForSequenceClassification.forward` and have been ignored: text, functions, emotions. If text, functions, emotions are not expected by `XLMRobertaForSequenceClassification.forward`,  you can safely ignore this message.\n",
      "***** Running Prediction *****\n",
      "  Num examples = 5426\n",
      "  Batch size = 16\n",
      "You're using a XLMRobertaTokenizerFast tokenizer. Please note that with a fast tokenizer, using the `__call__` method is faster than using a method to encode the text followed by a call to the `pad` method to get a padded encoding.\n",
      "/home/njfernandez/.local/lib/python3.8/site-packages/torch/nn/parallel/_functions.py:68: UserWarning: Was asked to gather along dimension 0, but all input tensors were scalars; will instead unsqueeze and return a vector.\n",
      "  warnings.warn('Was asked to gather along dimension 0, but all '\n"
     ]
    },
    {
     "data": {
      "text/html": [],
      "text/plain": [
       "<IPython.core.display.HTML object>"
      ]
     },
     "metadata": {},
     "output_type": "display_data"
    },
    {
     "name": "stdout",
     "output_type": "stream",
     "text": [
      "{'test_loss': 0.617808997631073, 'test_f1': 0.17565604957317849, 'test_roc_auc': 0.5637033888515337, 'test_accuracy': 0.015112421673424253, 'test_runtime': 39.9137, 'test_samples_per_second': 135.943, 'test_steps_per_second': 8.518}\n"
     ]
    }
   ],
   "source": [
    "preds_output = trainer.predict(ds_enc['valid'])\n",
    "print(preds_output.metrics)"
   ]
  },
  {
   "cell_type": "code",
   "execution_count": 8,
   "id": "f277090e",
   "metadata": {},
   "outputs": [],
   "source": [
    "from sklearn.metrics import classification_report\n",
    "import matplotlib.pyplot as plt\n",
    "\n",
    "macros, micros, macroprecision, macrorecall = [], [], [], []\n",
    "y_true = np.array(ds_enc['valid'][\"label_ids\"])\n",
    "thresholds = np.linspace(0.1, 1, 100)\n",
    "for threshold in thresholds:\n",
    "    sigmoid = torch.nn.Sigmoid()\n",
    "    probs = sigmoid(torch.Tensor(preds_output.predictions))\n",
    "    y_pred = np.zeros(probs.shape)\n",
    "    y_pred[np.where(probs >= threshold)] = 1    \n",
    "    report = classification_report(y_true, y_pred, target_names=labels_classes, zero_division=0, output_dict=True)\n",
    "    micros.append(report[\"micro avg\"][\"f1-score\"])\n",
    "    macros.append(report[\"macro avg\"][\"f1-score\"])\n",
    "    macroprecision.append(report['macro avg']['precision'])\n",
    "    macrorecall.append(report['macro avg']['recall'])"
   ]
  },
  {
   "cell_type": "code",
   "execution_count": 9,
   "id": "42327762",
   "metadata": {},
   "outputs": [
    {
     "data": {
      "image/png": "[encoded data removed]",
      "text/plain": [
       "<Figure size 432x288 with 1 Axes>"
      ]
     },
     "metadata": {
      "needs_background": "light"
     },
     "output_type": "display_data"
    }
   ],
   "source": [
    "plt.plot(thresholds, micros, label=\"Micro F1\")\n",
    "plt.plot(thresholds, macros, label=\"Macro F1\")\n",
    "plt.xlabel(\"Threshold\")\n",
    "plt.ylabel(\"F1-score\")\n",
    "plt.legend(loc=\"best\")\n",
    "plt.show()"
   ]
  },
  {
   "cell_type": "code",
   "execution_count": 10,
   "id": "907442f9",
   "metadata": {},
   "outputs": [
    {
     "data": {
      "image/png": "[encoded data removed]",
      "text/plain": [
       "<Figure size 432x288 with 1 Axes>"
      ]
     },
     "metadata": {
      "needs_background": "light"
     },
     "output_type": "display_data"
    }
   ],
   "source": [
    "plt.plot(thresholds, macroprecision, label=\"Macro P\")\n",
    "plt.plot(thresholds, macrorecall, label=\"Macro R\")\n",
    "plt.xlabel(\"Threshold\")\n",
    "plt.ylabel(\"Score\")\n",
    "plt.legend(loc=\"best\")\n",
    "plt.show()"
   ]
  },
  {
   "cell_type": "code",
   "execution_count": 11,
   "id": "30fb6293",
   "metadata": {},
   "outputs": [
    {
     "name": "stdout",
     "output_type": "stream",
     "text": [
      "Best threshold (micro): 0.6454545454545454 with F1-score 0.57.\n",
      "Best threshold (macro): 0.3909090909090909 with F1-score 0.18.\n",
      "Best threshold (macro-Precision): 0.6818181818181818 with macroP-score 0.29.\n",
      "Best threshold (macro-Recall): 0.1 with macroR-score 1.00.\n"
     ]
    }
   ],
   "source": [
    "best_t, best_micro = thresholds[np.argmax(micros)], np.max(micros)\n",
    "print(f'Best threshold (micro): {best_t} with F1-score {best_micro:.2f}.')\n",
    "best_t, best_macro = thresholds[np.argmax(macros)], np.max(macros)\n",
    "print(f'Best threshold (macro): {best_t} with F1-score {best_macro:.2f}.')\n",
    "best_t, best_macro_P = thresholds[np.argmax(macroprecision)], np.max(macroprecision)\n",
    "print(f'Best threshold (macro-Precision): {best_t} with macroP-score {best_macro_P:.2f}.')\n",
    "best_t, best_macro_R = thresholds[np.argmax(macrorecall)], np.max(macrorecall)\n",
    "print(f'Best threshold (macro-Recall): {best_t} with macroR-score {best_macro_R:.2f}.')"
   ]
  },
  {
   "cell_type": "markdown",
   "id": "2d7cca7f",
   "metadata": {},
   "source": [
    "## Experiment with eval/test dataset"
   ]
  },
  {
   "cell_type": "code",
   "execution_count": 12,
   "id": "25968a0b",
   "metadata": {},
   "outputs": [
    {
     "name": "stderr",
     "output_type": "stream",
     "text": [
      "The following columns in the test set don't have a corresponding argument in `XLMRobertaForSequenceClassification.forward` and have been ignored: text, functions, emotions. If text, functions, emotions are not expected by `XLMRobertaForSequenceClassification.forward`,  you can safely ignore this message.\n",
      "***** Running Prediction *****\n",
      "  Num examples = 5427\n",
      "  Batch size = 16\n",
      "/home/njfernandez/.local/lib/python3.8/site-packages/torch/nn/parallel/_functions.py:68: UserWarning: Was asked to gather along dimension 0, but all input tensors were scalars; will instead unsqueeze and return a vector.\n",
      "  warnings.warn('Was asked to gather along dimension 0, but all '\n"
     ]
    },
    {
     "data": {
      "text/html": [],
      "text/plain": [
       "<IPython.core.display.HTML object>"
      ]
     },
     "metadata": {},
     "output_type": "display_data"
    },
    {
     "name": "stdout",
     "output_type": "stream",
     "text": [
      "{'test_loss': 0.6182177662849426, 'test_f1': 0.16988369085658356, 'test_roc_auc': 0.567583560709151, 'test_accuracy': 0.015109637000184264, 'test_runtime': 37.8305, 'test_samples_per_second': 143.456, 'test_steps_per_second': 8.987}\n"
     ]
    }
   ],
   "source": [
    "#output = trainer.evaluate()\n",
    "preds_output = trainer.predict(ds_enc['test'])\n",
    "print(preds_output.metrics)"
   ]
  },
  {
   "cell_type": "code",
   "execution_count": 13,
   "id": "19769a03",
   "metadata": {},
   "outputs": [
    {
     "name": "stdout",
     "output_type": "stream",
     "text": [
      "{'ANGRY': {'precision': 0.03650442477876106, 'recall': 1.0, 'f1-score': 0.07043756670224119, 'support': 198}, 'DISAGREE': {'precision': 0.049216589861751155, 'recall': 1.0, 'f1-score': 0.0938158819395643, 'support': 267}, 'DISAPPOINTED': {'precision': 0.11428571428571428, 'recall': 0.026490066225165563, 'f1-score': 0.04301075268817204, 'support': 151}, 'DISLIKE': {'precision': 0.09957557949722494, 'recall': 0.710955710955711, 'f1-score': 0.17468499427262313, 'support': 429}, 'NOT_APPROVE': {'precision': 0.04925290536801328, 'recall': 1.0, 'f1-score': 0.09388185654008438, 'support': 267}, 'NOT_CORRECT': {'precision': 0.053700361010830325, 'recall': 0.8913857677902621, 'f1-score': 0.10129814854224303, 'support': 267}, 'OTHER': {'precision': 0.811548458967694, 'recall': 0.9965800273597811, 'f1-score': 0.8945968072042572, 'support': 4386}, 'PESSIMISTIC': {'precision': 0.0543794105437941, 'recall': 0.6179245283018868, 'f1-score': 0.09996184662342615, 'support': 212}, 'WORRIED': {'precision': 0.024197656647987772, 'recall': 0.9693877551020408, 'f1-score': 0.047216699801192835, 'support': 98}, 'micro avg': {'precision': 0.16542327074125165, 'recall': 0.9364143426294821, 'f1-score': 0.28117523207962486, 'support': 6275}, 'macro avg': {'precision': 0.14362901121797456, 'recall': 0.8014137617483164, 'f1-score': 0.17987828381264492, 'support': 6275}, 'weighted avg': {'precision': 0.5866428112514708, 'recall': 0.9364143426294821, 'f1-score': 0.656902592940767, 'support': 6275}, 'samples avg': {'precision': 0.17026164006539904, 'recall': 0.9431791658989005, 'f1-score': 0.28174797992376766, 'support': 6275}}\n"
     ]
    }
   ],
   "source": [
    "sigmoid = torch.nn.Sigmoid()\n",
    "probs = sigmoid(torch.Tensor(preds_output.predictions))\n",
    "y_pred = np.zeros(probs.shape)\n",
    "y_pred[np.where(probs >= 0.4)]= 1\n",
    "# finally, compute metrics\n",
    "y_true = np.array(ds_enc['test'][\"label_ids\"])\n",
    "from sklearn.metrics import classification_report, multilabel_confusion_matrix, confusion_matrix, ConfusionMatrixDisplay\n",
    "#classification report using our set of labels\n",
    "report = classification_report(\n",
    "  y_true,\n",
    "  y_pred,\n",
    "  target_names=labels_classes,\n",
    "  zero_division=0,\n",
    "  output_dict=True\n",
    ")\n",
    "print(report)\n",
    "\n",
    "df = pd.DataFrame(report).transpose()\n",
    "with open(r'classification_report_functions_basic_goemotions_finetuning_threshold=0.4.csv', 'w') as csv_file:\n",
    "    df.to_csv(path_or_buf=csv_file)"
   ]
  },
  {
   "cell_type": "code",
   "execution_count": 14,
   "id": "80461c63",
   "metadata": {},
   "outputs": [
    {
     "name": "stderr",
     "output_type": "stream",
     "text": [
      "                                                                \r"
     ]
    }
   ],
   "source": [
    "import torch.nn as nn\n",
    "def loss_fn(outputs, labels):\n",
    "    if labels is None:\n",
    "        return None\n",
    "    loss_values = []\n",
    "    for f, b in zip(outputs, labels):\n",
    "        loss_value = nn.BCEWithLogitsLoss()(f, b.float())\n",
    "        loss_values.append(loss_value)\n",
    "    torch_loss = torch.tensor(loss_values)\n",
    "    return torch_loss\n",
    "\n",
    "def forward_pass_with_label(batch): \n",
    "    inputs = {k:v.to(device) for k,v in batch.items() \n",
    "              if k in tokenizer.model_input_names}      \n",
    "    with torch.no_grad():\n",
    "        output = model(**inputs)\n",
    "        logits = output.logits        \n",
    "        sigmoid = torch.nn.Sigmoid()\n",
    "        probs = sigmoid(logits.squeeze().cpu())       \n",
    "        predictions = np.zeros(probs.shape)\n",
    "        predictions[np.where(probs >= 0.4)] = 1       \n",
    "        loss = loss_fn(logits, batch[\"label_ids\"].to(device))\n",
    "    return {\"loss\": loss.cpu().numpy(), \n",
    "            \"pred_label_ids\": predictions}\n",
    "\n",
    "ds_enc.set_format(\"torch\", \n",
    "                            columns=[\"input_ids\", \"attention_mask\", \"label_ids\"])\n",
    "ds_enc = ds_enc.map(\n",
    "    forward_pass_with_label, batched=True, batch_size = 8)"
   ]
  },
  {
   "cell_type": "code",
   "execution_count": 15,
   "id": "170e7fd2",
   "metadata": {},
   "outputs": [
    {
     "name": "stderr",
     "output_type": "stream",
     "text": [
      "                                                    "
     ]
    },
    {
     "name": "stdout",
     "output_type": "stream",
     "text": [
      "                                                   text  \\\n",
      "622                                 no one cares my guy   \n",
      "1035         But but r/49ers said it was just bad luck!   \n",
      "3466  You're an idiot and no one believes you and yo...   \n",
      "2995         hey the 5 riders per van per day are upset   \n",
      "4415  I'm full of envy. Would love to be on that sor...   \n",
      "3779  My adopted daughter told me, \"You can't tell m...   \n",
      "4831  You just made my point, you obnoxious whining kid   \n",
      "2866  You spend time in The Donald, do you not under...   \n",
      "2899  “[NAME] you’re still here? Geez you really are...   \n",
      "4233                                         oh, my bad   \n",
      "2438           I always move back and always regret it.   \n",
      "5031                 You sure seem angry. #itwillbeokay   \n",
      "4403                                    You ain't wrong   \n",
      "5073            Oh boy do I have some bad news for you!   \n",
      "3832  Don't know how that was missed. Tragic really....   \n",
      "1274  What bothers me is not the fact that someone d...   \n",
      "3034  Being a nice, interesting person has helped me...   \n",
      "5098  I go to a neighborhood mexican restaurant mont...   \n",
      "638         Idiots are downvoting your correct comment.   \n",
      "4933  I could have gone to a party, but it's 10 outs...   \n",
      "4585  Oh hell no. Shes blind!!! No way in HELL is sh...   \n",
      "252   I’m only denying what’s not true, and [NAME] b...   \n",
      "391   [NAME] fucking practice and watch some tutoria...   \n",
      "3298  That partially explains why season 4 was such ...   \n",
      "2666  It's when you least expect it that people hit ...   \n",
      "3239  I've invested 9 goddamn years watching these t...   \n",
      "693              clearly no one is getting my joke oof.   \n",
      "1836          I don't remember, it was all very hazy...   \n",
      "1525                       you in the wrong *childhood*   \n",
      "1881                                [NAME] damn hippies   \n",
      "607              > don't tax anyone what a stupid idea.   \n",
      "5112  Right? It’s not like her family seems like the...   \n",
      "2121  WHO WON THIS FIGHT My thoughts: neither side d...   \n",
      "3462  Just keep going and don't lose hope. Stuff lik...   \n",
      "921   “[NAME], I tried to make ramen in the coffee p...   \n",
      "2998  yikes i thought it was just a joke transformer...   \n",
      "2885  There are Cubs fans that died at 95 without ev...   \n",
      "4230  [NAME] fucking [NAME] are you done yet racist ...   \n",
      "5320  I feel extremely bad for people in this thread...   \n",
      "5280  This is so cringey it hurts. I feel so bad for...   \n",
      "5053                                    Damn that’s sad   \n",
      "1321  Is that [NAME] as the commentator? EDIT: just ...   \n",
      "2287  I still maintain the packers were a worse team...   \n",
      "3247  Sadly, it ran. :( I hope you're enjoying your ...   \n",
      "4484  Seriously, I spit up my drink reading \"The GOP...   \n",
      "3959      Yes of mine worry, no one liked mine either.    \n",
      "769   I got bad news for ya'll. I picked Chargers, C...   \n",
      "2313                                    Worst dad ever!   \n",
      "1932   You really shouldn’t just pat wolves you know...   \n",
      "4591  would you kiss a girl if you're drunk tho? Edi...   \n",
      "\n",
      "                                emotions                       functions  \\\n",
      "622            [disappointment, sadness]     [PESSIMISTIC, DISAPPOINTED]   \n",
      "1035           [disappointment, sadness]     [PESSIMISTIC, DISAPPOINTED]   \n",
      "3466  [anger, annoyance, disappointment]  [DISLIKE, ANGRY, DISAPPOINTED]   \n",
      "2995                    [disappointment]                  [DISAPPOINTED]   \n",
      "4415            [desire, disappointment]           [OTHER, DISAPPOINTED]   \n",
      "3779           [disappointment, sadness]     [PESSIMISTIC, DISAPPOINTED]   \n",
      "4831                    [disappointment]                  [DISAPPOINTED]   \n",
      "2866                         [annoyance]                       [DISLIKE]   \n",
      "2899                    [disappointment]                  [DISAPPOINTED]   \n",
      "4233                    [disappointment]                  [DISAPPOINTED]   \n",
      "2438           [disappointment, sadness]     [PESSIMISTIC, DISAPPOINTED]   \n",
      "5031                         [annoyance]                       [DISLIKE]   \n",
      "4403                          [approval]                         [OTHER]   \n",
      "5073                    [disappointment]                  [DISAPPOINTED]   \n",
      "3832           [disappointment, sadness]     [PESSIMISTIC, DISAPPOINTED]   \n",
      "1274         [annoyance, disappointment]         [DISLIKE, DISAPPOINTED]   \n",
      "3034                    [disappointment]                  [DISAPPOINTED]   \n",
      "5098           [disappointment, sadness]     [PESSIMISTIC, DISAPPOINTED]   \n",
      "638                     [disappointment]                  [DISAPPOINTED]   \n",
      "4933                    [disappointment]                  [DISAPPOINTED]   \n",
      "4585          [disappointment, surprise]           [OTHER, DISAPPOINTED]   \n",
      "252                     [disappointment]                  [DISAPPOINTED]   \n",
      "391                          [annoyance]                       [DISLIKE]   \n",
      "3298           [disappointment, disgust]         [DISLIKE, DISAPPOINTED]   \n",
      "2666                    [disappointment]                  [DISAPPOINTED]   \n",
      "3239         [annoyance, disappointment]         [DISLIKE, DISAPPOINTED]   \n",
      "693          [annoyance, disappointment]         [DISLIKE, DISAPPOINTED]   \n",
      "1836                    [disappointment]                  [DISAPPOINTED]   \n",
      "1525                         [annoyance]                       [DISLIKE]   \n",
      "1881                         [annoyance]                       [DISLIKE]   \n",
      "607                          [annoyance]                       [DISLIKE]   \n",
      "5112                    [disappointment]                  [DISAPPOINTED]   \n",
      "2121                    [disappointment]                  [DISAPPOINTED]   \n",
      "3462                    [disappointment]                  [DISAPPOINTED]   \n",
      "921            [disappointment, remorse]     [PESSIMISTIC, DISAPPOINTED]   \n",
      "2998                           [disgust]                       [DISLIKE]   \n",
      "2885                    [disappointment]                  [DISAPPOINTED]   \n",
      "4230                           [disgust]                       [DISLIKE]   \n",
      "5320                    [disappointment]                  [DISAPPOINTED]   \n",
      "5280           [disappointment, sadness]     [PESSIMISTIC, DISAPPOINTED]   \n",
      "5053           [disappointment, sadness]     [PESSIMISTIC, DISAPPOINTED]   \n",
      "1321                         [annoyance]                       [DISLIKE]   \n",
      "2287                    [disappointment]                  [DISAPPOINTED]   \n",
      "3247                    [disappointment]                  [DISAPPOINTED]   \n",
      "4484                    [disappointment]                  [DISAPPOINTED]   \n",
      "3959                    [disappointment]                  [DISAPPOINTED]   \n",
      "769                     [disappointment]                  [DISAPPOINTED]   \n",
      "2313    [anger, disappointment, disgust]  [DISLIKE, ANGRY, DISAPPOINTED]   \n",
      "1932                    [disappointment]                  [DISAPPOINTED]   \n",
      "4591                         [annoyance]                       [DISLIKE]   \n",
      "\n",
      "                                       predicted_labels      loss  \n",
      "622   [ANGRY, DISAGREE, NOT_APPROVE, NOT_CORRECT, OT...  0.947784  \n",
      "1035  [ANGRY, DISAGREE, DISLIKE, NOT_APPROVE, NOT_CO...  0.932181  \n",
      "3466  [ANGRY, DISAGREE, NOT_APPROVE, NOT_CORRECT, OT...  0.917018  \n",
      "2995  [ANGRY, DISAGREE, DISLIKE, NOT_APPROVE, NOT_CO...  0.901778  \n",
      "4415   [ANGRY, DISAGREE, DISLIKE, NOT_APPROVE, WORRIED]  0.899623  \n",
      "3779  [ANGRY, DISAGREE, DISLIKE, NOT_APPROVE, NOT_CO...  0.895062  \n",
      "4831  [ANGRY, DISAGREE, NOT_APPROVE, NOT_CORRECT, OT...  0.894309  \n",
      "2866  [ANGRY, DISAGREE, NOT_APPROVE, NOT_CORRECT, OT...  0.888936  \n",
      "2899  [ANGRY, DISAGREE, NOT_APPROVE, NOT_CORRECT, OT...  0.885760  \n",
      "4233  [ANGRY, DISAGREE, NOT_APPROVE, NOT_CORRECT, OT...  0.885261  \n",
      "2438  [ANGRY, DISAGREE, DISLIKE, NOT_APPROVE, NOT_CO...  0.884346  \n",
      "5031  [ANGRY, DISAGREE, NOT_APPROVE, NOT_CORRECT, OT...  0.881930  \n",
      "4403  [DISAGREE, DISLIKE, NOT_APPROVE, NOT_CORRECT, ...  0.874617  \n",
      "5073  [ANGRY, DISAGREE, NOT_APPROVE, NOT_CORRECT, OT...  0.873052  \n",
      "3832  [ANGRY, DISAGREE, DISLIKE, NOT_APPROVE, NOT_CO...  0.871229  \n",
      "1274  [ANGRY, DISAGREE, DISLIKE, NOT_APPROVE, NOT_CO...  0.870067  \n",
      "3034  [ANGRY, DISAGREE, DISLIKE, NOT_APPROVE, NOT_CO...  0.868311  \n",
      "5098  [ANGRY, DISAGREE, DISLIKE, NOT_APPROVE, NOT_CO...  0.864923  \n",
      "638   [ANGRY, DISAGREE, NOT_APPROVE, NOT_CORRECT, OT...  0.864498  \n",
      "4933  [ANGRY, DISAGREE, DISLIKE, NOT_APPROVE, NOT_CO...  0.864359  \n",
      "4585  [ANGRY, DISAGREE, DISLIKE, NOT_APPROVE, NOT_CO...  0.862488  \n",
      "252   [ANGRY, DISAGREE, NOT_APPROVE, NOT_CORRECT, OT...  0.861692  \n",
      "391   [ANGRY, DISAGREE, NOT_APPROVE, OTHER, PESSIMIS...  0.860753  \n",
      "3298  [ANGRY, DISAGREE, DISLIKE, NOT_APPROVE, NOT_CO...  0.860691  \n",
      "2666  [ANGRY, DISAGREE, DISLIKE, NOT_APPROVE, NOT_CO...  0.859642  \n",
      "3239  [ANGRY, DISAGREE, DISLIKE, NOT_APPROVE, NOT_CO...  0.859525  \n",
      "693   [ANGRY, DISAGREE, DISLIKE, NOT_APPROVE, NOT_CO...  0.857680  \n",
      "1836  [ANGRY, DISAGREE, DISLIKE, NOT_APPROVE, NOT_CO...  0.847560  \n",
      "1525  [DISAGREE, NOT_APPROVE, NOT_CORRECT, OTHER, PE...  0.847035  \n",
      "1881  [ANGRY, DISAGREE, NOT_APPROVE, NOT_CORRECT, OT...  0.846232  \n",
      "607   [ANGRY, DISAGREE, NOT_APPROVE, NOT_CORRECT, OT...  0.845052  \n",
      "5112  [ANGRY, DISAGREE, DISLIKE, NOT_APPROVE, NOT_CO...  0.844895  \n",
      "2121  [ANGRY, DISAGREE, DISLIKE, NOT_APPROVE, NOT_CO...  0.844702  \n",
      "3462  [ANGRY, DISAGREE, DISLIKE, NOT_APPROVE, NOT_CO...  0.844690  \n",
      "921   [ANGRY, DISAGREE, DISLIKE, NOT_APPROVE, OTHER,...  0.844473  \n",
      "2998  [ANGRY, DISAGREE, NOT_APPROVE, NOT_CORRECT, OT...  0.844267  \n",
      "2885  [ANGRY, DISAGREE, DISLIKE, NOT_APPROVE, NOT_CO...  0.844088  \n",
      "4230  [ANGRY, DISAGREE, NOT_APPROVE, NOT_CORRECT, OT...  0.843076  \n",
      "5320  [ANGRY, DISAGREE, DISLIKE, NOT_APPROVE, NOT_CO...  0.842858  \n",
      "5280  [ANGRY, DISAGREE, DISLIKE, NOT_APPROVE, NOT_CO...  0.842443  \n",
      "5053  [ANGRY, DISAGREE, NOT_APPROVE, NOT_CORRECT, OT...  0.842346  \n",
      "1321  [ANGRY, DISAGREE, NOT_APPROVE, NOT_CORRECT, OT...  0.842140  \n",
      "2287  [ANGRY, DISAGREE, DISLIKE, NOT_APPROVE, NOT_CO...  0.841561  \n",
      "3247  [ANGRY, DISAGREE, DISLIKE, NOT_APPROVE, NOT_CO...  0.841411  \n",
      "4484  [ANGRY, DISAGREE, DISLIKE, NOT_APPROVE, NOT_CO...  0.841113  \n",
      "3959  [ANGRY, DISAGREE, DISLIKE, NOT_APPROVE, NOT_CO...  0.841032  \n",
      "769   [ANGRY, DISAGREE, DISLIKE, NOT_APPROVE, NOT_CO...  0.840134  \n",
      "2313  [ANGRY, DISAGREE, DISLIKE, NOT_APPROVE, NOT_CO...  0.839758  \n",
      "1932  [ANGRY, DISAGREE, DISLIKE, NOT_APPROVE, NOT_CO...  0.838761  \n",
      "4591  [ANGRY, DISAGREE, NOT_APPROVE, NOT_CORRECT, OT...  0.838721  \n"
     ]
    },
    {
     "name": "stderr",
     "output_type": "stream",
     "text": [
      "\r"
     ]
    }
   ],
   "source": [
    "def get_predicted_labels(batch):\n",
    "    transformed_into_label_names = mlb.inverse_transform(np.array(batch['pred_label_ids']))  \n",
    "    return  {\"predicted_labels\": list(map(list, transformed_into_label_names))}\n",
    "ds_enc.reset_format()\n",
    "ds_enc['test'] = ds_enc['test'].map(get_predicted_labels, batched=True)\n",
    "\n",
    "ds_enc.set_format(\"pandas\")\n",
    "cols = [\"text\", \"emotions\", \"functions\", \"predicted_labels\", \"loss\"]\n",
    "df_test = ds_enc['test'][:][cols]\n",
    "loss_values = df_test.sort_values(\"loss\", ascending=False).head(50)\n",
    "print(loss_values)"
   ]
  },
  {
   "cell_type": "code",
   "execution_count": 16,
   "id": "7ee99dc7",
   "metadata": {},
   "outputs": [],
   "source": [
    "loss_values.to_csv('loss_values_functions_basic_finetuning_threshold=0.4.tsv',header =True, sep = '\\t',index=False)\n",
    "df_test.to_csv('preds_functions_basic_finetuning_threshold=0.4.tsv',header =True, sep = '\\t',index=False)"
   ]
  },
  {
   "cell_type": "code",
   "execution_count": null,
   "id": "8d87313a",
   "metadata": {},
   "outputs": [],
   "source": []
  }
 ],
 "metadata": {
  "kernelspec": {
   "display_name": "Python 3 (ipykernel)",
   "language": "python",
   "name": "python3"
  },
  "language_info": {
   "codemirror_mode": {
    "name": "ipython",
    "version": 3
   },
   "file_extension": ".py",
   "mimetype": "text/x-python",
   "name": "python",
   "nbconvert_exporter": "python",
   "pygments_lexer": "ipython3",
   "version": "3.8.10"
  }
 },
 "nbformat": 4,
 "nbformat_minor": 5
}

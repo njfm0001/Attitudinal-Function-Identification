{
 "cells": [
  {
   "cell_type": "markdown",
   "id": "acf45e0f",
   "metadata": {},
   "source": [
    "# EmoEvent en train (baseline) experiment"
   ]
  },
  {
   "cell_type": "code",
   "execution_count": 1,
   "id": "38673a21",
   "metadata": {},
   "outputs": [
    {
     "name": "stderr",
     "output_type": "stream",
     "text": [
      "/home/njfernandez/.local/lib/python3.8/site-packages/tqdm/auto.py:22: TqdmWarning: IProgress not found. Please update jupyter and ipywidgets. See https://ipywidgets.readthedocs.io/en/stable/user_install.html\n",
      "  from .autonotebook import tqdm as notebook_tqdm\n"
     ]
    }
   ],
   "source": [
    "from datasets import Dataset, load_dataset, DatasetDict, ClassLabel\n",
    "import numpy as np\n",
    "import torch\n",
    "import pandas as pd\n",
    "\n",
    "#Seeding for deterministic results i.e. showing same output \n",
    "RANDOM_SEED = 64\n",
    "np.random.seed(RANDOM_SEED)\n",
    "torch.manual_seed(RANDOM_SEED)\n",
    "if torch.cuda.is_available():\n",
    "   torch.cuda.manual_seed(RANDOM_SEED)\n",
    "   torch.cuda.manual_seed_all(RANDOM_SEED) \n",
    "   torch.backends.cudnn.deterministic = True  \n",
    "   torch.backends.cudnn.benchmark = False"
   ]
  },
  {
   "cell_type": "code",
   "execution_count": 2,
   "id": "5e517e37",
   "metadata": {},
   "outputs": [
    {
     "name": "stderr",
     "output_type": "stream",
     "text": [
      "No config specified, defaulting to: emotion/split\n",
      "Found cached dataset emotion (/home/njfernandez/.cache/huggingface/datasets/emotion/split/1.0.0/cca5efe2dfeb58c1d098e0f9eeb200e9927d889b5a03c67097275dfb5fe463bd)\n",
      "100%|██████████| 3/3 [00:00<00:00, 666.33it/s]\n",
      "Loading cached processed dataset at /home/njfernandez/.cache/huggingface/datasets/emotion/split/1.0.0/cca5efe2dfeb58c1d098e0f9eeb200e9927d889b5a03c67097275dfb5fe463bd/cache-da33b75eb48814c5.arrow\n",
      "Loading cached processed dataset at /home/njfernandez/.cache/huggingface/datasets/emotion/split/1.0.0/cca5efe2dfeb58c1d098e0f9eeb200e9927d889b5a03c67097275dfb5fe463bd/cache-c9fa37d993431ea5.arrow\n",
      "Loading cached processed dataset at /home/njfernandez/.cache/huggingface/datasets/emotion/split/1.0.0/cca5efe2dfeb58c1d098e0f9eeb200e9927d889b5a03c67097275dfb5fe463bd/cache-9e625d0ab4c5791f.arrow\n",
      "Loading cached processed dataset at /home/njfernandez/.cache/huggingface/datasets/emotion/split/1.0.0/cca5efe2dfeb58c1d098e0f9eeb200e9927d889b5a03c67097275dfb5fe463bd/cache-073a5a64cb90fedf.arrow\n",
      "Loading cached processed dataset at /home/njfernandez/.cache/huggingface/datasets/emotion/split/1.0.0/cca5efe2dfeb58c1d098e0f9eeb200e9927d889b5a03c67097275dfb5fe463bd/cache-395955177184ef62.arrow\n",
      "Loading cached processed dataset at /home/njfernandez/.cache/huggingface/datasets/emotion/split/1.0.0/cca5efe2dfeb58c1d098e0f9eeb200e9927d889b5a03c67097275dfb5fe463bd/cache-fb1228275c28ad89.arrow\n"
     ]
    }
   ],
   "source": [
    "function_mapping = {'OTHER': ['joy', 'love', 'surprise'],\n",
    "           'NOT_INTERESTED': [''], \n",
    "           'DISLIKE':[''], \n",
    "           'NOT_CORRECT': [''], \n",
    "           'PESSIMISTIC':['sadness'], \n",
    "           'WORRIED':['fear'], \n",
    "           'ANGRY': ['anger'], \n",
    "           'DISAPPOINTED': [''], \n",
    "           'BORED': [''], \n",
    "           'NOT_APPROVE':[''], \n",
    "           'NOT_IMPORTANT': [''], \n",
    "           'DISAGREE': [''], \n",
    "           'WARN': [''], \n",
    "           'COMPLAIN': [''], \n",
    "           'THREATEN': [''], \n",
    "           'UNWILLING': [''], \n",
    "           'DISTRUST' : [''],\n",
    "           'REFUSE': [''] }\n",
    "\n",
    "emotion = load_dataset('emotion')\n",
    "mapping = {\n",
    "    0:\"sadness\",\n",
    "    1:\"joy\",\n",
    "    2:\"love\",\n",
    "    3:\"anger\",\n",
    "    4:\"fear\",\n",
    "    5:\"surprise\"\n",
    "}\n",
    "emotion = emotion.map(lambda example: {'emotion': mapping[example['label']]}, \n",
    "                      remove_columns=['label'])\n",
    "def map_labels(batch):\n",
    "    batch['function'] = [[] for _ in range(len(batch['text']))]\n",
    "    for i, item in enumerate(batch[\"function\"]):\n",
    "        for key, value in function_mapping.items():\n",
    "            for emotion in value:\n",
    "                if emotion == batch[\"emotion\"][i]:\n",
    "                    batch[\"function\"][i] = key\n",
    "                    break\n",
    "    return batch\n",
    "emotion = emotion.map(map_labels, batched=True)"
   ]
  },
  {
   "cell_type": "code",
   "execution_count": 3,
   "id": "f53ec871",
   "metadata": {},
   "outputs": [
    {
     "data": {
      "text/html": [
       "<div>\n",
       "<style scoped>\n",
       "    .dataframe tbody tr th:only-of-type {\n",
       "        vertical-align: middle;\n",
       "    }\n",
       "\n",
       "    .dataframe tbody tr th {\n",
       "        vertical-align: top;\n",
       "    }\n",
       "\n",
       "    .dataframe thead th {\n",
       "        text-align: right;\n",
       "    }\n",
       "</style>\n",
       "<table border=\"1\" class=\"dataframe\">\n",
       "  <thead>\n",
       "    <tr style=\"text-align: right;\">\n",
       "      <th></th>\n",
       "      <th>text</th>\n",
       "      <th>emotion</th>\n",
       "      <th>function</th>\n",
       "    </tr>\n",
       "  </thead>\n",
       "  <tbody>\n",
       "    <tr>\n",
       "      <th>0</th>\n",
       "      <td>i didnt feel humiliated</td>\n",
       "      <td>sadness</td>\n",
       "      <td>PESSIMISTIC</td>\n",
       "    </tr>\n",
       "    <tr>\n",
       "      <th>1</th>\n",
       "      <td>i can go from feeling so hopeless to so damned...</td>\n",
       "      <td>sadness</td>\n",
       "      <td>PESSIMISTIC</td>\n",
       "    </tr>\n",
       "    <tr>\n",
       "      <th>2</th>\n",
       "      <td>im grabbing a minute to post i feel greedy wrong</td>\n",
       "      <td>anger</td>\n",
       "      <td>ANGRY</td>\n",
       "    </tr>\n",
       "    <tr>\n",
       "      <th>3</th>\n",
       "      <td>i am ever feeling nostalgic about the fireplac...</td>\n",
       "      <td>love</td>\n",
       "      <td>OTHER</td>\n",
       "    </tr>\n",
       "    <tr>\n",
       "      <th>4</th>\n",
       "      <td>i am feeling grouchy</td>\n",
       "      <td>anger</td>\n",
       "      <td>ANGRY</td>\n",
       "    </tr>\n",
       "    <tr>\n",
       "      <th>...</th>\n",
       "      <td>...</td>\n",
       "      <td>...</td>\n",
       "      <td>...</td>\n",
       "    </tr>\n",
       "    <tr>\n",
       "      <th>15995</th>\n",
       "      <td>i just had a very brief time in the beanbag an...</td>\n",
       "      <td>sadness</td>\n",
       "      <td>PESSIMISTIC</td>\n",
       "    </tr>\n",
       "    <tr>\n",
       "      <th>15996</th>\n",
       "      <td>i am now turning and i feel pathetic that i am...</td>\n",
       "      <td>sadness</td>\n",
       "      <td>PESSIMISTIC</td>\n",
       "    </tr>\n",
       "    <tr>\n",
       "      <th>15997</th>\n",
       "      <td>i feel strong and good overall</td>\n",
       "      <td>joy</td>\n",
       "      <td>OTHER</td>\n",
       "    </tr>\n",
       "    <tr>\n",
       "      <th>15998</th>\n",
       "      <td>i feel like this was such a rude comment and i...</td>\n",
       "      <td>anger</td>\n",
       "      <td>ANGRY</td>\n",
       "    </tr>\n",
       "    <tr>\n",
       "      <th>15999</th>\n",
       "      <td>i know a lot but i feel so stupid because i ca...</td>\n",
       "      <td>sadness</td>\n",
       "      <td>PESSIMISTIC</td>\n",
       "    </tr>\n",
       "  </tbody>\n",
       "</table>\n",
       "<p>16000 rows × 3 columns</p>\n",
       "</div>"
      ],
      "text/plain": [
       "                                                    text  emotion     function\n",
       "0                                i didnt feel humiliated  sadness  PESSIMISTIC\n",
       "1      i can go from feeling so hopeless to so damned...  sadness  PESSIMISTIC\n",
       "2       im grabbing a minute to post i feel greedy wrong    anger        ANGRY\n",
       "3      i am ever feeling nostalgic about the fireplac...     love        OTHER\n",
       "4                                   i am feeling grouchy    anger        ANGRY\n",
       "...                                                  ...      ...          ...\n",
       "15995  i just had a very brief time in the beanbag an...  sadness  PESSIMISTIC\n",
       "15996  i am now turning and i feel pathetic that i am...  sadness  PESSIMISTIC\n",
       "15997                     i feel strong and good overall      joy        OTHER\n",
       "15998  i feel like this was such a rude comment and i...    anger        ANGRY\n",
       "15999  i know a lot but i feel so stupid because i ca...  sadness  PESSIMISTIC\n",
       "\n",
       "[16000 rows x 3 columns]"
      ]
     },
     "execution_count": 3,
     "metadata": {},
     "output_type": "execute_result"
    }
   ],
   "source": [
    "df_train = emotion['train'].to_pandas()\n",
    "df_valid = emotion['validation'].to_pandas()\n",
    "df_test = emotion['test'].to_pandas()\n",
    "\n",
    "df_train"
   ]
  },
  {
   "cell_type": "code",
   "execution_count": 4,
   "id": "a05a30f5",
   "metadata": {},
   "outputs": [],
   "source": [
    "from sklearn.feature_extraction.text import CountVectorizer\n",
    "cv = CountVectorizer()"
   ]
  },
  {
   "cell_type": "code",
   "execution_count": 5,
   "id": "26443e4a",
   "metadata": {},
   "outputs": [],
   "source": [
    "X_train = cv.fit_transform(df_train['text'])\n",
    "X_valid = cv.transform(df_valid['text'])\n",
    "X_test = cv.transform(df_test['text'])\n",
    "\n",
    "y_train = df_train[\"function\"]\n",
    "y_valid = df_valid[\"function\"]\n",
    "y_test = df_test[\"function\"]"
   ]
  },
  {
   "cell_type": "code",
   "execution_count": 6,
   "id": "e6be6805",
   "metadata": {},
   "outputs": [
    {
     "name": "stdout",
     "output_type": "stream",
     "text": [
      "              precision    recall  f1-score   support\n",
      "\n",
      "       ANGRY       0.93      0.53      0.68       275\n",
      "       OTHER       0.83      0.98      0.90       920\n",
      " PESSIMISTIC       0.82      0.89      0.85       581\n",
      "     WORRIED       0.88      0.50      0.64       224\n",
      "\n",
      "    accuracy                           0.84      2000\n",
      "   macro avg       0.86      0.72      0.77      2000\n",
      "weighted avg       0.85      0.84      0.82      2000\n",
      "\n"
     ]
    }
   ],
   "source": [
    "from sklearn.naive_bayes import MultinomialNB\n",
    "from sklearn.metrics import classification_report\n",
    "\n",
    "classifier = MultinomialNB()\n",
    "classifier.fit(X_train, y_train)\n",
    "y_pred_test = classifier.predict(X_test)\n",
    "clf_report = classification_report(y_test, y_pred_test, zero_division=0)\n",
    "print(clf_report)"
   ]
  },
  {
   "cell_type": "code",
   "execution_count": 7,
   "id": "a075e023",
   "metadata": {},
   "outputs": [],
   "source": [
    "clf_report = classification_report(y_test, y_pred_test, zero_division=0, output_dict=True)\n",
    "df_results = pd.DataFrame(clf_report).transpose()\n",
    "with open(r'classification_report_baseline_emotion_naive_bayes.csv', 'w') as csv_file:\n",
    "    df_results.to_csv(path_or_buf=csv_file)"
   ]
  },
  {
   "cell_type": "code",
   "execution_count": 8,
   "id": "822003b2",
   "metadata": {},
   "outputs": [],
   "source": [
    "df_test['predicted_label'] = y_pred_test\n",
    "df_test.to_csv('preds_baseline_emotion_naive_bayes.tsv',header =True, sep = '\\t',index=False)"
   ]
  },
  {
   "cell_type": "markdown",
   "id": "7321c768",
   "metadata": {},
   "source": [
    "# Function basic experiment"
   ]
  },
  {
   "cell_type": "code",
   "execution_count": 9,
   "id": "46e0990d",
   "metadata": {},
   "outputs": [
    {
     "data": {
      "text/html": [
       "<div>\n",
       "<style scoped>\n",
       "    .dataframe tbody tr th:only-of-type {\n",
       "        vertical-align: middle;\n",
       "    }\n",
       "\n",
       "    .dataframe tbody tr th {\n",
       "        vertical-align: top;\n",
       "    }\n",
       "\n",
       "    .dataframe thead th {\n",
       "        text-align: right;\n",
       "    }\n",
       "</style>\n",
       "<table border=\"1\" class=\"dataframe\">\n",
       "  <thead>\n",
       "    <tr style=\"text-align: right;\">\n",
       "      <th></th>\n",
       "      <th>text</th>\n",
       "      <th>function</th>\n",
       "    </tr>\n",
       "  </thead>\n",
       "  <tbody>\n",
       "    <tr>\n",
       "      <th>209</th>\n",
       "      <td>I'm fairly pessimistic about it</td>\n",
       "      <td>PESSIMISTIC</td>\n",
       "    </tr>\n",
       "    <tr>\n",
       "      <th>210</th>\n",
       "      <td>I'm fairly pessimistic</td>\n",
       "      <td>PESSIMISTIC</td>\n",
       "    </tr>\n",
       "    <tr>\n",
       "      <th>211</th>\n",
       "      <td>I'm pessimistic about it</td>\n",
       "      <td>PESSIMISTIC</td>\n",
       "    </tr>\n",
       "    <tr>\n",
       "      <th>212</th>\n",
       "      <td>I'm pessimistic</td>\n",
       "      <td>PESSIMISTIC</td>\n",
       "    </tr>\n",
       "    <tr>\n",
       "      <th>213</th>\n",
       "      <td>I'm rather sceptical about it</td>\n",
       "      <td>PESSIMISTIC</td>\n",
       "    </tr>\n",
       "    <tr>\n",
       "      <th>...</th>\n",
       "      <td>...</td>\n",
       "      <td>...</td>\n",
       "    </tr>\n",
       "    <tr>\n",
       "      <th>897</th>\n",
       "      <td>you could do it</td>\n",
       "      <td>OTHER</td>\n",
       "    </tr>\n",
       "    <tr>\n",
       "      <th>898</th>\n",
       "      <td>you look nice</td>\n",
       "      <td>OTHER</td>\n",
       "    </tr>\n",
       "    <tr>\n",
       "      <th>899</th>\n",
       "      <td>you look smart</td>\n",
       "      <td>OTHER</td>\n",
       "    </tr>\n",
       "    <tr>\n",
       "      <th>900</th>\n",
       "      <td>you're right</td>\n",
       "      <td>OTHER</td>\n",
       "    </tr>\n",
       "    <tr>\n",
       "      <th>901</th>\n",
       "      <td>you're welcome</td>\n",
       "      <td>OTHER</td>\n",
       "    </tr>\n",
       "  </tbody>\n",
       "</table>\n",
       "<p>360 rows × 2 columns</p>\n",
       "</div>"
      ],
      "text/plain": [
       "                                text     function\n",
       "209  I'm fairly pessimistic about it  PESSIMISTIC\n",
       "210           I'm fairly pessimistic  PESSIMISTIC\n",
       "211         I'm pessimistic about it  PESSIMISTIC\n",
       "212                  I'm pessimistic  PESSIMISTIC\n",
       "213    I'm rather sceptical about it  PESSIMISTIC\n",
       "..                               ...          ...\n",
       "897                  you could do it        OTHER\n",
       "898                    you look nice        OTHER\n",
       "899                   you look smart        OTHER\n",
       "900                     you're right        OTHER\n",
       "901                   you're welcome        OTHER\n",
       "\n",
       "[360 rows x 2 columns]"
      ]
     },
     "execution_count": 9,
     "metadata": {},
     "output_type": "execute_result"
    }
   ],
   "source": [
    "comfunctions_basic = 'comfunct_basic.txt'\n",
    "df = pd.read_csv(comfunctions_basic, delimiter=\";\")\n",
    "df = df[~df['function'].isin(['NOT_INTERESTED', 'BORED', 'DISLIKE', 'NOT_CORRECT', 'DISAPPOINTED', 'COMPLAIN', 'NOT_APPROVE',\n",
    "                             'NOT_IMPORTANT', 'DISAGREE', 'REFUSE', 'WARN', 'THREATEN', 'UNWILLING', 'DISTRUST' ])]\n",
    "\n",
    "df"
   ]
  },
  {
   "cell_type": "code",
   "execution_count": 10,
   "id": "051f9bb4",
   "metadata": {},
   "outputs": [],
   "source": [
    "cv = CountVectorizer()\n",
    "X_train = cv.fit_transform(df['text'])\n",
    "X_test = cv.transform(df_test['text'])\n",
    "\n",
    "y_train = df[\"function\"]\n",
    "y_test = df_test[\"function\"]"
   ]
  },
  {
   "cell_type": "code",
   "execution_count": 11,
   "id": "375ea9c3",
   "metadata": {},
   "outputs": [
    {
     "name": "stdout",
     "output_type": "stream",
     "text": [
      "              precision    recall  f1-score   support\n",
      "\n",
      "       ANGRY       0.18      0.15      0.16       275\n",
      "       OTHER       0.49      0.67      0.57       920\n",
      " PESSIMISTIC       0.29      0.07      0.12       581\n",
      "     WORRIED       0.16      0.27      0.20       224\n",
      "\n",
      "    accuracy                           0.38      2000\n",
      "   macro avg       0.28      0.29      0.26      2000\n",
      "weighted avg       0.35      0.38      0.34      2000\n",
      "\n"
     ]
    }
   ],
   "source": [
    "from sklearn.naive_bayes import MultinomialNB\n",
    "from sklearn.metrics import classification_report\n",
    "\n",
    "classifier = MultinomialNB()\n",
    "classifier.fit(X_train, y_train)\n",
    "y_pred_test = classifier.predict(X_test)\n",
    "clf_report = classification_report(y_test, y_pred_test, zero_division=0)\n",
    "print(clf_report)"
   ]
  },
  {
   "cell_type": "code",
   "execution_count": 12,
   "id": "11f4fff6",
   "metadata": {},
   "outputs": [],
   "source": [
    "clf_report = classification_report(y_test, y_pred_test, zero_division=0, output_dict=True)\n",
    "df_result = pd.DataFrame(clf_report).transpose()\n",
    "with open(r'classification_report_functions_basic_emotion_naive_bayes.csv', 'w') as csv_file:\n",
    "    df_result.to_csv(path_or_buf=csv_file)"
   ]
  },
  {
   "cell_type": "code",
   "execution_count": 13,
   "id": "f7bc8f36",
   "metadata": {},
   "outputs": [],
   "source": [
    "df_test['predicted_label'] = y_pred_test\n",
    "df_test.to_csv('preds_functions_basic_emotion_naive_bayes.tsv',header =True, sep = '\\t',index=False)"
   ]
  },
  {
   "cell_type": "markdown",
   "id": "13be9667",
   "metadata": {},
   "source": [
    "# Function extended experiment"
   ]
  },
  {
   "cell_type": "code",
   "execution_count": 14,
   "id": "36720f76",
   "metadata": {},
   "outputs": [
    {
     "data": {
      "text/html": [
       "<div>\n",
       "<style scoped>\n",
       "    .dataframe tbody tr th:only-of-type {\n",
       "        vertical-align: middle;\n",
       "    }\n",
       "\n",
       "    .dataframe tbody tr th {\n",
       "        vertical-align: top;\n",
       "    }\n",
       "\n",
       "    .dataframe thead th {\n",
       "        text-align: right;\n",
       "    }\n",
       "</style>\n",
       "<table border=\"1\" class=\"dataframe\">\n",
       "  <thead>\n",
       "    <tr style=\"text-align: right;\">\n",
       "      <th></th>\n",
       "      <th>text</th>\n",
       "      <th>function</th>\n",
       "    </tr>\n",
       "  </thead>\n",
       "  <tbody>\n",
       "    <tr>\n",
       "      <th>0</th>\n",
       "      <td>Hey #friends, just wanted to clarify that the ...</td>\n",
       "      <td>OTHER</td>\n",
       "    </tr>\n",
       "    <tr>\n",
       "      <th>1</th>\n",
       "      <td>Good morning everyone! ☀️ Just wanted to say a...</td>\n",
       "      <td>OTHER</td>\n",
       "    </tr>\n",
       "    <tr>\n",
       "      <th>2</th>\n",
       "      <td>Hey #team, don't forget our meeting at 2pm tod...</td>\n",
       "      <td>OTHER</td>\n",
       "    </tr>\n",
       "    <tr>\n",
       "      <th>3</th>\n",
       "      <td>Sorry for the late reply, I was swamped at wor...</td>\n",
       "      <td>OTHER</td>\n",
       "    </tr>\n",
       "    <tr>\n",
       "      <th>4</th>\n",
       "      <td>Hey, can someone introduce me to @jane_doe? I'...</td>\n",
       "      <td>OTHER</td>\n",
       "    </tr>\n",
       "    <tr>\n",
       "      <th>...</th>\n",
       "      <td>...</td>\n",
       "      <td>...</td>\n",
       "    </tr>\n",
       "    <tr>\n",
       "      <th>1805</th>\n",
       "      <td>just waiting for the other shoe to drop</td>\n",
       "      <td>PESSIMISTIC</td>\n",
       "    </tr>\n",
       "    <tr>\n",
       "      <th>1806</th>\n",
       "      <td>I don't think this is going to go well #notloo...</td>\n",
       "      <td>PESSIMISTIC</td>\n",
       "    </tr>\n",
       "    <tr>\n",
       "      <th>1807</th>\n",
       "      <td>I have a feeling things are going to turn out ...</td>\n",
       "      <td>PESSIMISTIC</td>\n",
       "    </tr>\n",
       "    <tr>\n",
       "      <th>1808</th>\n",
       "      <td>I don't have high hopes for this #dreadingit</td>\n",
       "      <td>PESSIMISTIC</td>\n",
       "    </tr>\n",
       "    <tr>\n",
       "      <th>1809</th>\n",
       "      <td>This movie is making me cry 😭 #emotional #good...</td>\n",
       "      <td>PESSIMISTIC</td>\n",
       "    </tr>\n",
       "  </tbody>\n",
       "</table>\n",
       "<p>584 rows × 2 columns</p>\n",
       "</div>"
      ],
      "text/plain": [
       "                                                   text     function\n",
       "0     Hey #friends, just wanted to clarify that the ...        OTHER\n",
       "1     Good morning everyone! ☀️ Just wanted to say a...        OTHER\n",
       "2     Hey #team, don't forget our meeting at 2pm tod...        OTHER\n",
       "3     Sorry for the late reply, I was swamped at wor...        OTHER\n",
       "4     Hey, can someone introduce me to @jane_doe? I'...        OTHER\n",
       "...                                                 ...          ...\n",
       "1805            just waiting for the other shoe to drop  PESSIMISTIC\n",
       "1806  I don't think this is going to go well #notloo...  PESSIMISTIC\n",
       "1807  I have a feeling things are going to turn out ...  PESSIMISTIC\n",
       "1808       I don't have high hopes for this #dreadingit  PESSIMISTIC\n",
       "1809  This movie is making me cry 😭 #emotional #good...  PESSIMISTIC\n",
       "\n",
       "[584 rows x 2 columns]"
      ]
     },
     "execution_count": 14,
     "metadata": {},
     "output_type": "execute_result"
    }
   ],
   "source": [
    "comfunctions_extended = 'comfunct_extended.txt'\n",
    "df = pd.read_csv(comfunctions_extended, delimiter=\";\")\n",
    "df = df[~df['function'].isin(['NOT_INTERESTED', 'BORED','DISLIKE', 'NOT_CORRECT', 'DISAPPOINTED', 'COMPLAIN', 'NOT_APPROVE',\n",
    "                             'NOT_IMPORTANT', 'DISAGREE', 'REFUSE', 'WARN', 'THREATEN', 'UNWILLING', 'DISTRUST' ])]\n",
    "\n",
    "df"
   ]
  },
  {
   "cell_type": "code",
   "execution_count": 15,
   "id": "869a84d3",
   "metadata": {},
   "outputs": [],
   "source": [
    "cv = CountVectorizer()\n",
    "X_train = cv.fit_transform(df['text'])\n",
    "X_test = cv.transform(df_test['text'])\n",
    "\n",
    "y_train = df[\"function\"]\n",
    "y_test = df_test[\"function\"]"
   ]
  },
  {
   "cell_type": "code",
   "execution_count": 16,
   "id": "6d992c4d",
   "metadata": {},
   "outputs": [
    {
     "name": "stdout",
     "output_type": "stream",
     "text": [
      "              precision    recall  f1-score   support\n",
      "\n",
      "       ANGRY       0.18      0.18      0.18       275\n",
      "       OTHER       0.48      0.63      0.55       920\n",
      " PESSIMISTIC       0.37      0.20      0.26       581\n",
      "     WORRIED       0.18      0.16      0.17       224\n",
      "\n",
      "    accuracy                           0.39      2000\n",
      "   macro avg       0.30      0.29      0.29      2000\n",
      "weighted avg       0.37      0.39      0.37      2000\n",
      "\n"
     ]
    }
   ],
   "source": [
    "from sklearn.naive_bayes import MultinomialNB\n",
    "from sklearn.metrics import classification_report\n",
    "\n",
    "classifier = MultinomialNB()\n",
    "classifier.fit(X_train, y_train)\n",
    "y_pred_test = classifier.predict(X_test)\n",
    "clf_report = classification_report(y_test, y_pred_test, zero_division=0)\n",
    "print(clf_report)"
   ]
  },
  {
   "cell_type": "code",
   "execution_count": 17,
   "id": "cb3aa3b9",
   "metadata": {},
   "outputs": [],
   "source": [
    "clf_report = classification_report(y_test, y_pred_test, zero_division=0, output_dict=True)\n",
    "df_result = pd.DataFrame(clf_report).transpose()\n",
    "with open(r'classification_report_functions_extended_emotion_naive_bayes.csv', 'w') as csv_file:\n",
    "    df_result.to_csv(path_or_buf=csv_file)"
   ]
  },
  {
   "cell_type": "code",
   "execution_count": 18,
   "id": "c306ed56",
   "metadata": {},
   "outputs": [],
   "source": [
    "df_test['predicted_label'] = y_pred_test\n",
    "df_test.to_csv('preds_functions_extended_emotion_naive_bayes.tsv',header =True, sep = '\\t',index=False)"
   ]
  }
 ],
 "metadata": {
  "kernelspec": {
   "display_name": "Python 3 (ipykernel)",
   "language": "python",
   "name": "python3"
  },
  "language_info": {
   "codemirror_mode": {
    "name": "ipython",
    "version": 3
   },
   "file_extension": ".py",
   "mimetype": "text/x-python",
   "name": "python",
   "nbconvert_exporter": "python",
   "pygments_lexer": "ipython3",
   "version": "3.8.10"
  }
 },
 "nbformat": 4,
 "nbformat_minor": 5
}

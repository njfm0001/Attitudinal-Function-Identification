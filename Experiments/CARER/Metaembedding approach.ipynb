{
 "cells": [
  {
   "cell_type": "code",
   "execution_count": 1,
   "id": "87d44585",
   "metadata": {},
   "outputs": [
    {
     "name": "stderr",
     "output_type": "stream",
     "text": [
      "/home/njfernandez/.local/lib/python3.8/site-packages/tqdm/auto.py:22: TqdmWarning: IProgress not found. Please update jupyter and ipywidgets. See https://ipywidgets.readthedocs.io/en/stable/user_install.html\n",
      "  from .autonotebook import tqdm as notebook_tqdm\n"
     ]
    }
   ],
   "source": [
    "import torch\n",
    "from transformers import AutoTokenizer, AutoModel\n",
    "import numpy as np\n",
    "import pandas as pd\n",
    "from datasets import Dataset, DatasetDict, load_dataset\n",
    "#Seeding for deterministic results\n",
    "RANDOM_SEED = 64\n",
    "np.random.seed(RANDOM_SEED)\n",
    "torch.manual_seed(RANDOM_SEED)\n",
    "\n",
    "if torch.cuda.is_available():\n",
    "   torch.cuda.manual_seed(RANDOM_SEED)\n",
    "   torch.cuda.manual_seed_all(RANDOM_SEED) \n",
    "   torch.backends.cudnn.deterministic = True  \n",
    "   torch.backends.cudnn.benchmark = False"
   ]
  },
  {
   "cell_type": "code",
   "execution_count": 2,
   "id": "7c847afa",
   "metadata": {},
   "outputs": [],
   "source": [
    "model_ckpt = \"sentence-transformers/paraphrase-multilingual-mpnet-base-v2\"\n",
    "tokenizer = AutoTokenizer.from_pretrained(model_ckpt)\n",
    "model = AutoModel.from_pretrained(model_ckpt)\n",
    "\n",
    "def mean_pooling(model_output, attention_mask):   \n",
    "    token_embeddings = model_output[0] \n",
    "    input_mask_expanded = (attention_mask\n",
    "                           .unsqueeze(-1)\n",
    "                           .expand(token_embeddings.size())\n",
    "                           .float()) \n",
    "    sum_embeddings = torch.sum(token_embeddings * input_mask_expanded, 1)\n",
    "    sum_mask = torch.clamp(input_mask_expanded.sum(1), min=1e-9) \n",
    "    return sum_embeddings / sum_mask\n",
    "\n",
    "def embed_text(examples):\n",
    "    inputs = tokenizer(examples[\"text\"], padding=True, truncation=True,\n",
    "                       return_tensors=\"pt\")\n",
    "    with torch.no_grad():\n",
    "        model_output = model(**inputs)\n",
    "    pooled_embeds = mean_pooling(model_output, inputs[\"attention_mask\"])\n",
    "    return {\"embedding\": pooled_embeds.cpu().numpy()}\n",
    "\n",
    "from sentence_transformers import util\n",
    "def cosine_sim(batch):\n",
    "    batch['predicted_label'], batch['score'] = [[] for _ in range(len(batch['text']))], [[] for _ in range(len(batch['text']))]\n",
    "    for i, emb in enumerate(batch['embedding']):\n",
    "        scores = {func: util.pytorch_cos_sim(emb, metaemb[func]).item() for func in metaemb}\n",
    "        predicted_label, score = max(scores.items(), key=lambda x: x[1])\n",
    "        batch['predicted_label'][i] = predicted_label\n",
    "        batch['score'][i] = score\n",
    "    return batch"
   ]
  },
  {
   "cell_type": "code",
   "execution_count": 3,
   "id": "d49f33c8",
   "metadata": {},
   "outputs": [
    {
     "name": "stderr",
     "output_type": "stream",
     "text": [
      "No config specified, defaulting to: emotion/split\n",
      "Found cached dataset emotion (/home/njfernandez/.cache/huggingface/datasets/emotion/split/1.0.0/cca5efe2dfeb58c1d098e0f9eeb200e9927d889b5a03c67097275dfb5fe463bd)\n",
      "100%|██████████| 3/3 [00:00<00:00, 542.23it/s]\n",
      "Loading cached processed dataset at /home/njfernandez/.cache/huggingface/datasets/emotion/split/1.0.0/cca5efe2dfeb58c1d098e0f9eeb200e9927d889b5a03c67097275dfb5fe463bd/cache-da33b75eb48814c5.arrow\n",
      "Loading cached processed dataset at /home/njfernandez/.cache/huggingface/datasets/emotion/split/1.0.0/cca5efe2dfeb58c1d098e0f9eeb200e9927d889b5a03c67097275dfb5fe463bd/cache-c9fa37d993431ea5.arrow\n",
      "Loading cached processed dataset at /home/njfernandez/.cache/huggingface/datasets/emotion/split/1.0.0/cca5efe2dfeb58c1d098e0f9eeb200e9927d889b5a03c67097275dfb5fe463bd/cache-9e625d0ab4c5791f.arrow\n",
      "Loading cached processed dataset at /home/njfernandez/.cache/huggingface/datasets/emotion/split/1.0.0/cca5efe2dfeb58c1d098e0f9eeb200e9927d889b5a03c67097275dfb5fe463bd/cache-073a5a64cb90fedf.arrow\n",
      "Loading cached processed dataset at /home/njfernandez/.cache/huggingface/datasets/emotion/split/1.0.0/cca5efe2dfeb58c1d098e0f9eeb200e9927d889b5a03c67097275dfb5fe463bd/cache-395955177184ef62.arrow\n",
      "Loading cached processed dataset at /home/njfernandez/.cache/huggingface/datasets/emotion/split/1.0.0/cca5efe2dfeb58c1d098e0f9eeb200e9927d889b5a03c67097275dfb5fe463bd/cache-fb1228275c28ad89.arrow\n"
     ]
    }
   ],
   "source": [
    "function_mapping = {'OTHER': ['joy', 'love', 'surprise'],\n",
    "           'NOT_INTERESTED': [''], \n",
    "           'DISLIKE':[''], \n",
    "           'NOT_CORRECT': [''], \n",
    "           'PESSIMISTIC':['sadness'], \n",
    "           'WORRIED':['fear'], \n",
    "           'ANGRY': ['anger'], \n",
    "           'DISAPPOINTED': [''], \n",
    "           'BORED': [''], \n",
    "           'NOT_APPROVE':[''], \n",
    "           'NOT_IMPORTANT': [''], \n",
    "           'DISAGREE': [''], \n",
    "           'WARN': [''], \n",
    "           'COMPLAIN': [''], \n",
    "           'THREATEN': [''], \n",
    "           'UNWILLING': [''], \n",
    "           'DISTRUST' : [''],\n",
    "           'REFUSE': [''] }\n",
    "\n",
    "emotion = load_dataset('emotion')\n",
    "mapping = {\n",
    "    0:\"sadness\",\n",
    "    1:\"joy\",\n",
    "    2:\"love\",\n",
    "    3:\"anger\",\n",
    "    4:\"fear\",\n",
    "    5:\"surprise\"\n",
    "}\n",
    "emotion = emotion.map(lambda example: {'emotion': mapping[example['label']]}, \n",
    "                      remove_columns=['label'])\n",
    "def map_labels(batch):\n",
    "    batch['function'] = [[] for _ in range(len(batch['text']))]\n",
    "    for i, item in enumerate(batch[\"function\"]):\n",
    "        for key, value in function_mapping.items():\n",
    "            for emotion in value:\n",
    "                if emotion == batch[\"emotion\"][i]:\n",
    "                    batch[\"function\"][i] = key\n",
    "                    break\n",
    "    return batch\n",
    "emotion = emotion.map(map_labels, batched=True) "
   ]
  },
  {
   "cell_type": "markdown",
   "id": "44f292e3",
   "metadata": {},
   "source": [
    "# Function basic experiment"
   ]
  },
  {
   "cell_type": "code",
   "execution_count": 4,
   "id": "122a089b",
   "metadata": {},
   "outputs": [
    {
     "data": {
      "text/html": [
       "<div>\n",
       "<style scoped>\n",
       "    .dataframe tbody tr th:only-of-type {\n",
       "        vertical-align: middle;\n",
       "    }\n",
       "\n",
       "    .dataframe tbody tr th {\n",
       "        vertical-align: top;\n",
       "    }\n",
       "\n",
       "    .dataframe thead th {\n",
       "        text-align: right;\n",
       "    }\n",
       "</style>\n",
       "<table border=\"1\" class=\"dataframe\">\n",
       "  <thead>\n",
       "    <tr style=\"text-align: right;\">\n",
       "      <th></th>\n",
       "      <th>text</th>\n",
       "      <th>function</th>\n",
       "    </tr>\n",
       "  </thead>\n",
       "  <tbody>\n",
       "    <tr>\n",
       "      <th>209</th>\n",
       "      <td>I'm fairly pessimistic about it</td>\n",
       "      <td>PESSIMISTIC</td>\n",
       "    </tr>\n",
       "    <tr>\n",
       "      <th>210</th>\n",
       "      <td>I'm fairly pessimistic</td>\n",
       "      <td>PESSIMISTIC</td>\n",
       "    </tr>\n",
       "    <tr>\n",
       "      <th>211</th>\n",
       "      <td>I'm pessimistic about it</td>\n",
       "      <td>PESSIMISTIC</td>\n",
       "    </tr>\n",
       "    <tr>\n",
       "      <th>212</th>\n",
       "      <td>I'm pessimistic</td>\n",
       "      <td>PESSIMISTIC</td>\n",
       "    </tr>\n",
       "    <tr>\n",
       "      <th>213</th>\n",
       "      <td>I'm rather sceptical about it</td>\n",
       "      <td>PESSIMISTIC</td>\n",
       "    </tr>\n",
       "    <tr>\n",
       "      <th>...</th>\n",
       "      <td>...</td>\n",
       "      <td>...</td>\n",
       "    </tr>\n",
       "    <tr>\n",
       "      <th>897</th>\n",
       "      <td>you could do it</td>\n",
       "      <td>OTHER</td>\n",
       "    </tr>\n",
       "    <tr>\n",
       "      <th>898</th>\n",
       "      <td>you look nice</td>\n",
       "      <td>OTHER</td>\n",
       "    </tr>\n",
       "    <tr>\n",
       "      <th>899</th>\n",
       "      <td>you look smart</td>\n",
       "      <td>OTHER</td>\n",
       "    </tr>\n",
       "    <tr>\n",
       "      <th>900</th>\n",
       "      <td>you're right</td>\n",
       "      <td>OTHER</td>\n",
       "    </tr>\n",
       "    <tr>\n",
       "      <th>901</th>\n",
       "      <td>you're welcome</td>\n",
       "      <td>OTHER</td>\n",
       "    </tr>\n",
       "  </tbody>\n",
       "</table>\n",
       "<p>360 rows × 2 columns</p>\n",
       "</div>"
      ],
      "text/plain": [
       "                                text     function\n",
       "209  I'm fairly pessimistic about it  PESSIMISTIC\n",
       "210           I'm fairly pessimistic  PESSIMISTIC\n",
       "211         I'm pessimistic about it  PESSIMISTIC\n",
       "212                  I'm pessimistic  PESSIMISTIC\n",
       "213    I'm rather sceptical about it  PESSIMISTIC\n",
       "..                               ...          ...\n",
       "897                  you could do it        OTHER\n",
       "898                    you look nice        OTHER\n",
       "899                   you look smart        OTHER\n",
       "900                     you're right        OTHER\n",
       "901                   you're welcome        OTHER\n",
       "\n",
       "[360 rows x 2 columns]"
      ]
     },
     "execution_count": 4,
     "metadata": {},
     "output_type": "execute_result"
    }
   ],
   "source": [
    "comfunctions_basic = 'comfunct_basic.txt'\n",
    "df = pd.read_csv(comfunctions_basic, delimiter=\";\")\n",
    "df = df[~df['function'].isin(['NOT_INTERESTED', 'BORED', 'DISLIKE', 'NOT_CORRECT', 'DISAPPOINTED', 'COMPLAIN', 'NOT_APPROVE',\n",
    "                             'NOT_IMPORTANT', 'DISAGREE', 'REFUSE', 'WARN', 'THREATEN', 'UNWILLING', 'DISTRUST' ])]\n",
    "\n",
    "df"
   ]
  },
  {
   "cell_type": "code",
   "execution_count": 5,
   "id": "9f68ef26",
   "metadata": {},
   "outputs": [
    {
     "data": {
      "text/plain": [
       "DatasetDict({\n",
       "    train: Dataset({\n",
       "        features: ['text', 'function'],\n",
       "        num_rows: 360\n",
       "    })\n",
       "    test: Dataset({\n",
       "        features: ['text', 'emotion', 'function'],\n",
       "        num_rows: 2000\n",
       "    })\n",
       "})"
      ]
     },
     "execution_count": 5,
     "metadata": {},
     "output_type": "execute_result"
    }
   ],
   "source": [
    "dataset = DatasetDict({\n",
    "    \"train\": Dataset.from_pandas(df.reset_index(drop=True)),\n",
    "     \"test\": emotion['test']\n",
    "}\n",
    "    )\n",
    "dataset"
   ]
  },
  {
   "cell_type": "code",
   "execution_count": 6,
   "id": "11c9ac53",
   "metadata": {},
   "outputs": [
    {
     "name": "stderr",
     "output_type": "stream",
     "text": [
      "100%|██████████| 23/23 [00:01<00:00, 19.95ba/s]\n",
      "100%|██████████| 125/125 [00:16<00:00,  7.69ba/s]\n"
     ]
    }
   ],
   "source": [
    "dataset = dataset.map(embed_text, batched=True, batch_size=16)"
   ]
  },
  {
   "cell_type": "code",
   "execution_count": 7,
   "id": "84024aca",
   "metadata": {},
   "outputs": [
    {
     "name": "stdout",
     "output_type": "stream",
     "text": [
      "dict_keys(['PESSIMISTIC', 'WORRIED', 'ANGRY', 'OTHER'])\n"
     ]
    }
   ],
   "source": [
    "from collections import defaultdict\n",
    "\n",
    "metaemb = defaultdict(list)\n",
    "ds = dataset['train']\n",
    "\n",
    "for i, item in enumerate(ds[\"function\"]):    \n",
    "    function = ds['function'][i]\n",
    "    emb = torch.FloatTensor(ds['embedding'][i])\n",
    "    metaemb[function].append(emb)\n",
    "\n",
    "for key, value in metaemb.items():\n",
    "    metaemb[key] = torch.stack(value).mean(dim=0)\n",
    "\n",
    "print(metaemb.keys())"
   ]
  },
  {
   "cell_type": "code",
   "execution_count": 8,
   "id": "26ecfa07",
   "metadata": {},
   "outputs": [
    {
     "name": "stderr",
     "output_type": "stream",
     "text": [
      "100%|██████████| 125/125 [00:01<00:00, 98.13ba/s]\n"
     ]
    }
   ],
   "source": [
    "dataset['test'] = dataset['test'].map(cosine_sim, batched=True, batch_size=16)"
   ]
  },
  {
   "cell_type": "code",
   "execution_count": 9,
   "id": "33d4d7ed",
   "metadata": {},
   "outputs": [
    {
     "name": "stdout",
     "output_type": "stream",
     "text": [
      "              precision    recall  f1-score   support\n",
      "\n",
      "       ANGRY       0.32      0.55      0.40       275\n",
      "       OTHER       0.81      0.69      0.75       920\n",
      " PESSIMISTIC       0.43      0.14      0.22       581\n",
      "     WORRIED       0.30      0.71      0.42       224\n",
      "\n",
      "    accuracy                           0.52      2000\n",
      "   macro avg       0.46      0.52      0.45      2000\n",
      "weighted avg       0.57      0.52      0.51      2000\n",
      "\n"
     ]
    }
   ],
   "source": [
    "from sklearn.metrics import classification_report\n",
    "y_true = dataset['test'][\"function\"]\n",
    "y_pred = dataset['test'][\"predicted_label\"]\n",
    "clf_report = classification_report(\n",
    "        y_true, y_pred, zero_division=0, \n",
    "        )\n",
    "print(clf_report)"
   ]
  },
  {
   "cell_type": "code",
   "execution_count": 10,
   "id": "21524f81",
   "metadata": {},
   "outputs": [],
   "source": [
    "clf_report = classification_report(\n",
    "        y_true, y_pred, zero_division=0, \n",
    "    output_dict=True\n",
    "        )\n",
    "df = pd.DataFrame(clf_report).transpose()\n",
    "with open(r'classification_report_functions_basic_emotion_metaembedding.csv', 'w') as csv_file:\n",
    "    df.to_csv(path_or_buf=csv_file)"
   ]
  },
  {
   "cell_type": "code",
   "execution_count": 11,
   "id": "47cd10f8",
   "metadata": {},
   "outputs": [
    {
     "data": {
      "text/html": [
       "<div>\n",
       "<style scoped>\n",
       "    .dataframe tbody tr th:only-of-type {\n",
       "        vertical-align: middle;\n",
       "    }\n",
       "\n",
       "    .dataframe tbody tr th {\n",
       "        vertical-align: top;\n",
       "    }\n",
       "\n",
       "    .dataframe thead th {\n",
       "        text-align: right;\n",
       "    }\n",
       "</style>\n",
       "<table border=\"1\" class=\"dataframe\">\n",
       "  <thead>\n",
       "    <tr style=\"text-align: right;\">\n",
       "      <th></th>\n",
       "      <th>text</th>\n",
       "      <th>emotion</th>\n",
       "      <th>function</th>\n",
       "      <th>predicted_label</th>\n",
       "      <th>score</th>\n",
       "    </tr>\n",
       "  </thead>\n",
       "  <tbody>\n",
       "    <tr>\n",
       "      <th>0</th>\n",
       "      <td>im feeling rather rotten so im not very ambiti...</td>\n",
       "      <td>sadness</td>\n",
       "      <td>PESSIMISTIC</td>\n",
       "      <td>PESSIMISTIC</td>\n",
       "      <td>0.380152</td>\n",
       "    </tr>\n",
       "    <tr>\n",
       "      <th>1</th>\n",
       "      <td>im updating my blog because i feel shitty</td>\n",
       "      <td>sadness</td>\n",
       "      <td>PESSIMISTIC</td>\n",
       "      <td>ANGRY</td>\n",
       "      <td>0.428747</td>\n",
       "    </tr>\n",
       "    <tr>\n",
       "      <th>2</th>\n",
       "      <td>i never make her separate from me because i do...</td>\n",
       "      <td>sadness</td>\n",
       "      <td>PESSIMISTIC</td>\n",
       "      <td>WORRIED</td>\n",
       "      <td>0.215277</td>\n",
       "    </tr>\n",
       "    <tr>\n",
       "      <th>3</th>\n",
       "      <td>i left with my bouquet of red and yellow tulip...</td>\n",
       "      <td>joy</td>\n",
       "      <td>OTHER</td>\n",
       "      <td>OTHER</td>\n",
       "      <td>0.333295</td>\n",
       "    </tr>\n",
       "    <tr>\n",
       "      <th>4</th>\n",
       "      <td>i was feeling a little vain when i did this one</td>\n",
       "      <td>sadness</td>\n",
       "      <td>PESSIMISTIC</td>\n",
       "      <td>OTHER</td>\n",
       "      <td>0.457706</td>\n",
       "    </tr>\n",
       "    <tr>\n",
       "      <th>...</th>\n",
       "      <td>...</td>\n",
       "      <td>...</td>\n",
       "      <td>...</td>\n",
       "      <td>...</td>\n",
       "      <td>...</td>\n",
       "    </tr>\n",
       "    <tr>\n",
       "      <th>1995</th>\n",
       "      <td>i just keep feeling like someone is being unki...</td>\n",
       "      <td>anger</td>\n",
       "      <td>ANGRY</td>\n",
       "      <td>ANGRY</td>\n",
       "      <td>0.357083</td>\n",
       "    </tr>\n",
       "    <tr>\n",
       "      <th>1996</th>\n",
       "      <td>im feeling a little cranky negative after this...</td>\n",
       "      <td>anger</td>\n",
       "      <td>ANGRY</td>\n",
       "      <td>WORRIED</td>\n",
       "      <td>0.494988</td>\n",
       "    </tr>\n",
       "    <tr>\n",
       "      <th>1997</th>\n",
       "      <td>i feel that i am useful to my people and that ...</td>\n",
       "      <td>joy</td>\n",
       "      <td>OTHER</td>\n",
       "      <td>OTHER</td>\n",
       "      <td>0.358507</td>\n",
       "    </tr>\n",
       "    <tr>\n",
       "      <th>1998</th>\n",
       "      <td>im feeling more comfortable with derby i feel ...</td>\n",
       "      <td>joy</td>\n",
       "      <td>OTHER</td>\n",
       "      <td>OTHER</td>\n",
       "      <td>0.369901</td>\n",
       "    </tr>\n",
       "    <tr>\n",
       "      <th>1999</th>\n",
       "      <td>i feel all weird when i have to meet w people ...</td>\n",
       "      <td>fear</td>\n",
       "      <td>WORRIED</td>\n",
       "      <td>WORRIED</td>\n",
       "      <td>0.280234</td>\n",
       "    </tr>\n",
       "  </tbody>\n",
       "</table>\n",
       "<p>2000 rows × 5 columns</p>\n",
       "</div>"
      ],
      "text/plain": [
       "                                                   text  emotion     function  \\\n",
       "0     im feeling rather rotten so im not very ambiti...  sadness  PESSIMISTIC   \n",
       "1             im updating my blog because i feel shitty  sadness  PESSIMISTIC   \n",
       "2     i never make her separate from me because i do...  sadness  PESSIMISTIC   \n",
       "3     i left with my bouquet of red and yellow tulip...      joy        OTHER   \n",
       "4       i was feeling a little vain when i did this one  sadness  PESSIMISTIC   \n",
       "...                                                 ...      ...          ...   \n",
       "1995  i just keep feeling like someone is being unki...    anger        ANGRY   \n",
       "1996  im feeling a little cranky negative after this...    anger        ANGRY   \n",
       "1997  i feel that i am useful to my people and that ...      joy        OTHER   \n",
       "1998  im feeling more comfortable with derby i feel ...      joy        OTHER   \n",
       "1999  i feel all weird when i have to meet w people ...     fear      WORRIED   \n",
       "\n",
       "     predicted_label     score  \n",
       "0        PESSIMISTIC  0.380152  \n",
       "1              ANGRY  0.428747  \n",
       "2            WORRIED  0.215277  \n",
       "3              OTHER  0.333295  \n",
       "4              OTHER  0.457706  \n",
       "...              ...       ...  \n",
       "1995           ANGRY  0.357083  \n",
       "1996         WORRIED  0.494988  \n",
       "1997           OTHER  0.358507  \n",
       "1998           OTHER  0.369901  \n",
       "1999         WORRIED  0.280234  \n",
       "\n",
       "[2000 rows x 5 columns]"
      ]
     },
     "execution_count": 11,
     "metadata": {},
     "output_type": "execute_result"
    }
   ],
   "source": [
    "cols = [\"text\", \"emotion\", \"function\", \"predicted_label\", \"score\"]\n",
    "df_test = dataset['test'].to_pandas()[:][cols]\n",
    "df_test"
   ]
  },
  {
   "cell_type": "code",
   "execution_count": 12,
   "id": "b9fcf7ef",
   "metadata": {},
   "outputs": [],
   "source": [
    "df_test.to_csv('preds_functions_basic_emoevent_en_metaembedding.tsv',header =True, sep = '\\t',index=False)"
   ]
  },
  {
   "cell_type": "markdown",
   "id": "67f2f848",
   "metadata": {},
   "source": [
    "# Function extended experiment"
   ]
  },
  {
   "cell_type": "code",
   "execution_count": 15,
   "id": "fa7e6270",
   "metadata": {},
   "outputs": [
    {
     "data": {
      "text/html": [
       "<div>\n",
       "<style scoped>\n",
       "    .dataframe tbody tr th:only-of-type {\n",
       "        vertical-align: middle;\n",
       "    }\n",
       "\n",
       "    .dataframe tbody tr th {\n",
       "        vertical-align: top;\n",
       "    }\n",
       "\n",
       "    .dataframe thead th {\n",
       "        text-align: right;\n",
       "    }\n",
       "</style>\n",
       "<table border=\"1\" class=\"dataframe\">\n",
       "  <thead>\n",
       "    <tr style=\"text-align: right;\">\n",
       "      <th></th>\n",
       "      <th>text</th>\n",
       "      <th>function</th>\n",
       "    </tr>\n",
       "  </thead>\n",
       "  <tbody>\n",
       "    <tr>\n",
       "      <th>0</th>\n",
       "      <td>Hey #friends, just wanted to clarify that the ...</td>\n",
       "      <td>OTHER</td>\n",
       "    </tr>\n",
       "    <tr>\n",
       "      <th>1</th>\n",
       "      <td>Good morning everyone! ☀️ Just wanted to say a...</td>\n",
       "      <td>OTHER</td>\n",
       "    </tr>\n",
       "    <tr>\n",
       "      <th>2</th>\n",
       "      <td>Hey #team, don't forget our meeting at 2pm tod...</td>\n",
       "      <td>OTHER</td>\n",
       "    </tr>\n",
       "    <tr>\n",
       "      <th>3</th>\n",
       "      <td>Sorry for the late reply, I was swamped at wor...</td>\n",
       "      <td>OTHER</td>\n",
       "    </tr>\n",
       "    <tr>\n",
       "      <th>4</th>\n",
       "      <td>Hey, can someone introduce me to @jane_doe? I'...</td>\n",
       "      <td>OTHER</td>\n",
       "    </tr>\n",
       "    <tr>\n",
       "      <th>...</th>\n",
       "      <td>...</td>\n",
       "      <td>...</td>\n",
       "    </tr>\n",
       "    <tr>\n",
       "      <th>1805</th>\n",
       "      <td>just waiting for the other shoe to drop</td>\n",
       "      <td>PESSIMISTIC</td>\n",
       "    </tr>\n",
       "    <tr>\n",
       "      <th>1806</th>\n",
       "      <td>I don't think this is going to go well #notloo...</td>\n",
       "      <td>PESSIMISTIC</td>\n",
       "    </tr>\n",
       "    <tr>\n",
       "      <th>1807</th>\n",
       "      <td>I have a feeling things are going to turn out ...</td>\n",
       "      <td>PESSIMISTIC</td>\n",
       "    </tr>\n",
       "    <tr>\n",
       "      <th>1808</th>\n",
       "      <td>I don't have high hopes for this #dreadingit</td>\n",
       "      <td>PESSIMISTIC</td>\n",
       "    </tr>\n",
       "    <tr>\n",
       "      <th>1809</th>\n",
       "      <td>This movie is making me cry 😭 #emotional #good...</td>\n",
       "      <td>PESSIMISTIC</td>\n",
       "    </tr>\n",
       "  </tbody>\n",
       "</table>\n",
       "<p>584 rows × 2 columns</p>\n",
       "</div>"
      ],
      "text/plain": [
       "                                                   text     function\n",
       "0     Hey #friends, just wanted to clarify that the ...        OTHER\n",
       "1     Good morning everyone! ☀️ Just wanted to say a...        OTHER\n",
       "2     Hey #team, don't forget our meeting at 2pm tod...        OTHER\n",
       "3     Sorry for the late reply, I was swamped at wor...        OTHER\n",
       "4     Hey, can someone introduce me to @jane_doe? I'...        OTHER\n",
       "...                                                 ...          ...\n",
       "1805            just waiting for the other shoe to drop  PESSIMISTIC\n",
       "1806  I don't think this is going to go well #notloo...  PESSIMISTIC\n",
       "1807  I have a feeling things are going to turn out ...  PESSIMISTIC\n",
       "1808       I don't have high hopes for this #dreadingit  PESSIMISTIC\n",
       "1809  This movie is making me cry 😭 #emotional #good...  PESSIMISTIC\n",
       "\n",
       "[584 rows x 2 columns]"
      ]
     },
     "execution_count": 15,
     "metadata": {},
     "output_type": "execute_result"
    }
   ],
   "source": [
    "comfunctions_extended = 'comfunct_extended.txt'\n",
    "df = pd.read_csv(comfunctions_extended, delimiter=\";\")\n",
    "df = df[~df['function'].isin(['NOT_INTERESTED', 'BORED', 'DISLIKE', 'NOT_CORRECT', 'DISAPPOINTED', 'COMPLAIN', 'NOT_APPROVE',\n",
    "                             'NOT_IMPORTANT', 'DISAGREE', 'REFUSE', 'WARN', 'THREATEN', 'UNWILLING', 'DISTRUST' ])]\n",
    "\n",
    "df"
   ]
  },
  {
   "cell_type": "code",
   "execution_count": 16,
   "id": "1fb2c98e",
   "metadata": {},
   "outputs": [
    {
     "data": {
      "text/plain": [
       "DatasetDict({\n",
       "    train: Dataset({\n",
       "        features: ['text', 'function'],\n",
       "        num_rows: 584\n",
       "    })\n",
       "    test: Dataset({\n",
       "        features: ['text', 'emotion', 'function'],\n",
       "        num_rows: 2000\n",
       "    })\n",
       "})"
      ]
     },
     "execution_count": 16,
     "metadata": {},
     "output_type": "execute_result"
    }
   ],
   "source": [
    "dataset = DatasetDict({\n",
    "    \"train\": Dataset.from_pandas(df.reset_index(drop=True)),\n",
    "     \"test\": emotion['test']\n",
    "}\n",
    "    )\n",
    "dataset"
   ]
  },
  {
   "cell_type": "code",
   "execution_count": 17,
   "id": "e60fa275",
   "metadata": {},
   "outputs": [
    {
     "name": "stderr",
     "output_type": "stream",
     "text": [
      "100%|██████████| 37/37 [00:03<00:00, 10.71ba/s]\n",
      "Loading cached processed dataset at /home/njfernandez/.cache/huggingface/datasets/emotion/split/1.0.0/cca5efe2dfeb58c1d098e0f9eeb200e9927d889b5a03c67097275dfb5fe463bd/cache-331e76243cfd2cfd.arrow\n"
     ]
    }
   ],
   "source": [
    "dataset = dataset.map(embed_text, batched=True, batch_size=16)"
   ]
  },
  {
   "cell_type": "code",
   "execution_count": 18,
   "id": "837f5949",
   "metadata": {},
   "outputs": [
    {
     "name": "stdout",
     "output_type": "stream",
     "text": [
      "dict_keys(['OTHER', 'ANGRY', 'WORRIED', 'PESSIMISTIC'])\n"
     ]
    }
   ],
   "source": [
    "from collections import defaultdict\n",
    "\n",
    "metaemb = defaultdict(list)\n",
    "ds = dataset['train']\n",
    "\n",
    "for i, item in enumerate(ds[\"function\"]):    \n",
    "    function = ds['function'][i]\n",
    "    emb = torch.FloatTensor(ds['embedding'][i])\n",
    "    metaemb[function].append(emb)\n",
    "\n",
    "for key, value in metaemb.items():\n",
    "    metaemb[key] = torch.stack(value).mean(dim=0)\n",
    "\n",
    "print(metaemb.keys())"
   ]
  },
  {
   "cell_type": "code",
   "execution_count": 19,
   "id": "133c9124",
   "metadata": {},
   "outputs": [
    {
     "name": "stderr",
     "output_type": "stream",
     "text": [
      "100%|██████████| 125/125 [00:01<00:00, 111.40ba/s]\n"
     ]
    }
   ],
   "source": [
    "dataset['test'] = dataset['test'].map(cosine_sim, batched=True, batch_size=16)"
   ]
  },
  {
   "cell_type": "code",
   "execution_count": 20,
   "id": "ac0603e8",
   "metadata": {},
   "outputs": [
    {
     "name": "stdout",
     "output_type": "stream",
     "text": [
      "              precision    recall  f1-score   support\n",
      "\n",
      "       ANGRY       0.43      0.40      0.42       275\n",
      "       OTHER       0.82      0.59      0.69       920\n",
      " PESSIMISTIC       0.49      0.60      0.54       581\n",
      "     WORRIED       0.37      0.60      0.46       224\n",
      "\n",
      "    accuracy                           0.57      2000\n",
      "   macro avg       0.53      0.55      0.53      2000\n",
      "weighted avg       0.62      0.57      0.58      2000\n",
      "\n"
     ]
    }
   ],
   "source": [
    "from sklearn.metrics import classification_report\n",
    "y_true = dataset['test'][\"function\"]\n",
    "y_pred = dataset['test'][\"predicted_label\"]\n",
    "clf_report = classification_report(\n",
    "        y_true, y_pred, zero_division=0, \n",
    "        )\n",
    "print(clf_report)"
   ]
  },
  {
   "cell_type": "code",
   "execution_count": 21,
   "id": "b733a8b1",
   "metadata": {},
   "outputs": [],
   "source": [
    "clf_report = classification_report(\n",
    "        y_true, y_pred, zero_division=0, \n",
    "    output_dict=True\n",
    "        )\n",
    "df = pd.DataFrame(clf_report).transpose()\n",
    "with open(r'classification_report_functions_extended_emotion_metaembedding.csv', 'w') as csv_file:\n",
    "    df.to_csv(path_or_buf=csv_file)"
   ]
  },
  {
   "cell_type": "code",
   "execution_count": 22,
   "id": "48dfe489",
   "metadata": {
    "scrolled": true
   },
   "outputs": [
    {
     "data": {
      "text/html": [
       "<div>\n",
       "<style scoped>\n",
       "    .dataframe tbody tr th:only-of-type {\n",
       "        vertical-align: middle;\n",
       "    }\n",
       "\n",
       "    .dataframe tbody tr th {\n",
       "        vertical-align: top;\n",
       "    }\n",
       "\n",
       "    .dataframe thead th {\n",
       "        text-align: right;\n",
       "    }\n",
       "</style>\n",
       "<table border=\"1\" class=\"dataframe\">\n",
       "  <thead>\n",
       "    <tr style=\"text-align: right;\">\n",
       "      <th></th>\n",
       "      <th>text</th>\n",
       "      <th>emotion</th>\n",
       "      <th>function</th>\n",
       "      <th>predicted_label</th>\n",
       "      <th>score</th>\n",
       "    </tr>\n",
       "  </thead>\n",
       "  <tbody>\n",
       "    <tr>\n",
       "      <th>0</th>\n",
       "      <td>im feeling rather rotten so im not very ambiti...</td>\n",
       "      <td>sadness</td>\n",
       "      <td>PESSIMISTIC</td>\n",
       "      <td>PESSIMISTIC</td>\n",
       "      <td>0.590251</td>\n",
       "    </tr>\n",
       "    <tr>\n",
       "      <th>1</th>\n",
       "      <td>im updating my blog because i feel shitty</td>\n",
       "      <td>sadness</td>\n",
       "      <td>PESSIMISTIC</td>\n",
       "      <td>PESSIMISTIC</td>\n",
       "      <td>0.500468</td>\n",
       "    </tr>\n",
       "    <tr>\n",
       "      <th>2</th>\n",
       "      <td>i never make her separate from me because i do...</td>\n",
       "      <td>sadness</td>\n",
       "      <td>PESSIMISTIC</td>\n",
       "      <td>ANGRY</td>\n",
       "      <td>0.245638</td>\n",
       "    </tr>\n",
       "    <tr>\n",
       "      <th>3</th>\n",
       "      <td>i left with my bouquet of red and yellow tulip...</td>\n",
       "      <td>joy</td>\n",
       "      <td>OTHER</td>\n",
       "      <td>OTHER</td>\n",
       "      <td>0.391345</td>\n",
       "    </tr>\n",
       "    <tr>\n",
       "      <th>4</th>\n",
       "      <td>i was feeling a little vain when i did this one</td>\n",
       "      <td>sadness</td>\n",
       "      <td>PESSIMISTIC</td>\n",
       "      <td>PESSIMISTIC</td>\n",
       "      <td>0.410864</td>\n",
       "    </tr>\n",
       "    <tr>\n",
       "      <th>...</th>\n",
       "      <td>...</td>\n",
       "      <td>...</td>\n",
       "      <td>...</td>\n",
       "      <td>...</td>\n",
       "      <td>...</td>\n",
       "    </tr>\n",
       "    <tr>\n",
       "      <th>1995</th>\n",
       "      <td>i just keep feeling like someone is being unki...</td>\n",
       "      <td>anger</td>\n",
       "      <td>ANGRY</td>\n",
       "      <td>ANGRY</td>\n",
       "      <td>0.421779</td>\n",
       "    </tr>\n",
       "    <tr>\n",
       "      <th>1996</th>\n",
       "      <td>im feeling a little cranky negative after this...</td>\n",
       "      <td>anger</td>\n",
       "      <td>ANGRY</td>\n",
       "      <td>WORRIED</td>\n",
       "      <td>0.519338</td>\n",
       "    </tr>\n",
       "    <tr>\n",
       "      <th>1997</th>\n",
       "      <td>i feel that i am useful to my people and that ...</td>\n",
       "      <td>joy</td>\n",
       "      <td>OTHER</td>\n",
       "      <td>OTHER</td>\n",
       "      <td>0.390328</td>\n",
       "    </tr>\n",
       "    <tr>\n",
       "      <th>1998</th>\n",
       "      <td>im feeling more comfortable with derby i feel ...</td>\n",
       "      <td>joy</td>\n",
       "      <td>OTHER</td>\n",
       "      <td>PESSIMISTIC</td>\n",
       "      <td>0.382317</td>\n",
       "    </tr>\n",
       "    <tr>\n",
       "      <th>1999</th>\n",
       "      <td>i feel all weird when i have to meet w people ...</td>\n",
       "      <td>fear</td>\n",
       "      <td>WORRIED</td>\n",
       "      <td>ANGRY</td>\n",
       "      <td>0.382666</td>\n",
       "    </tr>\n",
       "  </tbody>\n",
       "</table>\n",
       "<p>2000 rows × 5 columns</p>\n",
       "</div>"
      ],
      "text/plain": [
       "                                                   text  emotion     function  \\\n",
       "0     im feeling rather rotten so im not very ambiti...  sadness  PESSIMISTIC   \n",
       "1             im updating my blog because i feel shitty  sadness  PESSIMISTIC   \n",
       "2     i never make her separate from me because i do...  sadness  PESSIMISTIC   \n",
       "3     i left with my bouquet of red and yellow tulip...      joy        OTHER   \n",
       "4       i was feeling a little vain when i did this one  sadness  PESSIMISTIC   \n",
       "...                                                 ...      ...          ...   \n",
       "1995  i just keep feeling like someone is being unki...    anger        ANGRY   \n",
       "1996  im feeling a little cranky negative after this...    anger        ANGRY   \n",
       "1997  i feel that i am useful to my people and that ...      joy        OTHER   \n",
       "1998  im feeling more comfortable with derby i feel ...      joy        OTHER   \n",
       "1999  i feel all weird when i have to meet w people ...     fear      WORRIED   \n",
       "\n",
       "     predicted_label     score  \n",
       "0        PESSIMISTIC  0.590251  \n",
       "1        PESSIMISTIC  0.500468  \n",
       "2              ANGRY  0.245638  \n",
       "3              OTHER  0.391345  \n",
       "4        PESSIMISTIC  0.410864  \n",
       "...              ...       ...  \n",
       "1995           ANGRY  0.421779  \n",
       "1996         WORRIED  0.519338  \n",
       "1997           OTHER  0.390328  \n",
       "1998     PESSIMISTIC  0.382317  \n",
       "1999           ANGRY  0.382666  \n",
       "\n",
       "[2000 rows x 5 columns]"
      ]
     },
     "execution_count": 22,
     "metadata": {},
     "output_type": "execute_result"
    }
   ],
   "source": [
    "cols = [\"text\", \"emotion\", \"function\", \"predicted_label\", \"score\"]\n",
    "df_test = dataset['test'].to_pandas()[:][cols]\n",
    "df_test"
   ]
  },
  {
   "cell_type": "code",
   "execution_count": 23,
   "id": "29a0d06c",
   "metadata": {},
   "outputs": [],
   "source": [
    "df_test.to_csv('preds_functions_extended_emotion_metaembedding.tsv',header =True, sep = '\\t',index=False)"
   ]
  },
  {
   "cell_type": "markdown",
   "id": "c8109535",
   "metadata": {},
   "source": [
    "# EmoEvent es train (baseline) experiment"
   ]
  },
  {
   "cell_type": "code",
   "execution_count": 24,
   "id": "44767847",
   "metadata": {},
   "outputs": [
    {
     "data": {
      "text/plain": [
       "DatasetDict({\n",
       "    train: Dataset({\n",
       "        features: ['text', 'emotion', 'function'],\n",
       "        num_rows: 16000\n",
       "    })\n",
       "    test: Dataset({\n",
       "        features: ['text', 'emotion', 'function'],\n",
       "        num_rows: 2000\n",
       "    })\n",
       "})"
      ]
     },
     "execution_count": 24,
     "metadata": {},
     "output_type": "execute_result"
    }
   ],
   "source": [
    "dataset = DatasetDict({\n",
    "    \"train\": emotion['train'],\n",
    "     \"test\": emotion['test']\n",
    "}\n",
    "    )\n",
    "dataset"
   ]
  },
  {
   "cell_type": "code",
   "execution_count": 25,
   "id": "68b4fa63",
   "metadata": {},
   "outputs": [
    {
     "name": "stderr",
     "output_type": "stream",
     "text": [
      "100%|██████████| 1000/1000 [02:02<00:00,  8.16ba/s]\n",
      "Loading cached processed dataset at /home/njfernandez/.cache/huggingface/datasets/emotion/split/1.0.0/cca5efe2dfeb58c1d098e0f9eeb200e9927d889b5a03c67097275dfb5fe463bd/cache-331e76243cfd2cfd.arrow\n"
     ]
    }
   ],
   "source": [
    "dataset = dataset.map(embed_text, batched=True, batch_size=16)"
   ]
  },
  {
   "cell_type": "code",
   "execution_count": null,
   "id": "0d5c8ea2",
   "metadata": {},
   "outputs": [],
   "source": [
    "from collections import defaultdict\n",
    "\n",
    "metaemb = defaultdict(list)\n",
    "ds = dataset['train']\n",
    "\n",
    "for i, item in enumerate(ds[\"function\"]):    \n",
    "    function = ds['function'][i]\n",
    "    emb = torch.FloatTensor(ds['embedding'][i])\n",
    "    metaemb[function].append(emb)\n",
    "\n",
    "for key, value in metaemb.items():\n",
    "    metaemb[key] = torch.stack(value).mean(dim=0)\n",
    "\n",
    "print(metaemb.keys())"
   ]
  },
  {
   "cell_type": "code",
   "execution_count": null,
   "id": "02a83490",
   "metadata": {},
   "outputs": [],
   "source": [
    "dataset['test'] = dataset['test'].map(cosine_sim, batched=True, batch_size=16)"
   ]
  },
  {
   "cell_type": "code",
   "execution_count": 34,
   "id": "dfc62a31",
   "metadata": {},
   "outputs": [
    {
     "name": "stdout",
     "output_type": "stream",
     "text": [
      "              precision    recall  f1-score   support\n",
      "\n",
      "       ANGRY       0.45      0.57      0.50       275\n",
      "       OTHER       0.84      0.73      0.78       920\n",
      " PESSIMISTIC       0.66      0.59      0.62       581\n",
      "     WORRIED       0.47      0.70      0.56       224\n",
      "\n",
      "    accuracy                           0.67      2000\n",
      "   macro avg       0.61      0.65      0.62      2000\n",
      "weighted avg       0.69      0.67      0.67      2000\n",
      "\n"
     ]
    }
   ],
   "source": [
    "from sklearn.metrics import classification_report\n",
    "y_true = dataset['test'][\"function\"]\n",
    "y_pred = dataset['test'][\"predicted_label\"]\n",
    "clf_report = classification_report(\n",
    "        y_true, y_pred, zero_division=0, \n",
    "        )\n",
    "print(clf_report)"
   ]
  },
  {
   "cell_type": "code",
   "execution_count": null,
   "id": "9dd2162f",
   "metadata": {},
   "outputs": [],
   "source": [
    "clf_report = classification_report(\n",
    "        y_true, y_pred, zero_division=0, \n",
    "    output_dict=True\n",
    "        )\n",
    "df = pd.DataFrame(clf_report).transpose()\n",
    "with open(r'classification_report_baseline_emotion_metaembedding.csv', 'w') as csv_file:\n",
    "    df.to_csv(path_or_buf=csv_file)"
   ]
  },
  {
   "cell_type": "code",
   "execution_count": null,
   "id": "55a15fed",
   "metadata": {},
   "outputs": [],
   "source": [
    "cols = [\"text\", \"emotion\", \"function\", \"predicted_label\", \"score\"]\n",
    "df_test = dataset['test'].to_pandas()[:][cols]\n",
    "df_test"
   ]
  },
  {
   "cell_type": "code",
   "execution_count": null,
   "id": "7ace9958",
   "metadata": {},
   "outputs": [],
   "source": [
    "df_test.to_csv('preds_baseline_emotion_metaembedding.tsv',header =True, sep = '\\t',index=False)"
   ]
  }
 ],
 "metadata": {
  "kernelspec": {
   "display_name": "Python 3 (ipykernel)",
   "language": "python",
   "name": "python3"
  },
  "language_info": {
   "codemirror_mode": {
    "name": "ipython",
    "version": 3
   },
   "file_extension": ".py",
   "mimetype": "text/x-python",
   "name": "python",
   "nbconvert_exporter": "python",
   "pygments_lexer": "ipython3",
   "version": "3.8.10"
  }
 },
 "nbformat": 4,
 "nbformat_minor": 5
}
